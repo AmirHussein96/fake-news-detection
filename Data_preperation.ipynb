{
  "nbformat": 4,
  "nbformat_minor": 0,
  "metadata": {
    "colab": {
      "name": "Data_preperation.ipynb",
      "provenance": [],
      "collapsed_sections": [],
      "toc_visible": true
    },
    "kernelspec": {
      "name": "python3",
      "display_name": "Python 3"
    }
  },
  "cells": [
    {
      "cell_type": "markdown",
      "metadata": {
        "id": "i9AFOHh15F7w",
        "colab_type": "text"
      },
      "source": [
        "#Generating the Data"
      ]
    },
    {
      "cell_type": "code",
      "metadata": {
        "id": "_DNOc3YwPeN7",
        "colab_type": "code",
        "colab": {}
      },
      "source": [
        "USE_BUCKET = True #@param {type:\"boolean\"}\n",
        "\n",
        "if USE_BUCKET:\n",
        "  from google.colab import auth\n",
        "  auth.authenticate_user()"
      ],
      "execution_count": 0,
      "outputs": []
    },
    {
      "cell_type": "code",
      "metadata": {
        "id": "691rJFYkYTd6",
        "colab_type": "code",
        "outputId": "0f6fdd88-903c-4bae-c7f4-be71b404cfff",
        "colab": {
          "base_uri": "https://localhost:8080/",
          "height": 1000
        }
      },
      "source": [
        "!gsutil -m cp -r gs://qatar_competition/fakeNewsDataset ./"
      ],
      "execution_count": 0,
      "outputs": [
        {
          "output_type": "stream",
          "text": [
            "Copying gs://qatar_competition/fakeNewsDataset/fake-news-real-news-eval/asd02.blind.txt...\n",
            "Copying gs://qatar_competition/fakeNewsDataset/fake-news-real-news-eval/asd01.blind.txt...\n",
            "Copying gs://qatar_competition/fakeNewsDataset/fake-news-real-news-eval/asd04.blind.txt...\n",
            "Copying gs://qatar_competition/fakeNewsDataset/fake-news-real-news-eval/asd03.blind.txt...\n",
            "/ [0 files][    0.0 B/  803.0 B]                                                \r/ [0 files][    0.0 B/  1.4 KiB]                                                \r/ [0 files][    0.0 B/  2.1 KiB]                                                \rCopying gs://qatar_competition/fakeNewsDataset/fake-news-real-news-eval/bsb01.blind.txt...\n",
            "/ [0 files][    0.0 B/  2.7 KiB]                                                \r/ [0 files][    0.0 B/  3.9 KiB]                                                \rCopying gs://qatar_competition/fakeNewsDataset/fake-news-real-news-eval/bsb02.blind.txt...\n",
            "Copying gs://qatar_competition/fakeNewsDataset/fake-news-real-news-eval/bsb03.blind.txt...\n",
            "/ [0 files][    0.0 B/  5.6 KiB]                                                \r/ [0 files][    0.0 B/  6.7 KiB]                                                \rCopying gs://qatar_competition/fakeNewsDataset/fake-news-real-news-eval/bsb04.blind.txt...\n",
            "/ [0 files][    0.0 B/  7.5 KiB]                                                \rCopying gs://qatar_competition/fakeNewsDataset/fake-news-real-news-eval/fgh01.blind.txt...\n",
            "Copying gs://qatar_competition/fakeNewsDataset/fake-news-real-news-eval/fgh02.blind.txt...\n",
            "Copying gs://qatar_competition/fakeNewsDataset/fake-news-real-news-eval/fgh03.blind.txt...\n",
            "Copying gs://qatar_competition/fakeNewsDataset/fake-news-real-news-eval/fgh04.blind.txt...\n",
            "Copying gs://qatar_competition/fakeNewsDataset/fake-news-real-news-eval/gfd01.blind.txt...\n",
            "Copying gs://qatar_competition/fakeNewsDataset/fake-news-real-news-eval/gfd02.blind.txt...\n",
            "Copying gs://qatar_competition/fakeNewsDataset/fake-news-real-news-eval/gfd03.blind.txt...\n",
            "Copying gs://qatar_competition/fakeNewsDataset/fake-news-real-news-eval/gfd04.blind.txt...\n",
            "Copying gs://qatar_competition/fakeNewsDataset/fake-news-real-news-eval/jhg01.blind.txt...\n",
            "Copying gs://qatar_competition/fakeNewsDataset/fake-news-real-news-eval/jhg02.blind.txt...\n",
            "Copying gs://qatar_competition/fakeNewsDataset/fake-news-real-news-eval/jhg03.blind.txt...\n",
            "Copying gs://qatar_competition/fakeNewsDataset/fake-news-real-news-eval/jhg04.blind.txt...\n",
            "Copying gs://qatar_competition/fakeNewsDataset/fake-news-real-news-eval/jkl01.blind.txt...\n",
            "Copying gs://qatar_competition/fakeNewsDataset/fake-news-real-news-eval/jkl02.blind.txt...\n",
            "Copying gs://qatar_competition/fakeNewsDataset/fake-news-real-news-eval/jkl03.blind.txt...\n",
            "Copying gs://qatar_competition/fakeNewsDataset/fake-news-real-news-eval/jkl04.blind.txt...\n",
            "Copying gs://qatar_competition/fakeNewsDataset/fake-news-real-news-eval/lkj01.blind.txt...\n",
            "Copying gs://qatar_competition/fakeNewsDataset/fake-news-real-news-eval/lkj02.blind.txt...\n",
            "Copying gs://qatar_competition/fakeNewsDataset/fake-news-real-news-eval/lkj04.blind.txt...\n",
            "Copying gs://qatar_competition/fakeNewsDataset/fake-news-real-news-eval/lkj03.blind.txt...\n",
            "Copying gs://qatar_competition/fakeNewsDataset/fake-news-real-news-eval/mnb01.blind.txt...\n",
            "Copying gs://qatar_competition/fakeNewsDataset/fake-news-real-news-eval/mnb02.blind.txt...\n",
            "Copying gs://qatar_competition/fakeNewsDataset/fake-news-real-news-eval/mnb03.blind.txt...\n",
            "Copying gs://qatar_competition/fakeNewsDataset/fake-news-real-news-eval/mnb04.blind.txt...\n",
            "Copying gs://qatar_competition/fakeNewsDataset/fake-news-real-news-eval/poi01.blind.txt...\n",
            "Copying gs://qatar_competition/fakeNewsDataset/fake-news-real-news-eval/poi02.blind.txt...\n",
            "Copying gs://qatar_competition/fakeNewsDataset/fake-news-real-news-eval/poi03.blind.txt...\n",
            "Copying gs://qatar_competition/fakeNewsDataset/fake-news-real-news-eval/poi04.blind.txt...\n",
            "Copying gs://qatar_competition/fakeNewsDataset/fake-news-real-news-eval/qwe01.blind.txt...\n",
            "Copying gs://qatar_competition/fakeNewsDataset/fake-news-real-news-eval/qwe02.blind.txt...\n",
            "Copying gs://qatar_competition/fakeNewsDataset/fake-news-real-news-eval/qwe03.blind.txt...\n",
            "Copying gs://qatar_competition/fakeNewsDataset/fake-news-real-news-eval/qwe04.blind.txt...\n",
            "Copying gs://qatar_competition/fakeNewsDataset/fake-news-real-news-eval/rty02.blind.txt...\n",
            "Copying gs://qatar_competition/fakeNewsDataset/fake-news-real-news-eval/rty03.blind.txt...\n",
            "Copying gs://qatar_competition/fakeNewsDataset/fake-news-real-news-eval/rty04.blind.txt...\n",
            "Copying gs://qatar_competition/fakeNewsDataset/fake-news-real-news-eval/ytr01.blind.txt...\n",
            "Copying gs://qatar_competition/fakeNewsDataset/fake-news-real-news-eval/ytr02.blind.txt...\n",
            "Copying gs://qatar_competition/fakeNewsDataset/fake-news-real-news-eval/ytr04.blind.txt...\n",
            "Copying gs://qatar_competition/fakeNewsDataset/fake-news-real-news-eval/zxc01.blind.txt...\n",
            "Copying gs://qatar_competition/fakeNewsDataset/fake-news-real-news-eval/zxc02.blind.txt...\n",
            "Copying gs://qatar_competition/fakeNewsDataset/fake-news-real-news-eval/zxc03.blind.txt...\n",
            "Copying gs://qatar_competition/fakeNewsDataset/fake-test/biz05.fake.txt...\n",
            "Copying gs://qatar_competition/fakeNewsDataset/fake-test/biz06.fake.txt...\n",
            "Copying gs://qatar_competition/fakeNewsDataset/fake-test/biz07.fake.txt...\n",
            "Copying gs://qatar_competition/fakeNewsDataset/fake-test/biz08.fake.txt...\n",
            "Copying gs://qatar_competition/fakeNewsDataset/fake-test/edu05.fake.txt...\n",
            "Copying gs://qatar_competition/fakeNewsDataset/fake-test/edu06.fake.txt...\n",
            "Copying gs://qatar_competition/fakeNewsDataset/fake-test/edu07.fake.txt...\n",
            "Copying gs://qatar_competition/fakeNewsDataset/fake-test/edu08.fake.txt...\n",
            "Copying gs://qatar_competition/fakeNewsDataset/fake-test/entmt05.fake.txt...\n",
            "Copying gs://qatar_competition/fakeNewsDataset/fake-test/entmt06.fake.txt...\n",
            "Copying gs://qatar_competition/fakeNewsDataset/fake-test/entmt07.fake.txt...\n",
            "Copying gs://qatar_competition/fakeNewsDataset/fake-test/entmt08.fake.txt...\n",
            "Copying gs://qatar_competition/fakeNewsDataset/fake-test/polit05.fake.txt...\n",
            "Copying gs://qatar_competition/fakeNewsDataset/fake-test/polit06.fake.txt...\n",
            "Copying gs://qatar_competition/fakeNewsDataset/fake-test/polit07.fake.txt...\n",
            "Copying gs://qatar_competition/fakeNewsDataset/fake-test/polit08.fake.txt...\n",
            "Copying gs://qatar_competition/fakeNewsDataset/fake-test/sports05.fake.txt...\n",
            "Copying gs://qatar_competition/fakeNewsDataset/fake-test/sports06.fake.txt...\n",
            "Copying gs://qatar_competition/fakeNewsDataset/fake-test/sports07.fake.txt...\n",
            "Copying gs://qatar_competition/fakeNewsDataset/fake-test/sports08.fake.txt...\n",
            "Copying gs://qatar_competition/fakeNewsDataset/fake-test/tech005.fake.txt...\n",
            "Copying gs://qatar_competition/fakeNewsDataset/fake-test/tech006.fake.txt...\n",
            "Copying gs://qatar_competition/fakeNewsDataset/fake-test/tech007.fake.txt...\n",
            "Copying gs://qatar_competition/fakeNewsDataset/fake-test/tech008.fake.txt...\n",
            "Copying gs://qatar_competition/fakeNewsDataset/fake-training/biz09.fake.txt...\n",
            "Copying gs://qatar_competition/fakeNewsDataset/fake-training/biz10.fake.txt...\n",
            "Copying gs://qatar_competition/fakeNewsDataset/fake-training/biz11.fake.txt...\n",
            "Copying gs://qatar_competition/fakeNewsDataset/fake-training/biz12.fake.txt...\n",
            "Copying gs://qatar_competition/fakeNewsDataset/fake-training/biz13.fake.txt...\n",
            "Copying gs://qatar_competition/fakeNewsDataset/fake-training/biz14.fake.txt...\n",
            "Copying gs://qatar_competition/fakeNewsDataset/fake-training/biz15.fake.txt...\n",
            "Copying gs://qatar_competition/fakeNewsDataset/fake-training/biz16.fake.txt...\n",
            "Copying gs://qatar_competition/fakeNewsDataset/fake-training/biz17.fake.txt...\n",
            "Copying gs://qatar_competition/fakeNewsDataset/fake-training/biz18.fake.txt...\n",
            "Copying gs://qatar_competition/fakeNewsDataset/fake-training/biz19.fake.txt...\n",
            "Copying gs://qatar_competition/fakeNewsDataset/fake-training/biz20.fake.txt...\n",
            "Copying gs://qatar_competition/fakeNewsDataset/fake-training/biz21.fake.txt...\n",
            "Copying gs://qatar_competition/fakeNewsDataset/fake-training/biz22.fake.txt...\n",
            "Copying gs://qatar_competition/fakeNewsDataset/fake-training/biz23.fake.txt...\n",
            "Copying gs://qatar_competition/fakeNewsDataset/fake-training/biz24.fake.txt...\n",
            "Copying gs://qatar_competition/fakeNewsDataset/fake-training/biz25.fake.txt...\n",
            "Copying gs://qatar_competition/fakeNewsDataset/fake-training/biz26.fake.txt...\n",
            "Copying gs://qatar_competition/fakeNewsDataset/fake-training/biz27.fake.txt...\n",
            "Copying gs://qatar_competition/fakeNewsDataset/fake-training/biz28.fake.txt...\n",
            "Copying gs://qatar_competition/fakeNewsDataset/fake-training/biz29.fake.txt...\n",
            "Copying gs://qatar_competition/fakeNewsDataset/fake-training/biz30.fake.txt...\n",
            "Copying gs://qatar_competition/fakeNewsDataset/fake-training/biz31.fake.txt...\n",
            "Copying gs://qatar_competition/fakeNewsDataset/fake-training/biz32.fake.txt...\n",
            "Copying gs://qatar_competition/fakeNewsDataset/fake-training/biz33.fake.txt...\n",
            "Copying gs://qatar_competition/fakeNewsDataset/fake-training/biz34.fake.txt...\n",
            "Copying gs://qatar_competition/fakeNewsDataset/fake-training/biz35.fake.txt...\n",
            "Copying gs://qatar_competition/fakeNewsDataset/fake-training/biz36.fake.txt...\n",
            "Copying gs://qatar_competition/fakeNewsDataset/fake-training/biz37.fake.txt...\n",
            "Copying gs://qatar_competition/fakeNewsDataset/fake-training/biz38.fake.txt...\n",
            "Copying gs://qatar_competition/fakeNewsDataset/fake-training/biz39.fake.txt...\n",
            "Copying gs://qatar_competition/fakeNewsDataset/fake-training/biz40.fake.txt...\n",
            "Copying gs://qatar_competition/fakeNewsDataset/fake-training/edu09.fake.txt...\n",
            "Copying gs://qatar_competition/fakeNewsDataset/fake-training/edu10.fake.txt...\n",
            "Copying gs://qatar_competition/fakeNewsDataset/fake-training/edu11.fake.txt...\n",
            "Copying gs://qatar_competition/fakeNewsDataset/fake-training/edu12.fake.txt...\n",
            "Copying gs://qatar_competition/fakeNewsDataset/fake-training/edu13.fake.txt...\n",
            "Copying gs://qatar_competition/fakeNewsDataset/fake-training/edu14.fake.txt...\n",
            "Copying gs://qatar_competition/fakeNewsDataset/fake-training/edu15.fake.txt...\n",
            "Copying gs://qatar_competition/fakeNewsDataset/fake-training/edu16.fake.txt...\n",
            "Copying gs://qatar_competition/fakeNewsDataset/fake-training/edu17.fake.txt...\n",
            "Copying gs://qatar_competition/fakeNewsDataset/fake-training/edu18.fake.txt...\n",
            "Copying gs://qatar_competition/fakeNewsDataset/fake-training/edu19.fake.txt...\n",
            "Copying gs://qatar_competition/fakeNewsDataset/fake-training/edu20.fake.txt...\n",
            "Copying gs://qatar_competition/fakeNewsDataset/fake-training/edu21.fake.txt...\n",
            "Copying gs://qatar_competition/fakeNewsDataset/fake-training/edu22.fake.txt...\n",
            "Copying gs://qatar_competition/fakeNewsDataset/fake-training/edu23.fake.txt...\n",
            "Copying gs://qatar_competition/fakeNewsDataset/fake-training/edu24.fake.txt...\n",
            "Copying gs://qatar_competition/fakeNewsDataset/fake-training/edu25.fake.txt...\n",
            "Copying gs://qatar_competition/fakeNewsDataset/fake-training/edu26.fake.txt...\n",
            "Copying gs://qatar_competition/fakeNewsDataset/fake-training/edu27.fake.txt...\n",
            "Copying gs://qatar_competition/fakeNewsDataset/fake-training/edu28.fake.txt...\n",
            "Copying gs://qatar_competition/fakeNewsDataset/fake-training/edu29.fake.txt...\n",
            "Copying gs://qatar_competition/fakeNewsDataset/fake-training/edu30.fake.txt...\n",
            "Copying gs://qatar_competition/fakeNewsDataset/fake-training/edu31.fake.txt...\n",
            "Copying gs://qatar_competition/fakeNewsDataset/fake-training/edu32.fake.txt...\n",
            "Copying gs://qatar_competition/fakeNewsDataset/fake-training/edu33.fake.txt...\n",
            "Copying gs://qatar_competition/fakeNewsDataset/fake-training/edu34.fake.txt...\n",
            "Copying gs://qatar_competition/fakeNewsDataset/fake-training/edu35.fake.txt...\n",
            "Copying gs://qatar_competition/fakeNewsDataset/fake-training/edu36.fake.txt...\n",
            "Copying gs://qatar_competition/fakeNewsDataset/fake-training/edu37.fake.txt...\n",
            "Copying gs://qatar_competition/fakeNewsDataset/fake-training/edu38.fake.txt...\n",
            "Copying gs://qatar_competition/fakeNewsDataset/fake-training/edu39.fake.txt...\n",
            "Copying gs://qatar_competition/fakeNewsDataset/fake-training/edu40.fake.txt...\n",
            "Copying gs://qatar_competition/fakeNewsDataset/fake-training/entmt09.fake.txt...\n",
            "Copying gs://qatar_competition/fakeNewsDataset/fake-training/entmt10.fake.txt...\n",
            "Copying gs://qatar_competition/fakeNewsDataset/fake-training/entmt11.fake.txt...\n",
            "Copying gs://qatar_competition/fakeNewsDataset/fake-training/entmt12.fake.txt...\n",
            "Copying gs://qatar_competition/fakeNewsDataset/fake-training/entmt13.fake.txt...\n",
            "Copying gs://qatar_competition/fakeNewsDataset/fake-training/entmt15.fake.txt...\n",
            "Copying gs://qatar_competition/fakeNewsDataset/fake-training/entmt14.fake.txt...\n",
            "Copying gs://qatar_competition/fakeNewsDataset/fake-training/entmt16.fake.txt...\n",
            "Copying gs://qatar_competition/fakeNewsDataset/fake-training/entmt17.fake.txt...\n",
            "Copying gs://qatar_competition/fakeNewsDataset/fake-training/entmt18.fake.txt...\n",
            "Copying gs://qatar_competition/fakeNewsDataset/fake-training/entmt19.fake.txt...\n",
            "Copying gs://qatar_competition/fakeNewsDataset/fake-training/entmt20.fake.txt...\n",
            "Copying gs://qatar_competition/fakeNewsDataset/fake-training/entmt21.fake.txt...\n",
            "Copying gs://qatar_competition/fakeNewsDataset/fake-training/entmt22.fake.txt...\n",
            "Copying gs://qatar_competition/fakeNewsDataset/fake-training/entmt23.fake.txt...\n",
            "Copying gs://qatar_competition/fakeNewsDataset/fake-training/entmt24.fake.txt...\n",
            "Copying gs://qatar_competition/fakeNewsDataset/fake-training/entmt25.fake.txt...\n",
            "Copying gs://qatar_competition/fakeNewsDataset/fake-training/entmt26.fake.txt...\n",
            "Copying gs://qatar_competition/fakeNewsDataset/fake-training/entmt27.fake.txt...\n",
            "Copying gs://qatar_competition/fakeNewsDataset/fake-training/entmt28.fake.txt...\n",
            "Copying gs://qatar_competition/fakeNewsDataset/fake-training/entmt29.fake.txt...\n",
            "Copying gs://qatar_competition/fakeNewsDataset/fake-training/entmt30.fake.txt...\n",
            "Copying gs://qatar_competition/fakeNewsDataset/fake-training/entmt31.fake.txt...\n",
            "Copying gs://qatar_competition/fakeNewsDataset/fake-training/entmt32.fake.txt...\n",
            "Copying gs://qatar_competition/fakeNewsDataset/fake-training/entmt33.fake.txt...\n",
            "Copying gs://qatar_competition/fakeNewsDataset/fake-training/entmt34.fake.txt...\n",
            "Copying gs://qatar_competition/fakeNewsDataset/fake-training/entmt35.fake.txt...\n",
            "Copying gs://qatar_competition/fakeNewsDataset/fake-training/entmt36.fake.txt...\n",
            "Copying gs://qatar_competition/fakeNewsDataset/fake-training/entmt37.fake.txt...\n",
            "Copying gs://qatar_competition/fakeNewsDataset/fake-training/entmt38.fake.txt...\n",
            "Copying gs://qatar_competition/fakeNewsDataset/fake-training/entmt39.fake.txt...\n",
            "Copying gs://qatar_competition/fakeNewsDataset/fake-training/entmt40.fake.txt...\n",
            "Copying gs://qatar_competition/fakeNewsDataset/fake-training/polit09.fake.txt...\n",
            "Copying gs://qatar_competition/fakeNewsDataset/fake-training/polit10.fake.txt...\n",
            "Copying gs://qatar_competition/fakeNewsDataset/fake-training/polit11.fake.txt...\n",
            "Copying gs://qatar_competition/fakeNewsDataset/fake-training/polit12.fake.txt...\n",
            "Copying gs://qatar_competition/fakeNewsDataset/fake-training/polit13.fake.txt...\n",
            "Copying gs://qatar_competition/fakeNewsDataset/fake-training/polit14.fake.txt...\n",
            "Copying gs://qatar_competition/fakeNewsDataset/fake-training/polit15.fake.txt...\n",
            "Copying gs://qatar_competition/fakeNewsDataset/fake-training/polit16.fake.txt...\n",
            "Copying gs://qatar_competition/fakeNewsDataset/fake-training/polit17.fake.txt...\n",
            "Copying gs://qatar_competition/fakeNewsDataset/fake-training/polit18.fake.txt...\n",
            "Copying gs://qatar_competition/fakeNewsDataset/fake-training/polit19.fake.txt...\n",
            "Copying gs://qatar_competition/fakeNewsDataset/fake-training/polit20.fake.txt...\n",
            "Copying gs://qatar_competition/fakeNewsDataset/fake-training/polit21.fake.txt...\n",
            "Copying gs://qatar_competition/fakeNewsDataset/fake-training/polit22.fake.txt...\n",
            "Copying gs://qatar_competition/fakeNewsDataset/fake-training/polit23.fake.txt...\n",
            "Copying gs://qatar_competition/fakeNewsDataset/fake-training/polit24.fake.txt...\n",
            "Copying gs://qatar_competition/fakeNewsDataset/fake-training/polit25.fake.txt...\n",
            "Copying gs://qatar_competition/fakeNewsDataset/fake-training/polit26.fake.txt...\n",
            "Copying gs://qatar_competition/fakeNewsDataset/fake-training/polit27.fake.txt...\n",
            "Copying gs://qatar_competition/fakeNewsDataset/fake-training/polit28.fake.txt...\n",
            "Copying gs://qatar_competition/fakeNewsDataset/fake-training/polit29.fake.txt...\n",
            "Copying gs://qatar_competition/fakeNewsDataset/fake-training/polit30.fake.txt...\n",
            "Copying gs://qatar_competition/fakeNewsDataset/fake-training/polit32.fake.txt...\n",
            "Copying gs://qatar_competition/fakeNewsDataset/fake-training/polit31.fake.txt...\n",
            "Copying gs://qatar_competition/fakeNewsDataset/fake-training/polit33.fake.txt...\n",
            "Copying gs://qatar_competition/fakeNewsDataset/fake-training/polit34.fake.txt...\n",
            "Copying gs://qatar_competition/fakeNewsDataset/fake-training/polit35.fake.txt...\n",
            "Copying gs://qatar_competition/fakeNewsDataset/fake-training/polit36.fake.txt...\n",
            "Copying gs://qatar_competition/fakeNewsDataset/fake-training/polit37.fake.txt...\n",
            "Copying gs://qatar_competition/fakeNewsDataset/fake-training/polit38.fake.txt...\n",
            "Copying gs://qatar_competition/fakeNewsDataset/fake-training/polit39.fake.txt...\n",
            "Copying gs://qatar_competition/fakeNewsDataset/fake-training/polit40.fake.txt...\n",
            "Copying gs://qatar_competition/fakeNewsDataset/fake-training/sports09.fake.txt...\n",
            "Copying gs://qatar_competition/fakeNewsDataset/fake-training/sports10.fake.txt...\n",
            "Copying gs://qatar_competition/fakeNewsDataset/fake-training/sports11.fake.txt...\n",
            "Copying gs://qatar_competition/fakeNewsDataset/fake-training/sports12.fake.txt...\n",
            "Copying gs://qatar_competition/fakeNewsDataset/fake-training/sports13.fake.txt...\n",
            "Copying gs://qatar_competition/fakeNewsDataset/fake-training/sports14.fake.txt...\n",
            "Copying gs://qatar_competition/fakeNewsDataset/fake-training/sports16.fake.txt...\n",
            "Copying gs://qatar_competition/fakeNewsDataset/fake-training/sports15.fake.txt...\n",
            "Copying gs://qatar_competition/fakeNewsDataset/fake-training/sports17.fake.txt...\n",
            "Copying gs://qatar_competition/fakeNewsDataset/fake-training/sports18.fake.txt...\n",
            "Copying gs://qatar_competition/fakeNewsDataset/fake-training/sports19.fake.txt...\n",
            "Copying gs://qatar_competition/fakeNewsDataset/fake-training/sports20.fake.txt...\n",
            "Copying gs://qatar_competition/fakeNewsDataset/fake-training/sports21.fake.txt...\n",
            "Copying gs://qatar_competition/fakeNewsDataset/fake-training/sports22.fake.txt...\n",
            "Copying gs://qatar_competition/fakeNewsDataset/fake-training/sports23.fake.txt...\n",
            "Copying gs://qatar_competition/fakeNewsDataset/fake-training/sports24.fake.txt...\n",
            "Copying gs://qatar_competition/fakeNewsDataset/fake-training/sports25.fake.txt...\n",
            "Copying gs://qatar_competition/fakeNewsDataset/fake-training/sports26.fake.txt...\n",
            "Copying gs://qatar_competition/fakeNewsDataset/fake-training/sports27.fake.txt...\n",
            "Copying gs://qatar_competition/fakeNewsDataset/fake-training/sports28.fake.txt...\n",
            "Copying gs://qatar_competition/fakeNewsDataset/fake-training/sports29.fake.txt...\n",
            "Copying gs://qatar_competition/fakeNewsDataset/fake-training/sports30.fake.txt...\n",
            "Copying gs://qatar_competition/fakeNewsDataset/fake-training/sports31.fake.txt...\n",
            "Copying gs://qatar_competition/fakeNewsDataset/fake-training/sports32.fake.txt...\n",
            "Copying gs://qatar_competition/fakeNewsDataset/fake-training/sports33.fake.txt...\n",
            "Copying gs://qatar_competition/fakeNewsDataset/fake-training/sports34.fake.txt...\n",
            "Copying gs://qatar_competition/fakeNewsDataset/fake-training/sports35.fake.txt...\n",
            "Copying gs://qatar_competition/fakeNewsDataset/fake-training/sports36.fake.txt...\n",
            "Copying gs://qatar_competition/fakeNewsDataset/fake-training/sports37.fake.txt...\n",
            "Copying gs://qatar_competition/fakeNewsDataset/fake-training/sports38.fake.txt...\n",
            "Copying gs://qatar_competition/fakeNewsDataset/fake-training/sports39.fake.txt...\n",
            "Copying gs://qatar_competition/fakeNewsDataset/fake-training/sports40.fake.txt...\n",
            "Copying gs://qatar_competition/fakeNewsDataset/fake-training/tech009.fake.txt...\n",
            "Copying gs://qatar_competition/fakeNewsDataset/fake-training/tech010.fake.txt...\n",
            "Copying gs://qatar_competition/fakeNewsDataset/fake-training/tech011.fake.txt...\n",
            "Copying gs://qatar_competition/fakeNewsDataset/fake-training/tech012.fake.txt...\n",
            "Copying gs://qatar_competition/fakeNewsDataset/fake-training/tech013.fake.txt...\n",
            "Copying gs://qatar_competition/fakeNewsDataset/fake-training/tech014.fake.txt...\n",
            "Copying gs://qatar_competition/fakeNewsDataset/fake-training/tech015.fake.txt...\n",
            "Copying gs://qatar_competition/fakeNewsDataset/fake-training/tech016.fake.txt...\n",
            "Copying gs://qatar_competition/fakeNewsDataset/fake-training/tech017.fake.txt...\n",
            "Copying gs://qatar_competition/fakeNewsDataset/fake-training/tech018.fake.txt...\n",
            "Copying gs://qatar_competition/fakeNewsDataset/fake-training/tech019.fake.txt...\n",
            "Copying gs://qatar_competition/fakeNewsDataset/fake-training/tech020.fake.txt...\n",
            "Copying gs://qatar_competition/fakeNewsDataset/fake-training/tech021.fake.txt...\n",
            "Copying gs://qatar_competition/fakeNewsDataset/fake-training/tech022.fake.txt...\n",
            "Copying gs://qatar_competition/fakeNewsDataset/fake-training/tech023.fake.txt...\n",
            "Copying gs://qatar_competition/fakeNewsDataset/fake-training/tech024.fake.txt...\n",
            "Copying gs://qatar_competition/fakeNewsDataset/fake-training/tech025.fake.txt...\n",
            "Copying gs://qatar_competition/fakeNewsDataset/fake-training/tech026.fake.txt...\n",
            "Copying gs://qatar_competition/fakeNewsDataset/fake-training/tech027.fake.txt...\n",
            "Copying gs://qatar_competition/fakeNewsDataset/fake-training/tech028.fake.txt...\n",
            "Copying gs://qatar_competition/fakeNewsDataset/fake-training/tech029.fake.txt...\n",
            "Copying gs://qatar_competition/fakeNewsDataset/fake-training/tech030.fake.txt...\n",
            "Copying gs://qatar_competition/fakeNewsDataset/fake-training/tech031.fake.txt...\n",
            "Copying gs://qatar_competition/fakeNewsDataset/fake-training/tech032.fake.txt...\n",
            "Copying gs://qatar_competition/fakeNewsDataset/fake-training/tech033.fake.txt...\n",
            "Copying gs://qatar_competition/fakeNewsDataset/fake-training/tech034.fake.txt...\n",
            "Copying gs://qatar_competition/fakeNewsDataset/fake-training/tech036.fake.txt...\n",
            "Copying gs://qatar_competition/fakeNewsDataset/fake-training/tech035.fake.txt...\n",
            "Copying gs://qatar_competition/fakeNewsDataset/fake-training/tech037.fake.txt...\n",
            "Copying gs://qatar_competition/fakeNewsDataset/fake-training/tech038.fake.txt...\n",
            "Copying gs://qatar_competition/fakeNewsDataset/fake-training/tech039.fake.txt...\n",
            "Copying gs://qatar_competition/fakeNewsDataset/fake-training/tech040.fake.txt...\n",
            "Copying gs://qatar_competition/fakeNewsDataset/legit-test/biz05.legit.txt...\n",
            "Copying gs://qatar_competition/fakeNewsDataset/legit-test/biz06.legit.txt...\n",
            "Copying gs://qatar_competition/fakeNewsDataset/legit-test/biz08.legit.txt...\n",
            "Copying gs://qatar_competition/fakeNewsDataset/legit-test/biz07.legit.txt...\n",
            "Copying gs://qatar_competition/fakeNewsDataset/legit-test/edu05.legit.txt...\n",
            "Copying gs://qatar_competition/fakeNewsDataset/legit-test/edu06.legit.txt...\n",
            "Copying gs://qatar_competition/fakeNewsDataset/legit-test/edu07.legit.txt...\n",
            "Copying gs://qatar_competition/fakeNewsDataset/legit-test/edu08.legit.txt...\n",
            "Copying gs://qatar_competition/fakeNewsDataset/legit-test/entmt05.legit.txt...\n",
            "Copying gs://qatar_competition/fakeNewsDataset/legit-test/entmt06.legit.txt...\n",
            "Copying gs://qatar_competition/fakeNewsDataset/legit-test/entmt07.legit.txt...\n",
            "Copying gs://qatar_competition/fakeNewsDataset/legit-test/polit05.legit.txt...\n",
            "Copying gs://qatar_competition/fakeNewsDataset/legit-test/entmt08.legit.txt...\n",
            "Copying gs://qatar_competition/fakeNewsDataset/legit-test/polit06.legit.txt...\n",
            "Copying gs://qatar_competition/fakeNewsDataset/legit-test/polit07.legit.txt...\n",
            "Copying gs://qatar_competition/fakeNewsDataset/legit-test/polit08.legit.txt...\n",
            "Copying gs://qatar_competition/fakeNewsDataset/legit-test/sports05.legit.txt...\n",
            "Copying gs://qatar_competition/fakeNewsDataset/legit-test/sports06.legit.txt...\n",
            "Copying gs://qatar_competition/fakeNewsDataset/legit-test/sports07.legit.txt...\n",
            "Copying gs://qatar_competition/fakeNewsDataset/legit-test/sports08.legit.txt...\n",
            "Copying gs://qatar_competition/fakeNewsDataset/legit-test/tech005.legit.txt...\n",
            "Copying gs://qatar_competition/fakeNewsDataset/legit-test/tech006.legit.txt...\n",
            "Copying gs://qatar_competition/fakeNewsDataset/legit-test/tech007.legit.txt...\n",
            "Copying gs://qatar_competition/fakeNewsDataset/legit-test/tech008.legit.txt...\n",
            "Copying gs://qatar_competition/fakeNewsDataset/legit-training/biz09.legit.txt...\n",
            "Copying gs://qatar_competition/fakeNewsDataset/legit-training/biz10.legit.txt...\n",
            "Copying gs://qatar_competition/fakeNewsDataset/legit-training/biz11.legit.txt...\n",
            "Copying gs://qatar_competition/fakeNewsDataset/legit-training/biz12.legit.txt...\n",
            "Copying gs://qatar_competition/fakeNewsDataset/legit-training/biz13.legit.txt...\n",
            "Copying gs://qatar_competition/fakeNewsDataset/legit-training/biz14.legit.txt...\n",
            "Copying gs://qatar_competition/fakeNewsDataset/legit-training/biz15.legit.txt...\n",
            "Copying gs://qatar_competition/fakeNewsDataset/legit-training/biz16.legit.txt...\n",
            "Copying gs://qatar_competition/fakeNewsDataset/legit-training/biz17.legit.txt...\n",
            "Copying gs://qatar_competition/fakeNewsDataset/legit-training/biz19.legit.txt...\n",
            "Copying gs://qatar_competition/fakeNewsDataset/legit-training/biz18.legit.txt...\n",
            "Copying gs://qatar_competition/fakeNewsDataset/legit-training/biz20.legit.txt...\n",
            "Copying gs://qatar_competition/fakeNewsDataset/legit-training/biz21.legit.txt...\n",
            "Copying gs://qatar_competition/fakeNewsDataset/legit-training/biz22.legit.txt...\n",
            "Copying gs://qatar_competition/fakeNewsDataset/legit-training/biz23.legit.txt...\n",
            "Copying gs://qatar_competition/fakeNewsDataset/legit-training/biz24.legit.txt...\n",
            "Copying gs://qatar_competition/fakeNewsDataset/legit-training/biz25.legit.txt...\n",
            "Copying gs://qatar_competition/fakeNewsDataset/legit-training/biz27.legit.txt...\n",
            "Copying gs://qatar_competition/fakeNewsDataset/legit-training/biz28.legit.txt...\n",
            "Copying gs://qatar_competition/fakeNewsDataset/legit-training/biz26.legit.txt...\n",
            "Copying gs://qatar_competition/fakeNewsDataset/legit-training/biz29.legit.txt...\n",
            "Copying gs://qatar_competition/fakeNewsDataset/legit-training/biz30.legit.txt...\n",
            "Copying gs://qatar_competition/fakeNewsDataset/legit-training/biz31.legit.txt...\n",
            "Copying gs://qatar_competition/fakeNewsDataset/legit-training/biz32.legit.txt...\n",
            "Copying gs://qatar_competition/fakeNewsDataset/legit-training/biz33.legit.txt...\n",
            "Copying gs://qatar_competition/fakeNewsDataset/legit-training/biz34.legit.txt...\n",
            "Copying gs://qatar_competition/fakeNewsDataset/legit-training/biz35.legit.txt...\n",
            "Copying gs://qatar_competition/fakeNewsDataset/legit-training/biz36.legit.txt...\n",
            "Copying gs://qatar_competition/fakeNewsDataset/legit-training/biz37.legit.txt...\n",
            "Copying gs://qatar_competition/fakeNewsDataset/legit-training/biz38.legit.txt...\n",
            "Copying gs://qatar_competition/fakeNewsDataset/legit-training/biz39.legit.txt...\n",
            "Copying gs://qatar_competition/fakeNewsDataset/legit-training/biz40.legit.txt...\n",
            "Copying gs://qatar_competition/fakeNewsDataset/legit-training/edu09.legit.txt...\n",
            "Copying gs://qatar_competition/fakeNewsDataset/legit-training/edu10.legit.txt...\n",
            "Copying gs://qatar_competition/fakeNewsDataset/legit-training/edu11.legit.txt...\n",
            "Copying gs://qatar_competition/fakeNewsDataset/legit-training/edu12.legit.txt...\n",
            "Copying gs://qatar_competition/fakeNewsDataset/legit-training/edu13.legit.txt...\n",
            "Copying gs://qatar_competition/fakeNewsDataset/legit-training/edu14.legit.txt...\n",
            "Copying gs://qatar_competition/fakeNewsDataset/legit-training/edu15.legit.txt...\n",
            "Copying gs://qatar_competition/fakeNewsDataset/legit-training/edu16.legit.txt...\n",
            "Copying gs://qatar_competition/fakeNewsDataset/legit-training/edu17.legit.txt...\n",
            "Copying gs://qatar_competition/fakeNewsDataset/legit-training/edu18.legit.txt...\n",
            "Copying gs://qatar_competition/fakeNewsDataset/legit-training/edu19.legit.txt...\n",
            "Copying gs://qatar_competition/fakeNewsDataset/legit-training/edu20.legit.txt...\n",
            "Copying gs://qatar_competition/fakeNewsDataset/legit-training/edu21.legit.txt...\n",
            "Copying gs://qatar_competition/fakeNewsDataset/legit-training/edu22.legit.txt...\n",
            "Copying gs://qatar_competition/fakeNewsDataset/legit-training/edu23.legit.txt...\n",
            "Copying gs://qatar_competition/fakeNewsDataset/legit-training/edu24.legit.txt...\n",
            "Copying gs://qatar_competition/fakeNewsDataset/legit-training/edu25.legit.txt...\n",
            "Copying gs://qatar_competition/fakeNewsDataset/legit-training/edu26.legit.txt...\n",
            "Copying gs://qatar_competition/fakeNewsDataset/legit-training/edu27.legit.txt...\n",
            "Copying gs://qatar_competition/fakeNewsDataset/legit-training/edu28.legit.txt...\n",
            "Copying gs://qatar_competition/fakeNewsDataset/legit-training/edu29.legit.txt...\n",
            "Copying gs://qatar_competition/fakeNewsDataset/legit-training/edu30.legit.txt...\n",
            "Copying gs://qatar_competition/fakeNewsDataset/legit-training/edu31.legit.txt...\n",
            "Copying gs://qatar_competition/fakeNewsDataset/legit-training/edu32.legit.txt...\n",
            "Copying gs://qatar_competition/fakeNewsDataset/legit-training/edu33.legit.txt...\n",
            "Copying gs://qatar_competition/fakeNewsDataset/legit-training/edu34.legit.txt...\n",
            "Copying gs://qatar_competition/fakeNewsDataset/legit-training/edu35.legit.txt...\n",
            "Copying gs://qatar_competition/fakeNewsDataset/legit-training/edu36.legit.txt...\n",
            "Copying gs://qatar_competition/fakeNewsDataset/legit-training/edu37.legit.txt...\n",
            "Copying gs://qatar_competition/fakeNewsDataset/legit-training/edu38.legit.txt...\n",
            "Copying gs://qatar_competition/fakeNewsDataset/legit-training/edu39.legit.txt...\n",
            "Copying gs://qatar_competition/fakeNewsDataset/legit-training/edu40.legit.txt...\n",
            "Copying gs://qatar_competition/fakeNewsDataset/legit-training/entmt09.legit.txt...\n",
            "Copying gs://qatar_competition/fakeNewsDataset/legit-training/entmt10.legit.txt...\n",
            "Copying gs://qatar_competition/fakeNewsDataset/legit-training/entmt11.legit.txt...\n",
            "Copying gs://qatar_competition/fakeNewsDataset/legit-training/entmt12.legit.txt...\n",
            "Copying gs://qatar_competition/fakeNewsDataset/legit-training/entmt14.legit.txt...\n",
            "Copying gs://qatar_competition/fakeNewsDataset/legit-training/entmt13.legit.txt...\n",
            "Copying gs://qatar_competition/fakeNewsDataset/legit-training/entmt15.legit.txt...\n",
            "Copying gs://qatar_competition/fakeNewsDataset/legit-training/entmt16.legit.txt...\n",
            "Copying gs://qatar_competition/fakeNewsDataset/legit-training/entmt17.legit.txt...\n",
            "Copying gs://qatar_competition/fakeNewsDataset/legit-training/entmt18.legit.txt...\n",
            "Copying gs://qatar_competition/fakeNewsDataset/legit-training/entmt19.legit.txt...\n",
            "Copying gs://qatar_competition/fakeNewsDataset/legit-training/entmt20.legit.txt...\n",
            "Copying gs://qatar_competition/fakeNewsDataset/legit-training/entmt21.legit.txt...\n",
            "Copying gs://qatar_competition/fakeNewsDataset/legit-training/entmt22.legit.txt...\n",
            "Copying gs://qatar_competition/fakeNewsDataset/legit-training/entmt23.legit.txt...\n",
            "Copying gs://qatar_competition/fakeNewsDataset/legit-training/entmt24.legit.txt...\n",
            "Copying gs://qatar_competition/fakeNewsDataset/legit-training/entmt25.legit.txt...\n",
            "Copying gs://qatar_competition/fakeNewsDataset/legit-training/entmt26.legit.txt...\n",
            "Copying gs://qatar_competition/fakeNewsDataset/legit-training/entmt27.legit.txt...\n",
            "Copying gs://qatar_competition/fakeNewsDataset/legit-training/entmt28.legit.txt...\n",
            "Copying gs://qatar_competition/fakeNewsDataset/legit-training/entmt29.legit.txt...\n",
            "Copying gs://qatar_competition/fakeNewsDataset/legit-training/entmt30.legit.txt...\n",
            "Copying gs://qatar_competition/fakeNewsDataset/legit-training/entmt31.legit.txt...\n",
            "Copying gs://qatar_competition/fakeNewsDataset/legit-training/entmt32.legit.txt...\n",
            "Copying gs://qatar_competition/fakeNewsDataset/legit-training/entmt33.legit.txt...\n",
            "Copying gs://qatar_competition/fakeNewsDataset/legit-training/entmt34.legit.txt...\n",
            "Copying gs://qatar_competition/fakeNewsDataset/legit-training/entmt35.legit.txt...\n",
            "Copying gs://qatar_competition/fakeNewsDataset/legit-training/entmt36.legit.txt...\n",
            "Copying gs://qatar_competition/fakeNewsDataset/legit-training/entmt37.legit.txt...\n",
            "Copying gs://qatar_competition/fakeNewsDataset/legit-training/entmt38.legit.txt...\n",
            "Copying gs://qatar_competition/fakeNewsDataset/legit-training/entmt39.legit.txt...\n",
            "Copying gs://qatar_competition/fakeNewsDataset/legit-training/entmt40.legit.txt...\n",
            "Copying gs://qatar_competition/fakeNewsDataset/legit-training/polit09.legit.txt...\n",
            "Copying gs://qatar_competition/fakeNewsDataset/legit-training/polit11.legit.txt...\n",
            "Copying gs://qatar_competition/fakeNewsDataset/legit-training/polit10.legit.txt...\n",
            "Copying gs://qatar_competition/fakeNewsDataset/legit-training/polit12.legit.txt...\n",
            "Copying gs://qatar_competition/fakeNewsDataset/legit-training/polit13.legit.txt...\n",
            "Copying gs://qatar_competition/fakeNewsDataset/legit-training/polit14.legit.txt...\n",
            "Copying gs://qatar_competition/fakeNewsDataset/legit-training/polit15.legit.txt...\n",
            "Copying gs://qatar_competition/fakeNewsDataset/legit-training/polit16.legit.txt...\n",
            "Copying gs://qatar_competition/fakeNewsDataset/legit-training/polit17.legit.txt...\n",
            "Copying gs://qatar_competition/fakeNewsDataset/legit-training/polit18.legit.txt...\n",
            "Copying gs://qatar_competition/fakeNewsDataset/legit-training/polit19.legit.txt...\n",
            "Copying gs://qatar_competition/fakeNewsDataset/legit-training/polit20.legit.txt...\n",
            "Copying gs://qatar_competition/fakeNewsDataset/legit-training/polit21.legit.txt...\n",
            "Copying gs://qatar_competition/fakeNewsDataset/legit-training/polit22.legit.txt...\n",
            "Copying gs://qatar_competition/fakeNewsDataset/legit-training/polit23.legit.txt...\n",
            "Copying gs://qatar_competition/fakeNewsDataset/legit-training/polit24.legit.txt...\n",
            "Copying gs://qatar_competition/fakeNewsDataset/legit-training/polit25.legit.txt...\n",
            "Copying gs://qatar_competition/fakeNewsDataset/legit-training/polit26.legit.txt...\n",
            "Copying gs://qatar_competition/fakeNewsDataset/legit-training/polit27.legit.txt...\n",
            "Copying gs://qatar_competition/fakeNewsDataset/legit-training/polit28.legit.txt...\n",
            "Copying gs://qatar_competition/fakeNewsDataset/legit-training/polit29.legit.txt...\n",
            "Copying gs://qatar_competition/fakeNewsDataset/legit-training/polit30.legit.txt...\n",
            "Copying gs://qatar_competition/fakeNewsDataset/legit-training/polit31.legit.txt...\n",
            "Copying gs://qatar_competition/fakeNewsDataset/legit-training/polit32.legit.txt...\n",
            "Copying gs://qatar_competition/fakeNewsDataset/legit-training/polit33.legit.txt...\n",
            "Copying gs://qatar_competition/fakeNewsDataset/legit-training/polit34.legit.txt...\n",
            "Copying gs://qatar_competition/fakeNewsDataset/legit-training/polit35.legit.txt...\n",
            "Copying gs://qatar_competition/fakeNewsDataset/legit-training/polit36.legit.txt...\n",
            "Copying gs://qatar_competition/fakeNewsDataset/legit-training/polit37.legit.txt...\n",
            "Copying gs://qatar_competition/fakeNewsDataset/legit-training/polit38.legit.txt...\n",
            "Copying gs://qatar_competition/fakeNewsDataset/legit-training/polit39.legit.txt...\n",
            "Copying gs://qatar_competition/fakeNewsDataset/legit-training/polit40.legit.txt...\n",
            "Copying gs://qatar_competition/fakeNewsDataset/legit-training/sports09.legit.txt...\n",
            "Copying gs://qatar_competition/fakeNewsDataset/legit-training/sports10.legit.txt...\n",
            "Copying gs://qatar_competition/fakeNewsDataset/legit-training/sports11.legit.txt...\n",
            "Copying gs://qatar_competition/fakeNewsDataset/legit-training/sports12.legit.txt...\n",
            "Copying gs://qatar_competition/fakeNewsDataset/legit-training/sports14.legit.txt...\n",
            "Copying gs://qatar_competition/fakeNewsDataset/legit-training/sports13.legit.txt...\n",
            "Copying gs://qatar_competition/fakeNewsDataset/legit-training/sports15.legit.txt...\n",
            "Copying gs://qatar_competition/fakeNewsDataset/legit-training/sports16.legit.txt...\n",
            "Copying gs://qatar_competition/fakeNewsDataset/legit-training/sports17.legit.txt...\n",
            "Copying gs://qatar_competition/fakeNewsDataset/legit-training/sports18.legit.txt...\n",
            "Copying gs://qatar_competition/fakeNewsDataset/legit-training/sports19.legit.txt...\n",
            "Copying gs://qatar_competition/fakeNewsDataset/legit-training/sports20.legit.txt...\n",
            "Copying gs://qatar_competition/fakeNewsDataset/legit-training/sports21.legit.txt...\n",
            "Copying gs://qatar_competition/fakeNewsDataset/legit-training/sports22.legit.txt...\n",
            "Copying gs://qatar_competition/fakeNewsDataset/legit-training/sports23.legit.txt...\n",
            "Copying gs://qatar_competition/fakeNewsDataset/legit-training/sports24.legit.txt...\n",
            "Copying gs://qatar_competition/fakeNewsDataset/legit-training/sports25.legit.txt...\n",
            "Copying gs://qatar_competition/fakeNewsDataset/legit-training/sports26.legit.txt...\n",
            "Copying gs://qatar_competition/fakeNewsDataset/legit-training/sports27.legit.txt...\n",
            "Copying gs://qatar_competition/fakeNewsDataset/legit-training/sports28.legit.txt...\n",
            "Copying gs://qatar_competition/fakeNewsDataset/legit-training/sports29.legit.txt...\n",
            "Copying gs://qatar_competition/fakeNewsDataset/legit-training/sports30.legit.txt...\n",
            "Copying gs://qatar_competition/fakeNewsDataset/legit-training/sports31.legit.txt...\n",
            "Copying gs://qatar_competition/fakeNewsDataset/legit-training/sports32.legit.txt...\n",
            "Copying gs://qatar_competition/fakeNewsDataset/legit-training/sports33.legit.txt...\n",
            "Copying gs://qatar_competition/fakeNewsDataset/legit-training/sports34.legit.txt...\n",
            "Copying gs://qatar_competition/fakeNewsDataset/legit-training/sports35.legit.txt...\n",
            "Copying gs://qatar_competition/fakeNewsDataset/legit-training/sports36.legit.txt...\n",
            "Copying gs://qatar_competition/fakeNewsDataset/legit-training/sports37.legit.txt...\n",
            "Copying gs://qatar_competition/fakeNewsDataset/legit-training/sports38.legit.txt...\n",
            "Copying gs://qatar_competition/fakeNewsDataset/legit-training/sports39.legit.txt...\n",
            "Copying gs://qatar_competition/fakeNewsDataset/legit-training/sports40.legit.txt...\n",
            "Copying gs://qatar_competition/fakeNewsDataset/legit-training/tech009.legit.txt...\n",
            "Copying gs://qatar_competition/fakeNewsDataset/legit-training/tech010.legit.txt...\n",
            "Copying gs://qatar_competition/fakeNewsDataset/legit-training/tech011.legit.txt...\n",
            "Copying gs://qatar_competition/fakeNewsDataset/legit-training/tech012.legit.txt...\n",
            "Copying gs://qatar_competition/fakeNewsDataset/legit-training/tech013.legit.txt...\n",
            "Copying gs://qatar_competition/fakeNewsDataset/legit-training/tech014.legit.txt...\n",
            "Copying gs://qatar_competition/fakeNewsDataset/legit-training/tech015.legit.txt...\n",
            "Copying gs://qatar_competition/fakeNewsDataset/legit-training/tech016.legit.txt...\n",
            "Copying gs://qatar_competition/fakeNewsDataset/legit-training/tech017.legit.txt...\n",
            "Copying gs://qatar_competition/fakeNewsDataset/legit-training/tech018.legit.txt...\n",
            "Copying gs://qatar_competition/fakeNewsDataset/legit-training/tech019.legit.txt...\n",
            "Copying gs://qatar_competition/fakeNewsDataset/legit-training/tech020.legit.txt...\n",
            "Copying gs://qatar_competition/fakeNewsDataset/legit-training/tech021.legit.txt...\n",
            "Copying gs://qatar_competition/fakeNewsDataset/legit-training/tech022.legit.txt...\n",
            "Copying gs://qatar_competition/fakeNewsDataset/legit-training/tech023.legit.txt...\n",
            "Copying gs://qatar_competition/fakeNewsDataset/legit-training/tech024.legit.txt...\n",
            "Copying gs://qatar_competition/fakeNewsDataset/legit-training/tech025.legit.txt...\n",
            "Copying gs://qatar_competition/fakeNewsDataset/legit-training/tech026.legit.txt...\n",
            "Copying gs://qatar_competition/fakeNewsDataset/legit-training/tech027.legit.txt...\n",
            "Copying gs://qatar_competition/fakeNewsDataset/legit-training/tech028.legit.txt...\n",
            "Copying gs://qatar_competition/fakeNewsDataset/legit-training/tech029.legit.txt...\n",
            "Copying gs://qatar_competition/fakeNewsDataset/legit-training/tech030.legit.txt...\n",
            "Copying gs://qatar_competition/fakeNewsDataset/legit-training/tech031.legit.txt...\n",
            "Copying gs://qatar_competition/fakeNewsDataset/legit-training/tech032.legit.txt...\n",
            "Copying gs://qatar_competition/fakeNewsDataset/legit-training/tech033.legit.txt...\n",
            "Copying gs://qatar_competition/fakeNewsDataset/legit-training/tech034.legit.txt...\n",
            "Copying gs://qatar_competition/fakeNewsDataset/legit-training/tech035.legit.txt...\n",
            "Copying gs://qatar_competition/fakeNewsDataset/legit-training/tech036.legit.txt...\n",
            "Copying gs://qatar_competition/fakeNewsDataset/legit-training/tech037.legit.txt...\n",
            "Copying gs://qatar_competition/fakeNewsDataset/legit-training/tech038.legit.txt...\n",
            "Copying gs://qatar_competition/fakeNewsDataset/legit-training/tech040.legit.txt...\n",
            "Copying gs://qatar_competition/fakeNewsDataset/legit-training/tech039.legit.txt...\n",
            "/ [481/481 files][349.4 KiB/349.4 KiB] 100% Done  35.4 KiB/s ETA 00:00:00       \n",
            "Operation completed over 481 objects/349.4 KiB.                                  \n"
          ],
          "name": "stdout"
        }
      ]
    },
    {
      "cell_type": "code",
      "metadata": {
        "id": "m9-IdOCPYY2N",
        "colab_type": "code",
        "colab": {}
      },
      "source": [
        "import os\n",
        "import pandas as pd\n",
        "import re\n",
        "import numpy as np"
      ],
      "execution_count": 0,
      "outputs": []
    },
    {
      "cell_type": "code",
      "metadata": {
        "id": "z-GnA-DJaDhd",
        "colab_type": "code",
        "outputId": "8bf625cf-7e99-4f36-9121-35d2dbe808d6",
        "colab": {
          "base_uri": "https://localhost:8080/",
          "height": 101
        }
      },
      "source": [
        "fake_test = os.listdir(\"./fakeNewsDataset/fake-test\")\n",
        "fake_training = os.listdir(\"./fakeNewsDataset/fake-training\")\n",
        "legit_test = os.listdir(\"./fakeNewsDataset/legit-test\")\n",
        "legit_training = os.listdir(\"./fakeNewsDataset/legit-training\")\n",
        "eval_=os.listdir(\"./fakeNewsDataset/fake-news-real-news-eval/\")\n",
        "\n",
        "print(\"Fake Test: \"+str(len(fake_test)))\n",
        "print(\"Fake Training: \"+str(len(fake_training)))\n",
        "print(\"Legit Test: \"+str(len(legit_test)))\n",
        "print(\"Legit Training: \"+str(len(legit_training)))\n",
        "print(\"Validation: \"+str(len(eval_)))"
      ],
      "execution_count": 0,
      "outputs": [
        {
          "output_type": "stream",
          "text": [
            "Fake Test: 24\n",
            "Fake Training: 192\n",
            "Legit Test: 24\n",
            "Legit Training: 192\n",
            "Validation: 49\n"
          ],
          "name": "stdout"
        }
      ]
    },
    {
      "cell_type": "code",
      "metadata": {
        "id": "evMwFEHOaP9M",
        "colab_type": "code",
        "outputId": "e6c26c9d-ce44-40a8-9ad8-840d22ece7ed",
        "colab": {
          "base_uri": "https://localhost:8080/",
          "height": 34
        }
      },
      "source": [
        "fake_test[0]"
      ],
      "execution_count": 0,
      "outputs": [
        {
          "output_type": "execute_result",
          "data": {
            "text/plain": [
              "'entmt05.fake.txt'"
            ]
          },
          "metadata": {
            "tags": []
          },
          "execution_count": 6
        }
      ]
    },
    {
      "cell_type": "code",
      "metadata": {
        "id": "wvZ_oPTuaT25",
        "colab_type": "code",
        "outputId": "7e992e2a-ec31-442f-e0aa-e7282440d42e",
        "colab": {
          "base_uri": "https://localhost:8080/",
          "height": 840
        }
      },
      "source": [
        "df_fake_test = pd.DataFrame([],columns=[\"text\",\"domain\",\"label\"])\n",
        "topic_list = []\n",
        "for file in fake_test:\n",
        "  text = open(\"./fakeNewsDataset/fake-test/\"+file, 'r').read()\n",
        "  topic = re.findall(r\"[a-zA-Z]+\",file)[0]\n",
        "  topic_list.append(topic)\n",
        "  label = \"fake\"\n",
        "  df_fake_test = df_fake_test.append({\"text\":text,\"domain\":topic,\"label\":label},ignore_index=True)\n",
        "\n",
        "df_fake_training = pd.DataFrame([],columns=[\"text\",\"domain\",\"label\"])\n",
        "topic_list2 = []\n",
        "for file in fake_training:\n",
        "  text = open(\"./fakeNewsDataset/fake-training/\"+file, 'r').read()\n",
        "  topic = re.findall(r\"[a-zA-Z]+\",file)[0]\n",
        "  topic_list2.append(topic)\n",
        "  label = \"fake\"\n",
        "  df_fake_training = df_fake_training.append({\"text\":text,\"domain\":topic,\"label\":label},ignore_index=True)\n",
        "\n",
        "df_legit_test = pd.DataFrame([],columns=[\"text\",\"domain\",\"label\"])\n",
        "topic_list3 = []\n",
        "for file in legit_test:\n",
        "  text = open(\"./fakeNewsDataset/legit-test/\"+file, 'r').read()\n",
        "  topic = re.findall(r\"[a-zA-Z]+\",file)[0]\n",
        "  topic_list3.append(topic)\n",
        "  label = \"legit\"\n",
        "  df_legit_test = df_legit_test.append({\"text\":text,\"domain\":topic,\"label\":label},ignore_index=True)\n",
        "  \n",
        "df_legit_training = pd.DataFrame([],columns=[\"text\",\"domain\",\"label\"])\n",
        "topic_list4 = []\n",
        "for file in legit_training:\n",
        "  text = open(\"./fakeNewsDataset/legit-training/\"+file, 'r').read()\n",
        "  topic = re.findall(r\"[a-zA-Z]+\",file)[0]\n",
        "  topic_list4.append(topic)\n",
        "  label = \"legit\"\n",
        "  df_legit_training = df_legit_training.append({\"text\":text,\"domain\":topic,\"label\":label},ignore_index=True)\n",
        "\n",
        "df_eval = pd.DataFrame([],columns=[\"text\",\"domain\",\"label\"])\n",
        "topic_list5 = []\n",
        "for file in eval_:\n",
        "  print(file)\n",
        "  text = open(\"./fakeNewsDataset/fake-news-real-news-eval/\"+file, 'r',errors='ignore').read()\n",
        "  topic = \"\"\n",
        "  topic_list5.append(\"\")\n",
        "  label = \"\"\n",
        "  df_eval = df_eval.append({\"text\":text,\"domain\":topic,\"label\":label},ignore_index=True)"
      ],
      "execution_count": 0,
      "outputs": [
        {
          "output_type": "stream",
          "text": [
            "asd03.blind.txt\n",
            "asd01.blind.txt\n",
            "qwe02.blind.txt\n",
            "poi03.blind.txt\n",
            "bsb04.blind.txt\n",
            "jhg01.blind.txt\n",
            "fgh03.blind.txt\n",
            "gfd04.blind.txt\n",
            "lkj01.blind.txt\n",
            "ytr01.blind.txt\n",
            "poi04.blind.txt\n",
            "lkj03.blind.txt\n",
            "mnb02.blind.txt\n",
            "gfd01.blind.txt\n",
            "asd04.blind.txt\n",
            "jkl03.blind.txt\n",
            "gfd02.blind.txt\n",
            "fgh02.blind.txt\n",
            "mnb03.blind.txt\n",
            "bsb03.blind.txt\n",
            "qwe03.blind.txt\n",
            "lkj04.blind.txt\n",
            "poi01.blind.txt\n",
            "fgh04.blind.txt\n",
            "rty04.blind.txt\n",
            "zxc03.blind.txt\n",
            "mnb04.blind.txt\n",
            "zxc01.blind.txt\n",
            "jhg03.blind.txt\n",
            "jkl01.blind.txt\n",
            "mnb01.blind.txt\n",
            "qwe01.blind.txt\n",
            "gfd03.blind.txt\n",
            "bsb02.blind.txt\n",
            "rty02.blind.txt\n",
            "bsb01.blind.txt\n",
            "asd02.blind.txt\n",
            "jhg02.blind.txt\n",
            "rty03.blind.txt\n",
            "jhg04.blind.txt\n",
            "zxc02.blind.txt\n",
            "lkj02.blind.txt\n",
            "ytr04.blind.txt\n",
            "jkl02.blind.txt\n",
            "poi02.blind.txt\n",
            "ytr02.blind.txt\n",
            "jkl04.blind.txt\n",
            "fgh01.blind.txt\n",
            "qwe04.blind.txt\n"
          ],
          "name": "stdout"
        }
      ]
    },
    {
      "cell_type": "code",
      "metadata": {
        "id": "opXzm2tB7jX2",
        "colab_type": "code",
        "outputId": "123a8e4a-c4d5-4058-bb81-384230da40d6",
        "colab": {
          "base_uri": "https://localhost:8080/",
          "height": 54
        }
      },
      "source": [
        "print(topic_list4)"
      ],
      "execution_count": 0,
      "outputs": [
        {
          "output_type": "stream",
          "text": [
            "['polit', 'tech', 'tech', 'biz', 'entmt', 'sports', 'edu', 'polit', 'edu', 'edu', 'biz', 'biz', 'entmt', 'edu', 'entmt', 'tech', 'sports', 'edu', 'sports', 'polit', 'biz', 'entmt', 'sports', 'edu', 'biz', 'biz', 'polit', 'edu', 'entmt', 'tech', 'sports', 'entmt', 'tech', 'sports', 'edu', 'tech', 'tech', 'polit', 'biz', 'entmt', 'entmt', 'tech', 'biz', 'edu', 'biz', 'sports', 'polit', 'sports', 'sports', 'entmt', 'tech', 'biz', 'edu', 'biz', 'sports', 'polit', 'tech', 'edu', 'sports', 'tech', 'sports', 'edu', 'biz', 'tech', 'sports', 'polit', 'polit', 'entmt', 'polit', 'sports', 'edu', 'entmt', 'edu', 'biz', 'biz', 'sports', 'tech', 'tech', 'polit', 'polit', 'tech', 'sports', 'tech', 'polit', 'biz', 'tech', 'biz', 'biz', 'edu', 'tech', 'edu', 'sports', 'sports', 'edu', 'edu', 'polit', 'entmt', 'tech', 'entmt', 'biz', 'tech', 'biz', 'biz', 'polit', 'entmt', 'edu', 'biz', 'entmt', 'entmt', 'entmt', 'sports', 'edu', 'polit', 'biz', 'sports', 'edu', 'polit', 'tech', 'tech', 'tech', 'tech', 'entmt', 'biz', 'edu', 'entmt', 'edu', 'edu', 'biz', 'edu', 'biz', 'sports', 'polit', 'sports', 'biz', 'edu', 'polit', 'edu', 'polit', 'entmt', 'entmt', 'tech', 'entmt', 'tech', 'sports', 'polit', 'polit', 'biz', 'polit', 'polit', 'biz', 'entmt', 'edu', 'edu', 'tech', 'sports', 'tech', 'entmt', 'sports', 'polit', 'sports', 'biz', 'sports', 'entmt', 'polit', 'sports', 'edu', 'entmt', 'polit', 'sports', 'entmt', 'entmt', 'tech', 'polit', 'edu', 'biz', 'entmt', 'polit', 'tech', 'polit', 'entmt', 'tech', 'sports', 'entmt', 'entmt', 'biz', 'polit', 'polit', 'edu', 'sports', 'sports', 'biz', 'tech']\n"
          ],
          "name": "stdout"
        }
      ]
    },
    {
      "cell_type": "code",
      "metadata": {
        "id": "bG767v_3lwga",
        "colab_type": "code",
        "outputId": "f38d8f65-851c-47b6-a28e-a4b463e64785",
        "colab": {
          "base_uri": "https://localhost:8080/",
          "height": 84
        }
      },
      "source": [
        "topic_list = list(set(topic_list))\n",
        "topic_list2 = list(set(topic_list2))\n",
        "topic_list3 = list(set(topic_list3))\n",
        "topic_list4 = list(set(topic_list4))\n",
        "print(topic_list)\n",
        "print(topic_list2)\n",
        "print(topic_list3)\n",
        "print(topic_list4)"
      ],
      "execution_count": 0,
      "outputs": [
        {
          "output_type": "stream",
          "text": [
            "['biz', 'polit', 'tech', 'entmt', 'edu', 'sports']\n",
            "['biz', 'polit', 'tech', 'entmt', 'edu', 'sports']\n",
            "['biz', 'polit', 'tech', 'entmt', 'edu', 'sports']\n",
            "['biz', 'polit', 'tech', 'entmt', 'edu', 'sports']\n"
          ],
          "name": "stdout"
        }
      ]
    },
    {
      "cell_type": "code",
      "metadata": {
        "id": "Czf6T_oFl1kD",
        "colab_type": "code",
        "outputId": "98b467b1-4f4a-452f-e008-0757904bb668",
        "colab": {
          "base_uri": "https://localhost:8080/",
          "height": 521
        }
      },
      "source": [
        "print(df_fake_test.head())\n",
        "print(df_fake_training.head())\n",
        "print(df_legit_test.head())\n",
        "print(df_legit_training.head())\n",
        "print(df_eval.head())"
      ],
      "execution_count": 0,
      "outputs": [
        {
          "output_type": "stream",
          "text": [
            "                                                text domain label\n",
            "0  A Tumultuous Wardrobe Malfunction\\n\\nEducation...    edu  fake\n",
            "1  Super Mario Run to leave app store\\n\\nThe once...   tech  fake\n",
            "2  A surprise new iPhone is here -- and it's red\\...   tech  fake\n",
            "3  Shailene Woodley to lead hunger strike in jail...  entmt  fake\n",
            "4  Supreme Court Forces Schools Into Socialism\\n\\...    edu  fake\n",
            "                                                text domain label\n",
            "0  US says no to UN nuke ban\\n\\n\\n\\nA boycott of ...  polit  fake\n",
            "1  Hillary Clinton: Keynote Speaker at Wellesley ...    edu  fake\n",
            "2  Schwarzenegger swings at Trump solar plexus\\n\\...  polit  fake\n",
            "3  Alec Baldwin Quits Playing President Trump aft...  entmt  fake\n",
            "4  Federal Judge Sends Trump To The Corner\\n\\n\\n\\...  polit  fake\n",
            "                                                text domain  label\n",
            "0  A surprise new iPhone is here -- and it's red\\...   tech  legit\n",
            "1   Snapchat 'will be bigger than Twitter\\n\\nYaho...    biz  legit\n",
            "2  Brexit talks will fail without compromise: Jos...    biz  legit\n",
            "3  Are Autonomous Cars Ready to Go It Alone?\\n\\nT...   tech  legit\n",
            "4  Survey Finds College Applications from Interna...    edu  legit\n",
            "                                                text domain  label\n",
            "0  US leads boycott of UN talks to ban nuclear we...  polit  legit\n",
            "1  Fossil has a ton of new smartwatches coming ou...   tech  legit\n",
            "2  Facebook Messenger gets Reactions and Mentions...   tech  legit\n",
            "3   Hedge fund exec whose former firm was linked ...    biz  legit\n",
            "4   NYC apartment featuring David Bowie's piano o...  entmt  legit\n",
            "                                                text domain label\n",
            "0  Betsy DeVos's Education Hearing Brings Creatio...             \n",
            "1  Male teachers preparing to cover down on 'Day ...             \n",
            "2  THE BIG DATA CONSPIRACY\\n\\nGovernment and Sili...             \n",
            "3  California Upholds Auto Emissions Standards\\n\\...             \n",
            "4  An activist involved in anti-government protes...             \n"
          ],
          "name": "stdout"
        }
      ]
    },
    {
      "cell_type": "code",
      "metadata": {
        "id": "LQ2cSkVmpFXc",
        "colab_type": "code",
        "colab": {}
      },
      "source": [
        "df_training = df_fake_training.append(df_legit_training,ignore_index=True)\n",
        "df_test = df_fake_test.append(df_legit_test,ignore_index=True)"
      ],
      "execution_count": 0,
      "outputs": []
    },
    {
      "cell_type": "code",
      "metadata": {
        "id": "KrI--n57ui5F",
        "colab_type": "code",
        "outputId": "e335a664-f5c6-4ae1-d6b7-aeba5c32de8f",
        "colab": {
          "base_uri": "https://localhost:8080/",
          "height": 134
        }
      },
      "source": [
        "print(df_training.shape)\n",
        "print(df_training.head())"
      ],
      "execution_count": 0,
      "outputs": [
        {
          "output_type": "stream",
          "text": [
            "(384, 3)\n",
            "                                                text domain label\n",
            "0  US says no to UN nuke ban\\n\\n\\n\\nA boycott of ...  polit  fake\n",
            "1  Hillary Clinton: Keynote Speaker at Wellesley ...    edu  fake\n",
            "2  Schwarzenegger swings at Trump solar plexus\\n\\...  polit  fake\n",
            "3  Alec Baldwin Quits Playing President Trump aft...  entmt  fake\n",
            "4  Federal Judge Sends Trump To The Corner\\n\\n\\n\\...  polit  fake\n"
          ],
          "name": "stdout"
        }
      ]
    },
    {
      "cell_type": "code",
      "metadata": {
        "id": "mbRHQ7s-xF_D",
        "colab_type": "code",
        "colab": {}
      },
      "source": [
        "def shuffle(df, n=1, axis=1):     \n",
        "  df = df.copy()\n",
        "  for _ in range(n):\n",
        "    df.apply(np.random.shuffle, axis=axis)\n",
        "  return df"
      ],
      "execution_count": 0,
      "outputs": []
    },
    {
      "cell_type": "code",
      "metadata": {
        "id": "e2cCOwWWunJV",
        "colab_type": "code",
        "colab": {}
      },
      "source": [
        "for i in range(0,1000):\n",
        "  df_training = df_training.sample(frac=1,random_state=42).reset_index(drop=True)#shuffling rows\n",
        "  df_test = df_test.sample(frac=1,random_state=42).reset_index(drop=True)#shuffling rows"
      ],
      "execution_count": 0,
      "outputs": []
    },
    {
      "cell_type": "code",
      "metadata": {
        "id": "S5V_EkH8vSMs",
        "colab_type": "code",
        "outputId": "6b5a77c1-ff35-47fa-ea42-2ffe9477529e",
        "colab": {
          "base_uri": "https://localhost:8080/",
          "height": 252
        }
      },
      "source": [
        "print(df_training.shape)\n",
        "print(df_training.head())\n",
        "\n",
        "print(df_test.shape)\n",
        "print(df_test.head())"
      ],
      "execution_count": 0,
      "outputs": [
        {
          "output_type": "stream",
          "text": [
            "(384, 3)\n",
            "                                                text  domain  label\n",
            "0  School Starts Too Late In The Morning, State L...     edu   fake\n",
            "1  Brazil qualify for 2018 World Cup after Coutin...  sports  legit\n",
            "2  House sends bill rolling back Internet porn pr...     biz   fake\n",
            "3  KENTUCKY's JOHN CALIPARI HOLDS BACK TEAM IN FA...  sports   fake\n",
            "4  White House battles Clintons in Communist ties...   polit   fake\n",
            "(48, 3)\n",
            "                                                text  domain  label\n",
            "0  A surprise new iPhone is here -- and it's red\\...    tech  legit\n",
            "1  Survey Finds College Applications from Interna...     edu  legit\n",
            "2  Sarah Wiltshire and Asha Francis on juggling m...  sports  legit\n",
            "3   Millions of UK workers at risk of being repla...     biz  legit\n",
            "4  BrewDog under fire for accusations of canine i...     biz   fake\n"
          ],
          "name": "stdout"
        }
      ]
    },
    {
      "cell_type": "code",
      "metadata": {
        "id": "cpMO5DT3vSnh",
        "colab_type": "code",
        "colab": {}
      },
      "source": [
        "!mkdir data\n",
        "df_training.to_csv(\"data/all_training.csv\",index=False,columns=df_training.columns)\n",
        "df_test.to_csv(\"data/all_test.csv\",index=False,columns=df_training.columns)\n",
        "\n",
        "df_training.to_csv(\"data/all_training.tsv\",index=False,columns=df_training.columns,sep='\\t',header=False)\n",
        "df_test.to_csv(\"data/all_test.tsv\",index=False,columns=df_training.columns,sep='\\t',header=False)\n",
        "\n",
        "df_fake_test.to_csv(\"data/fake_test.csv\")\n",
        "df_fake_training.to_csv(\"data/fake_training.csv\")\n",
        "df_legit_test.to_csv(\"data/legit_test.csv\")\n",
        "df_legit_training.to_csv(\"data/legit_training.csv\")"
      ],
      "execution_count": 0,
      "outputs": []
    },
    {
      "cell_type": "code",
      "metadata": {
        "id": "n88010ZJ1MQP",
        "colab_type": "code",
        "colab": {}
      },
      "source": [
        "df_training_clean = df_training.replace(r'\\\\n',' ', regex=True)\n",
        "df_test_clean = df_test.replace(r'\\\\n',' ', regex=True)\n",
        "df_eval_clean = df_eval.replace(r'\\\\n',' ', regex=True)"
      ],
      "execution_count": 0,
      "outputs": []
    },
    {
      "cell_type": "code",
      "metadata": {
        "id": "EoJlHGJ72uQf",
        "colab_type": "code",
        "colab": {}
      },
      "source": [
        "df_training_clean.to_csv(\"data/all_training_clean.csv\",index=False,columns=df_training.columns)\n",
        "df_test_clean.to_csv(\"data/all_test_clean.csv\",index=False,columns=df_training.columns)\n",
        "df_eval_clean.to_csv(\"data/eval_clean.csv\",index=False,columns=df_training.columns)"
      ],
      "execution_count": 0,
      "outputs": []
    },
    {
      "cell_type": "code",
      "metadata": {
        "id": "wKAsp5UqD07X",
        "colab_type": "code",
        "outputId": "e857a4c4-4e2f-47ab-db20-a9856d6c155e",
        "colab": {
          "base_uri": "https://localhost:8080/",
          "height": 34
        }
      },
      "source": [
        "df_training_clean[\"domain\"] = df_training_clean[\"domain\"].astype('category')\n",
        "dict( enumerate(df_training_clean['domain'].cat.categories ) )"
      ],
      "execution_count": 0,
      "outputs": [
        {
          "output_type": "execute_result",
          "data": {
            "text/plain": [
              "{0: 0, 1: 1, 2: 2, 3: 3, 4: 4, 5: 5}"
            ]
          },
          "metadata": {
            "tags": []
          },
          "execution_count": 92
        }
      ]
    },
    {
      "cell_type": "code",
      "metadata": {
        "id": "wMKEAuFeE39O",
        "colab_type": "code",
        "outputId": "f2ad97df-d25d-45da-9408-ed1c0fc2105b",
        "colab": {
          "base_uri": "https://localhost:8080/",
          "height": 34
        }
      },
      "source": [
        "df_test_clean[\"domain\"] = df_test_clean[\"domain\"].astype('category')\n",
        "dict( enumerate(df_test_clean['domain'].cat.categories ) )"
      ],
      "execution_count": 0,
      "outputs": [
        {
          "output_type": "execute_result",
          "data": {
            "text/plain": [
              "{0: 'biz', 1: 'edu', 2: 'entmt', 3: 'polit', 4: 'sports', 5: 'tech'}"
            ]
          },
          "metadata": {
            "tags": []
          },
          "execution_count": 45
        }
      ]
    },
    {
      "cell_type": "code",
      "metadata": {
        "id": "PiwPwAH0_5Xd",
        "colab_type": "code",
        "outputId": "8ad98936-1d23-4569-d8a5-21f2c8660955",
        "colab": {
          "base_uri": "https://localhost:8080/",
          "height": 218
        }
      },
      "source": [
        "df_training_clean[\"domain\"] = df_training_clean[\"domain\"].astype('category')\n",
        "df_training_clean[\"label\"] = df_training_clean[\"label\"].astype('category')\n",
        "df_training_clean[\"domain\"] = df_training_clean[\"domain\"].cat.codes\n",
        "df_training_clean[\"label\"] = df_training_clean[\"label\"].cat.codes\n",
        "\n",
        "\n",
        "df_test_clean[\"domain\"] = df_test_clean[\"domain\"].astype('category')\n",
        "df_test_clean[\"label\"] = df_test_clean[\"label\"].astype('category')\n",
        "df_test_clean[\"domain\"] = df_test_clean[\"domain\"].cat.codes\n",
        "df_test_clean[\"label\"] = df_test_clean[\"label\"].cat.codes\n",
        "\n",
        "print(df_training_clean.head())\n",
        "print(df_test_clean.head())"
      ],
      "execution_count": 0,
      "outputs": [
        {
          "output_type": "stream",
          "text": [
            "                                                text  domain  label\n",
            "0  School Starts Too Late In The Morning, State L...       1      0\n",
            "1  Brazil qualify for 2018 World Cup after Coutin...       4      1\n",
            "2  House sends bill rolling back Internet porn pr...       0      0\n",
            "3  KENTUCKY's JOHN CALIPARI HOLDS BACK TEAM IN FA...       4      0\n",
            "4  White House battles Clintons in Communist ties...       3      0\n",
            "                                                text  domain  label\n",
            "0  A surprise new iPhone is here -- and it's red\\...       5      1\n",
            "1  Survey Finds College Applications from Interna...       1      1\n",
            "2  Sarah Wiltshire and Asha Francis on juggling m...       4      1\n",
            "3   Millions of UK workers at risk of being repla...       0      1\n",
            "4  BrewDog under fire for accusations of canine i...       0      0\n"
          ],
          "name": "stdout"
        }
      ]
    },
    {
      "cell_type": "code",
      "metadata": {
        "id": "-wnQnj6i94-R",
        "colab_type": "code",
        "colab": {}
      },
      "source": [
        "df_all_data2 = df_training_clean.append(df_test_clean,ignore_index=True)"
      ],
      "execution_count": 0,
      "outputs": []
    },
    {
      "cell_type": "code",
      "metadata": {
        "id": "wDmjZaXWDYgi",
        "colab_type": "code",
        "outputId": "e5743c84-afcc-46f2-c44a-4acdd8165cee",
        "colab": {
          "base_uri": "https://localhost:8080/",
          "height": 255
        }
      },
      "source": [
        "df_all_data2.values"
      ],
      "execution_count": 0,
      "outputs": [
        {
          "output_type": "execute_result",
          "data": {
            "text/plain": [
              "array([['School Starts Too Late In The Morning, State Lawmaker Says\\n\\n\\n\\nIf Senator Anthony Portantino gets his way, California will be the first state in the nation to ensure that children can go to school sacrificing a good night\\'s sleep. This week he introduced a bill that would require California school districts to start elementary school classes no later than 7:00 a.m. \"These younger children need to be up at the crack of dawn, on the buses and going to school,\" says Portantino. \"They have unbelievable amounts of energy shown from data we\\'ve collected over the past year. Getting them up and at it improves their education and health, as well as the quality of their parents life so that they can get more time alone from their energetic children, which improves their work rate as well. Its a win for everyone\"',\n",
              "        1, 0],\n",
              "       [\"Brazil qualify for 2018 World Cup after Coutinho and Neymar down Paraguay\\n\\nBrazil have become the first team to qualify for the 2018 World Cup  maintaining their proud record as the tournament's only ever-present side with a little help from Lionel Messi's foul mouth and lightly regarded Peru. The five-times champions beat Paraguay 3-0 on Tuesday for their eighth successive win in the South American qualifying competition. That in itself was not enough to confirm their participation in Russia but Peru's surprise 2-1 win over Uruguay in a later game guaranteed Brazil a top-four finish.\",\n",
              "        4, 1],\n",
              "       [\"House sends bill rolling back Internet porn protections to Trump\\n\\nLegislation enacted just last year to protect Internet porn will be rolled back if President Trump approves a bill sent to him by Congress on Tuesday. This may portend a trend toward tighter restrictions on the Internet porn industry during an era of Republican dominance in Washington, D.C. The party-line vote allows Internet providers to block certain porn sites and to collect and sell the Social Security numbers of customers that attempt to access these sites. Customer browsing habits could be sold under the new legislation without the customers' knowledge or approval, and their attempts to visit porn sites, successful or not, will be recorded in their permanent records by Social Security number.\",\n",
              "        0, 0],\n",
              "       ...,\n",
              "       [\"Planet Earth canceled after Bafta scandal\\n\\nDespite its early success, the BBC One nature documentary Planet Earth II, expected to be nominated for several Craft Awards, has left the network after an undisclosed conflict with BBC. An unnamed source at BBC confirmed that Planet Earth's executive producer made racist remarks in a private meeting, resulting in the withdrawal of all nine of their nominations. Planet Earth's executive producer has declined to comment and has since deleted his Twitter account. Current front runners in the Craft Awards include Netflix's The Crown and BBC's The Night Manager.\",\n",
              "        2, 0],\n",
              "       ['Stan Wawrinka proves victorious of Roger Federer\\n\\nStan Wawrinka wows the crowd and beats five-time British Open champion Roger Federer. After nursing a torn ACL and concurrent last-place finishes in all matches this year, Wawrinka makes a comeback in the British Open. Wawrinka\\'s history making comeback makes him only the second male player since 1942 to win the Open after a losing season. \"I just want to thank my family and friends,\" said Wawrinka. \"A month ago, I couldn\\'t even walk. They had to do everything for me - even help me to the john!\" he added. Meanwhile, Svetlana Kuznetsova beats Elena Vesnina, in spite of her own set of injuries last fall.',\n",
              "        4, 0],\n",
              "       ['First lady Melania Trump touts equality at International Women\\'s Day luncheon\\n\\n\\nWashington (CNN) First lady Melania Trump spoke about equality, freedom and the responsibility women have to help each other achieve success at an invitation-only luncheon honoring International Women\\'s Day Wednesday at the White House.\\n\\n\"As an immigrant myself, having grown up in a communist society, I know all too well the value and importance of freedom and equal opportunity -- ideals which this great nation was founded and has continued to strive towards throughout its history,\" Trump said according to her prepared remarks obtained by CNN from Stephanie Winston Wolkoff, senior adviser and chief strategist to the first lady.',\n",
              "        3, 1]], dtype=object)"
            ]
          },
          "metadata": {
            "tags": []
          },
          "execution_count": 65
        }
      ]
    },
    {
      "cell_type": "code",
      "metadata": {
        "id": "sDTc-_TJ-A5L",
        "colab_type": "code",
        "outputId": "669eafec-e4f1-4c11-9985-757cfbe8d8b4",
        "colab": {
          "base_uri": "https://localhost:8080/",
          "height": 235
        }
      },
      "source": [
        "train_df = pd.DataFrame({\n",
        "    'id':range(len(df_training_clean)),\n",
        "    'label':df_training_clean[\"domain\"],\n",
        "    'alpha':['a']*df_training_clean.shape[0],\n",
        "    'text': df_training_clean[\"text\"].replace(r'\\n', ' ', regex=True)\n",
        "})\n",
        "\n",
        "print(train_df.head())\n",
        "\n",
        "dev_df = pd.DataFrame({\n",
        "    'id':range(len(df_test_clean)),\n",
        "    'label':df_test_clean[\"domain\"],\n",
        "    'alpha':['a']*df_test_clean.shape[0],\n",
        "    'text': df_test_clean[\"text\"].replace(r'\\n', ' ', regex=True)\n",
        "})\n",
        "\n",
        "all_data_df = pd.DataFrame({\n",
        "    'id':range(len(df_all_data2)),\n",
        "    'label':df_all_data2[\"domain\"],\n",
        "    'alpha':['a']*df_all_data2.shape[0],\n",
        "    'text': df_all_data2[\"text\"].replace(r'\\n', ' ', regex=True)\n",
        "})\n",
        "print(all_data_df.head())\n",
        "print(all_data_df.shape)\n"
      ],
      "execution_count": 0,
      "outputs": [
        {
          "output_type": "stream",
          "text": [
            "   id  label alpha                                               text\n",
            "0   0      1     a  School Starts Too Late In The Morning, State L...\n",
            "1   1      4     a  Brazil qualify for 2018 World Cup after Coutin...\n",
            "2   2      0     a  House sends bill rolling back Internet porn pr...\n",
            "3   3      4     a  KENTUCKY's JOHN CALIPARI HOLDS BACK TEAM IN FA...\n",
            "4   4      3     a  White House battles Clintons in Communist ties...\n",
            "   id  label alpha                                               text\n",
            "0   0      1     a  School Starts Too Late In The Morning, State L...\n",
            "1   1      4     a  Brazil qualify for 2018 World Cup after Coutin...\n",
            "2   2      0     a  House sends bill rolling back Internet porn pr...\n",
            "3   3      4     a  KENTUCKY's JOHN CALIPARI HOLDS BACK TEAM IN FA...\n",
            "4   4      3     a  White House battles Clintons in Communist ties...\n",
            "(432, 4)\n"
          ],
          "name": "stdout"
        }
      ]
    },
    {
      "cell_type": "code",
      "metadata": {
        "id": "7aIzDHfkBEWT",
        "colab_type": "code",
        "colab": {}
      },
      "source": [
        "!mkdir ./data_topic_eval\n",
        "#train_df.to_csv(\"data_topic/train.tsv\",index=False,columns=train_df.columns,sep='\\t',header=False)\n",
        "#dev_df.to_csv(\"data_topic/dev.tsv\",index=False,columns=dev_df.columns,sep='\\t',header=False)\n",
        "all_data_df.to_csv(\"data_topic_eval/train.tsv\",index=False,columns=train_df.columns,sep='\\t',header=False)"
      ],
      "execution_count": 0,
      "outputs": []
    },
    {
      "cell_type": "code",
      "metadata": {
        "id": "L6QoXzpU4KNt",
        "colab_type": "code",
        "outputId": "e8e82221-84d6-495f-eb0b-c2e9f408654d",
        "colab": {
          "base_uri": "https://localhost:8080/",
          "height": 84
        }
      },
      "source": [
        "!gsutil -m cp -r data_fake_eval gs://qatar_competition/"
      ],
      "execution_count": 0,
      "outputs": [
        {
          "output_type": "stream",
          "text": [
            "Copying file://data_fake_eval/train.tsv [Content-Type=text/tab-separated-values]...\n",
            "Copying file://data_fake_eval/predict.tsv [Content-Type=text/tab-separated-values]...\n",
            "-\n",
            "Operation completed over 2 objects/355.0 KiB.                                    \n"
          ],
          "name": "stdout"
        }
      ]
    },
    {
      "cell_type": "code",
      "metadata": {
        "id": "U4jejCOu-303",
        "colab_type": "code",
        "colab": {}
      },
      "source": [
        "eval_df = pd.DataFrame({\n",
        "    'id':range(len(df_eval_clean)),\n",
        "    'label':df_eval_clean[\"domain\"],\n",
        "    'alpha':['a']*df_eval_clean.shape[0],\n",
        "    'text': df_eval_clean[\"text\"].replace(r'\\n', ' ', regex=True)\n",
        "})"
      ],
      "execution_count": 0,
      "outputs": []
    },
    {
      "cell_type": "code",
      "metadata": {
        "id": "5Trqh232CNu4",
        "colab_type": "code",
        "outputId": "dd2a5fa0-8d8a-48c4-ca12-149bc0c513fc",
        "colab": {
          "base_uri": "https://localhost:8080/",
          "height": 195
        }
      },
      "source": [
        "eval_df.head()"
      ],
      "execution_count": 0,
      "outputs": [
        {
          "output_type": "execute_result",
          "data": {
            "text/html": [
              "<div>\n",
              "<style scoped>\n",
              "    .dataframe tbody tr th:only-of-type {\n",
              "        vertical-align: middle;\n",
              "    }\n",
              "\n",
              "    .dataframe tbody tr th {\n",
              "        vertical-align: top;\n",
              "    }\n",
              "\n",
              "    .dataframe thead th {\n",
              "        text-align: right;\n",
              "    }\n",
              "</style>\n",
              "<table border=\"1\" class=\"dataframe\">\n",
              "  <thead>\n",
              "    <tr style=\"text-align: right;\">\n",
              "      <th></th>\n",
              "      <th>id</th>\n",
              "      <th>label</th>\n",
              "      <th>alpha</th>\n",
              "      <th>text</th>\n",
              "    </tr>\n",
              "  </thead>\n",
              "  <tbody>\n",
              "    <tr>\n",
              "      <th>0</th>\n",
              "      <td>0</td>\n",
              "      <td></td>\n",
              "      <td>a</td>\n",
              "      <td>Betsy DeVos's Education Hearing Brings Creatio...</td>\n",
              "    </tr>\n",
              "    <tr>\n",
              "      <th>1</th>\n",
              "      <td>1</td>\n",
              "      <td></td>\n",
              "      <td>a</td>\n",
              "      <td>Male teachers preparing to cover down on 'Day ...</td>\n",
              "    </tr>\n",
              "    <tr>\n",
              "      <th>2</th>\n",
              "      <td>2</td>\n",
              "      <td></td>\n",
              "      <td>a</td>\n",
              "      <td>THE BIG DATA CONSPIRACY  Government and Silico...</td>\n",
              "    </tr>\n",
              "    <tr>\n",
              "      <th>3</th>\n",
              "      <td>3</td>\n",
              "      <td></td>\n",
              "      <td>a</td>\n",
              "      <td>California Upholds Auto Emissions Standards  S...</td>\n",
              "    </tr>\n",
              "    <tr>\n",
              "      <th>4</th>\n",
              "      <td>4</td>\n",
              "      <td></td>\n",
              "      <td>a</td>\n",
              "      <td>An activist involved in anti-government protes...</td>\n",
              "    </tr>\n",
              "  </tbody>\n",
              "</table>\n",
              "</div>"
            ],
            "text/plain": [
              "   id label alpha                                               text\n",
              "0   0           a  Betsy DeVos's Education Hearing Brings Creatio...\n",
              "1   1           a  Male teachers preparing to cover down on 'Day ...\n",
              "2   2           a  THE BIG DATA CONSPIRACY  Government and Silico...\n",
              "3   3           a  California Upholds Auto Emissions Standards  S...\n",
              "4   4           a  An activist involved in anti-government protes..."
            ]
          },
          "metadata": {
            "tags": []
          },
          "execution_count": 73
        }
      ]
    },
    {
      "cell_type": "code",
      "metadata": {
        "id": "nuxCbbX9CUoZ",
        "colab_type": "code",
        "colab": {}
      },
      "source": [
        "eval_df.to_csv(\"data_topic_eval/predict.tsv\",index=False,columns=train_df.columns,sep='\\t',header=False)"
      ],
      "execution_count": 0,
      "outputs": []
    },
    {
      "cell_type": "code",
      "metadata": {
        "id": "UQXjd0fXCuo9",
        "colab_type": "code",
        "outputId": "e709eb3e-89b9-4d3d-c94c-a4d2df33cb57",
        "colab": {
          "base_uri": "https://localhost:8080/",
          "height": 84
        }
      },
      "source": [
        "!gsutil -m cp -r data_topic_eval gs://qatar_competition/"
      ],
      "execution_count": 0,
      "outputs": [
        {
          "output_type": "stream",
          "text": [
            "Copying file://data_topic_eval/train.tsv [Content-Type=text/tab-separated-values]...\n",
            "Copying file://data_topic_eval/predict.tsv [Content-Type=text/tab-separated-values]...\n",
            "/ [2/2 files][355.0 KiB/355.0 KiB] 100% Done                                    \n",
            "Operation completed over 2 objects/355.0 KiB.                                    \n"
          ],
          "name": "stdout"
        }
      ]
    },
    {
      "cell_type": "code",
      "metadata": {
        "id": "_PYPD_uOEhHr",
        "colab_type": "code",
        "colab": {}
      },
      "source": [
        "eva_df_with_names=pd.DataFrame([],columns=[\"File Name\",\"Fake\",\"Domain\"])\n",
        "eva_df_with_names[\"File Name\"]=eval_\n",
        "eva_df_with_names[\"Fake\"]=\"\"\n",
        "eva_df_with_names[\"Domain\"]=\"\""
      ],
      "execution_count": 0,
      "outputs": []
    },
    {
      "cell_type": "code",
      "metadata": {
        "id": "PpwJzhRnJLfT",
        "colab_type": "code",
        "outputId": "ab6f0d3e-4936-4877-e9a9-4c95b895929a",
        "colab": {
          "base_uri": "https://localhost:8080/",
          "height": 195
        }
      },
      "source": [
        "eva_df_with_names.head()"
      ],
      "execution_count": 0,
      "outputs": [
        {
          "output_type": "execute_result",
          "data": {
            "text/html": [
              "<div>\n",
              "<style scoped>\n",
              "    .dataframe tbody tr th:only-of-type {\n",
              "        vertical-align: middle;\n",
              "    }\n",
              "\n",
              "    .dataframe tbody tr th {\n",
              "        vertical-align: top;\n",
              "    }\n",
              "\n",
              "    .dataframe thead th {\n",
              "        text-align: right;\n",
              "    }\n",
              "</style>\n",
              "<table border=\"1\" class=\"dataframe\">\n",
              "  <thead>\n",
              "    <tr style=\"text-align: right;\">\n",
              "      <th></th>\n",
              "      <th>File Name</th>\n",
              "      <th>Fake</th>\n",
              "      <th>Domain</th>\n",
              "    </tr>\n",
              "  </thead>\n",
              "  <tbody>\n",
              "    <tr>\n",
              "      <th>0</th>\n",
              "      <td>asd03.blind.txt</td>\n",
              "      <td></td>\n",
              "      <td></td>\n",
              "    </tr>\n",
              "    <tr>\n",
              "      <th>1</th>\n",
              "      <td>asd01.blind.txt</td>\n",
              "      <td></td>\n",
              "      <td></td>\n",
              "    </tr>\n",
              "    <tr>\n",
              "      <th>2</th>\n",
              "      <td>qwe02.blind.txt</td>\n",
              "      <td></td>\n",
              "      <td></td>\n",
              "    </tr>\n",
              "    <tr>\n",
              "      <th>3</th>\n",
              "      <td>poi03.blind.txt</td>\n",
              "      <td></td>\n",
              "      <td></td>\n",
              "    </tr>\n",
              "    <tr>\n",
              "      <th>4</th>\n",
              "      <td>bsb04.blind.txt</td>\n",
              "      <td></td>\n",
              "      <td></td>\n",
              "    </tr>\n",
              "  </tbody>\n",
              "</table>\n",
              "</div>"
            ],
            "text/plain": [
              "         File Name Fake Domain\n",
              "0  asd03.blind.txt            \n",
              "1  asd01.blind.txt            \n",
              "2  qwe02.blind.txt            \n",
              "3  poi03.blind.txt            \n",
              "4  bsb04.blind.txt            "
            ]
          },
          "metadata": {
            "tags": []
          },
          "execution_count": 87
        }
      ]
    },
    {
      "cell_type": "code",
      "metadata": {
        "id": "ajibZLESJcr7",
        "colab_type": "code",
        "colab": {}
      },
      "source": [
        "eva_df_with_names.to_csv(\"Submission.csv\",index=False)"
      ],
      "execution_count": 0,
      "outputs": []
    },
    {
      "cell_type": "code",
      "metadata": {
        "id": "5JtTQ14IKP3E",
        "colab_type": "code",
        "outputId": "f05b6b06-0067-4488-f67f-061d6911cdbf",
        "colab": {
          "base_uri": "https://localhost:8080/",
          "height": 67
        }
      },
      "source": [
        "!gsutil cp Submission.csv gs://qatar_competition"
      ],
      "execution_count": 0,
      "outputs": [
        {
          "output_type": "stream",
          "text": [
            "Copying file://Submission.csv [Content-Type=text/csv]...\n",
            "/ [1 files][  904.0 B/  904.0 B]                                                \n",
            "Operation completed over 1 objects/904.0 B.                                      \n"
          ],
          "name": "stdout"
        }
      ]
    },
    {
      "cell_type": "code",
      "metadata": {
        "id": "_KVOlz_NKWd3",
        "colab_type": "code",
        "colab": {}
      },
      "source": [
        ""
      ],
      "execution_count": 0,
      "outputs": []
    }
  ]
}