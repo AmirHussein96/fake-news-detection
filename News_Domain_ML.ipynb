{
  "nbformat": 4,
  "nbformat_minor": 0,
  "metadata": {
    "colab": {
      "name": "News Domain ML.ipynb",
      "provenance": [],
      "collapsed_sections": [
        "R1B54KXhUYLt",
        "p--REB0DVaDW",
        "2UxaJAiHVeWF",
        "pjMQ4ncqVoY1",
        "0-Mq30yhVyHO",
        "Z-6ux4NDYntI"
      ],
      "toc_visible": true
    },
    "kernelspec": {
      "name": "python3",
      "display_name": "Python 3"
    },
    "accelerator": "GPU"
  },
  "cells": [
    {
      "cell_type": "code",
      "metadata": {
        "id": "PV7ySeIErGQe",
        "colab_type": "code",
        "colab": {}
      },
      "source": [
        "from google.colab import auth\n",
        "auth.authenticate_user()"
      ],
      "execution_count": 0,
      "outputs": []
    },
    {
      "cell_type": "markdown",
      "metadata": {
        "id": "eQWvHC56mbbF",
        "colab_type": "text"
      },
      "source": [
        "##Topic Modeling with TFIDF"
      ]
    },
    {
      "cell_type": "code",
      "metadata": {
        "id": "j_aJogWUj2eo",
        "colab_type": "code",
        "outputId": "0732936a-ee11-4a20-d3c2-f6725b123811",
        "colab": {
          "base_uri": "https://localhost:8080/",
          "height": 153
        }
      },
      "source": [
        "from sklearn import model_selection, preprocessing, linear_model, naive_bayes, metrics, svm\n",
        "from sklearn.feature_extraction.text import TfidfVectorizer, CountVectorizer\n",
        "from sklearn import decomposition, ensemble\n",
        "import csv, sys\n",
        "import pandas as pd\n",
        "import xgboost\n",
        "import numpy as np\n",
        "import textblob, string\n",
        "from keras.preprocessing import text, sequence\n",
        "from keras import layers, models, optimizers\n",
        "import nltk\n",
        "nltk.download(\"stopwords\")\n",
        "nltk.download('punkt')\n",
        "nltk.download('wordnet')"
      ],
      "execution_count": 0,
      "outputs": [
        {
          "output_type": "stream",
          "text": [
            "Using TensorFlow backend.\n"
          ],
          "name": "stderr"
        },
        {
          "output_type": "stream",
          "text": [
            "[nltk_data] Downloading package stopwords to /root/nltk_data...\n",
            "[nltk_data]   Package stopwords is already up-to-date!\n",
            "[nltk_data] Downloading package punkt to /root/nltk_data...\n",
            "[nltk_data]   Package punkt is already up-to-date!\n",
            "[nltk_data] Downloading package wordnet to /root/nltk_data...\n",
            "[nltk_data]   Package wordnet is already up-to-date!\n"
          ],
          "name": "stdout"
        },
        {
          "output_type": "execute_result",
          "data": {
            "text/plain": [
              "True"
            ]
          },
          "metadata": {
            "tags": []
          },
          "execution_count": 1
        }
      ]
    },
    {
      "cell_type": "code",
      "metadata": {
        "id": "H9SRr40-mk21",
        "colab_type": "code",
        "outputId": "4a6b7356-6211-4ba6-d24f-5a15f6976392",
        "colab": {
          "base_uri": "https://localhost:8080/",
          "height": 85
        }
      },
      "source": [
        "!mkdir data_topic\n",
        "!gsutil cp -r gs://qatar_competition/data_topic ./"
      ],
      "execution_count": 0,
      "outputs": [
        {
          "output_type": "stream",
          "text": [
            "Copying gs://qatar_competition/data_topic/dev.tsv...\n",
            "Copying gs://qatar_competition/data_topic/train.tsv...\n",
            "- [2 files][317.0 KiB/317.0 KiB]                                                \n",
            "Operation completed over 2 objects/317.0 KiB.                                    \n"
          ],
          "name": "stdout"
        }
      ]
    },
    {
      "cell_type": "code",
      "metadata": {
        "id": "37qNNz1Cr0jX",
        "colab_type": "code",
        "colab": {}
      },
      "source": [
        "# load the dataset\n",
        "def read_tsv(input_file, quotechar=None):\n",
        "  with open(input_file, \"r\", encoding=\"utf-8-sig\") as f:\n",
        "    reader = csv.reader(f, delimiter=\"\\t\", quotechar=quotechar)\n",
        "    lines = []\n",
        "    for line in reader:\n",
        "      if sys.version_info[0] == 2:\n",
        "        line = list(unicode(cell, 'utf-8') for cell in line)\n",
        "      lines.append(line)\n",
        "    return lines\n",
        "\n",
        "# create a dataframe using texts and lables\n",
        "trainDF = pd.DataFrame(read_tsv(\"./data_topic/train.tsv\"))\n",
        "df_train = pd.DataFrame([],columns=[\"text\",\"label\"])\n",
        "df_train[\"text\"]=trainDF[3]\n",
        "df_train[\"label\"]=trainDF[1]\n",
        "\n",
        "testDF = pd.DataFrame(read_tsv(\"./data_topic/dev.tsv\"))\n",
        "df_test = pd.DataFrame([],columns=[\"text\",\"label\"])\n",
        "df_test[\"text\"]=testDF[3]\n",
        "df_test[\"label\"]=testDF[1]"
      ],
      "execution_count": 0,
      "outputs": []
    },
    {
      "cell_type": "code",
      "metadata": {
        "id": "TSAWRDLQs6QP",
        "colab_type": "code",
        "outputId": "fd168087-e942-45be-e566-16f0ccab9c64",
        "colab": {
          "base_uri": "https://localhost:8080/",
          "height": 221
        }
      },
      "source": [
        "print(df_train.head())\n",
        "print(df_test.head())"
      ],
      "execution_count": 0,
      "outputs": [
        {
          "output_type": "stream",
          "text": [
            "                                                text label\n",
            "0  White House battles Clintons in Communist ties...     3\n",
            "1  Phone device tests male fertility with 98% acc...     5\n",
            "2  \"Doping Levels Surprisingly Low, Finds Sports ...     4\n",
            "3  \"Michelle Pfeiffer says she's 'looking towards...     2\n",
            "4  \"New intelligence suggests ISIS rigging laptop...     5\n",
            "                                                text label\n",
            "0  Super Mario Run makes leap to Android  The wil...     5\n",
            "1  \"Trump calls Democrats 'losers' after GOP heal...     3\n",
            "2  \"Brexit talks will fail without compromise: Jo...     0\n",
            "3  \" Indian Wells: Roger Federer beats Stan Wawri...     4\n",
            "4  \"Stan Wawrinka proves victorious of Roger Fede...     4\n"
          ],
          "name": "stdout"
        }
      ]
    },
    {
      "cell_type": "code",
      "metadata": {
        "id": "Jy4Wzh3auhHr",
        "colab_type": "code",
        "colab": {}
      },
      "source": [
        "from nltk.corpus import stopwords\n",
        "stop_words=stopwords.words('english')\n",
        "from nltk.stem import LancasterStemmer, PorterStemmer\n",
        "from nltk.stem.wordnet import WordNetLemmatizer\n",
        "import re\n",
        "stemmer = PorterStemmer()\n",
        "lemma = WordNetLemmatizer()\n",
        "def remove_stopwords(words):\n",
        "    filtered_words = []\n",
        "    for word in words:\n",
        "        if word not in stop_words:\n",
        "            filtered_words.append(word)            \n",
        "    return filtered_words\n",
        "\n",
        "def remove_punctuation(words):\n",
        "  words_cleaned =[]\n",
        "  for word in words:\n",
        "    if word.isalpha():# .\"isalpha() checks whether the string consists of alphabetic characters only.\n",
        "      words_cleaned.append(word)\n",
        "   \n",
        "  return words_cleaned\n",
        "\n",
        "def cleaning(s):\n",
        "    \n",
        "    s = str(s)\n",
        "    #s = str.split(s)\n",
        "    s = s.lower()\n",
        "    s = re.sub('\\s\\W',' ',s)\n",
        "    s = re.sub('\\W,\\s',' ',s)\n",
        "    s = re.sub(r'[^\\w]', ' ', s)\n",
        "    s = re.sub(\"\\d+\", \"\", s)\n",
        "    s = re.sub('\\s+',' ',s)\n",
        "    s = re.sub('[!@#$_]', '', s)\n",
        "    s = s.replace(\",\",\"\")\n",
        "    s = s.replace(\"[\\w*\",\" \")\n",
        "    s = re.sub(r'https?:\\/\\/.*[\\r\\n]*', '', s, flags=re.MULTILINE)\n",
        "    s = re.sub(r'\\<a href', ' ', s)\n",
        "    s = re.sub(r'&amp;', '', s) \n",
        "    s = re.sub(r'[_\"\\-;%()|+&=*%.,!?:#$@\\[\\]/]', ' ', s)\n",
        "    s = re.sub(r'[^\\x00-\\x7f]',r'',s) #removes arabic\n",
        "    s = re.sub(r'<br />', ' ', s)\n",
        "    s = re.sub(r'\\'', ' ', s)\n",
        "    \n",
        "    return s"
      ],
      "execution_count": 0,
      "outputs": []
    },
    {
      "cell_type": "code",
      "metadata": {
        "id": "LcYJip7vwiZQ",
        "colab_type": "code",
        "outputId": "836a1f5b-ee82-4071-a005-9f109cdfd256",
        "colab": {
          "base_uri": "https://localhost:8080/",
          "height": 1000
        }
      },
      "source": [
        "df_train_cleaned = pd.DataFrame([],columns=[\"text\",\"label\"])\n",
        "df_train_cleaned[\"text\"] = df_train[\"text\"].apply(str.lower)\n",
        "print(df_train_cleaned.head())\n",
        "df_train_cleaned[\"text\"] = df_train_cleaned[\"text\"].apply(nltk.word_tokenize)\n",
        "print(df_train_cleaned.head())\n",
        "#df_train_cleaned[\"text\"] = df_train_cleaned[\"text\"].apply(lambda x: [lemma.lemmatize(i) for i in x])\n",
        "print(df_train_cleaned.head())\n",
        "df_train_cleaned[\"text\"] = df_train_cleaned[\"text\"].apply(remove_stopwords)\n",
        "print(df_train_cleaned.head())\n",
        "df_train_cleaned[\"text\"] = df_train_cleaned[\"text\"].apply(remove_punctuation).apply(lambda x: ' '.join(word for word in x))\n",
        "print(df_train_cleaned.head())\n",
        "\n",
        "df_test_cleaned = pd.DataFrame([],columns=[\"text\",\"label\"])\n",
        "df_test_cleaned[\"text\"] = df_test[\"text\"].apply(str.lower)\n",
        "print(df_test_cleaned.head())\n",
        "df_test_cleaned[\"text\"] = df_test_cleaned[\"text\"].apply(nltk.word_tokenize)\n",
        "print(df_test_cleaned.head())\n",
        "#df_test_cleaned[\"text\"] = df_test_cleaned[\"text\"].apply(lambda x: [lemma.lemmatize(i) for i in x])\n",
        "print(df_test_cleaned.head())\n",
        "df_test_cleaned[\"text\"] = df_test_cleaned[\"text\"].apply(remove_stopwords)\n",
        "print(df_test_cleaned.head())\n",
        "df_test_cleaned[\"text\"] = df_test_cleaned[\"text\"].apply(remove_punctuation).apply(lambda x: ' '.join(word for word in x))\n",
        "print(df_test_cleaned.head())"
      ],
      "execution_count": 0,
      "outputs": [
        {
          "output_type": "stream",
          "text": [
            "                                                text label\n",
            "0  white house battles clintons in communist ties...   NaN\n",
            "1  phone device tests male fertility with 98% acc...   NaN\n",
            "2  \"doping levels surprisingly low, finds sports ...   NaN\n",
            "3  \"michelle pfeiffer says she's 'looking towards...   NaN\n",
            "4  \"new intelligence suggests isis rigging laptop...   NaN\n",
            "                                                text label\n",
            "0  [white, house, battles, clintons, in, communis...   NaN\n",
            "1  [phone, device, tests, male, fertility, with, ...   NaN\n",
            "2  [``, doping, levels, surprisingly, low, ,, fin...   NaN\n",
            "3  [``, michelle, pfeiffer, says, she, 's, 'looki...   NaN\n",
            "4  [``, new, intelligence, suggests, isis, riggin...   NaN\n",
            "                                                text label\n",
            "0  [white, house, battles, clintons, in, communis...   NaN\n",
            "1  [phone, device, tests, male, fertility, with, ...   NaN\n",
            "2  [``, doping, levels, surprisingly, low, ,, fin...   NaN\n",
            "3  [``, michelle, pfeiffer, says, she, 's, 'looki...   NaN\n",
            "4  [``, new, intelligence, suggests, isis, riggin...   NaN\n",
            "                                                text label\n",
            "0  [white, house, battles, clintons, communist, t...   NaN\n",
            "1  [phone, device, tests, male, fertility, 98, %,...   NaN\n",
            "2  [``, doping, levels, surprisingly, low, ,, fin...   NaN\n",
            "3  [``, michelle, pfeiffer, says, 's, 'looking, t...   NaN\n",
            "4  [``, new, intelligence, suggests, isis, riggin...   NaN\n",
            "                                                text label\n",
            "0  white house battles clintons communist ties wh...   NaN\n",
            "1  phone device tests male fertility accuracy stu...   NaN\n",
            "2  doping levels surprisingly low finds sports mi...   NaN\n",
            "3  michelle pfeiffer says towards rest relaxation...   NaN\n",
            "4  new intelligence suggests isis rigging laptop ...   NaN\n",
            "                                                text label\n",
            "0  super mario run makes leap to android  the wil...   NaN\n",
            "1  \"trump calls democrats 'losers' after gop heal...   NaN\n",
            "2  \"brexit talks will fail without compromise: jo...   NaN\n",
            "3  \" indian wells: roger federer beats stan wawri...   NaN\n",
            "4  \"stan wawrinka proves victorious of roger fede...   NaN\n",
            "                                                text label\n",
            "0  [super, mario, run, makes, leap, to, android, ...   NaN\n",
            "1  [``, trump, calls, democrats, 'losers, ', afte...   NaN\n",
            "2  [``, brexit, talks, will, fail, without, compr...   NaN\n",
            "3  [``, indian, wells, :, roger, federer, beats, ...   NaN\n",
            "4  [``, stan, wawrinka, proves, victorious, of, r...   NaN\n",
            "                                                text label\n",
            "0  [super, mario, run, makes, leap, to, android, ...   NaN\n",
            "1  [``, trump, calls, democrats, 'losers, ', afte...   NaN\n",
            "2  [``, brexit, talks, will, fail, without, compr...   NaN\n",
            "3  [``, indian, wells, :, roger, federer, beats, ...   NaN\n",
            "4  [``, stan, wawrinka, proves, victorious, of, r...   NaN\n",
            "                                                text label\n",
            "0  [super, mario, run, makes, leap, android, wild...   NaN\n",
            "1  [``, trump, calls, democrats, 'losers, ', gop,...   NaN\n",
            "2  [``, brexit, talks, fail, without, compromise,...   NaN\n",
            "3  [``, indian, wells, :, roger, federer, beats, ...   NaN\n",
            "4  [``, stan, wawrinka, proves, victorious, roger...   NaN\n",
            "                                                text label\n",
            "0  super mario run makes leap android wildly popu...   NaN\n",
            "1  trump calls democrats gop health bill failure ...   NaN\n",
            "2  brexit talks fail without compromise josé manu...   NaN\n",
            "3  indian wells roger federer beats stan wawrinka...   NaN\n",
            "4  stan wawrinka proves victorious roger federer ...   NaN\n"
          ],
          "name": "stdout"
        }
      ]
    },
    {
      "cell_type": "code",
      "metadata": {
        "id": "bZIdds2_VotN",
        "colab_type": "code",
        "outputId": "9720e351-e02a-44f8-c3fb-3b47bfc795e5",
        "colab": {
          "base_uri": "https://localhost:8080/",
          "height": 833
        }
      },
      "source": [
        "df_train_cleaned = pd.DataFrame([],columns=[\"text\",\"label\"])\n",
        "df_train_cleaned[\"text\"] = df_train[\"text\"].apply(cleaning)\n",
        "print(df_train_cleaned.head())\n",
        "df_train_cleaned[\"text\"] = df_train_cleaned[\"text\"].apply(nltk.word_tokenize)\n",
        "print(df_train_cleaned.head())\n",
        "#df_train_cleaned[\"text\"] = df_train_cleaned[\"text\"].apply(lambda x: [lemma.lemmatize(i) for i in x])\n",
        "print(df_train_cleaned.head())\n",
        "df_train_cleaned[\"text\"] = df_train_cleaned[\"text\"].apply(remove_stopwords).apply(lambda x: ' '.join(word for word in x))\n",
        "print(df_train_cleaned.head())\n",
        "\n",
        "\n",
        "\n",
        "df_test_cleaned = pd.DataFrame([],columns=[\"text\",\"label\"])\n",
        "df_test_cleaned[\"text\"] = df_test[\"text\"].apply(cleaning)\n",
        "print(df_test_cleaned.head())\n",
        "df_test_cleaned[\"text\"] = df_test_cleaned[\"text\"].apply(nltk.word_tokenize)\n",
        "print(df_test_cleaned.head())\n",
        "#df_test_cleaned[\"text\"] = df_test_cleaned[\"text\"].apply(lambda x: [lemma.lemmatize(i) for i in x])\n",
        "print(df_test_cleaned.head())\n",
        "df_test_cleaned[\"text\"] = df_test_cleaned[\"text\"].apply(remove_stopwords).apply(lambda x: ' '.join(word for word in x))\n",
        "print(df_test_cleaned.head())"
      ],
      "execution_count": 0,
      "outputs": [
        {
          "output_type": "stream",
          "text": [
            "                                                text label\n",
            "0  white house battles clintons in communist ties...   NaN\n",
            "1  phone device tests male fertility with accurac...   NaN\n",
            "2   doping levels surprisingly low finds sports m...   NaN\n",
            "3   michelle pfeiffer says she s looking towards ...   NaN\n",
            "4   new intelligence suggests isis rigging laptop...   NaN\n",
            "                                                text label\n",
            "0  [white, house, battles, clintons, in, communis...   NaN\n",
            "1  [phone, device, tests, male, fertility, with, ...   NaN\n",
            "2  [doping, levels, surprisingly, low, finds, spo...   NaN\n",
            "3  [michelle, pfeiffer, says, she, s, looking, to...   NaN\n",
            "4  [new, intelligence, suggests, isis, rigging, l...   NaN\n",
            "                                                text label\n",
            "0  [white, house, battles, clintons, in, communis...   NaN\n",
            "1  [phone, device, tests, male, fertility, with, ...   NaN\n",
            "2  [doping, levels, surprisingly, low, finds, spo...   NaN\n",
            "3  [michelle, pfeiffer, says, she, s, looking, to...   NaN\n",
            "4  [new, intelligence, suggests, isis, rigging, l...   NaN\n",
            "                                                text label\n",
            "0  white house battles clintons communist ties wh...   NaN\n",
            "1  phone device tests male fertility accuracy stu...   NaN\n",
            "2  doping levels surprisingly low finds sports mi...   NaN\n",
            "3  michelle pfeiffer says looking towards rest re...   NaN\n",
            "4  new intelligence suggests isis rigging laptop ...   NaN\n",
            "                                                text label\n",
            "0  super mario run makes leap to android the wild...   NaN\n",
            "1   trump calls democrats losers after gop health...   NaN\n",
            "2   brexit talks will fail without compromise jos...   NaN\n",
            "3   indian wells roger federer beats stan wawrink...   NaN\n",
            "4   stan wawrinka proves victorious of roger fede...   NaN\n",
            "                                                text label\n",
            "0  [super, mario, run, makes, leap, to, android, ...   NaN\n",
            "1  [trump, calls, democrats, losers, after, gop, ...   NaN\n",
            "2  [brexit, talks, will, fail, without, compromis...   NaN\n",
            "3  [indian, wells, roger, federer, beats, stan, w...   NaN\n",
            "4  [stan, wawrinka, proves, victorious, of, roger...   NaN\n",
            "                                                text label\n",
            "0  [super, mario, run, makes, leap, to, android, ...   NaN\n",
            "1  [trump, calls, democrats, losers, after, gop, ...   NaN\n",
            "2  [brexit, talks, will, fail, without, compromis...   NaN\n",
            "3  [indian, wells, roger, federer, beats, stan, w...   NaN\n",
            "4  [stan, wawrinka, proves, victorious, of, roger...   NaN\n",
            "                                                text label\n",
            "0  super mario run makes leap android wildly popu...   NaN\n",
            "1  trump calls democrats losers gop health bill f...   NaN\n",
            "2  brexit talks fail without compromise jos manue...   NaN\n",
            "3  indian wells roger federer beats stan wawrinka...   NaN\n",
            "4  stan wawrinka proves victorious roger federer ...   NaN\n"
          ],
          "name": "stdout"
        }
      ]
    },
    {
      "cell_type": "code",
      "metadata": {
        "id": "PuLitlFKJ-2c",
        "colab_type": "code",
        "colab": {}
      },
      "source": [
        "df_train_cleaned[\"label\"]= df_train[\"label\"]\n",
        "df_test_cleaned[\"label\"]= df_test[\"label\"]"
      ],
      "execution_count": 0,
      "outputs": []
    },
    {
      "cell_type": "code",
      "metadata": {
        "id": "orestcwIPW5O",
        "colab_type": "code",
        "outputId": "ccfb6f5a-968f-4bc1-b3d7-23de3e3ad3f8",
        "colab": {
          "base_uri": "https://localhost:8080/",
          "height": 54
        }
      },
      "source": [
        "df_train_cleaned['text'][295]"
      ],
      "execution_count": 0,
      "outputs": [
        {
          "output_type": "execute_result",
          "data": {
            "text/plain": [
              "'foods supersize production burger easy sink teeth one impossible foods meatless hamburgers get eight us restaurants wednesday though company said bring impossible burger eateries year end make happen firm opening factory size city block goal make least million pounds faux burger meat every month think birthplace whole new industry going transform food system said pat brown former stanford biochemistry professor founded impossible foods serves ceo'"
            ]
          },
          "metadata": {
            "tags": []
          },
          "execution_count": 33
        }
      ]
    },
    {
      "cell_type": "markdown",
      "metadata": {
        "id": "5fN_fQjTuC6H",
        "colab_type": "text"
      },
      "source": [
        "##Count Vector as Features"
      ]
    },
    {
      "cell_type": "code",
      "metadata": {
        "id": "q3Bvpsr-s_Lm",
        "colab_type": "code",
        "colab": {}
      },
      "source": [
        "# create a count vectorizer object \n",
        "all_data = df_train_cleaned[\"text\"].append(df_test_cleaned[\"text\"])\n",
        "train_x = df_train_cleaned[\"text\"].tolist()\n",
        "valid_x = df_test_cleaned[\"text\"].tolist()\n",
        "count_vect = CountVectorizer(analyzer='word', token_pattern=r'\\w{1,}')\n",
        "count_vect.fit(all_data)\n",
        "\n",
        "# transform the training and validation data using count vectorizer object\n",
        "xtrain_count =  count_vect.transform(train_x)\n",
        "xvalid_count =  count_vect.transform(valid_x)"
      ],
      "execution_count": 0,
      "outputs": []
    },
    {
      "cell_type": "code",
      "metadata": {
        "id": "Wdj2_FsAQ8tl",
        "colab_type": "code",
        "outputId": "c7660b6f-8376-40d4-d02a-e4c235c4d27f",
        "colab": {
          "base_uri": "https://localhost:8080/",
          "height": 51
        }
      },
      "source": [
        "xtrain_count"
      ],
      "execution_count": 0,
      "outputs": [
        {
          "output_type": "execute_result",
          "data": {
            "text/plain": [
              "<384x7148 sparse matrix of type '<class 'numpy.int64'>'\n",
              "\twith 22390 stored elements in Compressed Sparse Row format>"
            ]
          },
          "metadata": {
            "tags": []
          },
          "execution_count": 87
        }
      ]
    },
    {
      "cell_type": "code",
      "metadata": {
        "id": "eeEJlgjgQ-10",
        "colab_type": "code",
        "outputId": "35cafb49-a363-4ee5-f296-13c15d66be3d",
        "colab": {
          "base_uri": "https://localhost:8080/",
          "height": 51
        }
      },
      "source": [
        "xvalid_count"
      ],
      "execution_count": 0,
      "outputs": [
        {
          "output_type": "execute_result",
          "data": {
            "text/plain": [
              "<48x7148 sparse matrix of type '<class 'numpy.int64'>'\n",
              "\twith 2755 stored elements in Compressed Sparse Row format>"
            ]
          },
          "metadata": {
            "tags": []
          },
          "execution_count": 88
        }
      ]
    },
    {
      "cell_type": "code",
      "metadata": {
        "id": "5D3LTqDVNwrZ",
        "colab_type": "code",
        "outputId": "bab06df8-bbe4-4f92-9882-643522e5cd5d",
        "colab": {
          "base_uri": "https://localhost:8080/",
          "height": 253
        }
      },
      "source": [
        "xtrain_count_df=pd.DataFrame(xvalid_count.toarray(), columns=count_vect.get_feature_names())\n",
        "xtrain_count_df.head()"
      ],
      "execution_count": 0,
      "outputs": [
        {
          "output_type": "execute_result",
          "data": {
            "text/html": [
              "<div>\n",
              "<style scoped>\n",
              "    .dataframe tbody tr th:only-of-type {\n",
              "        vertical-align: middle;\n",
              "    }\n",
              "\n",
              "    .dataframe tbody tr th {\n",
              "        vertical-align: top;\n",
              "    }\n",
              "\n",
              "    .dataframe thead th {\n",
              "        text-align: right;\n",
              "    }\n",
              "</style>\n",
              "<table border=\"1\" class=\"dataframe\">\n",
              "  <thead>\n",
              "    <tr style=\"text-align: right;\">\n",
              "      <th></th>\n",
              "      <th>aapl</th>\n",
              "      <th>aback</th>\n",
              "      <th>abandon</th>\n",
              "      <th>abc</th>\n",
              "      <th>abdullah</th>\n",
              "      <th>ability</th>\n",
              "      <th>able</th>\n",
              "      <th>abortion</th>\n",
              "      <th>abroad</th>\n",
              "      <th>absence</th>\n",
              "      <th>absent</th>\n",
              "      <th>absolutely</th>\n",
              "      <th>absurd</th>\n",
              "      <th>absurdity</th>\n",
              "      <th>abundant</th>\n",
              "      <th>abundantly</th>\n",
              "      <th>abuse</th>\n",
              "      <th>abusing</th>\n",
              "      <th>abusive</th>\n",
              "      <th>academic</th>\n",
              "      <th>academically</th>\n",
              "      <th>academy</th>\n",
              "      <th>accelerates</th>\n",
              "      <th>accent</th>\n",
              "      <th>accept</th>\n",
              "      <th>acceptance</th>\n",
              "      <th>accepted</th>\n",
              "      <th>accepting</th>\n",
              "      <th>accepts</th>\n",
              "      <th>access</th>\n",
              "      <th>accessible</th>\n",
              "      <th>accessory</th>\n",
              "      <th>accident</th>\n",
              "      <th>accommodate</th>\n",
              "      <th>accompanied</th>\n",
              "      <th>accompanying</th>\n",
              "      <th>accomplish</th>\n",
              "      <th>accomplishment</th>\n",
              "      <th>according</th>\n",
              "      <th>account</th>\n",
              "      <th>...</th>\n",
              "      <th>wrestler</th>\n",
              "      <th>wrist</th>\n",
              "      <th>writedown</th>\n",
              "      <th>writer</th>\n",
              "      <th>writing</th>\n",
              "      <th>written</th>\n",
              "      <th>wrong</th>\n",
              "      <th>wrote</th>\n",
              "      <th>wwe</th>\n",
              "      <th>xenon</th>\n",
              "      <th>ya</th>\n",
              "      <th>yahoo</th>\n",
              "      <th>yale</th>\n",
              "      <th>yamaha</th>\n",
              "      <th>yard</th>\n",
              "      <th>yardsale</th>\n",
              "      <th>year</th>\n",
              "      <th>yell</th>\n",
              "      <th>yellow</th>\n",
              "      <th>yen</th>\n",
              "      <th>yes</th>\n",
              "      <th>yesterday</th>\n",
              "      <th>yet</th>\n",
              "      <th>yield</th>\n",
              "      <th>yielded</th>\n",
              "      <th>york</th>\n",
              "      <th>young</th>\n",
              "      <th>younger</th>\n",
              "      <th>youngest</th>\n",
              "      <th>youth</th>\n",
              "      <th>youtube</th>\n",
              "      <th>z</th>\n",
              "      <th>zack</th>\n",
              "      <th>zaha</th>\n",
              "      <th>zeballos</th>\n",
              "      <th>zero</th>\n",
              "      <th>zipping</th>\n",
              "      <th>zombie</th>\n",
              "      <th>zuckerberg</th>\n",
              "      <th>zverev</th>\n",
              "    </tr>\n",
              "  </thead>\n",
              "  <tbody>\n",
              "    <tr>\n",
              "      <th>0</th>\n",
              "      <td>0</td>\n",
              "      <td>0</td>\n",
              "      <td>0</td>\n",
              "      <td>0</td>\n",
              "      <td>0</td>\n",
              "      <td>0</td>\n",
              "      <td>0</td>\n",
              "      <td>0</td>\n",
              "      <td>0</td>\n",
              "      <td>0</td>\n",
              "      <td>0</td>\n",
              "      <td>0</td>\n",
              "      <td>0</td>\n",
              "      <td>0</td>\n",
              "      <td>0</td>\n",
              "      <td>0</td>\n",
              "      <td>0</td>\n",
              "      <td>0</td>\n",
              "      <td>0</td>\n",
              "      <td>0</td>\n",
              "      <td>0</td>\n",
              "      <td>0</td>\n",
              "      <td>0</td>\n",
              "      <td>0</td>\n",
              "      <td>0</td>\n",
              "      <td>0</td>\n",
              "      <td>0</td>\n",
              "      <td>0</td>\n",
              "      <td>0</td>\n",
              "      <td>0</td>\n",
              "      <td>0</td>\n",
              "      <td>0</td>\n",
              "      <td>0</td>\n",
              "      <td>0</td>\n",
              "      <td>0</td>\n",
              "      <td>0</td>\n",
              "      <td>0</td>\n",
              "      <td>0</td>\n",
              "      <td>0</td>\n",
              "      <td>0</td>\n",
              "      <td>...</td>\n",
              "      <td>0</td>\n",
              "      <td>0</td>\n",
              "      <td>0</td>\n",
              "      <td>0</td>\n",
              "      <td>0</td>\n",
              "      <td>0</td>\n",
              "      <td>0</td>\n",
              "      <td>0</td>\n",
              "      <td>0</td>\n",
              "      <td>0</td>\n",
              "      <td>0</td>\n",
              "      <td>0</td>\n",
              "      <td>0</td>\n",
              "      <td>0</td>\n",
              "      <td>0</td>\n",
              "      <td>0</td>\n",
              "      <td>0</td>\n",
              "      <td>0</td>\n",
              "      <td>0</td>\n",
              "      <td>0</td>\n",
              "      <td>0</td>\n",
              "      <td>0</td>\n",
              "      <td>0</td>\n",
              "      <td>0</td>\n",
              "      <td>0</td>\n",
              "      <td>0</td>\n",
              "      <td>0</td>\n",
              "      <td>0</td>\n",
              "      <td>0</td>\n",
              "      <td>0</td>\n",
              "      <td>0</td>\n",
              "      <td>0</td>\n",
              "      <td>0</td>\n",
              "      <td>0</td>\n",
              "      <td>0</td>\n",
              "      <td>0</td>\n",
              "      <td>0</td>\n",
              "      <td>0</td>\n",
              "      <td>0</td>\n",
              "      <td>0</td>\n",
              "    </tr>\n",
              "    <tr>\n",
              "      <th>1</th>\n",
              "      <td>0</td>\n",
              "      <td>0</td>\n",
              "      <td>0</td>\n",
              "      <td>0</td>\n",
              "      <td>0</td>\n",
              "      <td>0</td>\n",
              "      <td>0</td>\n",
              "      <td>0</td>\n",
              "      <td>0</td>\n",
              "      <td>0</td>\n",
              "      <td>0</td>\n",
              "      <td>0</td>\n",
              "      <td>0</td>\n",
              "      <td>0</td>\n",
              "      <td>0</td>\n",
              "      <td>0</td>\n",
              "      <td>0</td>\n",
              "      <td>0</td>\n",
              "      <td>0</td>\n",
              "      <td>0</td>\n",
              "      <td>0</td>\n",
              "      <td>0</td>\n",
              "      <td>0</td>\n",
              "      <td>0</td>\n",
              "      <td>0</td>\n",
              "      <td>0</td>\n",
              "      <td>0</td>\n",
              "      <td>0</td>\n",
              "      <td>0</td>\n",
              "      <td>0</td>\n",
              "      <td>0</td>\n",
              "      <td>0</td>\n",
              "      <td>0</td>\n",
              "      <td>0</td>\n",
              "      <td>0</td>\n",
              "      <td>0</td>\n",
              "      <td>0</td>\n",
              "      <td>0</td>\n",
              "      <td>0</td>\n",
              "      <td>0</td>\n",
              "      <td>...</td>\n",
              "      <td>0</td>\n",
              "      <td>0</td>\n",
              "      <td>0</td>\n",
              "      <td>0</td>\n",
              "      <td>0</td>\n",
              "      <td>0</td>\n",
              "      <td>0</td>\n",
              "      <td>0</td>\n",
              "      <td>0</td>\n",
              "      <td>0</td>\n",
              "      <td>0</td>\n",
              "      <td>0</td>\n",
              "      <td>0</td>\n",
              "      <td>0</td>\n",
              "      <td>0</td>\n",
              "      <td>0</td>\n",
              "      <td>1</td>\n",
              "      <td>0</td>\n",
              "      <td>0</td>\n",
              "      <td>0</td>\n",
              "      <td>0</td>\n",
              "      <td>0</td>\n",
              "      <td>0</td>\n",
              "      <td>0</td>\n",
              "      <td>0</td>\n",
              "      <td>0</td>\n",
              "      <td>0</td>\n",
              "      <td>0</td>\n",
              "      <td>0</td>\n",
              "      <td>0</td>\n",
              "      <td>0</td>\n",
              "      <td>0</td>\n",
              "      <td>0</td>\n",
              "      <td>0</td>\n",
              "      <td>0</td>\n",
              "      <td>0</td>\n",
              "      <td>0</td>\n",
              "      <td>0</td>\n",
              "      <td>0</td>\n",
              "      <td>0</td>\n",
              "    </tr>\n",
              "    <tr>\n",
              "      <th>2</th>\n",
              "      <td>0</td>\n",
              "      <td>0</td>\n",
              "      <td>0</td>\n",
              "      <td>0</td>\n",
              "      <td>0</td>\n",
              "      <td>0</td>\n",
              "      <td>0</td>\n",
              "      <td>0</td>\n",
              "      <td>0</td>\n",
              "      <td>0</td>\n",
              "      <td>0</td>\n",
              "      <td>0</td>\n",
              "      <td>0</td>\n",
              "      <td>0</td>\n",
              "      <td>0</td>\n",
              "      <td>0</td>\n",
              "      <td>0</td>\n",
              "      <td>0</td>\n",
              "      <td>0</td>\n",
              "      <td>0</td>\n",
              "      <td>0</td>\n",
              "      <td>0</td>\n",
              "      <td>0</td>\n",
              "      <td>0</td>\n",
              "      <td>0</td>\n",
              "      <td>0</td>\n",
              "      <td>0</td>\n",
              "      <td>0</td>\n",
              "      <td>0</td>\n",
              "      <td>0</td>\n",
              "      <td>0</td>\n",
              "      <td>0</td>\n",
              "      <td>0</td>\n",
              "      <td>0</td>\n",
              "      <td>0</td>\n",
              "      <td>0</td>\n",
              "      <td>0</td>\n",
              "      <td>0</td>\n",
              "      <td>0</td>\n",
              "      <td>0</td>\n",
              "      <td>...</td>\n",
              "      <td>0</td>\n",
              "      <td>0</td>\n",
              "      <td>0</td>\n",
              "      <td>0</td>\n",
              "      <td>0</td>\n",
              "      <td>0</td>\n",
              "      <td>0</td>\n",
              "      <td>0</td>\n",
              "      <td>0</td>\n",
              "      <td>0</td>\n",
              "      <td>0</td>\n",
              "      <td>0</td>\n",
              "      <td>0</td>\n",
              "      <td>0</td>\n",
              "      <td>0</td>\n",
              "      <td>0</td>\n",
              "      <td>0</td>\n",
              "      <td>0</td>\n",
              "      <td>0</td>\n",
              "      <td>0</td>\n",
              "      <td>0</td>\n",
              "      <td>0</td>\n",
              "      <td>0</td>\n",
              "      <td>0</td>\n",
              "      <td>0</td>\n",
              "      <td>0</td>\n",
              "      <td>0</td>\n",
              "      <td>0</td>\n",
              "      <td>0</td>\n",
              "      <td>0</td>\n",
              "      <td>0</td>\n",
              "      <td>0</td>\n",
              "      <td>0</td>\n",
              "      <td>0</td>\n",
              "      <td>0</td>\n",
              "      <td>0</td>\n",
              "      <td>0</td>\n",
              "      <td>0</td>\n",
              "      <td>0</td>\n",
              "      <td>0</td>\n",
              "    </tr>\n",
              "    <tr>\n",
              "      <th>3</th>\n",
              "      <td>0</td>\n",
              "      <td>0</td>\n",
              "      <td>0</td>\n",
              "      <td>0</td>\n",
              "      <td>0</td>\n",
              "      <td>0</td>\n",
              "      <td>0</td>\n",
              "      <td>0</td>\n",
              "      <td>0</td>\n",
              "      <td>0</td>\n",
              "      <td>0</td>\n",
              "      <td>0</td>\n",
              "      <td>0</td>\n",
              "      <td>0</td>\n",
              "      <td>0</td>\n",
              "      <td>0</td>\n",
              "      <td>0</td>\n",
              "      <td>0</td>\n",
              "      <td>0</td>\n",
              "      <td>0</td>\n",
              "      <td>0</td>\n",
              "      <td>0</td>\n",
              "      <td>0</td>\n",
              "      <td>0</td>\n",
              "      <td>0</td>\n",
              "      <td>0</td>\n",
              "      <td>0</td>\n",
              "      <td>0</td>\n",
              "      <td>0</td>\n",
              "      <td>0</td>\n",
              "      <td>0</td>\n",
              "      <td>0</td>\n",
              "      <td>0</td>\n",
              "      <td>0</td>\n",
              "      <td>0</td>\n",
              "      <td>0</td>\n",
              "      <td>0</td>\n",
              "      <td>0</td>\n",
              "      <td>0</td>\n",
              "      <td>0</td>\n",
              "      <td>...</td>\n",
              "      <td>0</td>\n",
              "      <td>0</td>\n",
              "      <td>0</td>\n",
              "      <td>0</td>\n",
              "      <td>0</td>\n",
              "      <td>0</td>\n",
              "      <td>0</td>\n",
              "      <td>0</td>\n",
              "      <td>0</td>\n",
              "      <td>0</td>\n",
              "      <td>0</td>\n",
              "      <td>0</td>\n",
              "      <td>0</td>\n",
              "      <td>0</td>\n",
              "      <td>0</td>\n",
              "      <td>0</td>\n",
              "      <td>1</td>\n",
              "      <td>0</td>\n",
              "      <td>0</td>\n",
              "      <td>0</td>\n",
              "      <td>0</td>\n",
              "      <td>0</td>\n",
              "      <td>0</td>\n",
              "      <td>0</td>\n",
              "      <td>0</td>\n",
              "      <td>0</td>\n",
              "      <td>0</td>\n",
              "      <td>0</td>\n",
              "      <td>0</td>\n",
              "      <td>0</td>\n",
              "      <td>0</td>\n",
              "      <td>0</td>\n",
              "      <td>0</td>\n",
              "      <td>0</td>\n",
              "      <td>0</td>\n",
              "      <td>0</td>\n",
              "      <td>0</td>\n",
              "      <td>0</td>\n",
              "      <td>0</td>\n",
              "      <td>0</td>\n",
              "    </tr>\n",
              "    <tr>\n",
              "      <th>4</th>\n",
              "      <td>0</td>\n",
              "      <td>0</td>\n",
              "      <td>0</td>\n",
              "      <td>0</td>\n",
              "      <td>0</td>\n",
              "      <td>0</td>\n",
              "      <td>0</td>\n",
              "      <td>0</td>\n",
              "      <td>0</td>\n",
              "      <td>0</td>\n",
              "      <td>0</td>\n",
              "      <td>0</td>\n",
              "      <td>0</td>\n",
              "      <td>0</td>\n",
              "      <td>0</td>\n",
              "      <td>0</td>\n",
              "      <td>0</td>\n",
              "      <td>0</td>\n",
              "      <td>0</td>\n",
              "      <td>0</td>\n",
              "      <td>0</td>\n",
              "      <td>0</td>\n",
              "      <td>0</td>\n",
              "      <td>0</td>\n",
              "      <td>0</td>\n",
              "      <td>0</td>\n",
              "      <td>0</td>\n",
              "      <td>0</td>\n",
              "      <td>0</td>\n",
              "      <td>0</td>\n",
              "      <td>0</td>\n",
              "      <td>0</td>\n",
              "      <td>0</td>\n",
              "      <td>0</td>\n",
              "      <td>0</td>\n",
              "      <td>0</td>\n",
              "      <td>0</td>\n",
              "      <td>0</td>\n",
              "      <td>0</td>\n",
              "      <td>0</td>\n",
              "      <td>...</td>\n",
              "      <td>0</td>\n",
              "      <td>0</td>\n",
              "      <td>0</td>\n",
              "      <td>0</td>\n",
              "      <td>0</td>\n",
              "      <td>0</td>\n",
              "      <td>0</td>\n",
              "      <td>0</td>\n",
              "      <td>0</td>\n",
              "      <td>0</td>\n",
              "      <td>0</td>\n",
              "      <td>0</td>\n",
              "      <td>0</td>\n",
              "      <td>0</td>\n",
              "      <td>0</td>\n",
              "      <td>0</td>\n",
              "      <td>1</td>\n",
              "      <td>0</td>\n",
              "      <td>0</td>\n",
              "      <td>0</td>\n",
              "      <td>0</td>\n",
              "      <td>0</td>\n",
              "      <td>0</td>\n",
              "      <td>0</td>\n",
              "      <td>0</td>\n",
              "      <td>0</td>\n",
              "      <td>0</td>\n",
              "      <td>0</td>\n",
              "      <td>0</td>\n",
              "      <td>0</td>\n",
              "      <td>0</td>\n",
              "      <td>0</td>\n",
              "      <td>0</td>\n",
              "      <td>0</td>\n",
              "      <td>0</td>\n",
              "      <td>0</td>\n",
              "      <td>0</td>\n",
              "      <td>0</td>\n",
              "      <td>0</td>\n",
              "      <td>0</td>\n",
              "    </tr>\n",
              "  </tbody>\n",
              "</table>\n",
              "<p>5 rows × 6260 columns</p>\n",
              "</div>"
            ],
            "text/plain": [
              "   aapl  aback  abandon  abc  ...  zipping  zombie  zuckerberg  zverev\n",
              "0     0      0        0    0  ...        0       0           0       0\n",
              "1     0      0        0    0  ...        0       0           0       0\n",
              "2     0      0        0    0  ...        0       0           0       0\n",
              "3     0      0        0    0  ...        0       0           0       0\n",
              "4     0      0        0    0  ...        0       0           0       0\n",
              "\n",
              "[5 rows x 6260 columns]"
            ]
          },
          "metadata": {
            "tags": []
          },
          "execution_count": 14
        }
      ]
    },
    {
      "cell_type": "markdown",
      "metadata": {
        "id": "ChH7DviIQeUl",
        "colab_type": "text"
      },
      "source": [
        "##TF-IDF as Features"
      ]
    },
    {
      "cell_type": "code",
      "metadata": {
        "id": "xSu726ClP0Lk",
        "colab_type": "code",
        "colab": {}
      },
      "source": [
        "# word level tf-idf\n",
        "tfidf_vect = TfidfVectorizer(analyzer='word', token_pattern=r'\\w{1,}', max_features=None)\n",
        "tfidf_vect.fit(all_data)\n",
        "xtrain_tfidf =  tfidf_vect.transform(train_x)\n",
        "xvalid_tfidf =  tfidf_vect.transform(valid_x)\n",
        "\n",
        "# ngram level tf-idf \n",
        "tfidf_vect_ngram = TfidfVectorizer(analyzer='word', token_pattern=r'\\w{1,}', ngram_range=(1,4), max_features=8000)\n",
        "tfidf_vect_ngram.fit(all_data)\n",
        "xtrain_tfidf_ngram =  tfidf_vect_ngram.transform(train_x)\n",
        "xvalid_tfidf_ngram =  tfidf_vect_ngram.transform(valid_x)\n",
        "\n",
        "# characters level tf-idf\n",
        "tfidf_vect_ngram_chars = TfidfVectorizer(analyzer='char', token_pattern=r'\\w{1,}', ngram_range=(1,6), max_features=8000)\n",
        "tfidf_vect_ngram_chars.fit(all_data)\n",
        "xtrain_tfidf_ngram_chars =  tfidf_vect_ngram_chars.transform(train_x) \n",
        "xvalid_tfidf_ngram_chars =  tfidf_vect_ngram_chars.transform(valid_x)\n",
        "\n",
        "from scipy.sparse import hstack\n",
        "# stacked Char level and word ngram\n",
        "xtrain_tfidf_ngram_chars_words = hstack([xtrain_tfidf_ngram,xtrain_tfidf_ngram_chars])\n",
        "xvalid_tfidf_ngram_chars_words = hstack([xvalid_tfidf_ngram,xvalid_tfidf_ngram_chars])"
      ],
      "execution_count": 0,
      "outputs": []
    },
    {
      "cell_type": "code",
      "metadata": {
        "id": "rPV--Me3OFKb",
        "colab_type": "code",
        "outputId": "b8af37fd-e18d-463f-a7f1-9eb7aeeb72ff",
        "colab": {
          "base_uri": "https://localhost:8080/",
          "height": 68
        }
      },
      "source": [
        "print(xtrain_tfidf_ngram.shape)\n",
        "print(xtrain_tfidf_ngram_chars.shape)\n",
        "print(xtrain_tfidf_ngram_chars_words.shape)"
      ],
      "execution_count": 0,
      "outputs": [
        {
          "output_type": "stream",
          "text": [
            "(384, 8000)\n",
            "(384, 8000)\n",
            "(384, 16000)\n"
          ],
          "name": "stdout"
        }
      ]
    },
    {
      "cell_type": "code",
      "metadata": {
        "id": "xh7M-oSDOMlh",
        "colab_type": "code",
        "outputId": "ded4e3be-2373-4f24-85cc-39511829c340",
        "colab": {
          "base_uri": "https://localhost:8080/",
          "height": 253
        }
      },
      "source": [
        "xtrain_tfidf_df=pd.DataFrame(xtrain_tfidf.toarray(), columns=tfidf_vect.get_feature_names())\n",
        "xtrain_tfidf_df.head()"
      ],
      "execution_count": 0,
      "outputs": [
        {
          "output_type": "execute_result",
          "data": {
            "text/html": [
              "<div>\n",
              "<style scoped>\n",
              "    .dataframe tbody tr th:only-of-type {\n",
              "        vertical-align: middle;\n",
              "    }\n",
              "\n",
              "    .dataframe tbody tr th {\n",
              "        vertical-align: top;\n",
              "    }\n",
              "\n",
              "    .dataframe thead th {\n",
              "        text-align: right;\n",
              "    }\n",
              "</style>\n",
              "<table border=\"1\" class=\"dataframe\">\n",
              "  <thead>\n",
              "    <tr style=\"text-align: right;\">\n",
              "      <th></th>\n",
              "      <th>aapl</th>\n",
              "      <th>aback</th>\n",
              "      <th>abandon</th>\n",
              "      <th>abc</th>\n",
              "      <th>abdullah</th>\n",
              "      <th>abilities</th>\n",
              "      <th>ability</th>\n",
              "      <th>able</th>\n",
              "      <th>abortion</th>\n",
              "      <th>abroad</th>\n",
              "      <th>absence</th>\n",
              "      <th>absent</th>\n",
              "      <th>absolutely</th>\n",
              "      <th>absurd</th>\n",
              "      <th>absurdity</th>\n",
              "      <th>abundant</th>\n",
              "      <th>abundantly</th>\n",
              "      <th>abuse</th>\n",
              "      <th>abusing</th>\n",
              "      <th>abusive</th>\n",
              "      <th>academic</th>\n",
              "      <th>academically</th>\n",
              "      <th>academy</th>\n",
              "      <th>accelerates</th>\n",
              "      <th>accent</th>\n",
              "      <th>accept</th>\n",
              "      <th>acceptance</th>\n",
              "      <th>accepted</th>\n",
              "      <th>accepting</th>\n",
              "      <th>accepts</th>\n",
              "      <th>access</th>\n",
              "      <th>accessible</th>\n",
              "      <th>accessories</th>\n",
              "      <th>accessory</th>\n",
              "      <th>accident</th>\n",
              "      <th>accidents</th>\n",
              "      <th>accommodate</th>\n",
              "      <th>accompanied</th>\n",
              "      <th>accompanying</th>\n",
              "      <th>accomplish</th>\n",
              "      <th>...</th>\n",
              "      <th>writedown</th>\n",
              "      <th>writer</th>\n",
              "      <th>writing</th>\n",
              "      <th>written</th>\n",
              "      <th>wrong</th>\n",
              "      <th>wrote</th>\n",
              "      <th>wwe</th>\n",
              "      <th>xenon</th>\n",
              "      <th>ya</th>\n",
              "      <th>yahoo</th>\n",
              "      <th>yale</th>\n",
              "      <th>yamaha</th>\n",
              "      <th>yard</th>\n",
              "      <th>yards</th>\n",
              "      <th>yardsale</th>\n",
              "      <th>year</th>\n",
              "      <th>years</th>\n",
              "      <th>yell</th>\n",
              "      <th>yellow</th>\n",
              "      <th>yen</th>\n",
              "      <th>yes</th>\n",
              "      <th>yesterday</th>\n",
              "      <th>yet</th>\n",
              "      <th>yield</th>\n",
              "      <th>yielded</th>\n",
              "      <th>york</th>\n",
              "      <th>young</th>\n",
              "      <th>younger</th>\n",
              "      <th>youngest</th>\n",
              "      <th>youth</th>\n",
              "      <th>youtube</th>\n",
              "      <th>z</th>\n",
              "      <th>zack</th>\n",
              "      <th>zaha</th>\n",
              "      <th>zeballos</th>\n",
              "      <th>zero</th>\n",
              "      <th>zipping</th>\n",
              "      <th>zombie</th>\n",
              "      <th>zuckerberg</th>\n",
              "      <th>zverev</th>\n",
              "    </tr>\n",
              "  </thead>\n",
              "  <tbody>\n",
              "    <tr>\n",
              "      <th>0</th>\n",
              "      <td>0.0</td>\n",
              "      <td>0.0</td>\n",
              "      <td>0.0</td>\n",
              "      <td>0.0</td>\n",
              "      <td>0.0</td>\n",
              "      <td>0.0</td>\n",
              "      <td>0.0</td>\n",
              "      <td>0.0</td>\n",
              "      <td>0.0</td>\n",
              "      <td>0.0</td>\n",
              "      <td>0.0</td>\n",
              "      <td>0.0</td>\n",
              "      <td>0.0</td>\n",
              "      <td>0.0</td>\n",
              "      <td>0.0</td>\n",
              "      <td>0.0</td>\n",
              "      <td>0.0</td>\n",
              "      <td>0.0</td>\n",
              "      <td>0.0</td>\n",
              "      <td>0.0</td>\n",
              "      <td>0.0</td>\n",
              "      <td>0.0</td>\n",
              "      <td>0.0</td>\n",
              "      <td>0.0</td>\n",
              "      <td>0.0</td>\n",
              "      <td>0.0</td>\n",
              "      <td>0.0</td>\n",
              "      <td>0.0</td>\n",
              "      <td>0.0</td>\n",
              "      <td>0.0</td>\n",
              "      <td>0.0</td>\n",
              "      <td>0.0</td>\n",
              "      <td>0.0</td>\n",
              "      <td>0.000000</td>\n",
              "      <td>0.0</td>\n",
              "      <td>0.0</td>\n",
              "      <td>0.0</td>\n",
              "      <td>0.0</td>\n",
              "      <td>0.0</td>\n",
              "      <td>0.0</td>\n",
              "      <td>...</td>\n",
              "      <td>0.0</td>\n",
              "      <td>0.0</td>\n",
              "      <td>0.0</td>\n",
              "      <td>0.0</td>\n",
              "      <td>0.0</td>\n",
              "      <td>0.0</td>\n",
              "      <td>0.0</td>\n",
              "      <td>0.0</td>\n",
              "      <td>0.0</td>\n",
              "      <td>0.0</td>\n",
              "      <td>0.0</td>\n",
              "      <td>0.0</td>\n",
              "      <td>0.0</td>\n",
              "      <td>0.0</td>\n",
              "      <td>0.0</td>\n",
              "      <td>0.000000</td>\n",
              "      <td>0.064936</td>\n",
              "      <td>0.0</td>\n",
              "      <td>0.0</td>\n",
              "      <td>0.0</td>\n",
              "      <td>0.0</td>\n",
              "      <td>0.0</td>\n",
              "      <td>0.0</td>\n",
              "      <td>0.0</td>\n",
              "      <td>0.0</td>\n",
              "      <td>0.0</td>\n",
              "      <td>0.0</td>\n",
              "      <td>0.0</td>\n",
              "      <td>0.0</td>\n",
              "      <td>0.0</td>\n",
              "      <td>0.0</td>\n",
              "      <td>0.0</td>\n",
              "      <td>0.0</td>\n",
              "      <td>0.0</td>\n",
              "      <td>0.0</td>\n",
              "      <td>0.0</td>\n",
              "      <td>0.0</td>\n",
              "      <td>0.0</td>\n",
              "      <td>0.0</td>\n",
              "      <td>0.0</td>\n",
              "    </tr>\n",
              "    <tr>\n",
              "      <th>1</th>\n",
              "      <td>0.0</td>\n",
              "      <td>0.0</td>\n",
              "      <td>0.0</td>\n",
              "      <td>0.0</td>\n",
              "      <td>0.0</td>\n",
              "      <td>0.0</td>\n",
              "      <td>0.0</td>\n",
              "      <td>0.0</td>\n",
              "      <td>0.0</td>\n",
              "      <td>0.0</td>\n",
              "      <td>0.0</td>\n",
              "      <td>0.0</td>\n",
              "      <td>0.0</td>\n",
              "      <td>0.0</td>\n",
              "      <td>0.0</td>\n",
              "      <td>0.0</td>\n",
              "      <td>0.0</td>\n",
              "      <td>0.0</td>\n",
              "      <td>0.0</td>\n",
              "      <td>0.0</td>\n",
              "      <td>0.0</td>\n",
              "      <td>0.0</td>\n",
              "      <td>0.0</td>\n",
              "      <td>0.0</td>\n",
              "      <td>0.0</td>\n",
              "      <td>0.0</td>\n",
              "      <td>0.0</td>\n",
              "      <td>0.0</td>\n",
              "      <td>0.0</td>\n",
              "      <td>0.0</td>\n",
              "      <td>0.0</td>\n",
              "      <td>0.0</td>\n",
              "      <td>0.0</td>\n",
              "      <td>0.142664</td>\n",
              "      <td>0.0</td>\n",
              "      <td>0.0</td>\n",
              "      <td>0.0</td>\n",
              "      <td>0.0</td>\n",
              "      <td>0.0</td>\n",
              "      <td>0.0</td>\n",
              "      <td>...</td>\n",
              "      <td>0.0</td>\n",
              "      <td>0.0</td>\n",
              "      <td>0.0</td>\n",
              "      <td>0.0</td>\n",
              "      <td>0.0</td>\n",
              "      <td>0.0</td>\n",
              "      <td>0.0</td>\n",
              "      <td>0.0</td>\n",
              "      <td>0.0</td>\n",
              "      <td>0.0</td>\n",
              "      <td>0.0</td>\n",
              "      <td>0.0</td>\n",
              "      <td>0.0</td>\n",
              "      <td>0.0</td>\n",
              "      <td>0.0</td>\n",
              "      <td>0.000000</td>\n",
              "      <td>0.063454</td>\n",
              "      <td>0.0</td>\n",
              "      <td>0.0</td>\n",
              "      <td>0.0</td>\n",
              "      <td>0.0</td>\n",
              "      <td>0.0</td>\n",
              "      <td>0.0</td>\n",
              "      <td>0.0</td>\n",
              "      <td>0.0</td>\n",
              "      <td>0.0</td>\n",
              "      <td>0.0</td>\n",
              "      <td>0.0</td>\n",
              "      <td>0.0</td>\n",
              "      <td>0.0</td>\n",
              "      <td>0.0</td>\n",
              "      <td>0.0</td>\n",
              "      <td>0.0</td>\n",
              "      <td>0.0</td>\n",
              "      <td>0.0</td>\n",
              "      <td>0.0</td>\n",
              "      <td>0.0</td>\n",
              "      <td>0.0</td>\n",
              "      <td>0.0</td>\n",
              "      <td>0.0</td>\n",
              "    </tr>\n",
              "    <tr>\n",
              "      <th>2</th>\n",
              "      <td>0.0</td>\n",
              "      <td>0.0</td>\n",
              "      <td>0.0</td>\n",
              "      <td>0.0</td>\n",
              "      <td>0.0</td>\n",
              "      <td>0.0</td>\n",
              "      <td>0.0</td>\n",
              "      <td>0.0</td>\n",
              "      <td>0.0</td>\n",
              "      <td>0.0</td>\n",
              "      <td>0.0</td>\n",
              "      <td>0.0</td>\n",
              "      <td>0.0</td>\n",
              "      <td>0.0</td>\n",
              "      <td>0.0</td>\n",
              "      <td>0.0</td>\n",
              "      <td>0.0</td>\n",
              "      <td>0.0</td>\n",
              "      <td>0.0</td>\n",
              "      <td>0.0</td>\n",
              "      <td>0.0</td>\n",
              "      <td>0.0</td>\n",
              "      <td>0.0</td>\n",
              "      <td>0.0</td>\n",
              "      <td>0.0</td>\n",
              "      <td>0.0</td>\n",
              "      <td>0.0</td>\n",
              "      <td>0.0</td>\n",
              "      <td>0.0</td>\n",
              "      <td>0.0</td>\n",
              "      <td>0.0</td>\n",
              "      <td>0.0</td>\n",
              "      <td>0.0</td>\n",
              "      <td>0.000000</td>\n",
              "      <td>0.0</td>\n",
              "      <td>0.0</td>\n",
              "      <td>0.0</td>\n",
              "      <td>0.0</td>\n",
              "      <td>0.0</td>\n",
              "      <td>0.0</td>\n",
              "      <td>...</td>\n",
              "      <td>0.0</td>\n",
              "      <td>0.0</td>\n",
              "      <td>0.0</td>\n",
              "      <td>0.0</td>\n",
              "      <td>0.0</td>\n",
              "      <td>0.0</td>\n",
              "      <td>0.0</td>\n",
              "      <td>0.0</td>\n",
              "      <td>0.0</td>\n",
              "      <td>0.0</td>\n",
              "      <td>0.0</td>\n",
              "      <td>0.0</td>\n",
              "      <td>0.0</td>\n",
              "      <td>0.0</td>\n",
              "      <td>0.0</td>\n",
              "      <td>0.000000</td>\n",
              "      <td>0.000000</td>\n",
              "      <td>0.0</td>\n",
              "      <td>0.0</td>\n",
              "      <td>0.0</td>\n",
              "      <td>0.0</td>\n",
              "      <td>0.0</td>\n",
              "      <td>0.0</td>\n",
              "      <td>0.0</td>\n",
              "      <td>0.0</td>\n",
              "      <td>0.0</td>\n",
              "      <td>0.0</td>\n",
              "      <td>0.0</td>\n",
              "      <td>0.0</td>\n",
              "      <td>0.0</td>\n",
              "      <td>0.0</td>\n",
              "      <td>0.0</td>\n",
              "      <td>0.0</td>\n",
              "      <td>0.0</td>\n",
              "      <td>0.0</td>\n",
              "      <td>0.0</td>\n",
              "      <td>0.0</td>\n",
              "      <td>0.0</td>\n",
              "      <td>0.0</td>\n",
              "      <td>0.0</td>\n",
              "    </tr>\n",
              "    <tr>\n",
              "      <th>3</th>\n",
              "      <td>0.0</td>\n",
              "      <td>0.0</td>\n",
              "      <td>0.0</td>\n",
              "      <td>0.0</td>\n",
              "      <td>0.0</td>\n",
              "      <td>0.0</td>\n",
              "      <td>0.0</td>\n",
              "      <td>0.0</td>\n",
              "      <td>0.0</td>\n",
              "      <td>0.0</td>\n",
              "      <td>0.0</td>\n",
              "      <td>0.0</td>\n",
              "      <td>0.0</td>\n",
              "      <td>0.0</td>\n",
              "      <td>0.0</td>\n",
              "      <td>0.0</td>\n",
              "      <td>0.0</td>\n",
              "      <td>0.0</td>\n",
              "      <td>0.0</td>\n",
              "      <td>0.0</td>\n",
              "      <td>0.0</td>\n",
              "      <td>0.0</td>\n",
              "      <td>0.0</td>\n",
              "      <td>0.0</td>\n",
              "      <td>0.0</td>\n",
              "      <td>0.0</td>\n",
              "      <td>0.0</td>\n",
              "      <td>0.0</td>\n",
              "      <td>0.0</td>\n",
              "      <td>0.0</td>\n",
              "      <td>0.0</td>\n",
              "      <td>0.0</td>\n",
              "      <td>0.0</td>\n",
              "      <td>0.000000</td>\n",
              "      <td>0.0</td>\n",
              "      <td>0.0</td>\n",
              "      <td>0.0</td>\n",
              "      <td>0.0</td>\n",
              "      <td>0.0</td>\n",
              "      <td>0.0</td>\n",
              "      <td>...</td>\n",
              "      <td>0.0</td>\n",
              "      <td>0.0</td>\n",
              "      <td>0.0</td>\n",
              "      <td>0.0</td>\n",
              "      <td>0.0</td>\n",
              "      <td>0.0</td>\n",
              "      <td>0.0</td>\n",
              "      <td>0.0</td>\n",
              "      <td>0.0</td>\n",
              "      <td>0.0</td>\n",
              "      <td>0.0</td>\n",
              "      <td>0.0</td>\n",
              "      <td>0.0</td>\n",
              "      <td>0.0</td>\n",
              "      <td>0.0</td>\n",
              "      <td>0.045106</td>\n",
              "      <td>0.044176</td>\n",
              "      <td>0.0</td>\n",
              "      <td>0.0</td>\n",
              "      <td>0.0</td>\n",
              "      <td>0.0</td>\n",
              "      <td>0.0</td>\n",
              "      <td>0.0</td>\n",
              "      <td>0.0</td>\n",
              "      <td>0.0</td>\n",
              "      <td>0.0</td>\n",
              "      <td>0.0</td>\n",
              "      <td>0.0</td>\n",
              "      <td>0.0</td>\n",
              "      <td>0.0</td>\n",
              "      <td>0.0</td>\n",
              "      <td>0.0</td>\n",
              "      <td>0.0</td>\n",
              "      <td>0.0</td>\n",
              "      <td>0.0</td>\n",
              "      <td>0.0</td>\n",
              "      <td>0.0</td>\n",
              "      <td>0.0</td>\n",
              "      <td>0.0</td>\n",
              "      <td>0.0</td>\n",
              "    </tr>\n",
              "    <tr>\n",
              "      <th>4</th>\n",
              "      <td>0.0</td>\n",
              "      <td>0.0</td>\n",
              "      <td>0.0</td>\n",
              "      <td>0.0</td>\n",
              "      <td>0.0</td>\n",
              "      <td>0.0</td>\n",
              "      <td>0.0</td>\n",
              "      <td>0.0</td>\n",
              "      <td>0.0</td>\n",
              "      <td>0.0</td>\n",
              "      <td>0.0</td>\n",
              "      <td>0.0</td>\n",
              "      <td>0.0</td>\n",
              "      <td>0.0</td>\n",
              "      <td>0.0</td>\n",
              "      <td>0.0</td>\n",
              "      <td>0.0</td>\n",
              "      <td>0.0</td>\n",
              "      <td>0.0</td>\n",
              "      <td>0.0</td>\n",
              "      <td>0.0</td>\n",
              "      <td>0.0</td>\n",
              "      <td>0.0</td>\n",
              "      <td>0.0</td>\n",
              "      <td>0.0</td>\n",
              "      <td>0.0</td>\n",
              "      <td>0.0</td>\n",
              "      <td>0.0</td>\n",
              "      <td>0.0</td>\n",
              "      <td>0.0</td>\n",
              "      <td>0.0</td>\n",
              "      <td>0.0</td>\n",
              "      <td>0.0</td>\n",
              "      <td>0.000000</td>\n",
              "      <td>0.0</td>\n",
              "      <td>0.0</td>\n",
              "      <td>0.0</td>\n",
              "      <td>0.0</td>\n",
              "      <td>0.0</td>\n",
              "      <td>0.0</td>\n",
              "      <td>...</td>\n",
              "      <td>0.0</td>\n",
              "      <td>0.0</td>\n",
              "      <td>0.0</td>\n",
              "      <td>0.0</td>\n",
              "      <td>0.0</td>\n",
              "      <td>0.0</td>\n",
              "      <td>0.0</td>\n",
              "      <td>0.0</td>\n",
              "      <td>0.0</td>\n",
              "      <td>0.0</td>\n",
              "      <td>0.0</td>\n",
              "      <td>0.0</td>\n",
              "      <td>0.0</td>\n",
              "      <td>0.0</td>\n",
              "      <td>0.0</td>\n",
              "      <td>0.000000</td>\n",
              "      <td>0.000000</td>\n",
              "      <td>0.0</td>\n",
              "      <td>0.0</td>\n",
              "      <td>0.0</td>\n",
              "      <td>0.0</td>\n",
              "      <td>0.0</td>\n",
              "      <td>0.0</td>\n",
              "      <td>0.0</td>\n",
              "      <td>0.0</td>\n",
              "      <td>0.0</td>\n",
              "      <td>0.0</td>\n",
              "      <td>0.0</td>\n",
              "      <td>0.0</td>\n",
              "      <td>0.0</td>\n",
              "      <td>0.0</td>\n",
              "      <td>0.0</td>\n",
              "      <td>0.0</td>\n",
              "      <td>0.0</td>\n",
              "      <td>0.0</td>\n",
              "      <td>0.0</td>\n",
              "      <td>0.0</td>\n",
              "      <td>0.0</td>\n",
              "      <td>0.0</td>\n",
              "      <td>0.0</td>\n",
              "    </tr>\n",
              "  </tbody>\n",
              "</table>\n",
              "<p>5 rows × 6982 columns</p>\n",
              "</div>"
            ],
            "text/plain": [
              "   aapl  aback  abandon  abc  ...  zipping  zombie  zuckerberg  zverev\n",
              "0   0.0    0.0      0.0  0.0  ...      0.0     0.0         0.0     0.0\n",
              "1   0.0    0.0      0.0  0.0  ...      0.0     0.0         0.0     0.0\n",
              "2   0.0    0.0      0.0  0.0  ...      0.0     0.0         0.0     0.0\n",
              "3   0.0    0.0      0.0  0.0  ...      0.0     0.0         0.0     0.0\n",
              "4   0.0    0.0      0.0  0.0  ...      0.0     0.0         0.0     0.0\n",
              "\n",
              "[5 rows x 6982 columns]"
            ]
          },
          "metadata": {
            "tags": []
          },
          "execution_count": 14
        }
      ]
    },
    {
      "cell_type": "markdown",
      "metadata": {
        "id": "NkTsl5xCRU-d",
        "colab_type": "text"
      },
      "source": [
        "##Pre_trained Embeddings"
      ]
    },
    {
      "cell_type": "code",
      "metadata": {
        "id": "OyEhf4PhRhfl",
        "colab_type": "code",
        "outputId": "bfca8d9e-c475-4037-81cf-6b67348afd4b",
        "colab": {
          "base_uri": "https://localhost:8080/",
          "height": 238
        }
      },
      "source": [
        "!wget https://dl.fbaipublicfiles.com/fasttext/vectors-english/crawl-300d-2M.vec.zip\n",
        "!unzip crawl-300d-2M.vec.zip"
      ],
      "execution_count": 0,
      "outputs": [
        {
          "output_type": "stream",
          "text": [
            "--2019-09-27 15:49:08--  https://dl.fbaipublicfiles.com/fasttext/vectors-english/crawl-300d-2M.vec.zip\n",
            "Resolving dl.fbaipublicfiles.com (dl.fbaipublicfiles.com)... 104.20.6.166, 104.20.22.166, 2606:4700:10::6814:16a6, ...\n",
            "Connecting to dl.fbaipublicfiles.com (dl.fbaipublicfiles.com)|104.20.6.166|:443... connected.\n",
            "HTTP request sent, awaiting response... 200 OK\n",
            "Length: 1523785255 (1.4G) [application/zip]\n",
            "Saving to: ‘crawl-300d-2M.vec.zip’\n",
            "\n",
            "crawl-300d-2M.vec.z 100%[===================>]   1.42G  13.6MB/s    in 1m 49s  \n",
            "\n",
            "2019-09-27 15:50:58 (13.3 MB/s) - ‘crawl-300d-2M.vec.zip’ saved [1523785255/1523785255]\n",
            "\n",
            "Archive:  crawl-300d-2M.vec.zip\n",
            "  inflating: crawl-300d-2M.vec       \n"
          ],
          "name": "stdout"
        }
      ]
    },
    {
      "cell_type": "code",
      "metadata": {
        "id": "pzgegfbhRUYt",
        "colab_type": "code",
        "colab": {}
      },
      "source": [
        "# load the pre-trained word-embedding vectors \n",
        "embeddings_index = {}\n",
        "for i, line in enumerate(open('crawl-300d-2M.vec')):\n",
        "    values = line.split()\n",
        "    embeddings_index[values[0]] = np.asarray(values[1:], dtype='float32')\n",
        "\n",
        "# create a tokenizer \n",
        "token = text.Tokenizer()\n",
        "token.fit_on_texts(all_data)\n",
        "word_index = token.word_index\n",
        "\n",
        "# convert text to sequence of tokens and pad them to ensure equal length vectors \n",
        "train_seq_x = sequence.pad_sequences(token.texts_to_sequences(train_x), maxlen=144)\n",
        "valid_seq_x = sequence.pad_sequences(token.texts_to_sequences(valid_x), maxlen=144)\n",
        "\n",
        "# create token-embedding mapping\n",
        "embedding_matrix = np.zeros((len(word_index) + 1, 300))\n",
        "for word, i in word_index.items():\n",
        "    embedding_vector = embeddings_index.get(word)\n",
        "    if embedding_vector is not None:\n",
        "        embedding_matrix[i] = embedding_vector"
      ],
      "execution_count": 0,
      "outputs": []
    },
    {
      "cell_type": "code",
      "metadata": {
        "id": "0MOIQyEGt5Oo",
        "colab_type": "code",
        "outputId": "fe653770-9288-43ef-b4cf-5f551d7bc4c6",
        "colab": {
          "base_uri": "https://localhost:8080/",
          "height": 51
        }
      },
      "source": [
        "max=0\n",
        "for i ,sent in enumerate(token.texts_to_sequences(train_x)):\n",
        "  if len(sent)>max:\n",
        "    max=len(sent)\n",
        "  if len(sent)>140:\n",
        "    print(i)\n",
        "\n",
        "print(max)"
      ],
      "execution_count": 0,
      "outputs": [
        {
          "output_type": "stream",
          "text": [
            "88\n",
            "144\n"
          ],
          "name": "stdout"
        }
      ]
    },
    {
      "cell_type": "code",
      "metadata": {
        "id": "A4ZGlYMzn4i7",
        "colab_type": "code",
        "outputId": "0a196188-5060-4118-f83e-09a518d42f61",
        "colab": {
          "base_uri": "https://localhost:8080/",
          "height": 34
        }
      },
      "source": [
        "embedding_matrix.shape"
      ],
      "execution_count": 0,
      "outputs": [
        {
          "output_type": "execute_result",
          "data": {
            "text/plain": [
              "(6983, 300)"
            ]
          },
          "metadata": {
            "tags": []
          },
          "execution_count": 20
        }
      ]
    },
    {
      "cell_type": "code",
      "metadata": {
        "id": "gA8WQOFkcL7l",
        "colab_type": "code",
        "outputId": "5c9dcaf1-ee5b-483f-a58c-4e3f911144ec",
        "colab": {
          "base_uri": "https://localhost:8080/",
          "height": 34
        }
      },
      "source": [
        "len(word_index.items())"
      ],
      "execution_count": 0,
      "outputs": [
        {
          "output_type": "execute_result",
          "data": {
            "text/plain": [
              "6982"
            ]
          },
          "metadata": {
            "tags": []
          },
          "execution_count": 21
        }
      ]
    },
    {
      "cell_type": "markdown",
      "metadata": {
        "id": "lRiS45ZRT4fz",
        "colab_type": "text"
      },
      "source": [
        "##Topic Models as features"
      ]
    },
    {
      "cell_type": "code",
      "metadata": {
        "id": "NDig_YKbTvU2",
        "colab_type": "code",
        "colab": {}
      },
      "source": [
        "# train a LDA Model\n",
        "lda_model = decomposition.LatentDirichletAllocation(n_components=20, learning_method='online', max_iter=20)\n",
        "X_topics = lda_model.fit_transform(xtrain_count)\n",
        "topic_word = lda_model.components_ \n",
        "vocab = count_vect.get_feature_names()\n",
        "\n",
        "# view the topic models\n",
        "n_top_words = 10\n",
        "topic_summaries = []\n",
        "for i, topic_dist in enumerate(topic_word):\n",
        "    topic_words = np.array(vocab)[np.argsort(topic_dist)][:-(n_top_words+1):-1]\n",
        "    topic_summaries.append(' '.join(topic_words))"
      ],
      "execution_count": 0,
      "outputs": []
    },
    {
      "cell_type": "code",
      "metadata": {
        "id": "7AUaAP0UwJoT",
        "colab_type": "code",
        "outputId": "11fd7e4b-f743-4ec5-867f-730bf4819bf6",
        "colab": {
          "base_uri": "https://localhost:8080/",
          "height": 34
        }
      },
      "source": [
        "X_topics.shape"
      ],
      "execution_count": 0,
      "outputs": [
        {
          "output_type": "execute_result",
          "data": {
            "text/plain": [
              "(384, 20)"
            ]
          },
          "metadata": {
            "tags": []
          },
          "execution_count": 24
        }
      ]
    },
    {
      "cell_type": "markdown",
      "metadata": {
        "id": "eKBYG_ryT4DS",
        "colab_type": "text"
      },
      "source": [
        "##Model Building"
      ]
    },
    {
      "cell_type": "code",
      "metadata": {
        "id": "SSwuw0KfT0N0",
        "colab_type": "code",
        "colab": {}
      },
      "source": [
        "from keras.utils import to_categorical\n",
        "from keras.metrics import categorical_accuracy \n",
        "from sklearn.metrics import precision_score, recall_score , f1_score , classification_report,precision_recall_fscore_support,accuracy_score\n",
        "import keras as keras\n",
        "\n",
        "class Metrix(keras.callbacks.Callback):\n",
        "    def on_train_begin(self, logs={}):\n",
        "        self._data = []\n",
        "\n",
        "    def on_epoch_end(self, batch, logs={}):\n",
        "        X_val, y_val = self.validation_data[0], self.validation_data[1]\n",
        "        y_predict = np.asarray(classifier.predict(X_val))\n",
        "        y_val = np.argmax(y_val, axis=1)\n",
        "        y_predict = np.argmax(y_predict, axis=1)\n",
        "\n",
        "        self._data.append({\n",
        "            'val_recall': recall_score(y_val, y_predict,average='weighted'),\n",
        "            'val_precision': precision_score(y_val, y_predict,average='weighted'),\n",
        "            'val_f1': f1_score(y_val, y_predict,average='weighted')\n",
        "        })\n",
        "        return\n",
        "\n",
        "    def get_data(self):\n",
        "        return self._data\n",
        "\n",
        "\n",
        "def train_model(classifier, feature_vector_train, label, feature_vector_valid, is_neural_net=False , epochs=1, show_report=True, print_pred=False,one_hot=False):\n",
        "    # fit the training dataset on the classifier\n",
        "    if one_hot:\n",
        "      label = to_categorical(label)\n",
        "    if is_neural_net:\n",
        "      \n",
        "      history = classifier.fit(feature_vector_train,label,epochs=epochs, validation_data=(feature_vector_valid, to_categorical(valid_y)), callbacks=[mtrix])\n",
        "    else:\n",
        "      classifier.fit(feature_vector_train, label)\n",
        "    \n",
        "    # predict the labels on validation dataset\n",
        "    predictions = classifier.predict(feature_vector_valid)\n",
        "    \n",
        "    if is_neural_net:\n",
        "        predictions = predictions.argmax(axis=-1)\n",
        "    \n",
        "    if print_pred:\n",
        "      print(predictions)\n",
        "    if show_report:\n",
        "      print(classification_report(valid_y,predictions))\n",
        "    if is_neural_net:\n",
        "      return accuracy_score(valid_y, predictions) , precision_recall_fscore_support(valid_y,predictions) , history\n",
        "    else:\n",
        "      return accuracy_score(valid_y, predictions) , precision_recall_fscore_support(valid_y,predictions)\n",
        "\n",
        "train_y = df_train_cleaned[\"label\"].apply(int).tolist()\n",
        "valid_y  = df_test_cleaned[\"label\"].apply(int).tolist()"
      ],
      "execution_count": 0,
      "outputs": []
    },
    {
      "cell_type": "markdown",
      "metadata": {
        "id": "R1B54KXhUYLt",
        "colab_type": "text"
      },
      "source": [
        "##Naive Bayes"
      ]
    },
    {
      "cell_type": "code",
      "metadata": {
        "id": "7Z09XTp0UTX3",
        "colab_type": "code",
        "outputId": "8d0e8fd5-7b61-49c4-e799-2bf6b6eed60b",
        "colab": {
          "base_uri": "https://localhost:8080/",
          "height": 1000
        }
      },
      "source": [
        "# Naive Bayes on Count Vectors\n",
        "accuracy , prfs = train_model(naive_bayes.MultinomialNB(), xtrain_count, train_y, xvalid_count,print_pred=True)\n",
        "print (\"NB, Count Vectors: \", accuracy)\n",
        "\n",
        "# Naive Bayes on Word Level TF IDF Vectors\n",
        "accuracy , prfs = train_model(naive_bayes.MultinomialNB(), xtrain_tfidf, train_y, xvalid_tfidf)\n",
        "print (\"NB, WordLevel TF-IDF: \", accuracy)\n",
        "\n",
        "# Naive Bayes on Ngram Level TF IDF Vectors\n",
        "accuracy , prfs = train_model(naive_bayes.MultinomialNB(), xtrain_tfidf_ngram, train_y, xvalid_tfidf_ngram)\n",
        "print (\"NB, N-Gram Vectors: \", accuracy)\n",
        "\n",
        "# Naive Bayes on Character Level TF IDF Vectors\n",
        "accuracy , prfs = train_model(naive_bayes.MultinomialNB(), xtrain_tfidf_ngram_chars, train_y, xvalid_tfidf_ngram_chars)\n",
        "print (\"NB, CharLevel Vectors: \", accuracy)\n",
        "\n",
        "# Naive Bayes on Character Level and word TF IDF Vectors\n",
        "accuracy , prfs = train_model(naive_bayes.MultinomialNB(), xtrain_tfidf_ngram_chars_words, train_y, xvalid_tfidf_ngram_chars_words)\n",
        "print (\"NB, CharLevel Vectors and N-Gram: \", accuracy)"
      ],
      "execution_count": 0,
      "outputs": [
        {
          "output_type": "stream",
          "text": [
            "[5 3 0 4 4 4 0 1 0 0 5 4 3 2 1 5 1 4 2 2 1 3 5 4 1 3 5 2 5 5 5 3 0 0 4 3 0\n",
            " 5 1 4 5 4 5 1 3 1 3 0]\n",
            "              precision    recall  f1-score   support\n",
            "\n",
            "           0       0.50      0.50      0.50         8\n",
            "           1       1.00      1.00      1.00         8\n",
            "           2       0.75      0.38      0.50         8\n",
            "           3       1.00      1.00      1.00         8\n",
            "           4       0.78      0.88      0.82         8\n",
            "           5       0.64      0.88      0.74         8\n",
            "\n",
            "    accuracy                           0.77        48\n",
            "   macro avg       0.78      0.77      0.76        48\n",
            "weighted avg       0.78      0.77      0.76        48\n",
            "\n",
            "NB, Count Vectors:  0.7708333333333334\n",
            "              precision    recall  f1-score   support\n",
            "\n",
            "           0       0.50      0.50      0.50         8\n",
            "           1       1.00      1.00      1.00         8\n",
            "           2       0.75      0.38      0.50         8\n",
            "           3       1.00      1.00      1.00         8\n",
            "           4       0.78      0.88      0.82         8\n",
            "           5       0.64      0.88      0.74         8\n",
            "\n",
            "    accuracy                           0.77        48\n",
            "   macro avg       0.78      0.77      0.76        48\n",
            "weighted avg       0.78      0.77      0.76        48\n",
            "\n",
            "NB, WordLevel TF-IDF:  0.7708333333333334\n",
            "              precision    recall  f1-score   support\n",
            "\n",
            "           0       0.50      0.50      0.50         8\n",
            "           1       0.89      1.00      0.94         8\n",
            "           2       0.75      0.38      0.50         8\n",
            "           3       1.00      0.88      0.93         8\n",
            "           4       0.78      0.88      0.82         8\n",
            "           5       0.64      0.88      0.74         8\n",
            "\n",
            "    accuracy                           0.75        48\n",
            "   macro avg       0.76      0.75      0.74        48\n",
            "weighted avg       0.76      0.75      0.74        48\n",
            "\n",
            "NB, N-Gram Vectors:  0.75\n",
            "              precision    recall  f1-score   support\n",
            "\n",
            "           0       0.60      0.75      0.67         8\n",
            "           1       1.00      0.88      0.93         8\n",
            "           2       0.80      0.50      0.62         8\n",
            "           3       0.89      1.00      0.94         8\n",
            "           4       0.73      1.00      0.84         8\n",
            "           5       0.67      0.50      0.57         8\n",
            "\n",
            "    accuracy                           0.77        48\n",
            "   macro avg       0.78      0.77      0.76        48\n",
            "weighted avg       0.78      0.77      0.76        48\n",
            "\n",
            "NB, CharLevel Vectors:  0.7708333333333334\n",
            "              precision    recall  f1-score   support\n",
            "\n",
            "           0       0.60      0.75      0.67         8\n",
            "           1       1.00      1.00      1.00         8\n",
            "           2       0.75      0.38      0.50         8\n",
            "           3       1.00      1.00      1.00         8\n",
            "           4       0.78      0.88      0.82         8\n",
            "           5       0.78      0.88      0.82         8\n",
            "\n",
            "    accuracy                           0.81        48\n",
            "   macro avg       0.82      0.81      0.80        48\n",
            "weighted avg       0.82      0.81      0.80        48\n",
            "\n",
            "NB, CharLevel Vectors and N-Gram:  0.8125\n"
          ],
          "name": "stdout"
        }
      ]
    },
    {
      "cell_type": "markdown",
      "metadata": {
        "id": "p--REB0DVaDW",
        "colab_type": "text"
      },
      "source": [
        "##Linear Classifier"
      ]
    },
    {
      "cell_type": "code",
      "metadata": {
        "id": "LO3B9oOoVI3X",
        "colab_type": "code",
        "outputId": "b900d124-f61f-417a-c487-3210d99be15f",
        "colab": {
          "base_uri": "https://localhost:8080/",
          "height": 1000
        }
      },
      "source": [
        "# Linear Classifier on Count Vectors\n",
        "accuracy , prfs = train_model(linear_model.LogisticRegression(), xtrain_count, train_y, xvalid_count,print_pred=True)\n",
        "print (\"LR, Count Vectors: \", accuracy)\n",
        "\n",
        "# Linear Classifier on Word Level TF IDF Vectors\n",
        "accuracy , prfs = train_model(linear_model.LogisticRegression(), xtrain_tfidf, train_y, xvalid_tfidf)\n",
        "print (\"LR, WordLevel TF-IDF: \", accuracy)\n",
        "\n",
        "# Linear Classifier on Ngram Level TF IDF Vectors\n",
        "accuracy , prfs = train_model(linear_model.LogisticRegression(), xtrain_tfidf_ngram, train_y, xvalid_tfidf_ngram)\n",
        "print (\"LR, N-Gram Vectors: \", accuracy)\n",
        "\n",
        "# Linear Classifier on Character Level TF IDF Vectors\n",
        "accuracy , prfs = train_model(linear_model.LogisticRegression(), xtrain_tfidf_ngram_chars, train_y, xvalid_tfidf_ngram_chars)\n",
        "print (\"LR, CharLevel Vectors: \", accuracy)\n",
        "\n",
        "# Linear Classifier on Character Level TF IDF Vectors\n",
        "accuracy , prfs = train_model(linear_model.LogisticRegression(), xtrain_tfidf_ngram_chars_words, train_y, xvalid_tfidf_ngram_chars_words)\n",
        "print (\"LR, CharLevel Vectors: \", accuracy)"
      ],
      "execution_count": 0,
      "outputs": [
        {
          "output_type": "stream",
          "text": [
            "/usr/local/lib/python3.6/dist-packages/sklearn/linear_model/logistic.py:432: FutureWarning: Default solver will be changed to 'lbfgs' in 0.22. Specify a solver to silence this warning.\n",
            "  FutureWarning)\n",
            "/usr/local/lib/python3.6/dist-packages/sklearn/linear_model/logistic.py:469: FutureWarning: Default multi_class will be changed to 'auto' in 0.22. Specify the multi_class option to silence this warning.\n",
            "  \"this warning.\", FutureWarning)\n"
          ],
          "name": "stderr"
        },
        {
          "output_type": "stream",
          "text": [
            "[4 3 0 4 4 4 0 1 0 0 4 4 3 2 1 5 1 4 2 2 3 3 5 4 1 3 5 2 5 5 5 3 0 0 4 3 0\n",
            " 5 1 4 5 4 5 1 3 1 3 0]\n",
            "              precision    recall  f1-score   support\n",
            "\n",
            "           0       0.50      0.50      0.50         8\n",
            "           1       1.00      0.88      0.93         8\n",
            "           2       0.75      0.38      0.50         8\n",
            "           3       0.89      1.00      0.94         8\n",
            "           4       0.64      0.88      0.74         8\n",
            "           5       0.67      0.75      0.71         8\n",
            "\n",
            "    accuracy                           0.73        48\n",
            "   macro avg       0.74      0.73      0.72        48\n",
            "weighted avg       0.74      0.73      0.72        48\n",
            "\n",
            "LR, Count Vectors:  0.7291666666666666\n",
            "              precision    recall  f1-score   support\n",
            "\n",
            "           0       0.50      0.50      0.50         8\n",
            "           1       1.00      0.88      0.93         8\n",
            "           2       0.75      0.38      0.50         8\n",
            "           3       0.89      1.00      0.94         8\n",
            "           4       0.70      0.88      0.78         8\n",
            "           5       0.60      0.75      0.67         8\n",
            "\n",
            "    accuracy                           0.73        48\n",
            "   macro avg       0.74      0.73      0.72        48\n",
            "weighted avg       0.74      0.73      0.72        48\n",
            "\n",
            "LR, WordLevel TF-IDF:  0.7291666666666666\n",
            "              precision    recall  f1-score   support\n",
            "\n",
            "           0       0.50      0.50      0.50         8\n",
            "           1       1.00      1.00      1.00         8\n",
            "           2       0.75      0.38      0.50         8\n",
            "           3       1.00      1.00      1.00         8\n",
            "           4       0.78      0.88      0.82         8\n",
            "           5       0.64      0.88      0.74         8\n",
            "\n",
            "    accuracy                           0.77        48\n",
            "   macro avg       0.78      0.77      0.76        48\n",
            "weighted avg       0.78      0.77      0.76        48\n",
            "\n",
            "LR, N-Gram Vectors:  0.7708333333333334\n",
            "              precision    recall  f1-score   support\n",
            "\n",
            "           0       0.55      0.75      0.63         8\n",
            "           1       1.00      0.88      0.93         8\n",
            "           2       0.75      0.38      0.50         8\n",
            "           3       0.89      1.00      0.94         8\n",
            "           4       0.89      1.00      0.94         8\n",
            "           5       0.75      0.75      0.75         8\n",
            "\n",
            "    accuracy                           0.79        48\n",
            "   macro avg       0.80      0.79      0.78        48\n",
            "weighted avg       0.80      0.79      0.78        48\n",
            "\n",
            "LR, CharLevel Vectors:  0.7916666666666666\n",
            "              precision    recall  f1-score   support\n",
            "\n",
            "           0       0.60      0.75      0.67         8\n",
            "           1       1.00      1.00      1.00         8\n",
            "           2       0.75      0.38      0.50         8\n",
            "           3       1.00      1.00      1.00         8\n",
            "           4       0.78      0.88      0.82         8\n",
            "           5       0.78      0.88      0.82         8\n",
            "\n",
            "    accuracy                           0.81        48\n",
            "   macro avg       0.82      0.81      0.80        48\n",
            "weighted avg       0.82      0.81      0.80        48\n",
            "\n",
            "LR, CharLevel Vectors:  0.8125\n"
          ],
          "name": "stdout"
        }
      ]
    },
    {
      "cell_type": "markdown",
      "metadata": {
        "id": "2UxaJAiHVeWF",
        "colab_type": "text"
      },
      "source": [
        "##SVM"
      ]
    },
    {
      "cell_type": "code",
      "metadata": {
        "id": "87IYhNAsVd9G",
        "colab_type": "code",
        "outputId": "5ef1d613-3816-4c1b-e653-dddbb5bb35ff",
        "colab": {
          "base_uri": "https://localhost:8080/",
          "height": 343
        }
      },
      "source": [
        "# SVM on Ngram Level TF IDF Vectors\n",
        "accuracy , prfs = train_model(svm.SVC(kernel='rbf',decision_function_shape ='ovo',cache_size=1024), xtrain_tfidf_ngram_chars_words, train_y, xvalid_tfidf_ngram_chars_words,print_pred=True)\n",
        "print (\"SVM, N-Gram Vectors: \", accuracy)"
      ],
      "execution_count": 0,
      "outputs": [
        {
          "output_type": "stream",
          "text": [
            "/usr/local/lib/python3.6/dist-packages/sklearn/svm/base.py:193: FutureWarning: The default value of gamma will change from 'auto' to 'scale' in version 0.22 to account better for unscaled features. Set gamma explicitly to 'auto' or 'scale' to avoid this warning.\n",
            "  \"avoid this warning.\", FutureWarning)\n"
          ],
          "name": "stderr"
        },
        {
          "output_type": "stream",
          "text": [
            "[5 3 0 4 2 4 2 1 0 0 2 4 3 2 1 5 1 2 2 2 3 3 2 4 1 3 5 2 5 5 2 3 2 0 2 3 0\n",
            " 2 1 4 2 2 5 2 3 1 3 0]\n",
            "              precision    recall  f1-score   support\n",
            "\n",
            "           0       0.67      0.50      0.57         8\n",
            "           1       1.00      0.75      0.86         8\n",
            "           2       0.38      0.75      0.50         8\n",
            "           3       0.89      1.00      0.94         8\n",
            "           4       0.80      0.50      0.62         8\n",
            "           5       0.67      0.50      0.57         8\n",
            "\n",
            "    accuracy                           0.67        48\n",
            "   macro avg       0.73      0.67      0.68        48\n",
            "weighted avg       0.73      0.67      0.68        48\n",
            "\n",
            "SVM, N-Gram Vectors:  0.6666666666666666\n"
          ],
          "name": "stdout"
        }
      ]
    },
    {
      "cell_type": "markdown",
      "metadata": {
        "id": "pjMQ4ncqVoY1",
        "colab_type": "text"
      },
      "source": [
        "##Bagging Model"
      ]
    },
    {
      "cell_type": "code",
      "metadata": {
        "id": "Ub5c45e8VmGF",
        "colab_type": "code",
        "outputId": "4f953fe6-26fb-490c-fe57-e68ac44daee1",
        "colab": {
          "base_uri": "https://localhost:8080/",
          "height": 629
        }
      },
      "source": [
        "# RF on Count Vectors\n",
        "accuracy , prfs = train_model(ensemble.RandomForestClassifier(), xtrain_count, train_y, xvalid_count,print_pred=True)\n",
        "print(\"RF, Count Vectors: \", accuracy)\n",
        "\n",
        "# RF on Word Level TF IDF Vectors\n",
        "accuracy , prfs = train_model(ensemble.RandomForestClassifier(), xtrain_tfidf, train_y, xvalid_tfidf)\n",
        "print(\"RF, WordLevel TF-IDF: \", accuracy)"
      ],
      "execution_count": 0,
      "outputs": [
        {
          "output_type": "stream",
          "text": [
            "[5 3 0 4 4 4 5 1 0 0 5 4 3 2 1 5 1 4 2 2 3 3 1 5 1 3 5 2 5 5 5 3 2 0 4 3 5\n",
            " 4 1 1 5 1 0 1 3 1 3 0]\n",
            "              precision    recall  f1-score   support\n",
            "\n",
            "           0       0.50      0.38      0.43         8\n",
            "           1       0.70      0.88      0.78         8\n",
            "           2       0.80      0.50      0.62         8\n",
            "           3       0.89      1.00      0.94         8\n",
            "           4       0.86      0.75      0.80         8\n",
            "           5       0.45      0.62      0.53         8\n",
            "\n",
            "    accuracy                           0.69        48\n",
            "   macro avg       0.70      0.69      0.68        48\n",
            "weighted avg       0.70      0.69      0.68        48\n",
            "\n",
            "RF, Count Vectors:  0.6875\n",
            "              precision    recall  f1-score   support\n",
            "\n",
            "           0       0.56      0.62      0.59         8\n",
            "           1       1.00      0.75      0.86         8\n",
            "           2       0.00      0.00      0.00         8\n",
            "           3       0.89      1.00      0.94         8\n",
            "           4       0.41      0.88      0.56         8\n",
            "           5       0.57      0.50      0.53         8\n",
            "\n",
            "    accuracy                           0.62        48\n",
            "   macro avg       0.57      0.62      0.58        48\n",
            "weighted avg       0.57      0.62      0.58        48\n",
            "\n",
            "RF, WordLevel TF-IDF:  0.625\n"
          ],
          "name": "stdout"
        },
        {
          "output_type": "stream",
          "text": [
            "/usr/local/lib/python3.6/dist-packages/sklearn/ensemble/forest.py:245: FutureWarning: The default value of n_estimators will change from 10 in version 0.20 to 100 in 0.22.\n",
            "  \"10 in version 0.20 to 100 in 0.22.\", FutureWarning)\n",
            "/usr/local/lib/python3.6/dist-packages/sklearn/ensemble/forest.py:245: FutureWarning: The default value of n_estimators will change from 10 in version 0.20 to 100 in 0.22.\n",
            "  \"10 in version 0.20 to 100 in 0.22.\", FutureWarning)\n",
            "/usr/local/lib/python3.6/dist-packages/sklearn/metrics/classification.py:1437: UndefinedMetricWarning: Precision and F-score are ill-defined and being set to 0.0 in labels with no predicted samples.\n",
            "  'precision', 'predicted', average, warn_for)\n"
          ],
          "name": "stderr"
        }
      ]
    },
    {
      "cell_type": "markdown",
      "metadata": {
        "id": "0-Mq30yhVyHO",
        "colab_type": "text"
      },
      "source": [
        "##Boosting Model"
      ]
    },
    {
      "cell_type": "code",
      "metadata": {
        "id": "RpaRNB1vVp4K",
        "colab_type": "code",
        "outputId": "8b9df1d8-5e88-4d84-f133-1591e79c156f",
        "colab": {
          "base_uri": "https://localhost:8080/",
          "height": 765
        }
      },
      "source": [
        "# Extereme Gradient Boosting on Count Vectors\n",
        "accuracy , prfs = train_model(xgboost.XGBClassifier(), xtrain_count.tocsc(), train_y, xvalid_count.tocsc(),print_pred=True)\n",
        "print(\"Xgb, Count Vectors: \", accuracy)\n",
        "\n",
        "# Extereme Gradient Boosting on Word Level TF IDF Vectors\n",
        "accuracy , prfs = train_model(xgboost.XGBClassifier(), xtrain_tfidf.tocsc(), train_y, xvalid_tfidf.tocsc())\n",
        "print(\"Xgb, WordLevel TF-IDF: \", accuracy)\n",
        "\n",
        "# Extereme Gradient Boosting on Character Level TF IDF Vectors\n",
        "accuracy , prfs = train_model(xgboost.XGBClassifier(), xtrain_tfidf_ngram_chars_words.tocsc(), train_y, xvalid_tfidf_ngram_chars_words.tocsc())\n",
        "print(\"Xgb, CharLevel Vectors: \", accuracy)"
      ],
      "execution_count": 0,
      "outputs": [
        {
          "output_type": "stream",
          "text": [
            "[5 3 0 4 4 4 0 1 0 2 0 4 3 2 1 4 1 4 2 2 3 3 5 5 1 3 5 0 5 5 1 3 2 0 4 3 0\n",
            " 5 1 2 0 4 5 0 3 1 3 0]\n",
            "              precision    recall  f1-score   support\n",
            "\n",
            "           0       0.60      0.75      0.67         8\n",
            "           1       0.86      0.75      0.80         8\n",
            "           2       0.67      0.50      0.57         8\n",
            "           3       0.89      1.00      0.94         8\n",
            "           4       0.75      0.75      0.75         8\n",
            "           5       0.75      0.75      0.75         8\n",
            "\n",
            "    accuracy                           0.75        48\n",
            "   macro avg       0.75      0.75      0.75        48\n",
            "weighted avg       0.75      0.75      0.75        48\n",
            "\n",
            "Xgb, Count Vectors:  0.75\n",
            "              precision    recall  f1-score   support\n",
            "\n",
            "           0       0.75      0.75      0.75         8\n",
            "           1       0.86      0.75      0.80         8\n",
            "           2       0.80      0.50      0.62         8\n",
            "           3       0.89      1.00      0.94         8\n",
            "           4       0.70      0.88      0.78         8\n",
            "           5       0.56      0.62      0.59         8\n",
            "\n",
            "    accuracy                           0.75        48\n",
            "   macro avg       0.76      0.75      0.75        48\n",
            "weighted avg       0.76      0.75      0.75        48\n",
            "\n",
            "Xgb, WordLevel TF-IDF:  0.75\n",
            "              precision    recall  f1-score   support\n",
            "\n",
            "           0       0.83      0.62      0.71         8\n",
            "           1       1.00      0.75      0.86         8\n",
            "           2       0.40      0.25      0.31         8\n",
            "           3       0.89      1.00      0.94         8\n",
            "           4       0.60      0.75      0.67         8\n",
            "           5       0.42      0.62      0.50         8\n",
            "\n",
            "    accuracy                           0.67        48\n",
            "   macro avg       0.69      0.67      0.66        48\n",
            "weighted avg       0.69      0.67      0.66        48\n",
            "\n",
            "Xgb, CharLevel Vectors:  0.6666666666666666\n"
          ],
          "name": "stdout"
        }
      ]
    },
    {
      "cell_type": "markdown",
      "metadata": {
        "id": "hfztcs7_WARv",
        "colab_type": "text"
      },
      "source": [
        "##Shallow Neural Network"
      ]
    },
    {
      "cell_type": "code",
      "metadata": {
        "id": "WHZriIUPV5Xl",
        "colab_type": "code",
        "colab": {}
      },
      "source": [
        "def create_model_architecture(input_size,num_layers=1):\n",
        "    # create input layer \n",
        "    input_layer = layers.Input((input_size, ), sparse=True)\n",
        "    \n",
        "    # create hidden layer\n",
        "    hidden_layer = layers.Dense(1000, activation=\"relu\")(input_layer)\n",
        "\n",
        "    if num_layers>1:\n",
        "      for i in range(num_layers-1):\n",
        "        hidden_layer = layers.Dense(int(1000/(10*i+1)), activation=\"relu\")(hidden_layer)\n",
        "        Dropout_layer = layers.Dropout(0.05)(hidden_layer)\n",
        "    \n",
        "    # create output layer\n",
        "    output_layer = layers.Dense(6, activation=\"sigmoid\")(hidden_layer)\n",
        "\n",
        "    classifier = models.Model(inputs = input_layer, outputs = output_layer)\n",
        "    classifier.compile(optimizer=optimizers.Adam(), loss='binary_crossentropy',metrics=[categorical_accuracy])\n",
        "    return classifier \n"
      ],
      "execution_count": 0,
      "outputs": []
    },
    {
      "cell_type": "code",
      "metadata": {
        "id": "TelCX85Enmah",
        "colab_type": "code",
        "outputId": "228f1354-8d0f-4e90-ca30-90d0d16ef3d7",
        "colab": {
          "base_uri": "https://localhost:8080/",
          "height": 1000
        }
      },
      "source": [
        "classifier = create_model_architecture(xtrain_tfidf_ngram.shape[1])\n",
        "mtrix=Metrix() \n",
        "accuracy , prfs , history = train_model(classifier, xtrain_tfidf_ngram, train_y, xvalid_tfidf_ngram, is_neural_net=True,epochs=10,print_pred=True,one_hot=True)\n",
        "print(\"NN, Ngram Level TF IDF Vectors\",  accuracy)"
      ],
      "execution_count": 0,
      "outputs": [
        {
          "output_type": "stream",
          "text": [
            "WARNING:tensorflow:From /usr/local/lib/python3.6/dist-packages/keras/backend/tensorflow_backend.py:66: The name tf.get_default_graph is deprecated. Please use tf.compat.v1.get_default_graph instead.\n",
            "\n",
            "WARNING:tensorflow:From /usr/local/lib/python3.6/dist-packages/keras/backend/tensorflow_backend.py:539: The name tf.sparse_placeholder is deprecated. Please use tf.compat.v1.sparse_placeholder instead.\n",
            "\n",
            "WARNING:tensorflow:From /usr/local/lib/python3.6/dist-packages/keras/backend/tensorflow_backend.py:4432: The name tf.random_uniform is deprecated. Please use tf.random.uniform instead.\n",
            "\n",
            "WARNING:tensorflow:From /usr/local/lib/python3.6/dist-packages/keras/backend/tensorflow_backend.py:1133: The name tf.sparse_tensor_dense_matmul is deprecated. Please use tf.sparse.sparse_dense_matmul instead.\n",
            "\n",
            "WARNING:tensorflow:From /usr/local/lib/python3.6/dist-packages/keras/optimizers.py:793: The name tf.train.Optimizer is deprecated. Please use tf.compat.v1.train.Optimizer instead.\n",
            "\n",
            "WARNING:tensorflow:From /usr/local/lib/python3.6/dist-packages/keras/backend/tensorflow_backend.py:541: The name tf.placeholder is deprecated. Please use tf.compat.v1.placeholder instead.\n",
            "\n",
            "WARNING:tensorflow:From /usr/local/lib/python3.6/dist-packages/tensorflow/python/ops/nn_impl.py:180: add_dispatch_support.<locals>.wrapper (from tensorflow.python.ops.array_ops) is deprecated and will be removed in a future version.\n",
            "Instructions for updating:\n",
            "Use tf.where in 2.0, which has the same broadcast rule as np.where\n",
            "Train on 384 samples, validate on 48 samples\n",
            "Epoch 1/10\n",
            "384/384 [==============================] - 7s 19ms/step - loss: 0.6660 - categorical_accuracy: 0.4818 - val_loss: 0.6361 - val_categorical_accuracy: 0.4375\n",
            "Epoch 2/10\n",
            " 96/384 [======>.......................] - ETA: 0s - loss: 0.5375 - categorical_accuracy: 1.0000"
          ],
          "name": "stdout"
        },
        {
          "output_type": "stream",
          "text": [
            "/usr/local/lib/python3.6/dist-packages/sklearn/metrics/classification.py:1437: UndefinedMetricWarning: Precision is ill-defined and being set to 0.0 in labels with no predicted samples.\n",
            "  'precision', 'predicted', average, warn_for)\n",
            "/usr/local/lib/python3.6/dist-packages/sklearn/metrics/classification.py:1437: UndefinedMetricWarning: F-score is ill-defined and being set to 0.0 in labels with no predicted samples.\n",
            "  'precision', 'predicted', average, warn_for)\n"
          ],
          "name": "stderr"
        },
        {
          "output_type": "stream",
          "text": [
            "384/384 [==============================] - 1s 2ms/step - loss: 0.4724 - categorical_accuracy: 1.0000 - val_loss: 0.5435 - val_categorical_accuracy: 0.4792\n",
            "Epoch 3/10\n",
            "384/384 [==============================] - 1s 2ms/step - loss: 0.3107 - categorical_accuracy: 1.0000 - val_loss: 0.4857 - val_categorical_accuracy: 0.4792\n",
            "Epoch 4/10\n",
            "384/384 [==============================] - 1s 2ms/step - loss: 0.1918 - categorical_accuracy: 1.0000 - val_loss: 0.4673 - val_categorical_accuracy: 0.5000\n",
            "Epoch 5/10\n",
            "384/384 [==============================] - 1s 2ms/step - loss: 0.0933 - categorical_accuracy: 1.0000 - val_loss: 0.4476 - val_categorical_accuracy: 0.5625\n",
            "Epoch 6/10\n",
            "384/384 [==============================] - 1s 2ms/step - loss: 0.0435 - categorical_accuracy: 1.0000 - val_loss: 0.4284 - val_categorical_accuracy: 0.5833\n",
            "Epoch 7/10\n",
            "384/384 [==============================] - 1s 2ms/step - loss: 0.0221 - categorical_accuracy: 1.0000 - val_loss: 0.4186 - val_categorical_accuracy: 0.5833\n",
            "Epoch 8/10\n",
            "384/384 [==============================] - 1s 2ms/step - loss: 0.0130 - categorical_accuracy: 1.0000 - val_loss: 0.4157 - val_categorical_accuracy: 0.5417\n",
            "Epoch 9/10\n",
            "384/384 [==============================] - 1s 2ms/step - loss: 0.0088 - categorical_accuracy: 1.0000 - val_loss: 0.4161 - val_categorical_accuracy: 0.5625\n",
            "Epoch 10/10\n",
            "384/384 [==============================] - 1s 2ms/step - loss: 0.0065 - categorical_accuracy: 1.0000 - val_loss: 0.4174 - val_categorical_accuracy: 0.5417\n",
            "[5 3 0 4 4 4 5 1 0 0 5 4 1 1 1 1 1 5 5 5 1 3 5 5 1 1 5 5 5 5 5 3 5 5 4 3 5\n",
            " 5 5 4 5 5 0 1 3 5 3 5]\n",
            "              precision    recall  f1-score   support\n",
            "\n",
            "           0       0.50      0.25      0.33         8\n",
            "           1       0.60      0.75      0.67         8\n",
            "           2       0.00      0.00      0.00         8\n",
            "           3       1.00      0.75      0.86         8\n",
            "           4       1.00      0.75      0.86         8\n",
            "           5       0.27      0.75      0.40         8\n",
            "\n",
            "    accuracy                           0.54        48\n",
            "   macro avg       0.56      0.54      0.52        48\n",
            "weighted avg       0.56      0.54      0.52        48\n",
            "\n",
            "NN, Ngram Level TF IDF Vectors 0.5416666666666666\n"
          ],
          "name": "stdout"
        },
        {
          "output_type": "stream",
          "text": [
            "/usr/local/lib/python3.6/dist-packages/sklearn/metrics/classification.py:1437: UndefinedMetricWarning: Precision and F-score are ill-defined and being set to 0.0 in labels with no predicted samples.\n",
            "  'precision', 'predicted', average, warn_for)\n"
          ],
          "name": "stderr"
        }
      ]
    },
    {
      "cell_type": "code",
      "metadata": {
        "id": "KQTSux8N9kBw",
        "colab_type": "code",
        "outputId": "c8a1154d-375b-4863-dcea-d6c7345bf25d",
        "colab": {
          "base_uri": "https://localhost:8080/",
          "height": 286
        }
      },
      "source": [
        "from matplotlib import pyplot as plt\n",
        "val_f1=[]\n",
        "val_precision=[]\n",
        "val_recall=[]\n",
        "for i in mtrix.get_data():\n",
        "  val_f1.append(i['val_f1'])\n",
        "  val_precision.append(i['val_precision'])\n",
        "  val_recall.append(i['val_recall'])\n",
        "\n",
        "plt.plot(val_f1)\n",
        "plt.plot(val_precision)\n",
        "plt.plot(val_recall)\n",
        "plt.legend(i.keys())"
      ],
      "execution_count": 0,
      "outputs": [
        {
          "output_type": "execute_result",
          "data": {
            "text/plain": [
              "<matplotlib.legend.Legend at 0x7fb77be04908>"
            ]
          },
          "metadata": {
            "tags": []
          },
          "execution_count": 136
        },
        {
          "output_type": "display_data",
          "data": {
            "image/png": "[encoded data removed]",
            "text/plain": [
              "<Figure size 432x288 with 1 Axes>"
            ]
          },
          "metadata": {
            "tags": []
          }
        }
      ]
    },
    {
      "cell_type": "code",
      "metadata": {
        "id": "9CSOcXDc-YhX",
        "colab_type": "code",
        "outputId": "a3146df6-5513-4ab3-bfab-f6fd4bc6f35a",
        "colab": {
          "base_uri": "https://localhost:8080/",
          "height": 527
        }
      },
      "source": [
        "mtrix.get_data()"
      ],
      "execution_count": 0,
      "outputs": [
        {
          "output_type": "execute_result",
          "data": {
            "text/plain": [
              "[{'val_f1': 0.18080808080808083,\n",
              "  'val_precision': 0.18568627450980393,\n",
              "  'val_recall': 0.2916666666666667},\n",
              " {'val_f1': 0.23435281971867336,\n",
              "  'val_precision': 0.45066045066045063,\n",
              "  'val_recall': 0.3333333333333333},\n",
              " {'val_f1': 0.2900027847396269,\n",
              "  'val_precision': 0.47860962566844917,\n",
              "  'val_recall': 0.375},\n",
              " {'val_f1': 0.28398692810457515,\n",
              "  'val_precision': 0.3429487179487179,\n",
              "  'val_recall': 0.3958333333333333},\n",
              " {'val_f1': 0.36279942279942273,\n",
              "  'val_precision': 0.32110536522301225,\n",
              "  'val_recall': 0.4791666666666667},\n",
              " {'val_f1': 0.4050039872408293,\n",
              "  'val_precision': 0.388560606060606,\n",
              "  'val_recall': 0.5},\n",
              " {'val_f1': 0.3901272789817682,\n",
              "  'val_precision': 0.3835331335331335,\n",
              "  'val_recall': 0.4791666666666667},\n",
              " {'val_f1': 0.4306882071825146,\n",
              "  'val_precision': 0.5431188175753393,\n",
              "  'val_recall': 0.4791666666666667},\n",
              " {'val_f1': 0.4260504201680672,\n",
              "  'val_precision': 0.4758852258852258,\n",
              "  'val_recall': 0.4791666666666667},\n",
              " {'val_f1': 0.44566514566514565,\n",
              "  'val_precision': 0.5499452654625069,\n",
              "  'val_recall': 0.4791666666666667}]"
            ]
          },
          "metadata": {
            "tags": []
          },
          "execution_count": 137
        }
      ]
    },
    {
      "cell_type": "markdown",
      "metadata": {
        "id": "Z-6ux4NDYntI",
        "colab_type": "text"
      },
      "source": [
        "##Deep Neural Networks"
      ]
    },
    {
      "cell_type": "code",
      "metadata": {
        "id": "IDuGCFSbWG8b",
        "colab_type": "code",
        "outputId": "40c09984-5120-4bd3-ae35-bff021a8fbea",
        "colab": {
          "base_uri": "https://localhost:8080/",
          "height": 1000
        }
      },
      "source": [
        "classifier = create_model_architecture(xtrain_tfidf_ngram.shape[1],num_layers=5)\n",
        "mtrix=Metrix() \n",
        "accuracy , prfs , history = train_model(classifier, xtrain_tfidf_ngram, train_y, xvalid_tfidf_ngram, is_neural_net=True,epochs=40,print_pred=True,one_hot=True)\n",
        "\n",
        "print(\"DN, Ngram Level TF IDF Vectors\",  accuracy)"
      ],
      "execution_count": 0,
      "outputs": [
        {
          "output_type": "stream",
          "text": [
            "Train on 384 samples, validate on 48 samples\n",
            "Epoch 1/40\n",
            "384/384 [==============================] - 14s 36ms/step - loss: 0.6292 - categorical_accuracy: 0.1693 - val_loss: 0.4936 - val_categorical_accuracy: 0.1667\n"
          ],
          "name": "stdout"
        },
        {
          "output_type": "stream",
          "text": [
            "/usr/local/lib/python3.6/dist-packages/sklearn/metrics/classification.py:1437: UndefinedMetricWarning: Precision is ill-defined and being set to 0.0 in labels with no predicted samples.\n",
            "  'precision', 'predicted', average, warn_for)\n",
            "/usr/local/lib/python3.6/dist-packages/sklearn/metrics/classification.py:1437: UndefinedMetricWarning: F-score is ill-defined and being set to 0.0 in labels with no predicted samples.\n",
            "  'precision', 'predicted', average, warn_for)\n"
          ],
          "name": "stderr"
        },
        {
          "output_type": "stream",
          "text": [
            "Epoch 2/40\n",
            "384/384 [==============================] - 8s 21ms/step - loss: 0.5013 - categorical_accuracy: 0.2370 - val_loss: 0.5772 - val_categorical_accuracy: 0.1667\n",
            "Epoch 3/40\n",
            "384/384 [==============================] - 8s 20ms/step - loss: 0.4230 - categorical_accuracy: 0.4922 - val_loss: 0.4841 - val_categorical_accuracy: 0.3333\n",
            "Epoch 4/40\n",
            "384/384 [==============================] - 8s 20ms/step - loss: 0.2798 - categorical_accuracy: 0.5495 - val_loss: 0.4443 - val_categorical_accuracy: 0.3542\n",
            "Epoch 5/40\n",
            "384/384 [==============================] - 8s 20ms/step - loss: 0.1764 - categorical_accuracy: 0.7266 - val_loss: 0.4539 - val_categorical_accuracy: 0.2083\n",
            "Epoch 6/40\n",
            "384/384 [==============================] - 8s 20ms/step - loss: 0.0605 - categorical_accuracy: 0.9688 - val_loss: 0.4622 - val_categorical_accuracy: 0.3750\n",
            "Epoch 7/40\n",
            "384/384 [==============================] - 8s 21ms/step - loss: 0.0055 - categorical_accuracy: 1.0000 - val_loss: 0.5742 - val_categorical_accuracy: 0.3542\n",
            "Epoch 8/40\n",
            "384/384 [==============================] - 8s 20ms/step - loss: 3.7071e-04 - categorical_accuracy: 1.0000 - val_loss: 0.6348 - val_categorical_accuracy: 0.3542\n",
            "Epoch 9/40\n",
            "384/384 [==============================] - 8s 20ms/step - loss: 1.0385e-04 - categorical_accuracy: 1.0000 - val_loss: 0.6637 - val_categorical_accuracy: 0.3750\n",
            "Epoch 10/40\n",
            "384/384 [==============================] - 8s 21ms/step - loss: 5.7237e-05 - categorical_accuracy: 1.0000 - val_loss: 0.6754 - val_categorical_accuracy: 0.3750\n",
            "Epoch 11/40\n",
            "384/384 [==============================] - 8s 21ms/step - loss: 4.3084e-05 - categorical_accuracy: 1.0000 - val_loss: 0.6813 - val_categorical_accuracy: 0.3750\n",
            "Epoch 12/40\n",
            "384/384 [==============================] - 8s 21ms/step - loss: 3.6262e-05 - categorical_accuracy: 1.0000 - val_loss: 0.6852 - val_categorical_accuracy: 0.3750\n",
            "Epoch 13/40\n",
            "384/384 [==============================] - 8s 21ms/step - loss: 3.1785e-05 - categorical_accuracy: 1.0000 - val_loss: 0.6881 - val_categorical_accuracy: 0.3750\n",
            "Epoch 14/40\n",
            "384/384 [==============================] - 8s 20ms/step - loss: 2.8124e-05 - categorical_accuracy: 1.0000 - val_loss: 0.6905 - val_categorical_accuracy: 0.3750\n",
            "Epoch 15/40\n",
            "384/384 [==============================] - 8s 21ms/step - loss: 2.5218e-05 - categorical_accuracy: 1.0000 - val_loss: 0.6926 - val_categorical_accuracy: 0.3750\n",
            "Epoch 16/40\n",
            "384/384 [==============================] - 8s 21ms/step - loss: 2.2743e-05 - categorical_accuracy: 1.0000 - val_loss: 0.6946 - val_categorical_accuracy: 0.3750\n",
            "Epoch 17/40\n",
            "320/384 [========================>.....] - ETA: 1s - loss: 2.1600e-05 - categorical_accuracy: 1.0000"
          ],
          "name": "stdout"
        },
        {
          "output_type": "error",
          "ename": "KeyboardInterrupt",
          "evalue": "ignored",
          "traceback": [
            "\u001b[0;31m---------------------------------------------------------------------------\u001b[0m",
            "\u001b[0;31mKeyboardInterrupt\u001b[0m                         Traceback (most recent call last)",
            "\u001b[0;32m<ipython-input-153-72c4279e1343>\u001b[0m in \u001b[0;36m<module>\u001b[0;34m()\u001b[0m\n\u001b[1;32m      1\u001b[0m \u001b[0mclassifier\u001b[0m \u001b[0;34m=\u001b[0m \u001b[0mcreate_model_architecture\u001b[0m\u001b[0;34m(\u001b[0m\u001b[0mxtrain_tfidf_ngram\u001b[0m\u001b[0;34m.\u001b[0m\u001b[0mshape\u001b[0m\u001b[0;34m[\u001b[0m\u001b[0;36m1\u001b[0m\u001b[0;34m]\u001b[0m\u001b[0;34m,\u001b[0m\u001b[0mnum_layers\u001b[0m\u001b[0;34m=\u001b[0m\u001b[0;36m5\u001b[0m\u001b[0;34m)\u001b[0m\u001b[0;34m\u001b[0m\u001b[0;34m\u001b[0m\u001b[0m\n\u001b[1;32m      2\u001b[0m \u001b[0mmtrix\u001b[0m\u001b[0;34m=\u001b[0m\u001b[0mMetrix\u001b[0m\u001b[0;34m(\u001b[0m\u001b[0;34m)\u001b[0m\u001b[0;34m\u001b[0m\u001b[0;34m\u001b[0m\u001b[0m\n\u001b[0;32m----> 3\u001b[0;31m \u001b[0maccuracy\u001b[0m \u001b[0;34m,\u001b[0m \u001b[0mprfs\u001b[0m \u001b[0;34m,\u001b[0m \u001b[0mhistory\u001b[0m \u001b[0;34m=\u001b[0m \u001b[0mtrain_model\u001b[0m\u001b[0;34m(\u001b[0m\u001b[0mclassifier\u001b[0m\u001b[0;34m,\u001b[0m \u001b[0mxtrain_tfidf_ngram\u001b[0m\u001b[0;34m,\u001b[0m \u001b[0mtrain_y\u001b[0m\u001b[0;34m,\u001b[0m \u001b[0mxvalid_tfidf_ngram\u001b[0m\u001b[0;34m,\u001b[0m \u001b[0mis_neural_net\u001b[0m\u001b[0;34m=\u001b[0m\u001b[0;32mTrue\u001b[0m\u001b[0;34m,\u001b[0m\u001b[0mepochs\u001b[0m\u001b[0;34m=\u001b[0m\u001b[0;36m40\u001b[0m\u001b[0;34m,\u001b[0m\u001b[0mprint_pred\u001b[0m\u001b[0;34m=\u001b[0m\u001b[0;32mTrue\u001b[0m\u001b[0;34m,\u001b[0m\u001b[0mone_hot\u001b[0m\u001b[0;34m=\u001b[0m\u001b[0;32mTrue\u001b[0m\u001b[0;34m)\u001b[0m\u001b[0;34m\u001b[0m\u001b[0;34m\u001b[0m\u001b[0m\n\u001b[0m\u001b[1;32m      4\u001b[0m \u001b[0;34m\u001b[0m\u001b[0m\n\u001b[1;32m      5\u001b[0m \u001b[0mprint\u001b[0m\u001b[0;34m(\u001b[0m\u001b[0;34m\"DN, Ngram Level TF IDF Vectors\"\u001b[0m\u001b[0;34m,\u001b[0m  \u001b[0maccuracy\u001b[0m\u001b[0;34m)\u001b[0m\u001b[0;34m\u001b[0m\u001b[0;34m\u001b[0m\u001b[0m\n",
            "\u001b[0;32m<ipython-input-133-2a85c2d31427>\u001b[0m in \u001b[0;36mtrain_model\u001b[0;34m(classifier, feature_vector_train, label, feature_vector_valid, is_neural_net, epochs, show_report, print_pred, one_hot)\u001b[0m\n\u001b[1;32m     31\u001b[0m     \u001b[0;32mif\u001b[0m \u001b[0mis_neural_net\u001b[0m\u001b[0;34m:\u001b[0m\u001b[0;34m\u001b[0m\u001b[0;34m\u001b[0m\u001b[0m\n\u001b[1;32m     32\u001b[0m \u001b[0;34m\u001b[0m\u001b[0m\n\u001b[0;32m---> 33\u001b[0;31m       \u001b[0mhistory\u001b[0m \u001b[0;34m=\u001b[0m \u001b[0mclassifier\u001b[0m\u001b[0;34m.\u001b[0m\u001b[0mfit\u001b[0m\u001b[0;34m(\u001b[0m\u001b[0mfeature_vector_train\u001b[0m\u001b[0;34m,\u001b[0m\u001b[0mlabel\u001b[0m\u001b[0;34m,\u001b[0m\u001b[0mepochs\u001b[0m\u001b[0;34m=\u001b[0m\u001b[0mepochs\u001b[0m\u001b[0;34m,\u001b[0m \u001b[0mvalidation_data\u001b[0m\u001b[0;34m=\u001b[0m\u001b[0;34m(\u001b[0m\u001b[0mfeature_vector_valid\u001b[0m\u001b[0;34m,\u001b[0m \u001b[0mto_categorical\u001b[0m\u001b[0;34m(\u001b[0m\u001b[0mvalid_y\u001b[0m\u001b[0;34m)\u001b[0m\u001b[0;34m)\u001b[0m\u001b[0;34m,\u001b[0m \u001b[0mcallbacks\u001b[0m\u001b[0;34m=\u001b[0m\u001b[0;34m[\u001b[0m\u001b[0mmtrix\u001b[0m\u001b[0;34m]\u001b[0m\u001b[0;34m)\u001b[0m\u001b[0;34m\u001b[0m\u001b[0;34m\u001b[0m\u001b[0m\n\u001b[0m\u001b[1;32m     34\u001b[0m     \u001b[0;32melse\u001b[0m\u001b[0;34m:\u001b[0m\u001b[0;34m\u001b[0m\u001b[0;34m\u001b[0m\u001b[0m\n\u001b[1;32m     35\u001b[0m       \u001b[0mclassifier\u001b[0m\u001b[0;34m.\u001b[0m\u001b[0mfit\u001b[0m\u001b[0;34m(\u001b[0m\u001b[0mfeature_vector_train\u001b[0m\u001b[0;34m,\u001b[0m \u001b[0mlabel\u001b[0m\u001b[0;34m)\u001b[0m\u001b[0;34m\u001b[0m\u001b[0;34m\u001b[0m\u001b[0m\n",
            "\u001b[0;32m/usr/local/lib/python3.6/dist-packages/keras/engine/training.py\u001b[0m in \u001b[0;36mfit\u001b[0;34m(self, x, y, batch_size, epochs, verbose, callbacks, validation_split, validation_data, shuffle, class_weight, sample_weight, initial_epoch, steps_per_epoch, validation_steps, validation_freq, max_queue_size, workers, use_multiprocessing, **kwargs)\u001b[0m\n\u001b[1;32m   1176\u001b[0m                                         \u001b[0msteps_per_epoch\u001b[0m\u001b[0;34m=\u001b[0m\u001b[0msteps_per_epoch\u001b[0m\u001b[0;34m,\u001b[0m\u001b[0;34m\u001b[0m\u001b[0;34m\u001b[0m\u001b[0m\n\u001b[1;32m   1177\u001b[0m                                         \u001b[0mvalidation_steps\u001b[0m\u001b[0;34m=\u001b[0m\u001b[0mvalidation_steps\u001b[0m\u001b[0;34m,\u001b[0m\u001b[0;34m\u001b[0m\u001b[0;34m\u001b[0m\u001b[0m\n\u001b[0;32m-> 1178\u001b[0;31m                                         validation_freq=validation_freq)\n\u001b[0m\u001b[1;32m   1179\u001b[0m \u001b[0;34m\u001b[0m\u001b[0m\n\u001b[1;32m   1180\u001b[0m     def evaluate(self,\n",
            "\u001b[0;32m/usr/local/lib/python3.6/dist-packages/keras/engine/training_arrays.py\u001b[0m in \u001b[0;36mfit_loop\u001b[0;34m(model, fit_function, fit_inputs, out_labels, batch_size, epochs, verbose, callbacks, val_function, val_inputs, shuffle, callback_metrics, initial_epoch, steps_per_epoch, validation_steps, validation_freq)\u001b[0m\n\u001b[1;32m    202\u001b[0m                     \u001b[0mins_batch\u001b[0m\u001b[0;34m[\u001b[0m\u001b[0mi\u001b[0m\u001b[0;34m]\u001b[0m \u001b[0;34m=\u001b[0m \u001b[0mins_batch\u001b[0m\u001b[0;34m[\u001b[0m\u001b[0mi\u001b[0m\u001b[0;34m]\u001b[0m\u001b[0;34m.\u001b[0m\u001b[0mtoarray\u001b[0m\u001b[0;34m(\u001b[0m\u001b[0;34m)\u001b[0m\u001b[0;34m\u001b[0m\u001b[0;34m\u001b[0m\u001b[0m\n\u001b[1;32m    203\u001b[0m \u001b[0;34m\u001b[0m\u001b[0m\n\u001b[0;32m--> 204\u001b[0;31m                 \u001b[0mouts\u001b[0m \u001b[0;34m=\u001b[0m \u001b[0mfit_function\u001b[0m\u001b[0;34m(\u001b[0m\u001b[0mins_batch\u001b[0m\u001b[0;34m)\u001b[0m\u001b[0;34m\u001b[0m\u001b[0;34m\u001b[0m\u001b[0m\n\u001b[0m\u001b[1;32m    205\u001b[0m                 \u001b[0mouts\u001b[0m \u001b[0;34m=\u001b[0m \u001b[0mto_list\u001b[0m\u001b[0;34m(\u001b[0m\u001b[0mouts\u001b[0m\u001b[0;34m)\u001b[0m\u001b[0;34m\u001b[0m\u001b[0;34m\u001b[0m\u001b[0m\n\u001b[1;32m    206\u001b[0m                 \u001b[0;32mfor\u001b[0m \u001b[0ml\u001b[0m\u001b[0;34m,\u001b[0m \u001b[0mo\u001b[0m \u001b[0;32min\u001b[0m \u001b[0mzip\u001b[0m\u001b[0;34m(\u001b[0m\u001b[0mout_labels\u001b[0m\u001b[0;34m,\u001b[0m \u001b[0mouts\u001b[0m\u001b[0;34m)\u001b[0m\u001b[0;34m:\u001b[0m\u001b[0;34m\u001b[0m\u001b[0;34m\u001b[0m\u001b[0m\n",
            "\u001b[0;32m/usr/local/lib/python3.6/dist-packages/keras/backend/tensorflow_backend.py\u001b[0m in \u001b[0;36m__call__\u001b[0;34m(self, inputs)\u001b[0m\n\u001b[1;32m   2963\u001b[0m                         \u001b[0;34m'Feeding from symbolic tensors is not '\u001b[0m\u001b[0;34m\u001b[0m\u001b[0;34m\u001b[0m\u001b[0m\n\u001b[1;32m   2964\u001b[0m                         'supported with sparse inputs.')\n\u001b[0;32m-> 2965\u001b[0;31m                 \u001b[0;32mreturn\u001b[0m \u001b[0mself\u001b[0m\u001b[0;34m.\u001b[0m\u001b[0m_legacy_call\u001b[0m\u001b[0;34m(\u001b[0m\u001b[0minputs\u001b[0m\u001b[0;34m)\u001b[0m\u001b[0;34m\u001b[0m\u001b[0;34m\u001b[0m\u001b[0m\n\u001b[0m\u001b[1;32m   2966\u001b[0m \u001b[0;34m\u001b[0m\u001b[0m\n\u001b[1;32m   2967\u001b[0m             \u001b[0;31m# callable generated by Session._make_callable_from_options accepts\u001b[0m\u001b[0;34m\u001b[0m\u001b[0;34m\u001b[0m\u001b[0;34m\u001b[0m\u001b[0m\n",
            "\u001b[0;32m/usr/local/lib/python3.6/dist-packages/keras/backend/tensorflow_backend.py\u001b[0m in \u001b[0;36m_legacy_call\u001b[0;34m(self, inputs)\u001b[0m\n\u001b[1;32m   2953\u001b[0m         \u001b[0msession\u001b[0m \u001b[0;34m=\u001b[0m \u001b[0mget_session\u001b[0m\u001b[0;34m(\u001b[0m\u001b[0;34m)\u001b[0m\u001b[0;34m\u001b[0m\u001b[0;34m\u001b[0m\u001b[0m\n\u001b[1;32m   2954\u001b[0m         updated = session.run(fetches=fetches, feed_dict=feed_dict,\n\u001b[0;32m-> 2955\u001b[0;31m                               **self.session_kwargs)\n\u001b[0m\u001b[1;32m   2956\u001b[0m         \u001b[0;32mreturn\u001b[0m \u001b[0mupdated\u001b[0m\u001b[0;34m[\u001b[0m\u001b[0;34m:\u001b[0m\u001b[0mlen\u001b[0m\u001b[0;34m(\u001b[0m\u001b[0mself\u001b[0m\u001b[0;34m.\u001b[0m\u001b[0moutputs\u001b[0m\u001b[0;34m)\u001b[0m\u001b[0;34m]\u001b[0m\u001b[0;34m\u001b[0m\u001b[0;34m\u001b[0m\u001b[0m\n\u001b[1;32m   2957\u001b[0m \u001b[0;34m\u001b[0m\u001b[0m\n",
            "\u001b[0;32m/usr/local/lib/python3.6/dist-packages/tensorflow/python/client/session.py\u001b[0m in \u001b[0;36mrun\u001b[0;34m(self, fetches, feed_dict, options, run_metadata)\u001b[0m\n\u001b[1;32m    948\u001b[0m     \u001b[0;32mtry\u001b[0m\u001b[0;34m:\u001b[0m\u001b[0;34m\u001b[0m\u001b[0;34m\u001b[0m\u001b[0m\n\u001b[1;32m    949\u001b[0m       result = self._run(None, fetches, feed_dict, options_ptr,\n\u001b[0;32m--> 950\u001b[0;31m                          run_metadata_ptr)\n\u001b[0m\u001b[1;32m    951\u001b[0m       \u001b[0;32mif\u001b[0m \u001b[0mrun_metadata\u001b[0m\u001b[0;34m:\u001b[0m\u001b[0;34m\u001b[0m\u001b[0;34m\u001b[0m\u001b[0m\n\u001b[1;32m    952\u001b[0m         \u001b[0mproto_data\u001b[0m \u001b[0;34m=\u001b[0m \u001b[0mtf_session\u001b[0m\u001b[0;34m.\u001b[0m\u001b[0mTF_GetBuffer\u001b[0m\u001b[0;34m(\u001b[0m\u001b[0mrun_metadata_ptr\u001b[0m\u001b[0;34m)\u001b[0m\u001b[0;34m\u001b[0m\u001b[0;34m\u001b[0m\u001b[0m\n",
            "\u001b[0;32m/usr/local/lib/python3.6/dist-packages/tensorflow/python/client/session.py\u001b[0m in \u001b[0;36m_run\u001b[0;34m(self, handle, fetches, feed_dict, options, run_metadata)\u001b[0m\n\u001b[1;32m   1171\u001b[0m     \u001b[0;32mif\u001b[0m \u001b[0mfinal_fetches\u001b[0m \u001b[0;32mor\u001b[0m \u001b[0mfinal_targets\u001b[0m \u001b[0;32mor\u001b[0m \u001b[0;34m(\u001b[0m\u001b[0mhandle\u001b[0m \u001b[0;32mand\u001b[0m \u001b[0mfeed_dict_tensor\u001b[0m\u001b[0;34m)\u001b[0m\u001b[0;34m:\u001b[0m\u001b[0;34m\u001b[0m\u001b[0;34m\u001b[0m\u001b[0m\n\u001b[1;32m   1172\u001b[0m       results = self._do_run(handle, final_targets, final_fetches,\n\u001b[0;32m-> 1173\u001b[0;31m                              feed_dict_tensor, options, run_metadata)\n\u001b[0m\u001b[1;32m   1174\u001b[0m     \u001b[0;32melse\u001b[0m\u001b[0;34m:\u001b[0m\u001b[0;34m\u001b[0m\u001b[0;34m\u001b[0m\u001b[0m\n\u001b[1;32m   1175\u001b[0m       \u001b[0mresults\u001b[0m \u001b[0;34m=\u001b[0m \u001b[0;34m[\u001b[0m\u001b[0;34m]\u001b[0m\u001b[0;34m\u001b[0m\u001b[0;34m\u001b[0m\u001b[0m\n",
            "\u001b[0;32m/usr/local/lib/python3.6/dist-packages/tensorflow/python/client/session.py\u001b[0m in \u001b[0;36m_do_run\u001b[0;34m(self, handle, target_list, fetch_list, feed_dict, options, run_metadata)\u001b[0m\n\u001b[1;32m   1348\u001b[0m     \u001b[0;32mif\u001b[0m \u001b[0mhandle\u001b[0m \u001b[0;32mis\u001b[0m \u001b[0;32mNone\u001b[0m\u001b[0;34m:\u001b[0m\u001b[0;34m\u001b[0m\u001b[0;34m\u001b[0m\u001b[0m\n\u001b[1;32m   1349\u001b[0m       return self._do_call(_run_fn, feeds, fetches, targets, options,\n\u001b[0;32m-> 1350\u001b[0;31m                            run_metadata)\n\u001b[0m\u001b[1;32m   1351\u001b[0m     \u001b[0;32melse\u001b[0m\u001b[0;34m:\u001b[0m\u001b[0;34m\u001b[0m\u001b[0;34m\u001b[0m\u001b[0m\n\u001b[1;32m   1352\u001b[0m       \u001b[0;32mreturn\u001b[0m \u001b[0mself\u001b[0m\u001b[0;34m.\u001b[0m\u001b[0m_do_call\u001b[0m\u001b[0;34m(\u001b[0m\u001b[0m_prun_fn\u001b[0m\u001b[0;34m,\u001b[0m \u001b[0mhandle\u001b[0m\u001b[0;34m,\u001b[0m \u001b[0mfeeds\u001b[0m\u001b[0;34m,\u001b[0m \u001b[0mfetches\u001b[0m\u001b[0;34m)\u001b[0m\u001b[0;34m\u001b[0m\u001b[0;34m\u001b[0m\u001b[0m\n",
            "\u001b[0;32m/usr/local/lib/python3.6/dist-packages/tensorflow/python/client/session.py\u001b[0m in \u001b[0;36m_do_call\u001b[0;34m(self, fn, *args)\u001b[0m\n\u001b[1;32m   1354\u001b[0m   \u001b[0;32mdef\u001b[0m \u001b[0m_do_call\u001b[0m\u001b[0;34m(\u001b[0m\u001b[0mself\u001b[0m\u001b[0;34m,\u001b[0m \u001b[0mfn\u001b[0m\u001b[0;34m,\u001b[0m \u001b[0;34m*\u001b[0m\u001b[0margs\u001b[0m\u001b[0;34m)\u001b[0m\u001b[0;34m:\u001b[0m\u001b[0;34m\u001b[0m\u001b[0;34m\u001b[0m\u001b[0m\n\u001b[1;32m   1355\u001b[0m     \u001b[0;32mtry\u001b[0m\u001b[0;34m:\u001b[0m\u001b[0;34m\u001b[0m\u001b[0;34m\u001b[0m\u001b[0m\n\u001b[0;32m-> 1356\u001b[0;31m       \u001b[0;32mreturn\u001b[0m \u001b[0mfn\u001b[0m\u001b[0;34m(\u001b[0m\u001b[0;34m*\u001b[0m\u001b[0margs\u001b[0m\u001b[0;34m)\u001b[0m\u001b[0;34m\u001b[0m\u001b[0;34m\u001b[0m\u001b[0m\n\u001b[0m\u001b[1;32m   1357\u001b[0m     \u001b[0;32mexcept\u001b[0m \u001b[0merrors\u001b[0m\u001b[0;34m.\u001b[0m\u001b[0mOpError\u001b[0m \u001b[0;32mas\u001b[0m \u001b[0me\u001b[0m\u001b[0;34m:\u001b[0m\u001b[0;34m\u001b[0m\u001b[0;34m\u001b[0m\u001b[0m\n\u001b[1;32m   1358\u001b[0m       \u001b[0mmessage\u001b[0m \u001b[0;34m=\u001b[0m \u001b[0mcompat\u001b[0m\u001b[0;34m.\u001b[0m\u001b[0mas_text\u001b[0m\u001b[0;34m(\u001b[0m\u001b[0me\u001b[0m\u001b[0;34m.\u001b[0m\u001b[0mmessage\u001b[0m\u001b[0;34m)\u001b[0m\u001b[0;34m\u001b[0m\u001b[0;34m\u001b[0m\u001b[0m\n",
            "\u001b[0;32m/usr/local/lib/python3.6/dist-packages/tensorflow/python/client/session.py\u001b[0m in \u001b[0;36m_run_fn\u001b[0;34m(feed_dict, fetch_list, target_list, options, run_metadata)\u001b[0m\n\u001b[1;32m   1339\u001b[0m       \u001b[0mself\u001b[0m\u001b[0;34m.\u001b[0m\u001b[0m_extend_graph\u001b[0m\u001b[0;34m(\u001b[0m\u001b[0;34m)\u001b[0m\u001b[0;34m\u001b[0m\u001b[0;34m\u001b[0m\u001b[0m\n\u001b[1;32m   1340\u001b[0m       return self._call_tf_sessionrun(\n\u001b[0;32m-> 1341\u001b[0;31m           options, feed_dict, fetch_list, target_list, run_metadata)\n\u001b[0m\u001b[1;32m   1342\u001b[0m \u001b[0;34m\u001b[0m\u001b[0m\n\u001b[1;32m   1343\u001b[0m     \u001b[0;32mdef\u001b[0m \u001b[0m_prun_fn\u001b[0m\u001b[0;34m(\u001b[0m\u001b[0mhandle\u001b[0m\u001b[0;34m,\u001b[0m \u001b[0mfeed_dict\u001b[0m\u001b[0;34m,\u001b[0m \u001b[0mfetch_list\u001b[0m\u001b[0;34m)\u001b[0m\u001b[0;34m:\u001b[0m\u001b[0;34m\u001b[0m\u001b[0;34m\u001b[0m\u001b[0m\n",
            "\u001b[0;32m/usr/local/lib/python3.6/dist-packages/tensorflow/python/client/session.py\u001b[0m in \u001b[0;36m_call_tf_sessionrun\u001b[0;34m(self, options, feed_dict, fetch_list, target_list, run_metadata)\u001b[0m\n\u001b[1;32m   1427\u001b[0m     return tf_session.TF_SessionRun_wrapper(\n\u001b[1;32m   1428\u001b[0m         \u001b[0mself\u001b[0m\u001b[0;34m.\u001b[0m\u001b[0m_session\u001b[0m\u001b[0;34m,\u001b[0m \u001b[0moptions\u001b[0m\u001b[0;34m,\u001b[0m \u001b[0mfeed_dict\u001b[0m\u001b[0;34m,\u001b[0m \u001b[0mfetch_list\u001b[0m\u001b[0;34m,\u001b[0m \u001b[0mtarget_list\u001b[0m\u001b[0;34m,\u001b[0m\u001b[0;34m\u001b[0m\u001b[0;34m\u001b[0m\u001b[0m\n\u001b[0;32m-> 1429\u001b[0;31m         run_metadata)\n\u001b[0m\u001b[1;32m   1430\u001b[0m \u001b[0;34m\u001b[0m\u001b[0m\n\u001b[1;32m   1431\u001b[0m   \u001b[0;32mdef\u001b[0m \u001b[0m_call_tf_sessionprun\u001b[0m\u001b[0;34m(\u001b[0m\u001b[0mself\u001b[0m\u001b[0;34m,\u001b[0m \u001b[0mhandle\u001b[0m\u001b[0;34m,\u001b[0m \u001b[0mfeed_dict\u001b[0m\u001b[0;34m,\u001b[0m \u001b[0mfetch_list\u001b[0m\u001b[0;34m)\u001b[0m\u001b[0;34m:\u001b[0m\u001b[0;34m\u001b[0m\u001b[0;34m\u001b[0m\u001b[0m\n",
            "\u001b[0;31mKeyboardInterrupt\u001b[0m: "
          ]
        }
      ]
    },
    {
      "cell_type": "code",
      "metadata": {
        "id": "WhHFdqdPCfdO",
        "colab_type": "code",
        "outputId": "4679a04a-c944-40b7-dad5-d5373922bc0e",
        "colab": {
          "base_uri": "https://localhost:8080/",
          "height": 286
        }
      },
      "source": [
        "from matplotlib import pyplot as plt\n",
        "val_f1=[]\n",
        "val_precision=[]\n",
        "val_recall=[]\n",
        "for i in mtrix.get_data():\n",
        "  val_f1.append(i['val_f1'])\n",
        "  val_precision.append(i['val_precision'])\n",
        "  val_recall.append(i['val_recall'])\n",
        "\n",
        "plt.plot(val_f1)\n",
        "plt.plot(val_precision)\n",
        "plt.plot(val_recall)\n",
        "plt.legend(i.keys())"
      ],
      "execution_count": 0,
      "outputs": [
        {
          "output_type": "execute_result",
          "data": {
            "text/plain": [
              "<matplotlib.legend.Legend at 0x7fb778bacbe0>"
            ]
          },
          "metadata": {
            "tags": []
          },
          "execution_count": 154
        },
        {
          "output_type": "display_data",
          "data": {
            "image/png": "[encoded data removed]",
            "text/plain": [
              "<Figure size 432x288 with 1 Axes>"
            ]
          },
          "metadata": {
            "tags": []
          }
        }
      ]
    },
    {
      "cell_type": "markdown",
      "metadata": {
        "id": "UyEAqKTooSPD",
        "colab_type": "text"
      },
      "source": [
        "##CNN"
      ]
    },
    {
      "cell_type": "code",
      "metadata": {
        "id": "eF2qakAgWoo1",
        "colab_type": "code",
        "outputId": "ef6ac04c-0d7c-4702-e8bb-062f369b9827",
        "colab": {
          "base_uri": "https://localhost:8080/",
          "height": 1000
        }
      },
      "source": [
        "def create_cnn():\n",
        "    # Add an Input Layer\n",
        "    input_layer = layers.Input((144, ))\n",
        "\n",
        "    # Add the word embedding Layer\n",
        "    embedding_layer = layers.Embedding(len(word_index) + 1, 300, weights=[embedding_matrix], trainable=False)(input_layer)\n",
        "    #embedding_layer = layers.SpatialDropout1D(0)(embedding_layer)\n",
        "    #print(embedding_layer)\n",
        "    #embedding_layer = layers.Reshape((300,144))(embedding_layer)\n",
        "    #print(embedding_layer)\n",
        "    # Add the convolutional Layer\n",
        "    conv_layer = layers.Convolution1D(256, 5, activation=\"relu\")(embedding_layer)\n",
        "\n",
        "    pooling_layer = layers.MaxPooling1D(2)(conv_layer)\n",
        "\n",
        "    conv_layer2 = layers.Convolution1D(64, 5, activation=\"relu\")(pooling_layer)\n",
        "    \n",
        "    pooling_layer2 = layers.MaxPooling1D(2)(conv_layer2)\n",
        "\n",
        "    #conv_layer3 = layers.Convolution1D(128, 5, activation=\"relu\")(pooling_layer2)\n",
        "    \n",
        "    #pooling_layer3 = layers.MaxPooling1D(35)(conv_layer3)\n",
        "    l_flat = layers.Flatten()(conv_layer2)\n",
        "    # Add the output Layers\n",
        "    output_layer1 = layers.Dense(64, activation=\"relu\")(l_flat)\n",
        "    output_layer1 = layers.Dropout(0.1)(output_layer1)\n",
        "    output_layer2 = layers.Dense(6, activation=\"sigmoid\")(output_layer1)\n",
        "\n",
        "    # Compile the model\n",
        "    model = models.Model(inputs=input_layer, outputs=output_layer2)\n",
        "    model.compile(optimizer=optimizers.Adam(), loss='binary_crossentropy',metrics=[categorical_accuracy])\n",
        "    \n",
        "    return model\n",
        "\n",
        "classifier = create_cnn()\n",
        "mtrix=Metrix()\n",
        "accuracy = train_model(classifier, train_seq_x, train_y, valid_seq_x, is_neural_net=True,epochs=40,print_pred=False,one_hot=True)\n",
        "print(\"CNN, Word Embeddings\",  accuracy)"
      ],
      "execution_count": 0,
      "outputs": [
        {
          "output_type": "stream",
          "text": [
            "Train on 384 samples, validate on 48 samples\n",
            "Epoch 1/40\n",
            "384/384 [==============================] - 4s 10ms/step - loss: 0.4944 - categorical_accuracy: 0.2500 - val_loss: 0.4257 - val_categorical_accuracy: 0.2292\n",
            "Epoch 2/40\n",
            "384/384 [==============================] - 0s 507us/step - loss: 0.3486 - categorical_accuracy: 0.5651 - val_loss: 0.3463 - val_categorical_accuracy: 0.5208\n"
          ],
          "name": "stdout"
        },
        {
          "output_type": "stream",
          "text": [
            "/usr/local/lib/python3.6/dist-packages/sklearn/metrics/classification.py:1437: UndefinedMetricWarning: Precision is ill-defined and being set to 0.0 in labels with no predicted samples.\n",
            "  'precision', 'predicted', average, warn_for)\n",
            "/usr/local/lib/python3.6/dist-packages/sklearn/metrics/classification.py:1437: UndefinedMetricWarning: F-score is ill-defined and being set to 0.0 in labels with no predicted samples.\n",
            "  'precision', 'predicted', average, warn_for)\n"
          ],
          "name": "stderr"
        },
        {
          "output_type": "stream",
          "text": [
            "Epoch 3/40\n",
            "384/384 [==============================] - 0s 489us/step - loss: 0.2044 - categorical_accuracy: 0.8177 - val_loss: 0.2741 - val_categorical_accuracy: 0.6042\n",
            "Epoch 4/40\n",
            "384/384 [==============================] - 0s 487us/step - loss: 0.0989 - categorical_accuracy: 0.9531 - val_loss: 0.2672 - val_categorical_accuracy: 0.6458\n",
            "Epoch 5/40\n",
            "384/384 [==============================] - 0s 463us/step - loss: 0.0471 - categorical_accuracy: 0.9818 - val_loss: 0.3009 - val_categorical_accuracy: 0.7500\n",
            "Epoch 6/40\n",
            "384/384 [==============================] - 0s 487us/step - loss: 0.0235 - categorical_accuracy: 0.9922 - val_loss: 0.2998 - val_categorical_accuracy: 0.7292\n",
            "Epoch 7/40\n",
            "384/384 [==============================] - 0s 479us/step - loss: 0.0109 - categorical_accuracy: 1.0000 - val_loss: 0.3237 - val_categorical_accuracy: 0.7083\n",
            "Epoch 8/40\n",
            "384/384 [==============================] - 0s 479us/step - loss: 0.0056 - categorical_accuracy: 1.0000 - val_loss: 0.2681 - val_categorical_accuracy: 0.7708\n",
            "Epoch 9/40\n",
            "384/384 [==============================] - 0s 461us/step - loss: 0.0035 - categorical_accuracy: 1.0000 - val_loss: 0.3192 - val_categorical_accuracy: 0.7500\n",
            "Epoch 10/40\n",
            "384/384 [==============================] - 0s 483us/step - loss: 0.0019 - categorical_accuracy: 1.0000 - val_loss: 0.3464 - val_categorical_accuracy: 0.7500\n",
            "Epoch 11/40\n",
            "384/384 [==============================] - 0s 460us/step - loss: 0.0022 - categorical_accuracy: 1.0000 - val_loss: 0.3582 - val_categorical_accuracy: 0.7083\n",
            "Epoch 12/40\n",
            "384/384 [==============================] - 0s 467us/step - loss: 0.0020 - categorical_accuracy: 1.0000 - val_loss: 0.3280 - val_categorical_accuracy: 0.7292\n",
            "Epoch 13/40\n",
            "384/384 [==============================] - 0s 458us/step - loss: 0.0016 - categorical_accuracy: 1.0000 - val_loss: 0.3427 - val_categorical_accuracy: 0.7500\n",
            "Epoch 14/40\n",
            "384/384 [==============================] - 0s 456us/step - loss: 0.0029 - categorical_accuracy: 1.0000 - val_loss: 0.2964 - val_categorical_accuracy: 0.7708\n",
            "Epoch 15/40\n",
            "384/384 [==============================] - 0s 446us/step - loss: 0.0019 - categorical_accuracy: 1.0000 - val_loss: 0.3299 - val_categorical_accuracy: 0.7500\n",
            "Epoch 16/40\n",
            "384/384 [==============================] - 0s 447us/step - loss: 0.0024 - categorical_accuracy: 1.0000 - val_loss: 0.3332 - val_categorical_accuracy: 0.7500\n",
            "Epoch 17/40\n",
            "384/384 [==============================] - 0s 468us/step - loss: 9.5085e-04 - categorical_accuracy: 1.0000 - val_loss: 0.3947 - val_categorical_accuracy: 0.7083\n",
            "Epoch 18/40\n",
            "384/384 [==============================] - 0s 500us/step - loss: 7.5458e-04 - categorical_accuracy: 1.0000 - val_loss: 0.3733 - val_categorical_accuracy: 0.7292\n",
            "Epoch 19/40\n",
            "384/384 [==============================] - 0s 457us/step - loss: 7.1177e-04 - categorical_accuracy: 1.0000 - val_loss: 0.3507 - val_categorical_accuracy: 0.7500\n",
            "Epoch 20/40\n",
            "384/384 [==============================] - 0s 473us/step - loss: 6.2293e-04 - categorical_accuracy: 1.0000 - val_loss: 0.3883 - val_categorical_accuracy: 0.7292\n",
            "Epoch 21/40\n",
            "384/384 [==============================] - 0s 484us/step - loss: 6.0941e-04 - categorical_accuracy: 1.0000 - val_loss: 0.4171 - val_categorical_accuracy: 0.7292\n",
            "Epoch 22/40\n",
            "384/384 [==============================] - 0s 475us/step - loss: 4.6780e-04 - categorical_accuracy: 1.0000 - val_loss: 0.3953 - val_categorical_accuracy: 0.7292\n",
            "Epoch 23/40\n",
            "384/384 [==============================] - 0s 496us/step - loss: 9.7940e-04 - categorical_accuracy: 1.0000 - val_loss: 0.3658 - val_categorical_accuracy: 0.7500\n",
            "Epoch 24/40\n",
            "384/384 [==============================] - 0s 480us/step - loss: 8.4724e-04 - categorical_accuracy: 1.0000 - val_loss: 0.4358 - val_categorical_accuracy: 0.7292\n",
            "Epoch 25/40\n",
            "384/384 [==============================] - 0s 479us/step - loss: 6.8074e-04 - categorical_accuracy: 1.0000 - val_loss: 0.4005 - val_categorical_accuracy: 0.7500\n",
            "Epoch 26/40\n",
            "384/384 [==============================] - 0s 454us/step - loss: 8.3196e-04 - categorical_accuracy: 1.0000 - val_loss: 0.4192 - val_categorical_accuracy: 0.7708\n",
            "Epoch 27/40\n",
            "384/384 [==============================] - 0s 457us/step - loss: 9.3961e-04 - categorical_accuracy: 1.0000 - val_loss: 0.3679 - val_categorical_accuracy: 0.7083\n",
            "Epoch 28/40\n",
            "384/384 [==============================] - 0s 499us/step - loss: 9.5029e-04 - categorical_accuracy: 1.0000 - val_loss: 0.4120 - val_categorical_accuracy: 0.7292\n",
            "Epoch 29/40\n",
            "384/384 [==============================] - 0s 459us/step - loss: 5.4851e-04 - categorical_accuracy: 1.0000 - val_loss: 0.3805 - val_categorical_accuracy: 0.7292\n",
            "Epoch 30/40\n",
            "384/384 [==============================] - 0s 472us/step - loss: 6.4491e-04 - categorical_accuracy: 1.0000 - val_loss: 0.3821 - val_categorical_accuracy: 0.7292\n",
            "Epoch 31/40\n",
            "384/384 [==============================] - 0s 452us/step - loss: 3.6226e-04 - categorical_accuracy: 1.0000 - val_loss: 0.3614 - val_categorical_accuracy: 0.7708\n",
            "Epoch 32/40\n",
            "384/384 [==============================] - 0s 480us/step - loss: 2.6878e-04 - categorical_accuracy: 1.0000 - val_loss: 0.3988 - val_categorical_accuracy: 0.7708\n",
            "Epoch 33/40\n",
            "384/384 [==============================] - 0s 482us/step - loss: 1.5457e-04 - categorical_accuracy: 1.0000 - val_loss: 0.4351 - val_categorical_accuracy: 0.7500\n",
            "Epoch 34/40\n",
            "384/384 [==============================] - 0s 451us/step - loss: 2.0683e-04 - categorical_accuracy: 1.0000 - val_loss: 0.4387 - val_categorical_accuracy: 0.7083\n",
            "Epoch 35/40\n",
            "384/384 [==============================] - 0s 448us/step - loss: 2.4016e-04 - categorical_accuracy: 1.0000 - val_loss: 0.4397 - val_categorical_accuracy: 0.7500\n",
            "Epoch 36/40\n",
            "384/384 [==============================] - 0s 456us/step - loss: 2.2586e-04 - categorical_accuracy: 1.0000 - val_loss: 0.4474 - val_categorical_accuracy: 0.7500\n",
            "Epoch 37/40\n",
            "384/384 [==============================] - 0s 464us/step - loss: 2.8819e-04 - categorical_accuracy: 1.0000 - val_loss: 0.3961 - val_categorical_accuracy: 0.7500\n",
            "Epoch 38/40\n",
            "384/384 [==============================] - 0s 478us/step - loss: 2.4747e-04 - categorical_accuracy: 1.0000 - val_loss: 0.4119 - val_categorical_accuracy: 0.7292\n",
            "Epoch 39/40\n",
            "384/384 [==============================] - 0s 484us/step - loss: 0.0017 - categorical_accuracy: 1.0000 - val_loss: 0.3730 - val_categorical_accuracy: 0.7708\n",
            "Epoch 40/40\n",
            "384/384 [==============================] - 0s 462us/step - loss: 4.4244e-04 - categorical_accuracy: 1.0000 - val_loss: 0.4688 - val_categorical_accuracy: 0.7083\n",
            "              precision    recall  f1-score   support\n",
            "\n",
            "           0       0.33      0.12      0.18         8\n",
            "           1       1.00      0.88      0.93         8\n",
            "           2       0.75      0.38      0.50         8\n",
            "           3       0.89      1.00      0.94         8\n",
            "           4       0.54      0.88      0.67         8\n",
            "           5       0.67      1.00      0.80         8\n",
            "\n",
            "    accuracy                           0.71        48\n",
            "   macro avg       0.70      0.71      0.67        48\n",
            "weighted avg       0.70      0.71      0.67        48\n",
            "\n",
            "CNN, Word Embeddings (0.7083333333333334, (array([0.33333333, 1.        , 0.75      , 0.88888889, 0.53846154,\n",
            "       0.66666667]), array([0.125, 0.875, 0.375, 1.   , 0.875, 1.   ]), array([0.18181818, 0.93333333, 0.5       , 0.94117647, 0.66666667,\n",
            "       0.8       ]), array([8, 8, 8, 8, 8, 8])), <keras.callbacks.History object at 0x7ff928050be0>)\n"
          ],
          "name": "stdout"
        }
      ]
    },
    {
      "cell_type": "code",
      "metadata": {
        "id": "5ts95UL0En98",
        "colab_type": "code",
        "outputId": "c6269169-5ab3-4a58-a405-f732f2ce3190",
        "colab": {
          "base_uri": "https://localhost:8080/",
          "height": 286
        }
      },
      "source": [
        "from matplotlib import pyplot as plt\n",
        "val_f1=[]\n",
        "val_precision=[]\n",
        "val_recall=[]\n",
        "for i in mtrix.get_data():\n",
        "  val_f1.append(i['val_f1'])\n",
        "  val_precision.append(i['val_precision'])\n",
        "  val_recall.append(i['val_recall'])\n",
        "\n",
        "plt.plot(val_f1)\n",
        "plt.plot(val_precision)\n",
        "plt.plot(val_recall)\n",
        "plt.legend(i.keys())"
      ],
      "execution_count": 0,
      "outputs": [
        {
          "output_type": "execute_result",
          "data": {
            "text/plain": [
              "<matplotlib.legend.Legend at 0x7f382a623128>"
            ]
          },
          "metadata": {
            "tags": []
          },
          "execution_count": 83
        },
        {
          "output_type": "display_data",
          "data": {
            "image/png": "[encoded data removed]",
            "text/plain": [
              "<Figure size 432x288 with 1 Axes>"
            ]
          },
          "metadata": {
            "tags": []
          }
        }
      ]
    },
    {
      "cell_type": "code",
      "metadata": {
        "id": "u55kSJGLKE2T",
        "colab_type": "code",
        "outputId": "26bd3480-cf20-467d-9398-2f471686ebba",
        "colab": {
          "base_uri": "https://localhost:8080/",
          "height": 34
        }
      },
      "source": [
        "model_json = classifier.to_json()\n",
        "with open(\"model.json\", \"w\") as json_file:\n",
        "    json_file.write(model_json)\n",
        "# serialize weights to HDF5\n",
        "classifier.save_weights(\"model.h5\")\n",
        "print(\"Saved model to disk\")"
      ],
      "execution_count": 0,
      "outputs": [
        {
          "output_type": "stream",
          "text": [
            "Saved model to disk\n"
          ],
          "name": "stdout"
        }
      ]
    },
    {
      "cell_type": "code",
      "metadata": {
        "id": "mxaX4G4ZnC43",
        "colab_type": "code",
        "outputId": "98ea89a0-639a-4de2-91da-5647b1baa8c0",
        "colab": {
          "base_uri": "https://localhost:8080/",
          "height": 34
        }
      },
      "source": [
        "from keras.models import model_from_json\n",
        "# load json and create model\n",
        "json_file = open('model.json', 'r')\n",
        "loaded_model_json = json_file.read()\n",
        "json_file.close()\n",
        "loaded_model = model_from_json(loaded_model_json)\n",
        "# load weights into new model\n",
        "loaded_model.load_weights(\"model.h5\")\n",
        "print(\"Loaded model from disk\")"
      ],
      "execution_count": 0,
      "outputs": [
        {
          "output_type": "stream",
          "text": [
            "Loaded model from disk\n"
          ],
          "name": "stdout"
        }
      ]
    },
    {
      "cell_type": "code",
      "metadata": {
        "id": "th-vzGT4n8pu",
        "colab_type": "code",
        "outputId": "29d72c56-d4c0-422a-b06e-65d9c9e7ff7d",
        "colab": {
          "base_uri": "https://localhost:8080/",
          "height": 51
        }
      },
      "source": [
        "loaded_model.compile(loss='binary_crossentropy', optimizer='rmsprop', metrics=[categorical_accuracy])\n",
        "score = loaded_model.evaluate(valid_seq_x, to_categorical(valid_y), verbose=1)\n",
        "print(\"%s: %.2f%%\" % (loaded_model.metrics_names[1], score[1]*100))"
      ],
      "execution_count": 0,
      "outputs": [
        {
          "output_type": "stream",
          "text": [
            "48/48 [==============================] - 3s 55ms/step\n",
            "categorical_accuracy: 85.42%\n"
          ],
          "name": "stdout"
        }
      ]
    },
    {
      "cell_type": "code",
      "metadata": {
        "id": "4dfxAq2xpZhQ",
        "colab_type": "code",
        "outputId": "756b2dd7-8c57-467b-c1a5-8ae487899963",
        "colab": {
          "base_uri": "https://localhost:8080/",
          "height": 119
        }
      },
      "source": [
        "!gsutil cp model.h5 gs://qatar_competition/Topic_CNN/\n",
        "!gsutil cp model.json gs://qatar_competition/Topic_CNN/"
      ],
      "execution_count": 0,
      "outputs": [
        {
          "output_type": "stream",
          "text": [
            "Copying file://model.h5 [Content-Type=application/octet-stream]...\n",
            "-\n",
            "Operation completed over 1 objects/7.7 MiB.                                      \n",
            "Copying file://model.json [Content-Type=application/json]...\n",
            "/ [1 files][  3.1 KiB/  3.1 KiB]                                                \n",
            "Operation completed over 1 objects/3.1 KiB.                                      \n"
          ],
          "name": "stdout"
        }
      ]
    },
    {
      "cell_type": "markdown",
      "metadata": {
        "id": "RFUQnqRRov0x",
        "colab_type": "text"
      },
      "source": [
        "##LSTM"
      ]
    },
    {
      "cell_type": "code",
      "metadata": {
        "id": "UHQJRwHBoc5p",
        "colab_type": "code",
        "outputId": "067d7b67-3cdc-40e7-dfe3-75b54236e5ff",
        "colab": {
          "base_uri": "https://localhost:8080/",
          "height": 1000
        }
      },
      "source": [
        "def create_rnn_lstm(input_length,):\n",
        "    # Add an Input Layer\n",
        "    input_layer = layers.Input((input_length, ))\n",
        "\n",
        "    # Add the word embedding Layer\n",
        "    embedding_layer = layers.Embedding(len(word_index) + 1, 300, weights=[embedding_matrix], trainable=False)(input_layer)\n",
        "    embedding_layer = layers.SpatialDropout1D(0.3)(embedding_layer)\n",
        "\n",
        "    # Add the LSTM Layer\n",
        "    lstm_layer = layers.LSTM(500)(embedding_layer)\n",
        "\n",
        "    # Add the output Layers\n",
        "    output_layer1 = layers.Dense(50, activation=\"relu\")(lstm_layer)\n",
        "    output_layer1 = layers.Dropout(0.05)(output_layer1)\n",
        "    output_layer2 = layers.Dense(6, activation=\"sigmoid\")(output_layer1)\n",
        "\n",
        "    # Compile the model\n",
        "    model = models.Model(inputs=input_layer, outputs=output_layer2)\n",
        "    model.compile(optimizer=optimizers.Adam(), loss='binary_crossentropy',metrics=[categorical_accuracy])\n",
        "    \n",
        "    return model\n",
        "\n",
        "classifier = create_rnn_lstm(len(train_seq_x[0]))\n",
        "mtrix=Metrix()\n",
        "accuracy = train_model(classifier, train_seq_x, train_y, valid_seq_x, is_neural_net=True,epochs=50,print_pred=True,one_hot=True)\n",
        "print (\"RNN-LSTM, Word Embeddings\",  accuracy)"
      ],
      "execution_count": 0,
      "outputs": [
        {
          "output_type": "stream",
          "text": [
            "Train on 384 samples, validate on 48 samples\n",
            "Epoch 1/50\n",
            "384/384 [==============================] - 7s 18ms/step - loss: 0.5200 - categorical_accuracy: 0.2083 - val_loss: 0.4477 - val_categorical_accuracy: 0.3125\n"
          ],
          "name": "stdout"
        },
        {
          "output_type": "stream",
          "text": [
            "/usr/local/lib/python3.6/dist-packages/sklearn/metrics/classification.py:1437: UndefinedMetricWarning: Precision is ill-defined and being set to 0.0 in labels with no predicted samples.\n",
            "  'precision', 'predicted', average, warn_for)\n",
            "/usr/local/lib/python3.6/dist-packages/sklearn/metrics/classification.py:1437: UndefinedMetricWarning: F-score is ill-defined and being set to 0.0 in labels with no predicted samples.\n",
            "  'precision', 'predicted', average, warn_for)\n"
          ],
          "name": "stderr"
        },
        {
          "output_type": "stream",
          "text": [
            "Epoch 2/50\n",
            "384/384 [==============================] - 4s 10ms/step - loss: 0.4331 - categorical_accuracy: 0.2865 - val_loss: 0.4309 - val_categorical_accuracy: 0.3333\n",
            "Epoch 3/50\n",
            "384/384 [==============================] - 4s 10ms/step - loss: 0.3897 - categorical_accuracy: 0.4479 - val_loss: 0.3649 - val_categorical_accuracy: 0.5833\n",
            "Epoch 4/50\n",
            "384/384 [==============================] - 4s 10ms/step - loss: 0.3239 - categorical_accuracy: 0.6120 - val_loss: 0.3304 - val_categorical_accuracy: 0.5417\n",
            "Epoch 5/50\n",
            "384/384 [==============================] - 4s 10ms/step - loss: 0.2545 - categorical_accuracy: 0.7083 - val_loss: 0.2847 - val_categorical_accuracy: 0.6667\n",
            "Epoch 6/50\n",
            "384/384 [==============================] - 4s 10ms/step - loss: 0.2382 - categorical_accuracy: 0.7240 - val_loss: 0.3864 - val_categorical_accuracy: 0.5625\n",
            "Epoch 7/50\n",
            "384/384 [==============================] - 4s 10ms/step - loss: 0.2595 - categorical_accuracy: 0.6927 - val_loss: 0.3240 - val_categorical_accuracy: 0.6250\n",
            "Epoch 8/50\n",
            "384/384 [==============================] - 4s 10ms/step - loss: 0.2372 - categorical_accuracy: 0.7786 - val_loss: 0.2867 - val_categorical_accuracy: 0.6667\n",
            "Epoch 9/50\n",
            "384/384 [==============================] - 4s 10ms/step - loss: 0.1911 - categorical_accuracy: 0.7943 - val_loss: 0.2409 - val_categorical_accuracy: 0.6875\n",
            "Epoch 10/50\n",
            "384/384 [==============================] - 4s 10ms/step - loss: 0.1568 - categorical_accuracy: 0.8203 - val_loss: 0.3111 - val_categorical_accuracy: 0.6250\n",
            "Epoch 11/50\n",
            "384/384 [==============================] - 4s 10ms/step - loss: 0.2393 - categorical_accuracy: 0.7031 - val_loss: 0.3261 - val_categorical_accuracy: 0.6042\n",
            "Epoch 12/50\n",
            "384/384 [==============================] - 4s 10ms/step - loss: 0.2325 - categorical_accuracy: 0.7344 - val_loss: 0.2656 - val_categorical_accuracy: 0.6875\n",
            "Epoch 13/50\n",
            "384/384 [==============================] - 4s 10ms/step - loss: 0.1650 - categorical_accuracy: 0.8411 - val_loss: 0.2682 - val_categorical_accuracy: 0.6875\n",
            "Epoch 14/50\n",
            "384/384 [==============================] - 4s 10ms/step - loss: 0.1608 - categorical_accuracy: 0.8438 - val_loss: 0.2467 - val_categorical_accuracy: 0.7708\n",
            "Epoch 15/50\n",
            "384/384 [==============================] - 4s 10ms/step - loss: 0.1721 - categorical_accuracy: 0.8099 - val_loss: 0.4298 - val_categorical_accuracy: 0.5000\n",
            "Epoch 16/50\n",
            "384/384 [==============================] - 4s 10ms/step - loss: 0.1807 - categorical_accuracy: 0.8021 - val_loss: 0.2431 - val_categorical_accuracy: 0.6458\n",
            "Epoch 17/50\n",
            "384/384 [==============================] - 4s 10ms/step - loss: 0.1672 - categorical_accuracy: 0.8411 - val_loss: 0.2571 - val_categorical_accuracy: 0.7292\n",
            "Epoch 18/50\n",
            "384/384 [==============================] - 4s 10ms/step - loss: 0.1425 - categorical_accuracy: 0.8672 - val_loss: 0.2158 - val_categorical_accuracy: 0.7708\n",
            "Epoch 19/50\n",
            "384/384 [==============================] - 4s 10ms/step - loss: 0.1315 - categorical_accuracy: 0.8542 - val_loss: 0.2478 - val_categorical_accuracy: 0.7708\n",
            "Epoch 20/50\n",
            "384/384 [==============================] - 4s 10ms/step - loss: 0.1040 - categorical_accuracy: 0.8906 - val_loss: 0.2348 - val_categorical_accuracy: 0.6875\n",
            "Epoch 21/50\n",
            "384/384 [==============================] - 4s 10ms/step - loss: 0.1148 - categorical_accuracy: 0.8750 - val_loss: 0.1983 - val_categorical_accuracy: 0.7500\n",
            "Epoch 22/50\n",
            "384/384 [==============================] - 4s 10ms/step - loss: 0.0933 - categorical_accuracy: 0.9115 - val_loss: 0.2493 - val_categorical_accuracy: 0.8333\n",
            "Epoch 23/50\n",
            "384/384 [==============================] - 4s 10ms/step - loss: 0.0647 - categorical_accuracy: 0.9375 - val_loss: 0.2182 - val_categorical_accuracy: 0.7708\n",
            "Epoch 24/50\n",
            "384/384 [==============================] - 4s 10ms/step - loss: 0.0649 - categorical_accuracy: 0.9401 - val_loss: 0.2309 - val_categorical_accuracy: 0.8333\n",
            "Epoch 25/50\n",
            "384/384 [==============================] - 4s 10ms/step - loss: 0.0483 - categorical_accuracy: 0.9635 - val_loss: 0.2893 - val_categorical_accuracy: 0.7500\n",
            "Epoch 26/50\n",
            "384/384 [==============================] - 4s 10ms/step - loss: 0.1318 - categorical_accuracy: 0.8568 - val_loss: 0.2636 - val_categorical_accuracy: 0.6667\n",
            "Epoch 27/50\n",
            "384/384 [==============================] - 4s 10ms/step - loss: 0.1051 - categorical_accuracy: 0.8906 - val_loss: 0.1823 - val_categorical_accuracy: 0.7708\n",
            "Epoch 28/50\n",
            "384/384 [==============================] - 4s 10ms/step - loss: 0.0551 - categorical_accuracy: 0.9557 - val_loss: 0.3096 - val_categorical_accuracy: 0.7708\n",
            "Epoch 29/50\n",
            "384/384 [==============================] - 4s 10ms/step - loss: 0.0676 - categorical_accuracy: 0.9349 - val_loss: 0.2255 - val_categorical_accuracy: 0.7917\n",
            "Epoch 30/50\n",
            "384/384 [==============================] - 4s 10ms/step - loss: 0.0513 - categorical_accuracy: 0.9531 - val_loss: 0.2129 - val_categorical_accuracy: 0.7500\n",
            "Epoch 31/50\n",
            "384/384 [==============================] - 4s 10ms/step - loss: 0.0358 - categorical_accuracy: 0.9740 - val_loss: 0.2164 - val_categorical_accuracy: 0.8333\n",
            "Epoch 32/50\n",
            "384/384 [==============================] - 4s 10ms/step - loss: 0.0295 - categorical_accuracy: 0.9661 - val_loss: 0.2336 - val_categorical_accuracy: 0.8333\n",
            "Epoch 33/50\n",
            "384/384 [==============================] - 4s 10ms/step - loss: 0.0388 - categorical_accuracy: 0.9714 - val_loss: 0.2131 - val_categorical_accuracy: 0.7500\n",
            "Epoch 34/50\n",
            "384/384 [==============================] - 4s 10ms/step - loss: 0.0323 - categorical_accuracy: 0.9740 - val_loss: 0.2469 - val_categorical_accuracy: 0.7917\n",
            "Epoch 35/50\n",
            "384/384 [==============================] - 4s 10ms/step - loss: 0.0414 - categorical_accuracy: 0.9583 - val_loss: 0.2564 - val_categorical_accuracy: 0.7708\n",
            "Epoch 36/50\n",
            "384/384 [==============================] - 4s 10ms/step - loss: 0.0335 - categorical_accuracy: 0.9661 - val_loss: 0.2913 - val_categorical_accuracy: 0.8125\n",
            "Epoch 37/50\n",
            "384/384 [==============================] - 4s 10ms/step - loss: 0.0269 - categorical_accuracy: 0.9740 - val_loss: 0.3326 - val_categorical_accuracy: 0.7292\n",
            "Epoch 38/50\n",
            "384/384 [==============================] - 4s 10ms/step - loss: 0.0224 - categorical_accuracy: 0.9766 - val_loss: 0.2404 - val_categorical_accuracy: 0.8333\n",
            "Epoch 39/50\n",
            "384/384 [==============================] - 4s 10ms/step - loss: 0.0101 - categorical_accuracy: 0.9974 - val_loss: 0.2455 - val_categorical_accuracy: 0.8542\n",
            "Epoch 40/50\n",
            "384/384 [==============================] - 4s 10ms/step - loss: 0.0345 - categorical_accuracy: 0.9688 - val_loss: 0.2598 - val_categorical_accuracy: 0.7708\n",
            "Epoch 41/50\n",
            "384/384 [==============================] - 4s 10ms/step - loss: 0.0166 - categorical_accuracy: 0.9922 - val_loss: 0.2417 - val_categorical_accuracy: 0.8125\n",
            "Epoch 42/50\n",
            "384/384 [==============================] - 4s 10ms/step - loss: 0.0153 - categorical_accuracy: 0.9870 - val_loss: 0.2824 - val_categorical_accuracy: 0.8333\n",
            "Epoch 43/50\n",
            "384/384 [==============================] - 4s 10ms/step - loss: 0.0082 - categorical_accuracy: 0.9948 - val_loss: 0.2831 - val_categorical_accuracy: 0.8542\n",
            "Epoch 44/50\n",
            "384/384 [==============================] - 4s 10ms/step - loss: 0.0209 - categorical_accuracy: 0.9792 - val_loss: 0.3436 - val_categorical_accuracy: 0.7500\n",
            "Epoch 45/50\n",
            "384/384 [==============================] - 4s 10ms/step - loss: 0.0254 - categorical_accuracy: 0.9766 - val_loss: 0.2072 - val_categorical_accuracy: 0.8125\n",
            "Epoch 46/50\n",
            "384/384 [==============================] - 4s 10ms/step - loss: 0.0177 - categorical_accuracy: 0.9896 - val_loss: 0.2327 - val_categorical_accuracy: 0.8750\n",
            "Epoch 47/50\n",
            "384/384 [==============================] - 4s 10ms/step - loss: 0.0068 - categorical_accuracy: 0.9974 - val_loss: 0.3276 - val_categorical_accuracy: 0.8333\n",
            "Epoch 48/50\n",
            "384/384 [==============================] - 4s 10ms/step - loss: 0.0823 - categorical_accuracy: 0.9089 - val_loss: 0.2842 - val_categorical_accuracy: 0.7292\n",
            "Epoch 49/50\n",
            "384/384 [==============================] - 4s 10ms/step - loss: 0.0544 - categorical_accuracy: 0.9531 - val_loss: 0.2680 - val_categorical_accuracy: 0.7500\n",
            "Epoch 50/50\n",
            "384/384 [==============================] - 4s 10ms/step - loss: 0.0385 - categorical_accuracy: 0.9688 - val_loss: 0.2856 - val_categorical_accuracy: 0.7917\n",
            "[5 3 0 4 4 4 2 1 0 0 0 4 3 1 1 5 1 4 2 2 3 3 5 5 1 3 5 5 5 5 5 3 2 0 4 3 5\n",
            " 5 1 4 5 5 5 1 3 1 3 0]\n",
            "              precision    recall  f1-score   support\n",
            "\n",
            "           0       0.67      0.50      0.57         8\n",
            "           1       0.88      0.88      0.88         8\n",
            "           2       1.00      0.50      0.67         8\n",
            "           3       0.89      1.00      0.94         8\n",
            "           4       1.00      0.88      0.93         8\n",
            "           5       0.57      1.00      0.73         8\n",
            "\n",
            "    accuracy                           0.79        48\n",
            "   macro avg       0.83      0.79      0.79        48\n",
            "weighted avg       0.83      0.79      0.79        48\n",
            "\n",
            "RNN-LSTM, Word Embeddings (0.7916666666666666, (array([0.66666667, 0.875     , 1.        , 0.88888889, 1.        ,\n",
            "       0.57142857]), array([0.5  , 0.875, 0.5  , 1.   , 0.875, 1.   ]), array([0.57142857, 0.875     , 0.66666667, 0.94117647, 0.93333333,\n",
            "       0.72727273]), array([8, 8, 8, 8, 8, 8])), <keras.callbacks.History object at 0x7f382a5aa160>)\n"
          ],
          "name": "stdout"
        }
      ]
    },
    {
      "cell_type": "code",
      "metadata": {
        "id": "7CZ_R0ABEqXq",
        "colab_type": "code",
        "outputId": "d193c48d-8ce1-4f41-e6f3-9abb550bce01",
        "colab": {
          "base_uri": "https://localhost:8080/",
          "height": 286
        }
      },
      "source": [
        "from matplotlib import pyplot as plt\n",
        "val_f1=[]\n",
        "val_precision=[]\n",
        "val_recall=[]\n",
        "for i in mtrix.get_data():\n",
        "  val_f1.append(i['val_f1'])\n",
        "  val_precision.append(i['val_precision'])\n",
        "  val_recall.append(i['val_recall'])\n",
        "\n",
        "plt.plot(val_f1)\n",
        "plt.plot(val_precision)\n",
        "plt.plot(val_recall)\n",
        "plt.legend(i.keys())"
      ],
      "execution_count": 0,
      "outputs": [
        {
          "output_type": "execute_result",
          "data": {
            "text/plain": [
              "<matplotlib.legend.Legend at 0x7f38271f7898>"
            ]
          },
          "metadata": {
            "tags": []
          },
          "execution_count": 91
        },
        {
          "output_type": "display_data",
          "data": {
            "image/png": "[encoded data removed]",
            "text/plain": [
              "<Figure size 432x288 with 1 Axes>"
            ]
          },
          "metadata": {
            "tags": []
          }
        }
      ]
    },
    {
      "cell_type": "code",
      "metadata": {
        "id": "8xlWBN9TrXUf",
        "colab_type": "code",
        "outputId": "ead04b04-a9dd-4d42-fb8d-0b626d1eb83c",
        "colab": {
          "base_uri": "https://localhost:8080/",
          "height": 34
        }
      },
      "source": [
        ""
      ],
      "execution_count": 0,
      "outputs": [
        {
          "output_type": "execute_result",
          "data": {
            "text/plain": [
              "153"
            ]
          },
          "metadata": {
            "tags": []
          },
          "execution_count": 175
        }
      ]
    },
    {
      "cell_type": "markdown",
      "metadata": {
        "id": "U_pbbnWIprYJ",
        "colab_type": "text"
      },
      "source": [
        "##GRU"
      ]
    },
    {
      "cell_type": "code",
      "metadata": {
        "id": "_0ePdrYAptGO",
        "colab_type": "code",
        "outputId": "e9158b9d-f21f-458f-ae5e-35649b44fd71",
        "colab": {
          "base_uri": "https://localhost:8080/",
          "height": 1000
        }
      },
      "source": [
        "def create_rnn_gru(input_length,):\n",
        "    # Add an Input Layer\n",
        "    input_layer = layers.Input((input_length, ))\n",
        "\n",
        "    # Add the word embedding Layer\n",
        "    embedding_layer = layers.Embedding(len(word_index) + 1, 300, weights=[embedding_matrix], trainable=False)(input_layer)\n",
        "    #embedding_layer = layers.SpatialDropout1D(0.1)(embedding_layer)\n",
        "\n",
        "    # Add the GRU Layer\n",
        "    lstm_layer = layers.GRU(200)(embedding_layer)\n",
        "\n",
        "    # Add the output Layers\n",
        "    output_layer1 = layers.Dense(100, activation=\"relu\")(lstm_layer)\n",
        "    output_layer1 = layers.Dropout(0.1)(output_layer1)\n",
        "    output_layer2 = layers.Dense(6, activation=\"sigmoid\")(output_layer1)\n",
        "\n",
        "    # Compile the model\n",
        "    model = models.Model(inputs=input_layer, outputs=output_layer2)\n",
        "    model.compile(optimizer=optimizers.Adam(), loss='binary_crossentropy',metrics=[categorical_accuracy])\n",
        "    \n",
        "    return model\n",
        "\n",
        "classifier = create_rnn_gru(len(train_seq_x[0]))\n",
        "mtrix=Metrics()\n",
        "accuracy = train_model(classifier, train_seq_x, train_y, valid_seq_x, is_neural_net=True,epochs=40,print_pred=True,one_hot=True)\n",
        "print( \"RNN-GRU, Word Embeddings\",  accuracy)"
      ],
      "execution_count": 0,
      "outputs": [
        {
          "output_type": "stream",
          "text": [
            "Train on 384 samples, validate on 48 samples\n",
            "Epoch 1/40\n",
            "384/384 [==============================] - 8s 21ms/step - loss: 0.5707 - categorical_accuracy: 0.1771 - val_loss: 0.4744 - val_categorical_accuracy: 0.1875\n"
          ],
          "name": "stdout"
        },
        {
          "output_type": "stream",
          "text": [
            "/usr/local/lib/python3.6/dist-packages/sklearn/metrics/classification.py:1437: UndefinedMetricWarning: Precision is ill-defined and being set to 0.0 in labels with no predicted samples.\n",
            "  'precision', 'predicted', average, warn_for)\n",
            "/usr/local/lib/python3.6/dist-packages/sklearn/metrics/classification.py:1437: UndefinedMetricWarning: F-score is ill-defined and being set to 0.0 in labels with no predicted samples.\n",
            "  'precision', 'predicted', average, warn_for)\n"
          ],
          "name": "stderr"
        },
        {
          "output_type": "stream",
          "text": [
            "Epoch 2/40\n",
            "384/384 [==============================] - 3s 9ms/step - loss: 0.4554 - categorical_accuracy: 0.2318 - val_loss: 0.4507 - val_categorical_accuracy: 0.2500\n",
            "Epoch 3/40\n",
            "384/384 [==============================] - 3s 9ms/step - loss: 0.4349 - categorical_accuracy: 0.3828 - val_loss: 0.4423 - val_categorical_accuracy: 0.2708\n",
            "Epoch 4/40\n",
            "384/384 [==============================] - 3s 9ms/step - loss: 0.4152 - categorical_accuracy: 0.5104 - val_loss: 0.4329 - val_categorical_accuracy: 0.3958\n",
            "Epoch 5/40\n",
            "384/384 [==============================] - 3s 9ms/step - loss: 0.3893 - categorical_accuracy: 0.5677 - val_loss: 0.4167 - val_categorical_accuracy: 0.3750\n",
            "Epoch 6/40\n",
            "384/384 [==============================] - 3s 9ms/step - loss: 0.3292 - categorical_accuracy: 0.6354 - val_loss: 0.3555 - val_categorical_accuracy: 0.5208\n",
            "Epoch 7/40\n",
            "384/384 [==============================] - 3s 9ms/step - loss: 0.2925 - categorical_accuracy: 0.6328 - val_loss: 0.4084 - val_categorical_accuracy: 0.3958\n",
            "Epoch 8/40\n",
            "384/384 [==============================] - 3s 9ms/step - loss: 0.2684 - categorical_accuracy: 0.6745 - val_loss: 0.3541 - val_categorical_accuracy: 0.5833\n",
            "Epoch 9/40\n",
            "384/384 [==============================] - 3s 9ms/step - loss: 0.2118 - categorical_accuracy: 0.7891 - val_loss: 0.3197 - val_categorical_accuracy: 0.6042\n",
            "Epoch 10/40\n",
            "384/384 [==============================] - 3s 9ms/step - loss: 0.1655 - categorical_accuracy: 0.8125 - val_loss: 0.3209 - val_categorical_accuracy: 0.5833\n",
            "Epoch 11/40\n",
            "384/384 [==============================] - 3s 9ms/step - loss: 0.1690 - categorical_accuracy: 0.8177 - val_loss: 0.3042 - val_categorical_accuracy: 0.6250\n",
            "Epoch 12/40\n",
            "384/384 [==============================] - 3s 9ms/step - loss: 0.1309 - categorical_accuracy: 0.8932 - val_loss: 0.3215 - val_categorical_accuracy: 0.5208\n",
            "Epoch 13/40\n",
            "384/384 [==============================] - 3s 9ms/step - loss: 0.1068 - categorical_accuracy: 0.9010 - val_loss: 0.2873 - val_categorical_accuracy: 0.5417\n",
            "Epoch 14/40\n",
            "384/384 [==============================] - 3s 9ms/step - loss: 0.0811 - categorical_accuracy: 0.9245 - val_loss: 0.2722 - val_categorical_accuracy: 0.7083\n",
            "Epoch 15/40\n",
            "384/384 [==============================] - 3s 9ms/step - loss: 0.0510 - categorical_accuracy: 0.9609 - val_loss: 0.2782 - val_categorical_accuracy: 0.7083\n",
            "Epoch 16/40\n",
            "384/384 [==============================] - 3s 9ms/step - loss: 0.0367 - categorical_accuracy: 0.9688 - val_loss: 0.2734 - val_categorical_accuracy: 0.7917\n",
            "Epoch 17/40\n",
            "384/384 [==============================] - 3s 9ms/step - loss: 0.0237 - categorical_accuracy: 0.9870 - val_loss: 0.3197 - val_categorical_accuracy: 0.7500\n",
            "Epoch 18/40\n",
            "384/384 [==============================] - 3s 9ms/step - loss: 0.0186 - categorical_accuracy: 0.9896 - val_loss: 0.2914 - val_categorical_accuracy: 0.7500\n",
            "Epoch 19/40\n",
            "384/384 [==============================] - 3s 9ms/step - loss: 0.0122 - categorical_accuracy: 0.9948 - val_loss: 0.3281 - val_categorical_accuracy: 0.7292\n",
            "Epoch 20/40\n",
            "384/384 [==============================] - 3s 9ms/step - loss: 0.0187 - categorical_accuracy: 0.9844 - val_loss: 0.3316 - val_categorical_accuracy: 0.7292\n",
            "Epoch 21/40\n",
            "384/384 [==============================] - 3s 9ms/step - loss: 0.0298 - categorical_accuracy: 0.9766 - val_loss: 0.3595 - val_categorical_accuracy: 0.7083\n",
            "Epoch 22/40\n",
            "384/384 [==============================] - 3s 9ms/step - loss: 0.0242 - categorical_accuracy: 0.9766 - val_loss: 0.3810 - val_categorical_accuracy: 0.6875\n",
            "Epoch 23/40\n",
            "384/384 [==============================] - 3s 8ms/step - loss: 0.0452 - categorical_accuracy: 0.9609 - val_loss: 0.3049 - val_categorical_accuracy: 0.6250\n",
            "Epoch 24/40\n",
            "384/384 [==============================] - 3s 9ms/step - loss: 0.0174 - categorical_accuracy: 0.9922 - val_loss: 0.3506 - val_categorical_accuracy: 0.7292\n",
            "Epoch 25/40\n",
            "384/384 [==============================] - 3s 9ms/step - loss: 0.0087 - categorical_accuracy: 0.9974 - val_loss: 0.3294 - val_categorical_accuracy: 0.7708\n",
            "Epoch 26/40\n",
            "384/384 [==============================] - 3s 9ms/step - loss: 0.0070 - categorical_accuracy: 0.9974 - val_loss: 0.3078 - val_categorical_accuracy: 0.7292\n",
            "Epoch 27/40\n",
            "384/384 [==============================] - 3s 9ms/step - loss: 0.0042 - categorical_accuracy: 1.0000 - val_loss: 0.3411 - val_categorical_accuracy: 0.7708\n",
            "Epoch 28/40\n",
            "384/384 [==============================] - 3s 9ms/step - loss: 0.0039 - categorical_accuracy: 1.0000 - val_loss: 0.3181 - val_categorical_accuracy: 0.7292\n",
            "Epoch 29/40\n",
            "384/384 [==============================] - 3s 8ms/step - loss: 0.0029 - categorical_accuracy: 1.0000 - val_loss: 0.3154 - val_categorical_accuracy: 0.7708\n",
            "Epoch 30/40\n",
            "384/384 [==============================] - 3s 9ms/step - loss: 0.0013 - categorical_accuracy: 1.0000 - val_loss: 0.3259 - val_categorical_accuracy: 0.7917\n",
            "Epoch 31/40\n",
            "384/384 [==============================] - 3s 9ms/step - loss: 9.7280e-04 - categorical_accuracy: 1.0000 - val_loss: 0.3487 - val_categorical_accuracy: 0.7708\n",
            "Epoch 32/40\n",
            "384/384 [==============================] - 3s 9ms/step - loss: 7.1161e-04 - categorical_accuracy: 1.0000 - val_loss: 0.3581 - val_categorical_accuracy: 0.7917\n",
            "Epoch 33/40\n",
            "384/384 [==============================] - 3s 8ms/step - loss: 5.5382e-04 - categorical_accuracy: 1.0000 - val_loss: 0.3654 - val_categorical_accuracy: 0.7917\n",
            "Epoch 34/40\n",
            "384/384 [==============================] - 3s 9ms/step - loss: 5.5310e-04 - categorical_accuracy: 1.0000 - val_loss: 0.3750 - val_categorical_accuracy: 0.7708\n",
            "Epoch 35/40\n",
            "384/384 [==============================] - 3s 9ms/step - loss: 4.6530e-04 - categorical_accuracy: 1.0000 - val_loss: 0.3809 - val_categorical_accuracy: 0.7708\n",
            "Epoch 36/40\n",
            "384/384 [==============================] - 3s 8ms/step - loss: 4.9914e-04 - categorical_accuracy: 1.0000 - val_loss: 0.3896 - val_categorical_accuracy: 0.7917\n",
            "Epoch 37/40\n",
            "384/384 [==============================] - 3s 9ms/step - loss: 3.6421e-04 - categorical_accuracy: 1.0000 - val_loss: 0.4043 - val_categorical_accuracy: 0.7708\n",
            "Epoch 38/40\n",
            "384/384 [==============================] - 3s 9ms/step - loss: 3.6509e-04 - categorical_accuracy: 1.0000 - val_loss: 0.4239 - val_categorical_accuracy: 0.7292\n",
            "Epoch 39/40\n",
            "384/384 [==============================] - 3s 9ms/step - loss: 2.8807e-04 - categorical_accuracy: 1.0000 - val_loss: 0.4333 - val_categorical_accuracy: 0.7500\n",
            "Epoch 40/40\n",
            "384/384 [==============================] - 3s 9ms/step - loss: 3.0786e-04 - categorical_accuracy: 1.0000 - val_loss: 0.4303 - val_categorical_accuracy: 0.7708\n",
            "[5 3 0 4 4 4 0 1 0 0 3 4 3 4 1 5 1 4 2 2 3 3 5 5 1 3 5 4 5 5 0 3 0 0 4 3 0\n",
            " 5 1 4 4 2 5 1 3 1 3 0]\n",
            "              precision    recall  f1-score   support\n",
            "\n",
            "           0       0.44      0.50      0.47         8\n",
            "           1       1.00      0.88      0.93         8\n",
            "           2       1.00      0.38      0.55         8\n",
            "           3       0.80      1.00      0.89         8\n",
            "           4       0.80      1.00      0.89         8\n",
            "           5       0.78      0.88      0.82         8\n",
            "\n",
            "    accuracy                           0.77        48\n",
            "   macro avg       0.80      0.77      0.76        48\n",
            "weighted avg       0.80      0.77      0.76        48\n",
            "\n",
            "RNN-GRU, Word Embeddings (0.7708333333333334, (array([0.44444444, 1.        , 1.        , 0.8       , 0.8       ,\n",
            "       0.77777778]), array([0.5  , 0.875, 0.375, 1.   , 1.   , 0.875]), array([0.47058824, 0.93333333, 0.54545455, 0.88888889, 0.88888889,\n",
            "       0.82352941]), array([8, 8, 8, 8, 8, 8])), <keras.callbacks.History object at 0x7fb7728f8a20>)\n"
          ],
          "name": "stdout"
        }
      ]
    },
    {
      "cell_type": "code",
      "metadata": {
        "id": "Mde-M5FsErPy",
        "colab_type": "code",
        "outputId": "ff2abe60-86d2-4d0d-d8d6-309c68424773",
        "colab": {
          "base_uri": "https://localhost:8080/",
          "height": 286
        }
      },
      "source": [
        "from matplotlib import pyplot as plt\n",
        "val_f1=[]\n",
        "val_precision=[]\n",
        "val_recall=[]\n",
        "for i in mtrix.get_data():\n",
        "  val_f1.append(i['val_f1'])\n",
        "  val_precision.append(i['val_precision'])\n",
        "  val_recall.append(i['val_recall'])\n",
        "\n",
        "plt.plot(val_f1)\n",
        "plt.plot(val_precision)\n",
        "plt.plot(val_recall)\n",
        "plt.legend(i.keys())"
      ],
      "execution_count": 0,
      "outputs": [
        {
          "output_type": "execute_result",
          "data": {
            "text/plain": [
              "<matplotlib.legend.Legend at 0x7fb771fd4400>"
            ]
          },
          "metadata": {
            "tags": []
          },
          "execution_count": 187
        },
        {
          "output_type": "display_data",
          "data": {
            "image/png": "[encoded data removed]",
            "text/plain": [
              "<Figure size 432x288 with 1 Axes>"
            ]
          },
          "metadata": {
            "tags": []
          }
        }
      ]
    },
    {
      "cell_type": "markdown",
      "metadata": {
        "id": "AzHPNMJ8p1YX",
        "colab_type": "text"
      },
      "source": [
        "##Bidirectional RNN"
      ]
    },
    {
      "cell_type": "code",
      "metadata": {
        "id": "_R1agbjfp3V4",
        "colab_type": "code",
        "outputId": "fa01a8d0-8707-486e-c1d2-1070692ca5dd",
        "colab": {
          "base_uri": "https://localhost:8080/",
          "height": 1000
        }
      },
      "source": [
        "def create_bidirectional_rnn():\n",
        "    # Add an Input Layer\n",
        "    input_layer = layers.Input((144, ))\n",
        "\n",
        "    # Add the word embedding Layer\n",
        "    embedding_layer = layers.Embedding(len(word_index) + 1, 300, weights=[embedding_matrix], trainable=False)(input_layer)\n",
        "    #embedding_layer = layers.SpatialDropout1D(0)(embedding_layer)\n",
        "\n",
        "    # Add the LSTM Layer\n",
        "    lstm_layer = layers.Bidirectional(layers.LSTM(200))(embedding_layer)\n",
        "\n",
        "    # Add the output Layers\n",
        "    output_layer1 = layers.Dense(50, activation=\"relu\")(lstm_layer)\n",
        "    output_layer1 = layers.Dropout(0.05)(output_layer1)\n",
        "    output_layer2 = layers.Dense(6, activation=\"sigmoid\")(output_layer1)\n",
        "\n",
        "    # Compile the model\n",
        "    model = models.Model(inputs=input_layer, outputs=output_layer2)\n",
        "    model.compile(optimizer=optimizers.Adam(), loss='binary_crossentropy',metrics=[categorical_accuracy])\n",
        "    \n",
        "    return model\n",
        "\n",
        "classifier = create_bidirectional_rnn()\n",
        "mtrix=Metrix()\n",
        "accuracy = train_model(classifier, train_seq_x, train_y, valid_seq_x, is_neural_net=True,epochs=40,print_pred=True,one_hot=True)\n",
        "print (\"RNN-Bidirectional, Word Embeddings\",  accuracy)"
      ],
      "execution_count": 0,
      "outputs": [
        {
          "output_type": "stream",
          "text": [
            "Train on 384 samples, validate on 48 samples\n",
            "Epoch 1/40\n",
            "384/384 [==============================] - 12s 30ms/step - loss: 0.5585 - categorical_accuracy: 0.1875 - val_loss: 0.4604 - val_categorical_accuracy: 0.2500\n"
          ],
          "name": "stdout"
        },
        {
          "output_type": "stream",
          "text": [
            "/usr/local/lib/python3.6/dist-packages/sklearn/metrics/classification.py:1437: UndefinedMetricWarning: Precision is ill-defined and being set to 0.0 in labels with no predicted samples.\n",
            "  'precision', 'predicted', average, warn_for)\n",
            "/usr/local/lib/python3.6/dist-packages/sklearn/metrics/classification.py:1437: UndefinedMetricWarning: F-score is ill-defined and being set to 0.0 in labels with no predicted samples.\n",
            "  'precision', 'predicted', average, warn_for)\n"
          ],
          "name": "stderr"
        },
        {
          "output_type": "stream",
          "text": [
            "Epoch 2/40\n",
            "384/384 [==============================] - 8s 20ms/step - loss: 0.4549 - categorical_accuracy: 0.1823 - val_loss: 0.4500 - val_categorical_accuracy: 0.1667\n",
            "Epoch 3/40\n",
            "384/384 [==============================] - 8s 20ms/step - loss: 0.4416 - categorical_accuracy: 0.2760 - val_loss: 0.4417 - val_categorical_accuracy: 0.2708\n",
            "Epoch 4/40\n",
            "384/384 [==============================] - 7s 19ms/step - loss: 0.4189 - categorical_accuracy: 0.4844 - val_loss: 0.4100 - val_categorical_accuracy: 0.5000\n",
            "Epoch 5/40\n",
            "384/384 [==============================] - 8s 20ms/step - loss: 0.3715 - categorical_accuracy: 0.5182 - val_loss: 0.3799 - val_categorical_accuracy: 0.5625\n",
            "Epoch 6/40\n",
            "384/384 [==============================] - 8s 20ms/step - loss: 0.3418 - categorical_accuracy: 0.5781 - val_loss: 0.3823 - val_categorical_accuracy: 0.5000\n",
            "Epoch 7/40\n",
            "384/384 [==============================] - 8s 20ms/step - loss: 0.2928 - categorical_accuracy: 0.6693 - val_loss: 0.3283 - val_categorical_accuracy: 0.5625\n",
            "Epoch 8/40\n",
            "384/384 [==============================] - 8s 21ms/step - loss: 0.2207 - categorical_accuracy: 0.7812 - val_loss: 0.2877 - val_categorical_accuracy: 0.6458\n",
            "Epoch 9/40\n",
            "384/384 [==============================] - 8s 20ms/step - loss: 0.1982 - categorical_accuracy: 0.7995 - val_loss: 0.2835 - val_categorical_accuracy: 0.6458\n",
            "Epoch 10/40\n",
            "384/384 [==============================] - 8s 20ms/step - loss: 0.2332 - categorical_accuracy: 0.7318 - val_loss: 0.3542 - val_categorical_accuracy: 0.5625\n",
            "Epoch 11/40\n",
            "384/384 [==============================] - 8s 20ms/step - loss: 0.1963 - categorical_accuracy: 0.8021 - val_loss: 0.2702 - val_categorical_accuracy: 0.6458\n",
            "Epoch 12/40\n",
            "384/384 [==============================] - 8s 20ms/step - loss: 0.2016 - categorical_accuracy: 0.7656 - val_loss: 0.2128 - val_categorical_accuracy: 0.7292\n",
            "Epoch 13/40\n",
            "384/384 [==============================] - 8s 20ms/step - loss: 0.1340 - categorical_accuracy: 0.8646 - val_loss: 0.2488 - val_categorical_accuracy: 0.7708\n",
            "Epoch 14/40\n",
            "384/384 [==============================] - 8s 21ms/step - loss: 0.1177 - categorical_accuracy: 0.9010 - val_loss: 0.2648 - val_categorical_accuracy: 0.7292\n",
            "Epoch 15/40\n",
            "384/384 [==============================] - 8s 20ms/step - loss: 0.0935 - categorical_accuracy: 0.9141 - val_loss: 0.2710 - val_categorical_accuracy: 0.7500\n",
            "Epoch 16/40\n",
            "384/384 [==============================] - 8s 20ms/step - loss: 0.0854 - categorical_accuracy: 0.9219 - val_loss: 0.2447 - val_categorical_accuracy: 0.7292\n",
            "Epoch 17/40\n",
            "384/384 [==============================] - 8s 20ms/step - loss: 0.0847 - categorical_accuracy: 0.9297 - val_loss: 0.2899 - val_categorical_accuracy: 0.6667\n",
            "Epoch 18/40\n",
            "384/384 [==============================] - 8s 20ms/step - loss: 0.1075 - categorical_accuracy: 0.9219 - val_loss: 0.2500 - val_categorical_accuracy: 0.7292\n",
            "Epoch 19/40\n",
            "384/384 [==============================] - 8s 21ms/step - loss: 0.0972 - categorical_accuracy: 0.9141 - val_loss: 0.2787 - val_categorical_accuracy: 0.7083\n",
            "Epoch 20/40\n",
            "384/384 [==============================] - 8s 20ms/step - loss: 0.0640 - categorical_accuracy: 0.9427 - val_loss: 0.2927 - val_categorical_accuracy: 0.7292\n",
            "Epoch 21/40\n",
            "384/384 [==============================] - 8s 20ms/step - loss: 0.0537 - categorical_accuracy: 0.9505 - val_loss: 0.3182 - val_categorical_accuracy: 0.7292\n",
            "Epoch 22/40\n",
            "384/384 [==============================] - 8s 20ms/step - loss: 0.0403 - categorical_accuracy: 0.9661 - val_loss: 0.3277 - val_categorical_accuracy: 0.7500\n",
            "Epoch 23/40\n",
            "384/384 [==============================] - 8s 20ms/step - loss: 0.0390 - categorical_accuracy: 0.9661 - val_loss: 0.3490 - val_categorical_accuracy: 0.7083\n",
            "Epoch 24/40\n",
            "384/384 [==============================] - 8s 20ms/step - loss: 0.0486 - categorical_accuracy: 0.9531 - val_loss: 0.2355 - val_categorical_accuracy: 0.7708\n",
            "Epoch 25/40\n",
            "384/384 [==============================] - 8s 20ms/step - loss: 0.0537 - categorical_accuracy: 0.9583 - val_loss: 0.3653 - val_categorical_accuracy: 0.6875\n",
            "Epoch 26/40\n",
            "384/384 [==============================] - 8s 20ms/step - loss: 0.0740 - categorical_accuracy: 0.9219 - val_loss: 0.2526 - val_categorical_accuracy: 0.7708\n",
            "Epoch 27/40\n",
            "384/384 [==============================] - 8s 20ms/step - loss: 0.0654 - categorical_accuracy: 0.9349 - val_loss: 0.2788 - val_categorical_accuracy: 0.7083\n",
            "Epoch 28/40\n",
            "384/384 [==============================] - 8s 20ms/step - loss: 0.0500 - categorical_accuracy: 0.9609 - val_loss: 0.2925 - val_categorical_accuracy: 0.7708\n",
            "Epoch 29/40\n",
            "384/384 [==============================] - 8s 20ms/step - loss: 0.0473 - categorical_accuracy: 0.9714 - val_loss: 0.2273 - val_categorical_accuracy: 0.7917\n",
            "Epoch 30/40\n",
            "384/384 [==============================] - 8s 20ms/step - loss: 0.0359 - categorical_accuracy: 0.9818 - val_loss: 0.2613 - val_categorical_accuracy: 0.7500\n",
            "Epoch 31/40\n",
            "384/384 [==============================] - 8s 20ms/step - loss: 0.0283 - categorical_accuracy: 0.9844 - val_loss: 0.2435 - val_categorical_accuracy: 0.7708\n",
            "Epoch 32/40\n",
            "384/384 [==============================] - 8s 20ms/step - loss: 0.0304 - categorical_accuracy: 0.9818 - val_loss: 0.2959 - val_categorical_accuracy: 0.7500\n",
            "Epoch 33/40\n",
            "384/384 [==============================] - 8s 20ms/step - loss: 0.0308 - categorical_accuracy: 0.9792 - val_loss: 0.2500 - val_categorical_accuracy: 0.7708\n",
            "Epoch 34/40\n",
            "384/384 [==============================] - 8s 20ms/step - loss: 0.0195 - categorical_accuracy: 0.9844 - val_loss: 0.2529 - val_categorical_accuracy: 0.8125\n",
            "Epoch 35/40\n",
            "384/384 [==============================] - 8s 20ms/step - loss: 0.0108 - categorical_accuracy: 0.9948 - val_loss: 0.2598 - val_categorical_accuracy: 0.7917\n",
            "Epoch 36/40\n",
            "384/384 [==============================] - 8s 20ms/step - loss: 0.0083 - categorical_accuracy: 0.9922 - val_loss: 0.2709 - val_categorical_accuracy: 0.8125\n",
            "Epoch 37/40\n",
            "384/384 [==============================] - 8s 20ms/step - loss: 0.0061 - categorical_accuracy: 0.9974 - val_loss: 0.2668 - val_categorical_accuracy: 0.8125\n",
            "Epoch 38/40\n",
            "384/384 [==============================] - 8s 20ms/step - loss: 0.0053 - categorical_accuracy: 0.9974 - val_loss: 0.2766 - val_categorical_accuracy: 0.8125\n",
            "Epoch 39/40\n",
            "384/384 [==============================] - 8s 20ms/step - loss: 0.0045 - categorical_accuracy: 0.9948 - val_loss: 0.3163 - val_categorical_accuracy: 0.8125\n",
            "Epoch 40/40\n",
            "384/384 [==============================] - 8s 20ms/step - loss: 0.0042 - categorical_accuracy: 0.9974 - val_loss: 0.2931 - val_categorical_accuracy: 0.8125\n",
            "[5 3 0 4 4 4 0 1 0 0 0 4 3 4 1 5 1 4 2 2 1 3 5 5 1 3 5 0 5 5 5 3 3 0 4 3 1\n",
            " 5 1 4 0 2 5 5 3 1 3 0]\n",
            "              precision    recall  f1-score   support\n",
            "\n",
            "           0       0.56      0.62      0.59         8\n",
            "           1       0.88      0.88      0.88         8\n",
            "           2       1.00      0.38      0.55         8\n",
            "           3       0.89      1.00      0.94         8\n",
            "           4       1.00      1.00      1.00         8\n",
            "           5       0.73      1.00      0.84         8\n",
            "\n",
            "    accuracy                           0.81        48\n",
            "   macro avg       0.84      0.81      0.80        48\n",
            "weighted avg       0.84      0.81      0.80        48\n",
            "\n",
            "RNN-Bidirectional, Word Embeddings (0.8125, (array([0.55555556, 0.875     , 1.        , 0.88888889, 1.        ,\n",
            "       0.72727273]), array([0.625, 0.875, 0.375, 1.   , 1.   , 1.   ]), array([0.58823529, 0.875     , 0.54545455, 0.94117647, 1.        ,\n",
            "       0.84210526]), array([8, 8, 8, 8, 8, 8])), <keras.callbacks.History object at 0x7f382626a898>)\n"
          ],
          "name": "stdout"
        }
      ]
    },
    {
      "cell_type": "code",
      "metadata": {
        "id": "4a-Bja79EsKK",
        "colab_type": "code",
        "outputId": "22d5ca4d-af4e-4a25-a775-ecbff3d3240a",
        "colab": {
          "base_uri": "https://localhost:8080/",
          "height": 286
        }
      },
      "source": [
        "from matplotlib import pyplot as plt\n",
        "val_f1=[]\n",
        "val_precision=[]\n",
        "val_recall=[]\n",
        "for i in mtrix.get_data():\n",
        "  val_f1.append(i['val_f1'])\n",
        "  val_precision.append(i['val_precision'])\n",
        "  val_recall.append(i['val_recall'])\n",
        "\n",
        "plt.plot(val_f1)\n",
        "plt.plot(val_precision)\n",
        "plt.plot(val_recall)\n",
        "plt.legend(i.keys())"
      ],
      "execution_count": 0,
      "outputs": [
        {
          "output_type": "execute_result",
          "data": {
            "text/plain": [
              "<matplotlib.legend.Legend at 0x7f382517cba8>"
            ]
          },
          "metadata": {
            "tags": []
          },
          "execution_count": 95
        },
        {
          "output_type": "display_data",
          "data": {
            "image/png": "[encoded data removed]",
            "text/plain": [
              "<Figure size 432x288 with 1 Axes>"
            ]
          },
          "metadata": {
            "tags": []
          }
        }
      ]
    },
    {
      "cell_type": "markdown",
      "metadata": {
        "id": "2Anzu5h9zQ1j",
        "colab_type": "text"
      },
      "source": [
        "##BiRNN-CNN"
      ]
    },
    {
      "cell_type": "code",
      "metadata": {
        "id": "Y8LAqtbAzSnq",
        "colab_type": "code",
        "colab": {}
      },
      "source": [
        "def create_rcnn():\n",
        "    # Add an Input Layer\n",
        "    input_layer = layers.Input((70, ))\n",
        "\n",
        "    # Add the word embedding Layer\n",
        "    embedding_layer = layers.Embedding(len(word_index) + 1, 300, weights=[embedding_matrix], trainable=False)(input_layer)\n",
        "    embedding_layer = layers.SpatialDropout1D(0.3)(embedding_layer)\n",
        "    \n",
        "    # Add the recurrent layer\n",
        "    rnn_layer = layers.Bidirectional(layers.GRU(50, return_sequences=True))(embedding_layer)\n",
        "    \n",
        "    # Add the convolutional Layer\n",
        "    conv_layer = layers.Convolution1D(100, 3, activation=\"relu\")(embedding_layer)\n",
        "\n",
        "    # Add the pooling Layer\n",
        "    pooling_layer = layers.GlobalMaxPool1D()(conv_layer)\n",
        "\n",
        "    # Add the output Layers\n",
        "    output_layer1 = layers.Dense(50, activation=\"relu\")(pooling_layer)\n",
        "    output_layer1 = layers.Dropout(0.25)(output_layer1)\n",
        "    output_layer2 = layers.Dense(6, activation=\"sigmoid\")(output_layer1)\n",
        "\n",
        "    # Compile the model\n",
        "    model = models.Model(inputs=input_layer, outputs=output_layer2)\n",
        "    model.compile(optimizer=optimizers.Adam(), loss='binary_crossentropy')\n",
        "    \n",
        "    return model\n",
        "\n",
        "classifier = create_rcnn()\n",
        "mtrix=Metrics()\n",
        "accuracy = train_model(classifier, train_seq_x, train_y, valid_seq_x, is_neural_net=True,metrics=[categorical_accuracy])\n",
        "print \"CNN, Word Embeddings\",  accuracy"
      ],
      "execution_count": 0,
      "outputs": []
    },
    {
      "cell_type": "code",
      "metadata": {
        "id": "a4niwliAEszi",
        "colab_type": "code",
        "colab": {}
      },
      "source": [
        "from matplotlib import pyplot as plt\n",
        "val_f1=[]\n",
        "val_precision=[]\n",
        "val_recall=[]\n",
        "for i in mtrix.get_data():\n",
        "  val_f1.append(i['val_f1'])\n",
        "  val_precision.append(i['val_precision'])\n",
        "  val_recall.append(i['val_recall'])\n",
        "\n",
        "plt.plot(val_f1)\n",
        "plt.plot(val_precision)\n",
        "plt.plot(val_recall)\n",
        "plt.legend(i.keys())"
      ],
      "execution_count": 0,
      "outputs": []
    },
    {
      "cell_type": "markdown",
      "metadata": {
        "id": "Q_JGXldcgi7s",
        "colab_type": "text"
      },
      "source": [
        "##KAGGLE CNN"
      ]
    },
    {
      "cell_type": "code",
      "metadata": {
        "id": "NiDGMEYcgirt",
        "colab_type": "code",
        "colab": {}
      },
      "source": [
        "MAX_WORDS = 10000\n",
        "MAX_SEQUENCE_LENGTH = 151\n",
        "# the percentage of train test split to be applied\n",
        "VALIDATION_SPLIT = 0.20\n",
        "# the dimension of vectors to be used\n",
        "EMBEDDING_DIM = 300\n",
        "# filter sizes of the different conv layers \n",
        "filter_sizes = [3,4,5]\n",
        "num_filters = 512\n",
        "embedding_dim = 300\n",
        "# dropout probability\n",
        "drop = 0.5\n",
        "batch_size = 30\n",
        "epochs = 2"
      ],
      "execution_count": 0,
      "outputs": []
    },
    {
      "cell_type": "code",
      "metadata": {
        "id": "B33HD6y5goXF",
        "colab_type": "code",
        "colab": {}
      },
      "source": [
        ""
      ],
      "execution_count": 0,
      "outputs": []
    },
    {
      "cell_type": "code",
      "metadata": {
        "id": "QPnRx6Yxgo_J",
        "colab_type": "code",
        "colab": {}
      },
      "source": [
        "from keras.layers import Activation, Conv2D, Input, Embedding, Reshape, MaxPool2D, Concatenate, Flatten, Dropout, Dense, Conv1D,Lambda\n",
        "from keras.backend import expand_dims\n",
        "from keras.optimizers import Adam\n",
        "\n",
        "\n",
        "def create_cnn_kaggle():\n",
        "\n",
        "  inputs = Input((MAX_SEQUENCE_LENGTH, ))\n",
        "  print(inputs.shape)\n",
        "  embedding = Embedding(len(word_index) + 1, 300, weights=[embedding_matrix], trainable=True)(inputs)\n",
        "\n",
        "  print(embedding.shape)\n",
        "  reshape = Lambda(lambda x: expand_dims(x, -1))(embedding)\n",
        "  print(reshape.shape)\n",
        "\n",
        "  conv_0 = Conv2D(num_filters, kernel_size=(filter_sizes[0], embedding_dim), padding='valid', kernel_initializer='normal', activation='relu')(reshape)\n",
        "  conv_1 = Conv2D(num_filters, kernel_size=(filter_sizes[1], embedding_dim), padding='valid', kernel_initializer='normal', activation='relu')(reshape)\n",
        "  conv_2 = Conv2D(num_filters, kernel_size=(filter_sizes[2], embedding_dim), padding='valid', kernel_initializer='normal', activation='relu')(reshape)\n",
        "\n",
        "  maxpool_0 = MaxPool2D(pool_size=(MAX_SEQUENCE_LENGTH - filter_sizes[0] + 1, 1), strides=(1,1), padding='valid')(conv_0)\n",
        "  maxpool_1 = MaxPool2D(pool_size=(MAX_SEQUENCE_LENGTH - filter_sizes[1] + 1, 1), strides=(1,1), padding='valid')(conv_1)\n",
        "  maxpool_2 = MaxPool2D(pool_size=(MAX_SEQUENCE_LENGTH - filter_sizes[2] + 1, 1), strides=(1,1), padding='valid')(conv_2)\n",
        "  print(maxpool_1.shape)\n",
        "  concatenated_tensor = Concatenate(axis=1)([maxpool_0, maxpool_1, maxpool_2])\n",
        "  flatten = Flatten()(concatenated_tensor)\n",
        "  dropout = Dropout(drop)(flatten)\n",
        "  output = Dense(6, activation='sigmoid')(dropout)\n",
        "\n",
        "  # this creates a model that includes\n",
        "  model = models.Model(inputs=inputs, outputs=output)\n",
        "\n",
        "  #checkpoint = ModelCheckpoint('weights_cnn_sentece.hdf5', monitor='val_categorical_accuracy', verbose=1, save_best_only=True, mode='auto')\n",
        "  adam = Adam(lr=1e-4, beta_1=0.9, beta_2=0.999, epsilon=1e-08, decay=0.0)\n",
        "\n",
        "  model.compile(optimizer=adam, loss='binary_crossentropy', metrics=[categorical_accuracy])\n",
        "  \n",
        "  return model\n",
        "\n"
      ],
      "execution_count": 0,
      "outputs": []
    },
    {
      "cell_type": "code",
      "metadata": {
        "id": "J-2dM4enhNg0",
        "colab_type": "code",
        "outputId": "fc3daf9c-2b3e-4844-d0cb-0812fc6b000d",
        "colab": {
          "base_uri": "https://localhost:8080/",
          "height": 1000
        }
      },
      "source": [
        "classifier = create_cnn_kaggle()\n",
        "classifier.summary()\n",
        "mtrix=Metrix()\n",
        "accuracy = train_model(classifier, train_seq_x, train_y, valid_seq_x, is_neural_net=True,epochs=50,print_pred=False,one_hot=True)\n",
        "print(\"CNN, Word Embeddings\",  accuracy)"
      ],
      "execution_count": 0,
      "outputs": [
        {
          "output_type": "stream",
          "text": [
            "(?, 151)\n",
            "(?, 151, 300)\n",
            "(?, 151, 300, 1)\n",
            "(?, 1, 1, 512)\n",
            "Model: \"model_16\"\n",
            "__________________________________________________________________________________________________\n",
            "Layer (type)                    Output Shape         Param #     Connected to                     \n",
            "==================================================================================================\n",
            "input_27 (InputLayer)           (None, 151)          0                                            \n",
            "__________________________________________________________________________________________________\n",
            "embedding_26 (Embedding)        (None, 151, 300)     2094900     input_27[0][0]                   \n",
            "__________________________________________________________________________________________________\n",
            "lambda_10 (Lambda)              (None, 151, 300, 1)  0           embedding_26[0][0]               \n",
            "__________________________________________________________________________________________________\n",
            "conv2d_58 (Conv2D)              (None, 149, 1, 512)  461312      lambda_10[0][0]                  \n",
            "__________________________________________________________________________________________________\n",
            "conv2d_59 (Conv2D)              (None, 148, 1, 512)  614912      lambda_10[0][0]                  \n",
            "__________________________________________________________________________________________________\n",
            "conv2d_60 (Conv2D)              (None, 147, 1, 512)  768512      lambda_10[0][0]                  \n",
            "__________________________________________________________________________________________________\n",
            "max_pooling2d_58 (MaxPooling2D) (None, 1, 1, 512)    0           conv2d_58[0][0]                  \n",
            "__________________________________________________________________________________________________\n",
            "max_pooling2d_59 (MaxPooling2D) (None, 1, 1, 512)    0           conv2d_59[0][0]                  \n",
            "__________________________________________________________________________________________________\n",
            "max_pooling2d_60 (MaxPooling2D) (None, 1, 1, 512)    0           conv2d_60[0][0]                  \n",
            "__________________________________________________________________________________________________\n",
            "concatenate_17 (Concatenate)    (None, 3, 1, 512)    0           max_pooling2d_58[0][0]           \n",
            "                                                                 max_pooling2d_59[0][0]           \n",
            "                                                                 max_pooling2d_60[0][0]           \n",
            "__________________________________________________________________________________________________\n",
            "flatten_17 (Flatten)            (None, 1536)         0           concatenate_17[0][0]             \n",
            "__________________________________________________________________________________________________\n",
            "dropout_17 (Dropout)            (None, 1536)         0           flatten_17[0][0]                 \n",
            "__________________________________________________________________________________________________\n",
            "dense_17 (Dense)                (None, 6)            9222        dropout_17[0][0]                 \n",
            "==================================================================================================\n",
            "Total params: 3,948,858\n",
            "Trainable params: 3,948,858\n",
            "Non-trainable params: 0\n",
            "__________________________________________________________________________________________________\n",
            "Train on 384 samples, validate on 48 samples\n",
            "Epoch 1/50\n",
            "384/384 [==============================] - 3s 7ms/step - loss: 0.7322 - categorical_accuracy: 0.1849 - val_loss: 0.4454 - val_categorical_accuracy: 0.1458\n",
            "Epoch 2/50\n",
            " 64/384 [====>.........................] - ETA: 0s - loss: 0.5254 - categorical_accuracy: 0.2031"
          ],
          "name": "stdout"
        },
        {
          "output_type": "stream",
          "text": [
            "/usr/local/lib/python3.6/dist-packages/sklearn/metrics/classification.py:1437: UndefinedMetricWarning: Precision is ill-defined and being set to 0.0 in labels with no predicted samples.\n",
            "  'precision', 'predicted', average, warn_for)\n",
            "/usr/local/lib/python3.6/dist-packages/sklearn/metrics/classification.py:1437: UndefinedMetricWarning: F-score is ill-defined and being set to 0.0 in labels with no predicted samples.\n",
            "  'precision', 'predicted', average, warn_for)\n"
          ],
          "name": "stderr"
        },
        {
          "output_type": "stream",
          "text": [
            "384/384 [==============================] - 1s 3ms/step - loss: 0.5301 - categorical_accuracy: 0.2005 - val_loss: 0.4597 - val_categorical_accuracy: 0.3958\n",
            "Epoch 3/50\n",
            "384/384 [==============================] - 1s 3ms/step - loss: 0.4812 - categorical_accuracy: 0.3177 - val_loss: 0.4345 - val_categorical_accuracy: 0.5208\n",
            "Epoch 4/50\n",
            "384/384 [==============================] - 1s 3ms/step - loss: 0.4241 - categorical_accuracy: 0.4115 - val_loss: 0.4027 - val_categorical_accuracy: 0.6458\n",
            "Epoch 5/50\n",
            "384/384 [==============================] - 1s 3ms/step - loss: 0.3912 - categorical_accuracy: 0.4714 - val_loss: 0.3812 - val_categorical_accuracy: 0.6875\n",
            "Epoch 6/50\n",
            "384/384 [==============================] - 1s 3ms/step - loss: 0.3483 - categorical_accuracy: 0.5234 - val_loss: 0.3741 - val_categorical_accuracy: 0.7292\n",
            "Epoch 7/50\n",
            "384/384 [==============================] - 1s 3ms/step - loss: 0.3235 - categorical_accuracy: 0.6276 - val_loss: 0.3660 - val_categorical_accuracy: 0.7500\n",
            "Epoch 8/50\n",
            "384/384 [==============================] - 1s 3ms/step - loss: 0.2941 - categorical_accuracy: 0.7109 - val_loss: 0.3593 - val_categorical_accuracy: 0.7292\n",
            "Epoch 9/50\n",
            "384/384 [==============================] - 1s 3ms/step - loss: 0.2771 - categorical_accuracy: 0.6979 - val_loss: 0.3467 - val_categorical_accuracy: 0.7500\n",
            "Epoch 10/50\n",
            "384/384 [==============================] - 1s 3ms/step - loss: 0.2438 - categorical_accuracy: 0.7760 - val_loss: 0.3371 - val_categorical_accuracy: 0.7708\n",
            "Epoch 11/50\n",
            "384/384 [==============================] - 1s 3ms/step - loss: 0.2351 - categorical_accuracy: 0.7969 - val_loss: 0.3314 - val_categorical_accuracy: 0.7917\n",
            "Epoch 12/50\n",
            "384/384 [==============================] - 1s 3ms/step - loss: 0.2208 - categorical_accuracy: 0.8490 - val_loss: 0.3252 - val_categorical_accuracy: 0.7708\n",
            "Epoch 13/50\n",
            "384/384 [==============================] - 1s 3ms/step - loss: 0.1978 - categorical_accuracy: 0.8750 - val_loss: 0.3210 - val_categorical_accuracy: 0.7708\n",
            "Epoch 14/50\n",
            "384/384 [==============================] - 1s 3ms/step - loss: 0.1818 - categorical_accuracy: 0.8984 - val_loss: 0.3160 - val_categorical_accuracy: 0.8125\n",
            "Epoch 15/50\n",
            "384/384 [==============================] - 1s 3ms/step - loss: 0.1760 - categorical_accuracy: 0.8958 - val_loss: 0.3075 - val_categorical_accuracy: 0.8125\n",
            "Epoch 16/50\n",
            "384/384 [==============================] - 1s 3ms/step - loss: 0.1666 - categorical_accuracy: 0.9115 - val_loss: 0.3004 - val_categorical_accuracy: 0.8125\n",
            "Epoch 17/50\n",
            "384/384 [==============================] - 1s 3ms/step - loss: 0.1482 - categorical_accuracy: 0.9635 - val_loss: 0.2986 - val_categorical_accuracy: 0.7917\n",
            "Epoch 18/50\n",
            "384/384 [==============================] - 1s 3ms/step - loss: 0.1456 - categorical_accuracy: 0.9349 - val_loss: 0.2971 - val_categorical_accuracy: 0.8125\n",
            "Epoch 19/50\n",
            "384/384 [==============================] - 1s 3ms/step - loss: 0.1352 - categorical_accuracy: 0.9531 - val_loss: 0.2931 - val_categorical_accuracy: 0.8333\n",
            "Epoch 20/50\n",
            "384/384 [==============================] - 1s 3ms/step - loss: 0.1213 - categorical_accuracy: 0.9688 - val_loss: 0.2937 - val_categorical_accuracy: 0.8125\n",
            "Epoch 21/50\n",
            "384/384 [==============================] - 1s 3ms/step - loss: 0.1143 - categorical_accuracy: 0.9792 - val_loss: 0.2935 - val_categorical_accuracy: 0.8125\n",
            "Epoch 22/50\n",
            "384/384 [==============================] - 1s 3ms/step - loss: 0.1072 - categorical_accuracy: 0.9714 - val_loss: 0.2896 - val_categorical_accuracy: 0.8125\n",
            "Epoch 23/50\n",
            "384/384 [==============================] - 1s 3ms/step - loss: 0.1028 - categorical_accuracy: 0.9766 - val_loss: 0.2863 - val_categorical_accuracy: 0.8125\n",
            "Epoch 24/50\n",
            "384/384 [==============================] - 1s 3ms/step - loss: 0.1074 - categorical_accuracy: 0.9609 - val_loss: 0.2832 - val_categorical_accuracy: 0.8333\n",
            "Epoch 25/50\n",
            "384/384 [==============================] - 1s 3ms/step - loss: 0.0900 - categorical_accuracy: 0.9896 - val_loss: 0.2837 - val_categorical_accuracy: 0.7917\n",
            "Epoch 26/50\n",
            "384/384 [==============================] - 1s 3ms/step - loss: 0.0906 - categorical_accuracy: 0.9844 - val_loss: 0.2855 - val_categorical_accuracy: 0.8333\n",
            "Epoch 27/50\n",
            "384/384 [==============================] - 1s 3ms/step - loss: 0.0845 - categorical_accuracy: 0.9870 - val_loss: 0.2815 - val_categorical_accuracy: 0.8542\n",
            "Epoch 28/50\n",
            "384/384 [==============================] - 1s 3ms/step - loss: 0.0817 - categorical_accuracy: 0.9922 - val_loss: 0.2766 - val_categorical_accuracy: 0.8333\n",
            "Epoch 29/50\n",
            "384/384 [==============================] - 1s 3ms/step - loss: 0.0759 - categorical_accuracy: 0.9922 - val_loss: 0.2743 - val_categorical_accuracy: 0.8542\n",
            "Epoch 30/50\n",
            "384/384 [==============================] - 1s 3ms/step - loss: 0.0762 - categorical_accuracy: 0.9896 - val_loss: 0.2747 - val_categorical_accuracy: 0.8542\n",
            "Epoch 31/50\n",
            "384/384 [==============================] - 1s 3ms/step - loss: 0.0679 - categorical_accuracy: 1.0000 - val_loss: 0.2758 - val_categorical_accuracy: 0.8333\n",
            "Epoch 32/50\n",
            "384/384 [==============================] - 1s 3ms/step - loss: 0.0675 - categorical_accuracy: 0.9922 - val_loss: 0.2724 - val_categorical_accuracy: 0.8333\n",
            "Epoch 33/50\n",
            "384/384 [==============================] - 1s 3ms/step - loss: 0.0633 - categorical_accuracy: 0.9922 - val_loss: 0.2694 - val_categorical_accuracy: 0.8333\n",
            "Epoch 34/50\n",
            "384/384 [==============================] - 1s 3ms/step - loss: 0.0614 - categorical_accuracy: 0.9948 - val_loss: 0.2681 - val_categorical_accuracy: 0.8542\n",
            "Epoch 35/50\n",
            "384/384 [==============================] - 1s 3ms/step - loss: 0.0597 - categorical_accuracy: 1.0000 - val_loss: 0.2678 - val_categorical_accuracy: 0.8542\n",
            "Epoch 36/50\n",
            "384/384 [==============================] - 1s 3ms/step - loss: 0.0541 - categorical_accuracy: 1.0000 - val_loss: 0.2723 - val_categorical_accuracy: 0.8542\n",
            "Epoch 37/50\n",
            "384/384 [==============================] - 1s 3ms/step - loss: 0.0535 - categorical_accuracy: 0.9974 - val_loss: 0.2717 - val_categorical_accuracy: 0.8333\n",
            "Epoch 38/50\n",
            "384/384 [==============================] - 1s 3ms/step - loss: 0.0526 - categorical_accuracy: 0.9974 - val_loss: 0.2695 - val_categorical_accuracy: 0.8542\n",
            "Epoch 39/50\n",
            "384/384 [==============================] - 1s 3ms/step - loss: 0.0473 - categorical_accuracy: 1.0000 - val_loss: 0.2691 - val_categorical_accuracy: 0.8125\n",
            "Epoch 40/50\n",
            "384/384 [==============================] - 1s 3ms/step - loss: 0.0487 - categorical_accuracy: 1.0000 - val_loss: 0.2717 - val_categorical_accuracy: 0.8125\n",
            "Epoch 41/50\n",
            "384/384 [==============================] - 1s 3ms/step - loss: 0.0465 - categorical_accuracy: 1.0000 - val_loss: 0.2729 - val_categorical_accuracy: 0.8333\n",
            "Epoch 42/50\n",
            "384/384 [==============================] - 1s 3ms/step - loss: 0.0425 - categorical_accuracy: 1.0000 - val_loss: 0.2702 - val_categorical_accuracy: 0.8333\n",
            "Epoch 43/50\n",
            "384/384 [==============================] - 1s 3ms/step - loss: 0.0411 - categorical_accuracy: 1.0000 - val_loss: 0.2664 - val_categorical_accuracy: 0.8333\n",
            "Epoch 44/50\n",
            "384/384 [==============================] - 1s 3ms/step - loss: 0.0375 - categorical_accuracy: 1.0000 - val_loss: 0.2684 - val_categorical_accuracy: 0.8333\n",
            "Epoch 45/50\n",
            "384/384 [==============================] - 1s 3ms/step - loss: 0.0388 - categorical_accuracy: 1.0000 - val_loss: 0.2702 - val_categorical_accuracy: 0.8333\n",
            "Epoch 46/50\n",
            "384/384 [==============================] - 1s 3ms/step - loss: 0.0367 - categorical_accuracy: 1.0000 - val_loss: 0.2700 - val_categorical_accuracy: 0.8333\n",
            "Epoch 47/50\n",
            "384/384 [==============================] - 1s 3ms/step - loss: 0.0353 - categorical_accuracy: 0.9974 - val_loss: 0.2705 - val_categorical_accuracy: 0.8542\n",
            "Epoch 48/50\n",
            "384/384 [==============================] - 1s 3ms/step - loss: 0.0354 - categorical_accuracy: 0.9974 - val_loss: 0.2707 - val_categorical_accuracy: 0.8333\n",
            "Epoch 49/50\n",
            "384/384 [==============================] - 1s 3ms/step - loss: 0.0375 - categorical_accuracy: 1.0000 - val_loss: 0.2675 - val_categorical_accuracy: 0.8125\n",
            "Epoch 50/50\n",
            "384/384 [==============================] - 1s 3ms/step - loss: 0.0339 - categorical_accuracy: 1.0000 - val_loss: 0.2665 - val_categorical_accuracy: 0.8125\n",
            "              precision    recall  f1-score   support\n",
            "\n",
            "           0       0.71      0.62      0.67         8\n",
            "           1       1.00      0.88      0.93         8\n",
            "           2       0.67      0.50      0.57         8\n",
            "           3       0.89      1.00      0.94         8\n",
            "           4       0.78      0.88      0.82         8\n",
            "           5       0.80      1.00      0.89         8\n",
            "\n",
            "    accuracy                           0.81        48\n",
            "   macro avg       0.81      0.81      0.80        48\n",
            "weighted avg       0.81      0.81      0.80        48\n",
            "\n",
            "CNN, Word Embeddings (0.8125, (array([0.71428571, 1.        , 0.66666667, 0.88888889, 0.77777778,\n",
            "       0.8       ]), array([0.625, 0.875, 0.5  , 1.   , 0.875, 1.   ]), array([0.66666667, 0.93333333, 0.57142857, 0.94117647, 0.82352941,\n",
            "       0.88888889]), array([8, 8, 8, 8, 8, 8])), <keras.callbacks.History object at 0x7ff92f3c44e0>)\n"
          ],
          "name": "stdout"
        }
      ]
    },
    {
      "cell_type": "code",
      "metadata": {
        "id": "ECRHbcLbtW7V",
        "colab_type": "code",
        "outputId": "aa42377d-21d8-4801-9302-81509758ca07",
        "colab": {
          "base_uri": "https://localhost:8080/",
          "height": 34
        }
      },
      "source": [
        "train_seq_x.shape"
      ],
      "execution_count": 0,
      "outputs": [
        {
          "output_type": "execute_result",
          "data": {
            "text/plain": [
              "(384, 151)"
            ]
          },
          "metadata": {
            "tags": []
          },
          "execution_count": 74
        }
      ]
    },
    {
      "cell_type": "code",
      "metadata": {
        "id": "cNo1O8B_iAtT",
        "colab_type": "code",
        "outputId": "c0d234e8-4d92-4a52-b6e8-a59043b04481",
        "colab": {
          "base_uri": "https://localhost:8080/",
          "height": 34
        }
      },
      "source": [
        "%pdb"
      ],
      "execution_count": 0,
      "outputs": [
        {
          "output_type": "stream",
          "text": [
            "Automatic pdb calling has been turned OFF\n"
          ],
          "name": "stdout"
        }
      ]
    },
    {
      "cell_type": "code",
      "metadata": {
        "id": "AvE33FvWsEgM",
        "colab_type": "code",
        "colab": {}
      },
      "source": [
        ""
      ],
      "execution_count": 0,
      "outputs": []
    },
    {
      "cell_type": "markdown",
      "metadata": {
        "id": "ro-IN5e6v3YM",
        "colab_type": "text"
      },
      "source": [
        "##BI-LSTM with Attention"
      ]
    },
    {
      "cell_type": "code",
      "metadata": {
        "id": "2ZYY9yIbv5gg",
        "colab_type": "code",
        "colab": {}
      },
      "source": [
        "from keras import backend as K\n",
        "from keras.engine.topology import Layer\n",
        "from keras import initializers, regularizers, constraints\n",
        "\n",
        "\n",
        "class Attention(Layer):\n",
        "    def __init__(self, step_dim,\n",
        "                 W_regularizer=None, b_regularizer=None,\n",
        "                 W_constraint=None, b_constraint=None,\n",
        "                 bias=True, **kwargs):\n",
        "        self.supports_masking = True\n",
        "        self.init = initializers.get('glorot_uniform')\n",
        "\n",
        "        self.W_regularizer = regularizers.get(W_regularizer)\n",
        "        self.b_regularizer = regularizers.get(b_regularizer)\n",
        "\n",
        "        self.W_constraint = constraints.get(W_constraint)\n",
        "        self.b_constraint = constraints.get(b_constraint)\n",
        "\n",
        "        self.bias = bias\n",
        "        self.step_dim = step_dim\n",
        "        self.features_dim = 0\n",
        "        super(Attention, self).__init__(**kwargs)\n",
        "\n",
        "    def build(self, input_shape):\n",
        "        assert len(input_shape) == 3\n",
        "\n",
        "        self.W = self.add_weight((input_shape[-1],),\n",
        "                                 initializer=self.init,\n",
        "                                 name='{}_W'.format(self.name),\n",
        "                                 regularizer=self.W_regularizer,\n",
        "                                 constraint=self.W_constraint)\n",
        "        self.features_dim = input_shape[-1]\n",
        "\n",
        "        if self.bias:\n",
        "            self.b = self.add_weight((input_shape[1],),\n",
        "                                     initializer='zero',\n",
        "                                     name='{}_b'.format(self.name),\n",
        "                                     regularizer=self.b_regularizer,\n",
        "                                     constraint=self.b_constraint)\n",
        "        else:\n",
        "            self.b = None\n",
        "\n",
        "        self.built = True\n",
        "\n",
        "    def compute_mask(self, input, input_mask=None):\n",
        "        return None\n",
        "\n",
        "    def call(self, x, mask=None):\n",
        "        features_dim = self.features_dim\n",
        "        step_dim = self.step_dim\n",
        "\n",
        "        eij = K.reshape(K.dot(K.reshape(x, (-1, features_dim)),\n",
        "                        K.reshape(self.W, (features_dim, 1))), (-1, step_dim))\n",
        "\n",
        "        if self.bias:\n",
        "            eij += self.b\n",
        "\n",
        "        eij = K.tanh(eij)\n",
        "\n",
        "        a = K.exp(eij)\n",
        "\n",
        "        if mask is not None:\n",
        "            a *= K.cast(mask, K.floatx())\n",
        "\n",
        "        a /= K.cast(K.sum(a, axis=1, keepdims=True) + K.epsilon(), K.floatx())\n",
        "\n",
        "        a = K.expand_dims(a)\n",
        "        weighted_input = x * a\n",
        "        return K.sum(weighted_input, axis=1)\n",
        "\n",
        "    def compute_output_shape(self, input_shape):\n",
        "        return input_shape[0],  self.features_dim"
      ],
      "execution_count": 0,
      "outputs": []
    },
    {
      "cell_type": "code",
      "metadata": {
        "id": "tmNO-M_Iv7UD",
        "colab_type": "code",
        "colab": {}
      },
      "source": [
        "from keras.models import Model\n",
        "from keras.layers import Dense, Embedding, Input\n",
        "from keras.layers import LSTM, Bidirectional, Dropout\n",
        "\n",
        "\n",
        "def BidLstm(maxlen, max_features, embed_size, embedding_matrix):\n",
        "    inp = Input(shape=(maxlen, ))\n",
        "    x = Embedding(max_features, embed_size, weights=[embedding_matrix],\n",
        "                  trainable=False)(inp)\n",
        "    x = LSTM(300, return_sequences=True, dropout=0.15,\n",
        "                           recurrent_dropout=0.15)(x)\n",
        "    x = Attention(maxlen)(x)\n",
        "    x = Dense(128, activation=\"relu\")(x)\n",
        "    x = Dropout(0)(x)\n",
        "    x = Dense(6, activation=\"sigmoid\")(x)\n",
        "    model = Model(inputs=inp, outputs=x)\n",
        "    model.compile(loss='binary_crossentropy', optimizer='adam',\n",
        "                  metrics=[categorical_accuracy])\n",
        "    return model"
      ],
      "execution_count": 0,
      "outputs": []
    },
    {
      "cell_type": "code",
      "metadata": {
        "id": "32OxdxGWwBfL",
        "colab_type": "code",
        "outputId": "3f336e8d-49bb-4498-f54d-ce6d2de63443",
        "colab": {
          "base_uri": "https://localhost:8080/",
          "height": 1000
        }
      },
      "source": [
        "classifier = BidLstm(144,len(word_index) + 1,300,embedding_matrix)\n",
        "classifier.summary()\n",
        "mtrix=Metrix()\n",
        "accuracy = train_model(classifier, train_seq_x, train_y, valid_seq_x, is_neural_net=True,epochs=30,print_pred=False,one_hot=True)\n",
        "print(\"CNN, Word Embeddings\",  accuracy)"
      ],
      "execution_count": 0,
      "outputs": [
        {
          "output_type": "stream",
          "text": [
            "Model: \"model_26\"\n",
            "_________________________________________________________________\n",
            "Layer (type)                 Output Shape              Param #   \n",
            "=================================================================\n",
            "input_37 (InputLayer)        (None, 144)               0         \n",
            "_________________________________________________________________\n",
            "embedding_36 (Embedding)     (None, 144, 300)          2094900   \n",
            "_________________________________________________________________\n",
            "lstm_8 (LSTM)                (None, 144, 300)          721200    \n",
            "_________________________________________________________________\n",
            "attention_8 (Attention)      (None, 300)               444       \n",
            "_________________________________________________________________\n",
            "dense_36 (Dense)             (None, 128)               38528     \n",
            "_________________________________________________________________\n",
            "dropout_27 (Dropout)         (None, 128)               0         \n",
            "_________________________________________________________________\n",
            "dense_37 (Dense)             (None, 6)                 774       \n",
            "=================================================================\n",
            "Total params: 2,855,846\n",
            "Trainable params: 760,946\n",
            "Non-trainable params: 2,094,900\n",
            "_________________________________________________________________\n",
            "Train on 384 samples, validate on 48 samples\n",
            "Epoch 1/30\n",
            "384/384 [==============================] - 9s 24ms/step - loss: 0.5306 - categorical_accuracy: 0.1953 - val_loss: 0.4437 - val_categorical_accuracy: 0.3750\n"
          ],
          "name": "stdout"
        },
        {
          "output_type": "stream",
          "text": [
            "/usr/local/lib/python3.6/dist-packages/sklearn/metrics/classification.py:1437: UndefinedMetricWarning: Precision is ill-defined and being set to 0.0 in labels with no predicted samples.\n",
            "  'precision', 'predicted', average, warn_for)\n",
            "/usr/local/lib/python3.6/dist-packages/sklearn/metrics/classification.py:1437: UndefinedMetricWarning: F-score is ill-defined and being set to 0.0 in labels with no predicted samples.\n",
            "  'precision', 'predicted', average, warn_for)\n"
          ],
          "name": "stderr"
        },
        {
          "output_type": "stream",
          "text": [
            "Epoch 2/30\n",
            "384/384 [==============================] - 4s 11ms/step - loss: 0.4139 - categorical_accuracy: 0.4844 - val_loss: 0.3521 - val_categorical_accuracy: 0.5417\n",
            "Epoch 3/30\n",
            "384/384 [==============================] - 4s 11ms/step - loss: 0.3113 - categorical_accuracy: 0.6146 - val_loss: 0.3036 - val_categorical_accuracy: 0.6667\n",
            "Epoch 4/30\n",
            "384/384 [==============================] - 4s 11ms/step - loss: 0.2551 - categorical_accuracy: 0.6667 - val_loss: 0.2324 - val_categorical_accuracy: 0.7083\n",
            "Epoch 5/30\n",
            "384/384 [==============================] - 4s 11ms/step - loss: 0.1882 - categorical_accuracy: 0.7865 - val_loss: 0.2097 - val_categorical_accuracy: 0.7292\n",
            "Epoch 6/30\n",
            "384/384 [==============================] - 4s 11ms/step - loss: 0.1651 - categorical_accuracy: 0.8490 - val_loss: 0.2023 - val_categorical_accuracy: 0.8333\n",
            "Epoch 7/30\n",
            "384/384 [==============================] - 4s 11ms/step - loss: 0.1219 - categorical_accuracy: 0.8750 - val_loss: 0.2037 - val_categorical_accuracy: 0.8333\n",
            "Epoch 8/30\n",
            "384/384 [==============================] - 4s 11ms/step - loss: 0.0988 - categorical_accuracy: 0.8958 - val_loss: 0.2423 - val_categorical_accuracy: 0.7500\n",
            "Epoch 9/30\n",
            "384/384 [==============================] - 4s 11ms/step - loss: 0.1015 - categorical_accuracy: 0.8906 - val_loss: 0.2099 - val_categorical_accuracy: 0.8542\n",
            "Epoch 10/30\n",
            "384/384 [==============================] - 4s 11ms/step - loss: 0.0810 - categorical_accuracy: 0.9245 - val_loss: 0.2383 - val_categorical_accuracy: 0.8125\n",
            "Epoch 11/30\n",
            "384/384 [==============================] - 4s 11ms/step - loss: 0.1000 - categorical_accuracy: 0.9036 - val_loss: 0.2237 - val_categorical_accuracy: 0.7708\n",
            "Epoch 12/30\n",
            "384/384 [==============================] - 4s 11ms/step - loss: 0.0740 - categorical_accuracy: 0.9349 - val_loss: 0.2434 - val_categorical_accuracy: 0.7917\n",
            "Epoch 13/30\n",
            "384/384 [==============================] - 4s 11ms/step - loss: 0.0634 - categorical_accuracy: 0.9245 - val_loss: 0.2928 - val_categorical_accuracy: 0.7708\n",
            "Epoch 14/30\n",
            "384/384 [==============================] - 4s 11ms/step - loss: 0.0436 - categorical_accuracy: 0.9635 - val_loss: 0.2701 - val_categorical_accuracy: 0.8125\n",
            "Epoch 15/30\n",
            "384/384 [==============================] - 4s 11ms/step - loss: 0.0313 - categorical_accuracy: 0.9714 - val_loss: 0.3214 - val_categorical_accuracy: 0.7917\n",
            "Epoch 16/30\n",
            "384/384 [==============================] - 4s 11ms/step - loss: 0.0596 - categorical_accuracy: 0.9427 - val_loss: 0.2535 - val_categorical_accuracy: 0.7917\n",
            "Epoch 17/30\n",
            "384/384 [==============================] - 4s 11ms/step - loss: 0.0441 - categorical_accuracy: 0.9609 - val_loss: 0.3228 - val_categorical_accuracy: 0.7708\n",
            "Epoch 18/30\n",
            "384/384 [==============================] - 4s 11ms/step - loss: 0.0388 - categorical_accuracy: 0.9583 - val_loss: 0.2417 - val_categorical_accuracy: 0.8125\n",
            "Epoch 19/30\n",
            "384/384 [==============================] - 4s 11ms/step - loss: 0.0319 - categorical_accuracy: 0.9688 - val_loss: 0.1848 - val_categorical_accuracy: 0.8958\n",
            "Epoch 20/30\n",
            "384/384 [==============================] - 4s 11ms/step - loss: 0.0269 - categorical_accuracy: 0.9818 - val_loss: 0.2004 - val_categorical_accuracy: 0.8750\n",
            "Epoch 21/30\n",
            "384/384 [==============================] - 4s 11ms/step - loss: 0.0466 - categorical_accuracy: 0.9635 - val_loss: 0.2610 - val_categorical_accuracy: 0.8125\n",
            "Epoch 22/30\n",
            "384/384 [==============================] - 4s 11ms/step - loss: 0.0244 - categorical_accuracy: 0.9792 - val_loss: 0.2223 - val_categorical_accuracy: 0.8542\n",
            "Epoch 23/30\n",
            "384/384 [==============================] - 4s 11ms/step - loss: 0.0164 - categorical_accuracy: 0.9870 - val_loss: 0.2687 - val_categorical_accuracy: 0.7708\n",
            "Epoch 24/30\n",
            "384/384 [==============================] - 4s 11ms/step - loss: 0.0164 - categorical_accuracy: 0.9844 - val_loss: 0.2438 - val_categorical_accuracy: 0.8333\n",
            "Epoch 25/30\n",
            "384/384 [==============================] - 4s 11ms/step - loss: 0.0101 - categorical_accuracy: 0.9922 - val_loss: 0.2344 - val_categorical_accuracy: 0.8750\n",
            "Epoch 26/30\n",
            "384/384 [==============================] - 4s 11ms/step - loss: 0.0359 - categorical_accuracy: 0.9714 - val_loss: 0.3083 - val_categorical_accuracy: 0.8125\n",
            "Epoch 27/30\n",
            "384/384 [==============================] - 4s 10ms/step - loss: 0.0093 - categorical_accuracy: 0.9948 - val_loss: 0.2391 - val_categorical_accuracy: 0.8750\n",
            "Epoch 28/30\n",
            "384/384 [==============================] - 4s 11ms/step - loss: 0.0088 - categorical_accuracy: 0.9922 - val_loss: 0.2449 - val_categorical_accuracy: 0.8750\n",
            "Epoch 29/30\n",
            "384/384 [==============================] - 4s 11ms/step - loss: 0.0090 - categorical_accuracy: 0.9922 - val_loss: 0.2812 - val_categorical_accuracy: 0.8542\n",
            "Epoch 30/30\n",
            "384/384 [==============================] - 4s 11ms/step - loss: 0.0150 - categorical_accuracy: 0.9896 - val_loss: 0.2633 - val_categorical_accuracy: 0.8542\n",
            "              precision    recall  f1-score   support\n",
            "\n",
            "           0       0.75      0.75      0.75         8\n",
            "           1       1.00      1.00      1.00         8\n",
            "           2       0.80      0.50      0.62         8\n",
            "           3       1.00      1.00      1.00         8\n",
            "           4       0.88      0.88      0.88         8\n",
            "           5       0.73      1.00      0.84         8\n",
            "\n",
            "    accuracy                           0.85        48\n",
            "   macro avg       0.86      0.85      0.85        48\n",
            "weighted avg       0.86      0.85      0.85        48\n",
            "\n",
            "CNN, Word Embeddings (0.8541666666666666, (array([0.75      , 1.        , 0.8       , 1.        , 0.875     ,\n",
            "       0.72727273]), array([0.75 , 1.   , 0.5  , 1.   , 0.875, 1.   ]), array([0.75      , 1.        , 0.61538462, 1.        , 0.875     ,\n",
            "       0.84210526]), array([8, 8, 8, 8, 8, 8])), <keras.callbacks.History object at 0x7ff921d98d68>)\n"
          ],
          "name": "stdout"
        }
      ]
    },
    {
      "cell_type": "code",
      "metadata": {
        "id": "5IffhvSawZqT",
        "colab_type": "code",
        "outputId": "295c5616-7444-4c5d-c8d9-d4b500313d55",
        "colab": {
          "base_uri": "https://localhost:8080/",
          "height": 286
        }
      },
      "source": [
        "from matplotlib import pyplot as plt\n",
        "val_f1=[]\n",
        "val_precision=[]\n",
        "val_recall=[]\n",
        "for i in mtrix.get_data():\n",
        "  val_f1.append(i['val_f1'])\n",
        "  val_precision.append(i['val_precision'])\n",
        "  val_recall.append(i['val_recall'])\n",
        "\n",
        "plt.plot(val_f1)\n",
        "plt.plot(val_precision)\n",
        "plt.plot(val_recall)\n",
        "plt.legend(i.keys())"
      ],
      "execution_count": 0,
      "outputs": [
        {
          "output_type": "execute_result",
          "data": {
            "text/plain": [
              "<matplotlib.legend.Legend at 0x7ff922249ef0>"
            ]
          },
          "metadata": {
            "tags": []
          },
          "execution_count": 123
        },
        {
          "output_type": "display_data",
          "data": {
            "image/png": "[encoded data removed]",
            "text/plain": [
              "<Figure size 432x288 with 1 Axes>"
            ]
          },
          "metadata": {
            "tags": []
          }
        }
      ]
    },
    {
      "cell_type": "code",
      "metadata": {
        "id": "W4dkl3ek0BEF",
        "colab_type": "code",
        "outputId": "5c7f4cc6-4645-407e-8cde-47fa13192577",
        "colab": {
          "base_uri": "https://localhost:8080/",
          "height": 527
        }
      },
      "source": [
        "val_f1"
      ],
      "execution_count": 0,
      "outputs": [
        {
          "output_type": "execute_result",
          "data": {
            "text/plain": [
              "[0.048484848484848485,\n",
              " 0.1895424836601307,\n",
              " 0.3603522913867742,\n",
              " 0.3332144979203803,\n",
              " 0.6512697184136812,\n",
              " 0.7574074074074074,\n",
              " 0.7174714690194567,\n",
              " 0.6975412387177093,\n",
              " 0.7146284514705568,\n",
              " 0.758840288252053,\n",
              " 0.7048350041771094,\n",
              " 0.7821428571428571,\n",
              " 0.7977582846003899,\n",
              " 0.8292397660818712,\n",
              " 0.7821428571428571,\n",
              " 0.7565359477124183,\n",
              " 0.725925925925926,\n",
              " 0.7923669467787114,\n",
              " 0.8062678062678063,\n",
              " 0.7942110177404295,\n",
              " 0.806730469965764,\n",
              " 0.8062678062678063,\n",
              " 0.7346863891755532,\n",
              " 0.727817910790047,\n",
              " 0.6847265221878226,\n",
              " 0.8345782757547463,\n",
              " 0.6900161030595813,\n",
              " 0.6935185185185185,\n",
              " 0.7666789522826676,\n",
              " 0.8496762740183793]"
            ]
          },
          "metadata": {
            "tags": []
          },
          "execution_count": 118
        }
      ]
    },
    {
      "cell_type": "code",
      "metadata": {
        "id": "0oVilrwm2JWK",
        "colab_type": "code",
        "outputId": "c7ec1298-5781-4e8c-8855-5063ec3650cd",
        "colab": {
          "base_uri": "https://localhost:8080/",
          "height": 34
        }
      },
      "source": [
        "np.max(val_f1)"
      ],
      "execution_count": 0,
      "outputs": [
        {
          "output_type": "execute_result",
          "data": {
            "text/plain": [
              "0.8505291005291006"
            ]
          },
          "metadata": {
            "tags": []
          },
          "execution_count": 124
        }
      ]
    },
    {
      "cell_type": "code",
      "metadata": {
        "id": "SBpYxpAN2Lyh",
        "colab_type": "code",
        "colab": {}
      },
      "source": [
        ""
      ],
      "execution_count": 0,
      "outputs": []
    }
  ]
}