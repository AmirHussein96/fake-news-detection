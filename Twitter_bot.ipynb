{
 "cells": [
  {
   "cell_type": "code",
   "execution_count": 0,
   "metadata": {
    "colab": {},
    "colab_type": "code",
    "id": "isbqFfCBbUBY"
   },
   "outputs": [],
   "source": []
  },
  {
   "cell_type": "code",
   "execution_count": 1,
   "metadata": {
    "colab": {
     "base_uri": "https://localhost:8080/",
     "height": 67
    },
    "colab_type": "code",
    "executionInfo": {
     "elapsed": 6757,
     "status": "ok",
     "timestamp": 1569917351916,
     "user": {
      "displayName": "wissam antoun",
      "photoUrl": "https://lh3.googleusercontent.com/a-/AAuE7mDSALPtIL3q2P36W-E2L313Aw1lXeeHSdDZNk-6-rg=s64",
      "userId": "06574368210388800322"
     },
     "user_tz": -180
    },
    "id": "VLO2vyYfc1Vt",
    "outputId": "c56883d9-35b3-4ccd-9e95-95fc598f1011"
   },
   "outputs": [
    {
     "name": "stdout",
     "output_type": "stream",
     "text": [
      "Collecting xlrd\n",
      "  Downloading https://files.pythonhosted.org/packages/b0/16/63576a1a001752e34bf8ea62e367997530dc553b689356b9879339cf45a4/xlrd-1.2.0-py2.py3-none-any.whl (103kB)\n",
      "Installing collected packages: xlrd\n",
      "Successfully installed xlrd-1.2.0\n"
     ]
    }
   ],
   "source": [
    "!pip install xlrd"
   ]
  },
  {
   "cell_type": "code",
   "execution_count": 3,
   "metadata": {
    "colab": {},
    "colab_type": "code",
    "id": "Fzgc9MvBdKPe"
   },
   "outputs": [],
   "source": [
    "import xlrd\n",
    "\n",
    "workbook = xlrd.open_workbook('C:\\\\Users\\\\wfa07\\\\OneDrive - American University of Beirut\\\\Fake News\\\\BotsDataset\\\\QICC-Bots-DataSet.xlsx',encoding_override='utf-8')\n",
    "worksheet = workbook.sheet_by_index(1)\n",
    "train_first_row = [] # The row where we stock the name of the column\n",
    "for col in range(worksheet.ncols):\n",
    "    train_first_row.append( worksheet.cell_value(0,col) )\n",
    "# tronsform the workbook to a list of dictionnary\n",
    "train_data =[]\n",
    "for row in range(1, worksheet.nrows):\n",
    "    elm = {}\n",
    "    for col in range(worksheet.ncols):\n",
    "        elm[train_first_row[col]]=worksheet.cell_value(row,col)\n",
    "    train_data.append(elm)\n",
    "\n",
    "    \n",
    "    \n",
    "test_worksheet = workbook.sheet_by_index(2)\n",
    "test_first_row = [] # The row where we stock the name of the column\n",
    "for col in range(test_worksheet.ncols):\n",
    "    test_first_row.append( test_worksheet.cell_value(0,col) )\n",
    "# tronsform the workbook to a list of dictionnary\n",
    "test_data =[]\n",
    "for row in range(1, test_worksheet.nrows):\n",
    "    elm = {}\n",
    "    for col in range(test_worksheet.ncols):\n",
    "        elm[test_first_row[col]]=test_worksheet.cell_value(row,col)\n",
    "    test_data.append(elm)\n"
   ]
  },
  {
   "cell_type": "code",
   "execution_count": 4,
   "metadata": {
    "colab": {},
    "colab_type": "code",
    "id": "sCePCOePdQQs"
   },
   "outputs": [],
   "source": [
    "import pandas as pd\n",
    "\n",
    "train_data_df= pd.DataFrame(train_data)\n",
    "test_data_df = pd.DataFrame(test_data)\n",
    "\n",
    "all_data_df = train_data_df.append(test_data_df,ignore_index=True)"
   ]
  },
  {
   "cell_type": "code",
   "execution_count": 5,
   "metadata": {
    "colab": {
     "base_uri": "https://localhost:8080/",
     "height": 67
    },
    "colab_type": "code",
    "executionInfo": {
     "elapsed": 5445,
     "status": "ok",
     "timestamp": 1569917355306,
     "user": {
      "displayName": "wissam antoun",
      "photoUrl": "https://lh3.googleusercontent.com/a-/AAuE7mDSALPtIL3q2P36W-E2L313Aw1lXeeHSdDZNk-6-rg=s64",
      "userId": "06574368210388800322"
     },
     "user_tz": -180
    },
    "id": "o5_d4GSPAPM2",
    "outputId": "dbce0fe1-ed76-4869-b0ef-e61bfca098a2"
   },
   "outputs": [
    {
     "name": "stdout",
     "output_type": "stream",
     "text": [
      "(1615, 23)\n",
      "(18384, 23)\n",
      "(19999, 23)\n"
     ]
    }
   ],
   "source": [
    "print(test_data_df.shape)\n",
    "print(train_data_df.shape)\n",
    "print(all_data_df.shape)"
   ]
  },
  {
   "cell_type": "code",
   "execution_count": 6,
   "metadata": {
    "colab": {
     "base_uri": "https://localhost:8080/",
     "height": 162
    },
    "colab_type": "code",
    "executionInfo": {
     "elapsed": 4886,
     "status": "error",
     "timestamp": 1569917355310,
     "user": {
      "displayName": "wissam antoun",
      "photoUrl": "https://lh3.googleusercontent.com/a-/AAuE7mDSALPtIL3q2P36W-E2L313Aw1lXeeHSdDZNk-6-rg=s64",
      "userId": "06574368210388800322"
     },
     "user_tz": -180
    },
    "id": "aCGDV9jRegFf",
    "outputId": "194d6b4c-ac40-4df3-cfec-c1df389d0717"
   },
   "outputs": [
    {
     "ename": "AttributeError",
     "evalue": "ignored",
     "output_type": "error",
     "traceback": [
      "\u001b[0;31m---------------------------------------------------------------------------\u001b[0m",
      "\u001b[0;31mAttributeError\u001b[0m                            Traceback (most recent call last)",
      "\u001b[0;32m<ipython-input-6-38d55b9d0744>\u001b[0m in \u001b[0;36m<module>\u001b[0;34m()\u001b[0m\n\u001b[0;32m----> 1\u001b[0;31m \u001b[0mtrain_data\u001b[0m\u001b[0;34m.\u001b[0m\u001b[0miloc\u001b[0m\u001b[0;34m[\u001b[0m\u001b[0;36m0\u001b[0m\u001b[0;34m]\u001b[0m\u001b[0;34m\u001b[0m\u001b[0;34m\u001b[0m\u001b[0m\n\u001b[0m",
      "\u001b[0;31mAttributeError\u001b[0m: 'list' object has no attribute 'iloc'"
     ]
    }
   ],
   "source": [
    "train_data.iloc[0]"
   ]
  },
  {
   "cell_type": "code",
   "execution_count": 0,
   "metadata": {
    "colab": {},
    "colab_type": "code",
    "id": "J6nlLGInqYsP"
   },
   "outputs": [],
   "source": [
    "!pip install python-twitter"
   ]
  },
  {
   "cell_type": "code",
   "execution_count": 0,
   "metadata": {
    "colab": {},
    "colab_type": "code",
    "id": "xNqhUCaznowN"
   },
   "outputs": [],
   "source": [
    "consumer_key='25SjEQNdimGLs9BNcAfbJW3dA'\n",
    "consumer_secret='RTt7e2m4iWwbXUUHyH4Vn7YRm6jpoQmm4m8RhedqohQBNbyYLU'\n",
    "access_key = '755246834826838016-GPchEozsoRFTm10LbSbUKyG2NlIoLOR'\n",
    "access_secret = 'x0LXflU8vJFojsXfgumxLNlh8TEMUCUpqkK5fuH98UY6o'\n",
    "\n",
    "import twitter\n",
    "api = twitter.Api(consumer_key=consumer_key,\n",
    "                      consumer_secret=consumer_secret,\n",
    "                      access_token_key=access_key,\n",
    "                      access_token_secret=access_secret)"
   ]
  },
  {
   "cell_type": "code",
   "execution_count": 7,
   "metadata": {
    "colab": {
     "base_uri": "https://localhost:8080/",
     "height": 229
    },
    "colab_type": "code",
    "executionInfo": {
     "elapsed": 691,
     "status": "error",
     "timestamp": 1569917356635,
     "user": {
      "displayName": "wissam antoun",
      "photoUrl": "https://lh3.googleusercontent.com/a-/AAuE7mDSALPtIL3q2P36W-E2L313Aw1lXeeHSdDZNk-6-rg=s64",
      "userId": "06574368210388800322"
     },
     "user_tz": -180
    },
    "id": "zH4sNo_Npi6H",
    "outputId": "35a95582-1fc3-4474-e5bb-193d58ea0a1a"
   },
   "outputs": [
    {
     "ename": "TypeError",
     "evalue": "ignored",
     "output_type": "error",
     "traceback": [
      "\u001b[0;31m---------------------------------------------------------------------------\u001b[0m",
      "\u001b[0;31mTypeError\u001b[0m                                 Traceback (most recent call last)",
      "\u001b[0;32m<ipython-input-7-f7c4a430d930>\u001b[0m in \u001b[0;36m<module>\u001b[0;34m()\u001b[0m\n\u001b[1;32m      1\u001b[0m \u001b[0mtrain_is_default_pic\u001b[0m \u001b[0;34m=\u001b[0m \u001b[0;34m[\u001b[0m\u001b[0;34m]\u001b[0m\u001b[0;34m\u001b[0m\u001b[0;34m\u001b[0m\u001b[0m\n\u001b[1;32m      2\u001b[0m \u001b[0;34m\u001b[0m\u001b[0m\n\u001b[0;32m----> 3\u001b[0;31m \u001b[0mtrain_users\u001b[0m \u001b[0;34m=\u001b[0m \u001b[0mtrain_data\u001b[0m\u001b[0;34m[\u001b[0m\u001b[0;34m\"Screen Name\"\u001b[0m\u001b[0;34m]\u001b[0m\u001b[0;34m.\u001b[0m\u001b[0mapply\u001b[0m\u001b[0;34m(\u001b[0m\u001b[0;32mlambda\u001b[0m \u001b[0mx\u001b[0m\u001b[0;34m:\u001b[0m \u001b[0mx\u001b[0m\u001b[0;34m[\u001b[0m\u001b[0;36m1\u001b[0m\u001b[0;34m:\u001b[0m\u001b[0;34m]\u001b[0m\u001b[0;34m)\u001b[0m\u001b[0;34m.\u001b[0m\u001b[0mtolist\u001b[0m\u001b[0;34m(\u001b[0m\u001b[0;34m)\u001b[0m\u001b[0;34m\u001b[0m\u001b[0;34m\u001b[0m\u001b[0m\n\u001b[0m\u001b[1;32m      4\u001b[0m \u001b[0;34m\u001b[0m\u001b[0m\n\u001b[1;32m      5\u001b[0m \u001b[0mtest_users\u001b[0m \u001b[0;34m=\u001b[0m \u001b[0mtest_data\u001b[0m\u001b[0;34m[\u001b[0m\u001b[0;34m\"Screen Name\"\u001b[0m\u001b[0;34m]\u001b[0m\u001b[0;34m.\u001b[0m\u001b[0mapply\u001b[0m\u001b[0;34m(\u001b[0m\u001b[0;32mlambda\u001b[0m \u001b[0mx\u001b[0m\u001b[0;34m:\u001b[0m \u001b[0mx\u001b[0m\u001b[0;34m[\u001b[0m\u001b[0;36m1\u001b[0m\u001b[0;34m:\u001b[0m\u001b[0;34m]\u001b[0m\u001b[0;34m)\u001b[0m\u001b[0;34m.\u001b[0m\u001b[0mtolist\u001b[0m\u001b[0;34m(\u001b[0m\u001b[0;34m)\u001b[0m\u001b[0;34m\u001b[0m\u001b[0;34m\u001b[0m\u001b[0m\n",
      "\u001b[0;31mTypeError\u001b[0m: list indices must be integers or slices, not str"
     ]
    }
   ],
   "source": [
    "train_is_default_pic = []\n",
    "\n",
    "train_users = train_data[\"Screen Name\"].apply(lambda x: x[1:]).tolist()\n",
    "\n",
    "test_users = test_data[\"Screen Name\"].apply(lambda x: x[1:]).tolist()"
   ]
  },
  {
   "cell_type": "code",
   "execution_count": 0,
   "metadata": {
    "colab": {},
    "colab_type": "code",
    "id": "783GGsvrJrm8"
   },
   "outputs": [],
   "source": [
    "for user in train_users:\n",
    "  try:\n",
    "    train_is_default_pic.append (api.GetUser(screen_name=user))\n",
    "  except Exception as e:\n",
    "    print(user+\"  \"+str(e))\n",
    "    train_is_default_pic.append(None)"
   ]
  },
  {
   "cell_type": "markdown",
   "metadata": {
    "colab_type": "text",
    "id": "LWC1SgCXPAZX"
   },
   "source": [
    "##Features"
   ]
  },
  {
   "cell_type": "code",
   "execution_count": 6,
   "metadata": {
    "colab": {
     "base_uri": "https://localhost:8080/",
     "height": 205
    },
    "colab_type": "code",
    "executionInfo": {
     "elapsed": 7041,
     "status": "ok",
     "timestamp": 1569917374997,
     "user": {
      "displayName": "wissam antoun",
      "photoUrl": "https://lh3.googleusercontent.com/a-/AAuE7mDSALPtIL3q2P36W-E2L313Aw1lXeeHSdDZNk-6-rg=s64",
      "userId": "06574368210388800322"
     },
     "user_tz": -180
    },
    "id": "HqCFV2sqc_Ma",
    "outputId": "842e013e-41fe-43f6-bf82-0bb7f1f6fda0"
   },
   "outputs": [
    {
     "name": "stdout",
     "output_type": "stream",
     "text": [
      "Requirement already satisfied: emoji in c:\\users\\wfa07\\appdata\\roaming\\python\\python36\\site-packages (0.5.1)\n"
     ]
    }
   ],
   "source": [
    "!pip install emoji"
   ]
  },
  {
   "cell_type": "code",
   "execution_count": 7,
   "metadata": {
    "colab": {},
    "colab_type": "code",
    "id": "tKBTh0I1c9fn"
   },
   "outputs": [],
   "source": [
    "import emoji"
   ]
  },
  {
   "cell_type": "code",
   "execution_count": 8,
   "metadata": {
    "colab": {},
    "colab_type": "code",
    "id": "l-OhuOL8Buc0"
   },
   "outputs": [],
   "source": [
    "#replace rare app values with other\n",
    "d = all_data_df['App'].value_counts() >= 2\n",
    "all_data_df['App'] = [i if d[i] else 'other' for i in all_data_df['App']]"
   ]
  },
  {
   "cell_type": "code",
   "execution_count": 9,
   "metadata": {
    "colab": {},
    "colab_type": "code",
    "id": "hCQN7IWYBvPB"
   },
   "outputs": [],
   "source": [
    "all_data_df[\"Diff_tweetdate_createddate\"] = all_data_df[\"Date\"] = all_data_df[\"User Since\"]"
   ]
  },
  {
   "cell_type": "code",
   "execution_count": 10,
   "metadata": {
    "colab": {},
    "colab_type": "code",
    "id": "usuUsst8ESL9"
   },
   "outputs": [],
   "source": [
    "all_data_df[\"has_link\"] = all_data_df[\"Link(s)\"].apply(lambda x: 0 if x=='' else 1)"
   ]
  },
  {
   "cell_type": "code",
   "execution_count": 11,
   "metadata": {
    "colab": {},
    "colab_type": "code",
    "id": "cHWiUr5uMO29"
   },
   "outputs": [],
   "source": [
    "all_data_df[\"has_media\"] = all_data_df[\"Media\"].apply(lambda x: 0 if x=='' else 1)"
   ]
  },
  {
   "cell_type": "code",
   "execution_count": 12,
   "metadata": {
    "colab": {},
    "colab_type": "code",
    "id": "J7QLIpX9M0G7"
   },
   "outputs": [],
   "source": [
    "all_data_df[\"is_verified\"] = all_data_df[\"Verfied\"].apply(lambda x: 0 if x=='' else 1)"
   ]
  },
  {
   "cell_type": "code",
   "execution_count": 13,
   "metadata": {
    "colab": {},
    "colab_type": "code",
    "id": "FJzilRGYPXyS"
   },
   "outputs": [],
   "source": [
    "all_data_df[\"has_location\"] = all_data_df[\"Location_1\"].apply(lambda x: 0 if x=='' else 1)"
   ]
  },
  {
   "cell_type": "code",
   "execution_count": 14,
   "metadata": {
    "colab": {},
    "colab_type": "code",
    "id": "6D--yKE2P8R2"
   },
   "outputs": [],
   "source": [
    "all_data_df[\"has_bio\"] = all_data_df[\"Bio\"].apply(lambda x: 0 if x=='' else 1)"
   ]
  },
  {
   "cell_type": "code",
   "execution_count": 15,
   "metadata": {
    "colab": {},
    "colab_type": "code",
    "id": "DHMGbMzsRhHD"
   },
   "outputs": [],
   "source": [
    "all_data_df[\"has_website\"] = all_data_df[\"Website\"].apply(lambda x: 0 if x=='' else 1)"
   ]
  },
  {
   "cell_type": "code",
   "execution_count": 16,
   "metadata": {
    "colab": {},
    "colab_type": "code",
    "id": "k8KEF9XkRpZ6"
   },
   "outputs": [],
   "source": [
    "import re\n",
    "all_data_df[\"num_hashtags\"] = all_data_df[\"Tweet Text\"].apply(lambda x: len(re.findall(r\"#(\\w+)\", x)))"
   ]
  },
  {
   "cell_type": "code",
   "execution_count": 17,
   "metadata": {
    "colab": {},
    "colab_type": "code",
    "id": "Hr5fNF-uTjJs"
   },
   "outputs": [],
   "source": [
    "all_data_df[\"has_quote\"] = all_data_df[\"Tweet Text\"].apply(lambda x: len(re.findall(r\"(?<=[ء-ي]\\.)(.*)(?=:)\", x))>0)"
   ]
  },
  {
   "cell_type": "code",
   "execution_count": 18,
   "metadata": {
    "colab": {},
    "colab_type": "code",
    "id": "dDV5ZY8FTk-4"
   },
   "outputs": [],
   "source": [
    "all_data_df[\"has_:\"] = all_data_df[\"Tweet Text\"].apply(lambda x: len(re.findall(r\":\", x))>0)"
   ]
  },
  {
   "cell_type": "code",
   "execution_count": 19,
   "metadata": {
    "colab": {},
    "colab_type": "code",
    "id": "l_lFGHWUdxEf"
   },
   "outputs": [],
   "source": [
    "def count_emojis(string):\n",
    "  count=0\n",
    "  for c in string:\n",
    "    if c in emoji.UNICODE_EMOJI:\n",
    "      count=count+1\n",
    "  return count\n",
    "\n",
    "all_data_df[\"num_enojis\"] = all_data_df[\"Tweet Text\"].apply(lambda x: count_emojis(x)>0)"
   ]
  },
  {
   "cell_type": "code",
   "execution_count": 20,
   "metadata": {
    "colab": {},
    "colab_type": "code",
    "id": "c2gr-fhtfGgX"
   },
   "outputs": [],
   "source": [
    "all_data_df[\"FollowerstoFollows_Ratio\"] = all_data_df[\"Follows\"] / all_data_df[\"Followers\"] "
   ]
  },
  {
   "cell_type": "code",
   "execution_count": 21,
   "metadata": {
    "colab": {},
    "colab_type": "code",
    "id": "VZsHRru-fiq6"
   },
   "outputs": [],
   "source": [
    "import numpy as np\n",
    "all_data_df[\"FollowerstoFollows_Ratio\"] = all_data_df[\"FollowerstoFollows_Ratio\"].fillna(-1).replace(np.inf,-2)"
   ]
  },
  {
   "cell_type": "code",
   "execution_count": 22,
   "metadata": {
    "colab": {},
    "colab_type": "code",
    "id": "J8EK90ZGXUyv"
   },
   "outputs": [],
   "source": [
    "all_data_features = all_data_df[[\"Diff_tweetdate_createddate\",\"has_link\",\"has_media\",\"is_verified\",\"has_location\",\"has_bio\",\"has_website\",\"num_hashtags\",\"has_quote\",\"has_:\",\"num_enojis\",\"FollowerstoFollows_Ratio\",\"Retweets\",\"Favorites\",\"Listed\",0.181742536,\"Followers\",\"Follows\"]]"
   ]
  },
  {
   "cell_type": "code",
   "execution_count": 23,
   "metadata": {
    "colab": {
     "base_uri": "https://localhost:8080/",
     "height": 185
    },
    "colab_type": "code",
    "executionInfo": {
     "elapsed": 492,
     "status": "ok",
     "timestamp": 1569917407165,
     "user": {
      "displayName": "wissam antoun",
      "photoUrl": "https://lh3.googleusercontent.com/a-/AAuE7mDSALPtIL3q2P36W-E2L313Aw1lXeeHSdDZNk-6-rg=s64",
      "userId": "06574368210388800322"
     },
     "user_tz": -180
    },
    "id": "5NwYjzMTeEc8",
    "outputId": "892aed8c-a442-441b-9ece-369ada1881b0"
   },
   "outputs": [
    {
     "data": {
      "text/plain": [
       "Index(['Diff_tweetdate_createddate',                   'has_link',\n",
       "                        'has_media',                'is_verified',\n",
       "                     'has_location',                    'has_bio',\n",
       "                      'has_website',               'num_hashtags',\n",
       "                        'has_quote',                      'has_:',\n",
       "                       'num_enojis',   'FollowerstoFollows_Ratio',\n",
       "                         'Retweets',                  'Favorites',\n",
       "                           'Listed',                  0.181742536,\n",
       "                        'Followers',                    'Follows'],\n",
       "      dtype='object')"
      ]
     },
     "execution_count": 23,
     "metadata": {},
     "output_type": "execute_result"
    }
   ],
   "source": [
    "all_data_features.keys()"
   ]
  },
  {
   "cell_type": "code",
   "execution_count": null,
   "metadata": {
    "colab": {},
    "colab_type": "code",
    "id": "AHGhKpmIeFrh"
   },
   "outputs": [],
   "source": []
  },
  {
   "cell_type": "code",
   "execution_count": 0,
   "metadata": {
    "colab": {},
    "colab_type": "code",
    "id": "Xu7dUVqIqXLZ"
   },
   "outputs": [],
   "source": [
    "all_data_features_with_labels = all_data_features.join(all_data_df[\"Is_Bot ( 1 for Bot / 0 for Human)\"])"
   ]
  },
  {
   "cell_type": "code",
   "execution_count": 27,
   "metadata": {
    "colab": {
     "base_uri": "https://localhost:8080/",
     "height": 585
    },
    "colab_type": "code",
    "executionInfo": {
     "elapsed": 3757,
     "status": "ok",
     "timestamp": 1569917415749,
     "user": {
      "displayName": "wissam antoun",
      "photoUrl": "https://lh3.googleusercontent.com/a-/AAuE7mDSALPtIL3q2P36W-E2L313Aw1lXeeHSdDZNk-6-rg=s64",
      "userId": "06574368210388800322"
     },
     "user_tz": -180
    },
    "id": "DW-AGI3kqd8Z",
    "outputId": "6c3e49c3-42ef-42c6-9c63-954a10c7f287"
   },
   "outputs": [
    {
     "data": {
      "image/png": "[encoded data removed]",
      "text/plain": [
       "<Figure size 1152x576 with 2 Axes>"
      ]
     },
     "metadata": {
      "tags": []
     },
     "output_type": "display_data"
    }
   ],
   "source": [
    "import matplotlib.pyplot as plt\n",
    "import seaborn as sns\n",
    "plt.figure(figsize=(16,8))\n",
    "sns.heatmap(all_data_features_with_labels.corr(), cmap='coolwarm', annot=True)\n",
    "plt.tight_layout()\n",
    "plt.show()"
   ]
  },
  {
   "cell_type": "code",
   "execution_count": 24,
   "metadata": {
    "colab": {},
    "colab_type": "code",
    "id": "KmmO6tUFso5U"
   },
   "outputs": [],
   "source": [
    "all_data_features_after_corr = all_data_features.drop(columns=[\"has_location\",\"Follows\",0.181742536,\"FollowerstoFollows_Ratio\"])"
   ]
  },
  {
   "cell_type": "code",
   "execution_count": 0,
   "metadata": {
    "colab": {},
    "colab_type": "code",
    "id": "ntH24rjVuaJo"
   },
   "outputs": [],
   "source": [
    "train_features=all_data_features_after_corr.loc[0:len(train_data_df),]\n",
    "test_features=all_data_features_after_corr.loc[len(train_data_df):,]\n",
    "\n",
    "train_label = all_data_df.loc[0:len(train_data_df),\"Is_Bot ( 1 for Bot / 0 for Human)\"]\n",
    "test_label = all_data_df.loc[len(train_data_df):,\"Is_Bot ( 1 for Bot / 0 for Human)\"]"
   ]
  },
  {
   "cell_type": "code",
   "execution_count": 0,
   "metadata": {
    "colab": {
     "base_uri": "https://localhost:8080/",
     "height": 121
    },
    "colab_type": "code",
    "executionInfo": {
     "elapsed": 4501,
     "status": "ok",
     "timestamp": 1569691813428,
     "user": {
      "displayName": "wissam antoun",
      "photoUrl": "https://lh3.googleusercontent.com/a-/AAuE7mDSALPtIL3q2P36W-E2L313Aw1lXeeHSdDZNk-6-rg=s64",
      "userId": "06574368210388800322"
     },
     "user_tz": -180
    },
    "id": "zkdXLR70oveT",
    "outputId": "3a9071bc-aa29-4538-d0f8-5c4aced55286"
   },
   "outputs": [
    {
     "name": "stdout",
     "output_type": "stream",
     "text": [
      "mkdir: cannot create directory ‘data’: File exists\n"
     ]
    },
    {
     "name": "stderr",
     "output_type": "stream",
     "text": [
      "/usr/local/lib/python3.6/dist-packages/ipykernel_launcher.py:7: FutureWarning: The signature of `Series.to_csv` was aligned to that of `DataFrame.to_csv`, and argument 'header' will change its default value from False to True: please pass an explicit value to suppress this warning.\n",
      "  import sys\n",
      "/usr/local/lib/python3.6/dist-packages/ipykernel_launcher.py:8: FutureWarning: The signature of `Series.to_csv` was aligned to that of `DataFrame.to_csv`, and argument 'header' will change its default value from False to True: please pass an explicit value to suppress this warning.\n",
      "  \n"
     ]
    }
   ],
   "source": [
    "!mkdir data\n",
    "all_data_df.to_csv(\"./data/all_data.csv\")\n",
    "all_data_features_after_corr.to_csv(\"./data/all_data_features_after_corr.csv\")\n",
    "all_data_features.to_csv(\"./data/all_data_features.csv\")\n",
    "train_features.to_csv(\"./data/train_features.csv\")\n",
    "test_features.to_csv(\"./data/test_features.csv\")\n",
    "train_label.to_csv(\"./data/train_label.csv\")\n",
    "test_label.to_csv(\"./data/test_label.csv\")"
   ]
  },
  {
   "cell_type": "markdown",
   "metadata": {
    "colab_type": "text",
    "id": "ZOKfXYAmlxxb"
   },
   "source": [
    "##Tarining"
   ]
  },
  {
   "cell_type": "code",
   "execution_count": 25,
   "metadata": {
    "colab": {},
    "colab_type": "code",
    "id": "INfb-yk6gvcW"
   },
   "outputs": [],
   "source": [
    "from sklearn.metrics import precision_score, recall_score , f1_score , classification_report,precision_recall_fscore_support,accuracy_score\n",
    "\n",
    "def train_model(classifier, feature_vector_train, label, feature_vector_valid,valid_y, epochs=1, show_report=True, print_pred=False):\n",
    "\n",
    "    classifier.fit(feature_vector_train, label)\n",
    "    \n",
    "    # predict the labels on validation dataset\n",
    "    predictions = classifier.predict(feature_vector_valid)\n",
    "\n",
    "    if print_pred:\n",
    "      print(predictions)\n",
    "    if show_report:\n",
    "      print(classification_report(valid_y,predictions))\n",
    "    return accuracy_score(valid_y, predictions) , precision_recall_fscore_support(valid_y,predictions)"
   ]
  },
  {
   "cell_type": "code",
   "execution_count": 26,
   "metadata": {
    "colab": {},
    "colab_type": "code",
    "id": "B8LGZYOIgvvz"
   },
   "outputs": [],
   "source": [
    "from sklearn import model_selection, preprocessing, linear_model, naive_bayes, metrics, svm\n",
    "from sklearn import decomposition, ensemble\n",
    "import xgboost\n"
   ]
  },
  {
   "cell_type": "markdown",
   "metadata": {
    "colab_type": "text",
    "id": "vp65cEarl0mh"
   },
   "source": [
    "##Logistic Regression"
   ]
  },
  {
   "cell_type": "code",
   "execution_count": 0,
   "metadata": {
    "colab": {
     "base_uri": "https://localhost:8080/",
     "height": 238
    },
    "colab_type": "code",
    "executionInfo": {
     "elapsed": 861,
     "status": "ok",
     "timestamp": 1569691608417,
     "user": {
      "displayName": "wissam antoun",
      "photoUrl": "https://lh3.googleusercontent.com/a-/AAuE7mDSALPtIL3q2P36W-E2L313Aw1lXeeHSdDZNk-6-rg=s64",
      "userId": "06574368210388800322"
     },
     "user_tz": -180
    },
    "id": "q5DnRI2IjZEt",
    "outputId": "08ac531d-c676-482c-b6c8-e8d0f28c7fa0"
   },
   "outputs": [
    {
     "name": "stdout",
     "output_type": "stream",
     "text": [
      "              precision    recall  f1-score   support\n",
      "\n",
      "         0.0       0.94      0.42      0.58       925\n",
      "         1.0       0.55      0.97      0.70       690\n",
      "\n",
      "    accuracy                           0.65      1615\n",
      "   macro avg       0.75      0.69      0.64      1615\n",
      "weighted avg       0.78      0.65      0.63      1615\n",
      "\n",
      "NB, Count Vectors:  0.6538699690402476\n"
     ]
    },
    {
     "name": "stderr",
     "output_type": "stream",
     "text": [
      "/usr/local/lib/python3.6/dist-packages/sklearn/linear_model/logistic.py:432: FutureWarning: Default solver will be changed to 'lbfgs' in 0.22. Specify a solver to silence this warning.\n",
      "  FutureWarning)\n"
     ]
    }
   ],
   "source": [
    "accuracy , prfs = train_model(linear_model.LogisticRegression(), train_features, train_label, test_features,test_label,print_pred=False)\n",
    "print (\"NB, Count Vectors: \", accuracy)"
   ]
  },
  {
   "cell_type": "code",
   "execution_count": 0,
   "metadata": {
    "colab": {},
    "colab_type": "code",
    "id": "UJTEkPsvjqeX"
   },
   "outputs": [],
   "source": []
  },
  {
   "cell_type": "markdown",
   "metadata": {
    "colab_type": "text",
    "id": "3aDNviral7Jl"
   },
   "source": [
    "##Random Forest"
   ]
  },
  {
   "cell_type": "code",
   "execution_count": 0,
   "metadata": {
    "colab": {
     "base_uri": "https://localhost:8080/",
     "height": 185
    },
    "colab_type": "code",
    "executionInfo": {
     "elapsed": 203208,
     "status": "ok",
     "timestamp": 1569692691227,
     "user": {
      "displayName": "wissam antoun",
      "photoUrl": "https://lh3.googleusercontent.com/a-/AAuE7mDSALPtIL3q2P36W-E2L313Aw1lXeeHSdDZNk-6-rg=s64",
      "userId": "06574368210388800322"
     },
     "user_tz": -180
    },
    "id": "TdJdXRetl9N5",
    "outputId": "3a29d248-1df3-49de-b47c-7ef1ca5b2548"
   },
   "outputs": [
    {
     "name": "stdout",
     "output_type": "stream",
     "text": [
      "              precision    recall  f1-score   support\n",
      "\n",
      "         0.0       0.98      0.99      0.98       925\n",
      "         1.0       0.99      0.97      0.98       690\n",
      "\n",
      "    accuracy                           0.98      1615\n",
      "   macro avg       0.98      0.98      0.98      1615\n",
      "weighted avg       0.98      0.98      0.98      1615\n",
      "\n",
      "NB, Count Vectors:  0.9801857585139319\n"
     ]
    }
   ],
   "source": [
    "model=ensemble.RandomForestClassifier(n_estimators=10000,criterion='gini',max_features=None)\n",
    "accuracy , prfs = train_model(model, train_features, train_label, test_features,test_label,print_pred=False)\n",
    "print (\"NB, Count Vectors: \", accuracy)"
   ]
  },
  {
   "cell_type": "code",
   "execution_count": 0,
   "metadata": {
    "colab": {},
    "colab_type": "code",
    "id": "TFWxVOU6mlpN"
   },
   "outputs": [],
   "source": [
    "import pickle\n",
    "pickle.dump(model, open(\"RandomForest.model\", 'wb'))"
   ]
  },
  {
   "cell_type": "code",
   "execution_count": 0,
   "metadata": {
    "colab": {
     "base_uri": "https://localhost:8080/",
     "height": 67
    },
    "colab_type": "code",
    "executionInfo": {
     "elapsed": 8539,
     "status": "ok",
     "timestamp": 1569692844712,
     "user": {
      "displayName": "wissam antoun",
      "photoUrl": "https://lh3.googleusercontent.com/a-/AAuE7mDSALPtIL3q2P36W-E2L313Aw1lXeeHSdDZNk-6-rg=s64",
      "userId": "06574368210388800322"
     },
     "user_tz": -180
    },
    "id": "pCyz_yvM-3TF",
    "outputId": "87e57a48-11e3-47dc-81e2-3dc0143dabea"
   },
   "outputs": [
    {
     "name": "stdout",
     "output_type": "stream",
     "text": [
      "Copying file://./RandomForest.model [Content-Type=application/octet-stream]...\n",
      "|\n",
      "Operation completed over 1 objects/136.9 MiB.                                    \n"
     ]
    }
   ],
   "source": [
    "!gsutil cp ./RandomForest.model gs://qatar_competition/"
   ]
  },
  {
   "cell_type": "code",
   "execution_count": 0,
   "metadata": {
    "colab": {},
    "colab_type": "code",
    "id": "VHmYLRMenmpK"
   },
   "outputs": [],
   "source": [
    "loaded_model = pickle.load(open(\"RandomForest.model\", 'rb'))"
   ]
  },
  {
   "cell_type": "code",
   "execution_count": 0,
   "metadata": {
    "colab": {
     "base_uri": "https://localhost:8080/",
     "height": 168
    },
    "colab_type": "code",
    "executionInfo": {
     "elapsed": 3560,
     "status": "ok",
     "timestamp": 1569698952925,
     "user": {
      "displayName": "wissam antoun",
      "photoUrl": "https://lh3.googleusercontent.com/a-/AAuE7mDSALPtIL3q2P36W-E2L313Aw1lXeeHSdDZNk-6-rg=s64",
      "userId": "06574368210388800322"
     },
     "user_tz": -180
    },
    "id": "0IlRwDW3nyKP",
    "outputId": "ba3899ff-3ed4-48d0-8080-81321d88ada3"
   },
   "outputs": [
    {
     "name": "stdout",
     "output_type": "stream",
     "text": [
      "              precision    recall  f1-score   support\n",
      "\n",
      "         0.0       0.98      0.99      0.98       925\n",
      "         1.0       0.99      0.97      0.98       690\n",
      "\n",
      "    accuracy                           0.98      1615\n",
      "   macro avg       0.98      0.98      0.98      1615\n",
      "weighted avg       0.98      0.98      0.98      1615\n",
      "\n"
     ]
    }
   ],
   "source": [
    "predictions = loaded_model.predict(test_features)\n",
    "print(classification_report(test_label,predictions))"
   ]
  },
  {
   "cell_type": "code",
   "execution_count": 0,
   "metadata": {
    "colab": {
     "base_uri": "https://localhost:8080/",
     "height": 222
    },
    "colab_type": "code",
    "executionInfo": {
     "elapsed": 7830,
     "status": "ok",
     "timestamp": 1569692092706,
     "user": {
      "displayName": "wissam antoun",
      "photoUrl": "https://lh3.googleusercontent.com/a-/AAuE7mDSALPtIL3q2P36W-E2L313Aw1lXeeHSdDZNk-6-rg=s64",
      "userId": "06574368210388800322"
     },
     "user_tz": -180
    },
    "id": "LZfA4spxoH8v",
    "outputId": "7ebb921e-9482-4d63-a705-9435325819bd"
   },
   "outputs": [
    {
     "name": "stderr",
     "output_type": "stream",
     "text": [
      "/usr/local/lib/python3.6/dist-packages/sklearn/svm/base.py:193: FutureWarning: The default value of gamma will change from 'auto' to 'scale' in version 0.22 to account better for unscaled features. Set gamma explicitly to 'auto' or 'scale' to avoid this warning.\n",
      "  \"avoid this warning.\", FutureWarning)\n"
     ]
    },
    {
     "name": "stdout",
     "output_type": "stream",
     "text": [
      "              precision    recall  f1-score   support\n",
      "\n",
      "         0.0       0.93      1.00      0.96       925\n",
      "         1.0       1.00      0.90      0.95       690\n",
      "\n",
      "    accuracy                           0.96      1615\n",
      "   macro avg       0.96      0.95      0.96      1615\n",
      "weighted avg       0.96      0.96      0.96      1615\n",
      "\n"
     ]
    }
   ],
   "source": [
    "Saccuracy , prfs = train_model(svm.SVC(kernel='rbf',decision_function_shape ='ovo',cache_size=1024), train_features, train_label, test_features,test_label,print_pred=False)\n"
   ]
  },
  {
   "cell_type": "markdown",
   "metadata": {
    "colab_type": "text",
    "id": "IVidDSYTpvQJ"
   },
   "source": [
    "##SUper Ensemble search"
   ]
  },
  {
   "cell_type": "code",
   "execution_count": 0,
   "metadata": {
    "colab": {
     "base_uri": "https://localhost:8080/",
     "height": 262
    },
    "colab_type": "code",
    "executionInfo": {
     "elapsed": 543818,
     "status": "error",
     "timestamp": 1569699570927,
     "user": {
      "displayName": "wissam antoun",
      "photoUrl": "https://lh3.googleusercontent.com/a-/AAuE7mDSALPtIL3q2P36W-E2L313Aw1lXeeHSdDZNk-6-rg=s64",
      "userId": "06574368210388800322"
     },
     "user_tz": -180
    },
    "id": "PoKnhCmlxhdV",
    "outputId": "391034a3-3a4f-4ed3-decc-f1def0c6b0c2"
   },
   "outputs": [
    {
     "name": "stdout",
     "output_type": "stream",
     "text": [
      "\n",
      "ensemble performance:\n"
     ]
    },
    {
     "ename": "NameError",
     "evalue": "ignored",
     "output_type": "error",
     "traceback": [
      "\u001b[0;31m---------------------------------------------------------------------------\u001b[0m",
      "\u001b[0;31mNameError\u001b[0m                                 Traceback (most recent call last)",
      "\u001b[0;32m<ipython-input-71-0344173501c5>\u001b[0m in \u001b[0;36m<module>\u001b[0;34m()\u001b[0m\n\u001b[1;32m     14\u001b[0m \u001b[0my_val_pred\u001b[0m \u001b[0;34m=\u001b[0m \u001b[0meclf\u001b[0m\u001b[0;34m.\u001b[0m\u001b[0mpredict_proba\u001b[0m\u001b[0;34m(\u001b[0m\u001b[0mtest_features\u001b[0m\u001b[0;34m)\u001b[0m\u001b[0;34m\u001b[0m\u001b[0;34m\u001b[0m\u001b[0m\n\u001b[1;32m     15\u001b[0m \u001b[0mprint\u001b[0m\u001b[0;34m(\u001b[0m\u001b[0;34m'\\nensemble performance:'\u001b[0m\u001b[0;34m)\u001b[0m\u001b[0;34m\u001b[0m\u001b[0;34m\u001b[0m\u001b[0m\n\u001b[0;32m---> 16\u001b[0;31m \u001b[0mprint\u001b[0m\u001b[0;34m(\u001b[0m\u001b[0;34m'f1 score: '\u001b[0m\u001b[0;34m,\u001b[0m \u001b[0mf1_score\u001b[0m\u001b[0;34m(\u001b[0m\u001b[0mtest_labels\u001b[0m\u001b[0;34m,\u001b[0m \u001b[0mnp\u001b[0m\u001b[0;34m.\u001b[0m\u001b[0margmax\u001b[0m\u001b[0;34m(\u001b[0m\u001b[0my_val_pred\u001b[0m\u001b[0;34m,\u001b[0m \u001b[0maxis\u001b[0m\u001b[0;34m=\u001b[0m\u001b[0;36m1\u001b[0m\u001b[0;34m)\u001b[0m\u001b[0;34m,\u001b[0m \u001b[0maverage\u001b[0m\u001b[0;34m=\u001b[0m\u001b[0;34m\"macro\"\u001b[0m\u001b[0;34m)\u001b[0m\u001b[0;34m)\u001b[0m\u001b[0;34m\u001b[0m\u001b[0;34m\u001b[0m\u001b[0m\n\u001b[0m\u001b[1;32m     17\u001b[0m \u001b[0mprint\u001b[0m\u001b[0;34m(\u001b[0m\u001b[0;34m'precision score:'\u001b[0m\u001b[0;34m,\u001b[0m \u001b[0mprecision_score\u001b[0m\u001b[0;34m(\u001b[0m\u001b[0mtest_labels\u001b[0m\u001b[0;34m,\u001b[0m \u001b[0mnp\u001b[0m\u001b[0;34m.\u001b[0m\u001b[0margmax\u001b[0m\u001b[0;34m(\u001b[0m\u001b[0my_val_pred\u001b[0m\u001b[0;34m,\u001b[0m \u001b[0maxis\u001b[0m\u001b[0;34m=\u001b[0m\u001b[0;36m1\u001b[0m\u001b[0;34m)\u001b[0m\u001b[0;34m,\u001b[0m \u001b[0maverage\u001b[0m\u001b[0;34m=\u001b[0m\u001b[0;34m\"macro\"\u001b[0m\u001b[0;34m)\u001b[0m\u001b[0;34m)\u001b[0m\u001b[0;34m\u001b[0m\u001b[0;34m\u001b[0m\u001b[0m\n\u001b[1;32m     18\u001b[0m \u001b[0mprint\u001b[0m\u001b[0;34m(\u001b[0m\u001b[0;34m'recall score:'\u001b[0m\u001b[0;34m,\u001b[0m \u001b[0mrecall_score\u001b[0m\u001b[0;34m(\u001b[0m\u001b[0mtest_labels\u001b[0m\u001b[0;34m,\u001b[0m \u001b[0mnp\u001b[0m\u001b[0;34m.\u001b[0m\u001b[0margmax\u001b[0m\u001b[0;34m(\u001b[0m\u001b[0my_val_pred\u001b[0m\u001b[0;34m,\u001b[0m \u001b[0maxis\u001b[0m\u001b[0;34m=\u001b[0m\u001b[0;36m1\u001b[0m\u001b[0;34m)\u001b[0m\u001b[0;34m,\u001b[0m \u001b[0maverage\u001b[0m\u001b[0;34m=\u001b[0m\u001b[0;34m\"macro\"\u001b[0m\u001b[0;34m)\u001b[0m\u001b[0;34m)\u001b[0m\u001b[0;34m\u001b[0m\u001b[0;34m\u001b[0m\u001b[0m\n",
      "\u001b[0;31mNameError\u001b[0m: name 'test_labels' is not defined"
     ]
    }
   ],
   "source": [
    "from sklearn.ensemble import RandomForestClassifier, GradientBoostingClassifier, VotingClassifier\n",
    "from sklearn.metrics import accuracy_score, f1_score, precision_score, recall_score, classification_report\n",
    "from sklearn.ensemble import AdaBoostClassifier\n",
    "from xgboost import XGBClassifier\n",
    "\n",
    "rf1 = RandomForestClassifier(n_estimators=10000, criterion='entropy', n_jobs=-1, random_state=17, max_features=None)\n",
    "rf2 = RandomForestClassifier(n_estimators=10000, criterion='gini', n_jobs=-1, random_state=17, max_features=None)\n",
    "adb = AdaBoostClassifier(n_estimators=10000)\n",
    "gbc = GradientBoostingClassifier(random_state=17)\n",
    "xgb = XGBClassifier(seed=17)\n",
    "eclf = VotingClassifier(estimators=[('rf1', rf1), ('rf2', rf2), ('adb', adb), ('gbc', gbc), ('xgb', xgb)], voting='soft',\n",
    "                        weights=[1, 1, 1, 1, 1])\n",
    "eclf.fit(train_features, train_label)\n",
    "\n"
   ]
  },
  {
   "cell_type": "code",
   "execution_count": 0,
   "metadata": {
    "colab": {
     "base_uri": "https://localhost:8080/",
     "height": 269
    },
    "colab_type": "code",
    "executionInfo": {
     "elapsed": 14379,
     "status": "ok",
     "timestamp": 1569699651543,
     "user": {
      "displayName": "wissam antoun",
      "photoUrl": "https://lh3.googleusercontent.com/a-/AAuE7mDSALPtIL3q2P36W-E2L313Aw1lXeeHSdDZNk-6-rg=s64",
      "userId": "06574368210388800322"
     },
     "user_tz": -180
    },
    "id": "V64UB-VRYz9d",
    "outputId": "4aac9ec7-4509-4f1a-e8b4-8db7829d553d"
   },
   "outputs": [
    {
     "name": "stdout",
     "output_type": "stream",
     "text": [
      "\n",
      "ensemble performance:\n",
      "f1 score:  0.980333696687584\n",
      "precision score: 0.9818400315208826\n",
      "recall score: 0.979009009009009\n",
      "accuracy score: 0.9808049535603716\n",
      "              precision    recall  f1-score   support\n",
      "\n",
      "       human       0.98      0.99      0.98       925\n",
      "         bot       0.99      0.97      0.98       690\n",
      "\n",
      "    accuracy                           0.98      1615\n",
      "   macro avg       0.98      0.98      0.98      1615\n",
      "weighted avg       0.98      0.98      0.98      1615\n",
      "\n"
     ]
    }
   ],
   "source": [
    "y_val_pred = eclf.predict_proba(test_features)\n",
    "print('\\nensemble performance:')\n",
    "print('f1 score: ', f1_score(test_label, np.argmax(y_val_pred, axis=1), average=\"macro\"))\n",
    "print('precision score:', precision_score(test_label, np.argmax(y_val_pred, axis=1), average=\"macro\"))\n",
    "print('recall score:', recall_score(test_label, np.argmax(y_val_pred, axis=1), average=\"macro\"))\n",
    "print('accuracy score:', accuracy_score(test_label, np.argmax(y_val_pred, axis=1)))\n",
    "print(classification_report(test_label, np.argmax(y_val_pred, axis=1), target_names=['human', 'bot']))"
   ]
  },
  {
   "cell_type": "code",
   "execution_count": 0,
   "metadata": {
    "colab": {},
    "colab_type": "code",
    "id": "9iV-7SY4WiWn"
   },
   "outputs": [],
   "source": [
    "import pickle\n",
    "pickle.dump(eclf, open(\"VotingClassifier.model\", 'wb'))"
   ]
  },
  {
   "cell_type": "code",
   "execution_count": 0,
   "metadata": {
    "colab": {},
    "colab_type": "code",
    "id": "RRJzpMH8Y4MY"
   },
   "outputs": [],
   "source": [
    "loaded_model = pickle.load(open(\"VotingClassifier.model\", 'rb'))"
   ]
  },
  {
   "cell_type": "code",
   "execution_count": 0,
   "metadata": {
    "colab": {},
    "colab_type": "code",
    "id": "5o6jxe1KY4x7"
   },
   "outputs": [],
   "source": [
    "y_val_pred2 = loaded_model.predict(test_features)"
   ]
  },
  {
   "cell_type": "code",
   "execution_count": 0,
   "metadata": {
    "colab": {
     "base_uri": "https://localhost:8080/",
     "height": 269
    },
    "colab_type": "code",
    "executionInfo": {
     "elapsed": 850,
     "status": "ok",
     "timestamp": 1569699922213,
     "user": {
      "displayName": "wissam antoun",
      "photoUrl": "https://lh3.googleusercontent.com/a-/AAuE7mDSALPtIL3q2P36W-E2L313Aw1lXeeHSdDZNk-6-rg=s64",
      "userId": "06574368210388800322"
     },
     "user_tz": -180
    },
    "id": "O2pCCmGQZUat",
    "outputId": "b4bc098a-d25a-4d76-eb10-b208c32da891"
   },
   "outputs": [
    {
     "name": "stdout",
     "output_type": "stream",
     "text": [
      "\n",
      " Random Forest Only performance:\n",
      "f1 score:  0.9797032782661699\n",
      "precision score: 0.9810961239137695\n",
      "recall score: 0.9784684684684685\n",
      "accuracy score: 0.9801857585139319\n",
      "              precision    recall  f1-score   support\n",
      "\n",
      "       human       0.98      0.99      0.98       925\n",
      "         bot       0.99      0.97      0.98       690\n",
      "\n",
      "    accuracy                           0.98      1615\n",
      "   macro avg       0.98      0.98      0.98      1615\n",
      "weighted avg       0.98      0.98      0.98      1615\n",
      "\n"
     ]
    }
   ],
   "source": [
    "print('\\n Random Forest Only performance:')\n",
    "print('f1 score: ', f1_score(test_label, y_val_pred2, average=\"macro\"))\n",
    "print('precision score:', precision_score(test_label, y_val_pred2, average=\"macro\"))\n",
    "print('recall score:', recall_score(test_label, y_val_pred2, average=\"macro\"))\n",
    "print('accuracy score:', accuracy_score(test_label, y_val_pred2))\n",
    "print(classification_report(test_label, y_val_pred2, target_names=['human', 'bot']))"
   ]
  },
  {
   "cell_type": "code",
   "execution_count": 0,
   "metadata": {
    "colab": {
     "base_uri": "https://localhost:8080/",
     "height": 34
    },
    "colab_type": "code",
    "executionInfo": {
     "elapsed": 760,
     "status": "ok",
     "timestamp": 1569699773162,
     "user": {
      "displayName": "wissam antoun",
      "photoUrl": "https://lh3.googleusercontent.com/a-/AAuE7mDSALPtIL3q2P36W-E2L313Aw1lXeeHSdDZNk-6-rg=s64",
      "userId": "06574368210388800322"
     },
     "user_tz": -180
    },
    "id": "sn_ndXYoZR8V",
    "outputId": "ef5b13e6-0413-42a2-e8ec-a15074e894b3"
   },
   "outputs": [
    {
     "data": {
      "text/plain": [
       "array([0., 1., 1., ..., 1., 1., 0.])"
      ]
     },
     "execution_count": 78,
     "metadata": {
      "tags": []
     },
     "output_type": "execute_result"
    }
   ],
   "source": [
    "y_val_pred2"
   ]
  },
  {
   "cell_type": "code",
   "execution_count": 0,
   "metadata": {
    "colab": {
     "base_uri": "https://localhost:8080/",
     "height": 269
    },
    "colab_type": "code",
    "executionInfo": {
     "elapsed": 10630,
     "status": "ok",
     "timestamp": 1569699864137,
     "user": {
      "displayName": "wissam antoun",
      "photoUrl": "https://lh3.googleusercontent.com/a-/AAuE7mDSALPtIL3q2P36W-E2L313Aw1lXeeHSdDZNk-6-rg=s64",
      "userId": "06574368210388800322"
     },
     "user_tz": -180
    },
    "id": "SXy6uGrAZbd7",
    "outputId": "efda5459-5639-4773-cd22-bd1995d285c2"
   },
   "outputs": [
    {
     "name": "stdout",
     "output_type": "stream",
     "text": [
      "Copying file://./VotingClassifier.model [Content-Type=application/octet-stream]...\n",
      "/ [0 files][    0.0 B/264.9 MiB]                                                \r",
      "==> NOTE: You are uploading one or more large file(s), which would run\n",
      "significantly faster if you enable parallel composite uploads. This\n",
      "feature can be enabled by editing the\n",
      "\"parallel_composite_upload_threshold\" value in your .boto\n",
      "configuration file. However, note that if you do this large files will\n",
      "be uploaded as `composite objects\n",
      "<https://cloud.google.com/storage/docs/composite-objects>`_,which\n",
      "means that any user who downloads such objects will need to have a\n",
      "compiled crcmod installed (see \"gsutil help crcmod\"). This is because\n",
      "without a compiled crcmod, computing checksums on composite objects is\n",
      "so slow that gsutil disables downloads of composite objects.\n",
      "\n",
      "/\n",
      "Operation completed over 1 objects/264.9 MiB.                                    \n"
     ]
    }
   ],
   "source": [
    "!gsutil cp ./VotingClassifier.model gs://qatar_competition/"
   ]
  },
  {
   "cell_type": "markdown",
   "metadata": {
    "colab_type": "text",
    "id": "hjAGzuz-bPvA"
   },
   "source": [
    "## Hyper Feature Search\n"
   ]
  },
  {
   "cell_type": "code",
   "execution_count": 35,
   "metadata": {
    "colab": {
     "base_uri": "https://localhost:8080/",
     "height": 84
    },
    "colab_type": "code",
    "id": "zs7iwXNfbZrY",
    "outputId": "0ad41800-3c70-4a44-d5a3-b526be0242b4"
   },
   "outputs": [
    {
     "data": {
      "application/vnd.jupyter.widget-view+json": {
       "model_id": "6d2f4d97e1604237be15ecb821b7a7c2",
       "version_major": 2,
       "version_minor": 0
      },
      "text/plain": [
       "HBox(children=(IntProgress(value=0, max=14), HTML(value='')))"
      ]
     },
     "metadata": {},
     "output_type": "display_data"
    },
    {
     "data": {
      "application/vnd.jupyter.widget-view+json": {
       "model_id": "c9808213aab44d22b9b1a5fc42f412fe",
       "version_major": 2,
       "version_minor": 0
      },
      "text/plain": [
       "HBox(children=(IntProgress(value=0, max=1), HTML(value='')))"
      ]
     },
     "metadata": {},
     "output_type": "display_data"
    },
    {
     "name": "stdout",
     "output_type": "stream",
     "text": [
      "Index(['Diff_tweetdate_createddate', 'has_link', 'has_media', 'is_verified',\n",
      "       'has_bio', 'has_website', 'num_hashtags', 'has_quote', 'has_:',\n",
      "       'num_enojis', 'Retweets', 'Favorites', 'Listed', 'Followers'],\n",
      "      dtype='object')\n",
      "              precision    recall  f1-score   support\n",
      "\n",
      "         0.0       0.98      0.99      0.98       925\n",
      "         1.0       0.99      0.97      0.98       690\n",
      "\n",
      "    accuracy                           0.98      1615\n",
      "   macro avg       0.98      0.98      0.98      1615\n",
      "weighted avg       0.98      0.98      0.98      1615\n",
      "\n",
      "Index(['Diff_tweetdate_createddate', 'has_link', 'has_media', 'is_verified',\n",
      "       'has_bio', 'has_website', 'num_hashtags', 'has_quote', 'has_:',\n",
      "       'num_enojis', 'Retweets', 'Favorites', 'Listed', 'Followers'],\n",
      "      dtype='object')\n",
      "              precision    recall  f1-score   support\n",
      "\n",
      "         0.0       0.98      0.99      0.98       925\n",
      "         1.0       0.99      0.97      0.98       690\n",
      "\n",
      "    accuracy                           0.98      1615\n",
      "   macro avg       0.98      0.98      0.98      1615\n",
      "weighted avg       0.98      0.98      0.98      1615\n",
      "\n"
     ]
    },
    {
     "data": {
      "application/vnd.jupyter.widget-view+json": {
       "model_id": "7a15a0f71f4449ec900ee7a91df211fa",
       "version_major": 2,
       "version_minor": 0
      },
      "text/plain": [
       "HBox(children=(IntProgress(value=0, max=14), HTML(value='')))"
      ]
     },
     "metadata": {},
     "output_type": "display_data"
    },
    {
     "name": "stdout",
     "output_type": "stream",
     "text": [
      "Index(['Diff_tweetdate_createddate', 'has_link', 'has_media', 'is_verified',\n",
      "       'has_website', 'num_hashtags', 'has_quote', 'has_:', 'num_enojis',\n",
      "       'Retweets', 'Favorites', 'Listed', 'Followers'],\n",
      "      dtype='object')\n",
      "              precision    recall  f1-score   support\n",
      "\n",
      "         0.0       0.98      0.99      0.98       925\n",
      "         1.0       0.99      0.97      0.98       690\n",
      "\n",
      "    accuracy                           0.98      1615\n",
      "   macro avg       0.98      0.98      0.98      1615\n",
      "weighted avg       0.98      0.98      0.98      1615\n",
      "\n",
      "Index(['Diff_tweetdate_createddate', 'has_link', 'has_media', 'is_verified',\n",
      "       'has_bio', 'num_hashtags', 'has_quote', 'has_:', 'num_enojis',\n",
      "       'Retweets', 'Favorites', 'Listed', 'Followers'],\n",
      "      dtype='object')\n",
      "              precision    recall  f1-score   support\n",
      "\n",
      "         0.0       0.98      0.99      0.98       925\n",
      "         1.0       0.99      0.97      0.98       690\n",
      "\n",
      "    accuracy                           0.98      1615\n",
      "   macro avg       0.98      0.98      0.98      1615\n",
      "weighted avg       0.98      0.98      0.98      1615\n",
      "\n"
     ]
    },
    {
     "data": {
      "application/vnd.jupyter.widget-view+json": {
       "model_id": "65355874ea114c668106138207cd39ce",
       "version_major": 2,
       "version_minor": 0
      },
      "text/plain": [
       "HBox(children=(IntProgress(value=0, max=91), HTML(value='')))"
      ]
     },
     "metadata": {},
     "output_type": "display_data"
    },
    {
     "name": "stdout",
     "output_type": "stream",
     "text": [
      "Index(['Diff_tweetdate_createddate', 'has_link', 'is_verified', 'has_bio',\n",
      "       'has_website', 'num_hashtags', 'has_quote', 'has_:', 'num_enojis',\n",
      "       'Retweets', 'Favorites', 'Listed'],\n",
      "      dtype='object')\n",
      "              precision    recall  f1-score   support\n",
      "\n",
      "         0.0       0.98      0.99      0.99       925\n",
      "         1.0       0.99      0.97      0.98       690\n",
      "\n",
      "    accuracy                           0.98      1615\n",
      "   macro avg       0.98      0.98      0.98      1615\n",
      "weighted avg       0.98      0.98      0.98      1615\n",
      "\n"
     ]
    },
    {
     "data": {
      "application/vnd.jupyter.widget-view+json": {
       "model_id": "e7c63cc7353d471aa785d45136f6d5cf",
       "version_major": 2,
       "version_minor": 0
      },
      "text/plain": [
       "HBox(children=(IntProgress(value=0, max=364), HTML(value='')))"
      ]
     },
     "metadata": {},
     "output_type": "display_data"
    },
    {
     "name": "stdout",
     "output_type": "stream",
     "text": [
      "Index(['Diff_tweetdate_createddate', 'has_link', 'is_verified', 'has_bio',\n",
      "       'has_website', 'num_hashtags', 'has_quote', 'num_enojis', 'Retweets',\n",
      "       'Favorites', 'Listed'],\n",
      "      dtype='object')\n",
      "              precision    recall  f1-score   support\n",
      "\n",
      "         0.0       0.98      0.99      0.99       925\n",
      "         1.0       0.99      0.98      0.98       690\n",
      "\n",
      "    accuracy                           0.98      1615\n",
      "   macro avg       0.99      0.98      0.98      1615\n",
      "weighted avg       0.98      0.98      0.98      1615\n",
      "\n"
     ]
    },
    {
     "data": {
      "application/vnd.jupyter.widget-view+json": {
       "model_id": "b43e64b2570442a78635c0f5899dbaf8",
       "version_major": 2,
       "version_minor": 0
      },
      "text/plain": [
       "HBox(children=(IntProgress(value=0, max=1001), HTML(value='')))"
      ]
     },
     "metadata": {},
     "output_type": "display_data"
    },
    {
     "name": "stdout",
     "output_type": "stream",
     "text": [
      "Index(['Diff_tweetdate_createddate', 'is_verified', 'has_bio', 'num_hashtags',\n",
      "       'has_quote', 'has_:', 'num_enojis', 'Retweets', 'Favorites', 'Listed'],\n",
      "      dtype='object')\n",
      "              precision    recall  f1-score   support\n",
      "\n",
      "         0.0       0.98      0.99      0.99       925\n",
      "         1.0       0.99      0.98      0.98       690\n",
      "\n",
      "    accuracy                           0.99      1615\n",
      "   macro avg       0.99      0.98      0.98      1615\n",
      "weighted avg       0.99      0.99      0.99      1615\n",
      "\n",
      "Index(['Diff_tweetdate_createddate', 'has_link', 'is_verified', 'has_bio',\n",
      "       'num_hashtags', 'has_quote', 'has_:', 'num_enojis', 'Retweets',\n",
      "       'Listed'],\n",
      "      dtype='object')\n",
      "              precision    recall  f1-score   support\n",
      "\n",
      "         0.0       0.98      0.99      0.99       925\n",
      "         1.0       0.99      0.98      0.98       690\n",
      "\n",
      "    accuracy                           0.99      1615\n",
      "   macro avg       0.99      0.98      0.98      1615\n",
      "weighted avg       0.99      0.99      0.99      1615\n",
      "\n"
     ]
    },
    {
     "data": {
      "application/vnd.jupyter.widget-view+json": {
       "model_id": "399b5fcc2c254aaca512e43ac2901996",
       "version_major": 2,
       "version_minor": 0
      },
      "text/plain": [
       "HBox(children=(IntProgress(value=0, max=2002), HTML(value='')))"
      ]
     },
     "metadata": {},
     "output_type": "display_data"
    },
    {
     "name": "stdout",
     "output_type": "stream",
     "text": [
      "Index(['Diff_tweetdate_createddate', 'has_link', 'is_verified', 'has_bio',\n",
      "       'num_hashtags', 'has_quote', 'num_enojis', 'Favorites', 'Listed'],\n",
      "      dtype='object')\n",
      "              precision    recall  f1-score   support\n",
      "\n",
      "         0.0       0.98      0.99      0.99       925\n",
      "         1.0       0.99      0.98      0.98       690\n",
      "\n",
      "    accuracy                           0.99      1615\n",
      "   macro avg       0.99      0.98      0.99      1615\n",
      "weighted avg       0.99      0.99      0.99      1615\n",
      "\n",
      "Index(['Diff_tweetdate_createddate', 'has_link', 'is_verified', 'has_bio',\n",
      "       'num_hashtags', 'has_quote', 'has_:', 'num_enojis', 'Listed'],\n",
      "      dtype='object')\n",
      "              precision    recall  f1-score   support\n",
      "\n",
      "         0.0       0.98      0.99      0.99       925\n",
      "         1.0       0.99      0.98      0.98       690\n",
      "\n",
      "    accuracy                           0.99      1615\n",
      "   macro avg       0.99      0.98      0.99      1615\n",
      "weighted avg       0.99      0.99      0.99      1615\n",
      "\n"
     ]
    },
    {
     "data": {
      "application/vnd.jupyter.widget-view+json": {
       "model_id": "d48c813c121149cfa7203d83fa26e649",
       "version_major": 2,
       "version_minor": 0
      },
      "text/plain": [
       "HBox(children=(IntProgress(value=0, max=3003), HTML(value='')))"
      ]
     },
     "metadata": {},
     "output_type": "display_data"
    },
    {
     "name": "stdout",
     "output_type": "stream",
     "text": [
      "Index(['Diff_tweetdate_createddate', 'has_link', 'is_verified', 'has_bio',\n",
      "       'num_hashtags', 'num_enojis', 'Favorites', 'Listed'],\n",
      "      dtype='object')\n",
      "              precision    recall  f1-score   support\n",
      "\n",
      "         0.0       0.98      0.99      0.99       925\n",
      "         1.0       0.99      0.98      0.98       690\n",
      "\n",
      "    accuracy                           0.99      1615\n",
      "   macro avg       0.99      0.99      0.99      1615\n",
      "weighted avg       0.99      0.99      0.99      1615\n",
      "\n"
     ]
    },
    {
     "data": {
      "application/vnd.jupyter.widget-view+json": {
       "model_id": "09ad3c79d8ba46248f04668424b611cf",
       "version_major": 2,
       "version_minor": 0
      },
      "text/plain": [
       "HBox(children=(IntProgress(value=0, max=3432), HTML(value='')))"
      ]
     },
     "metadata": {},
     "output_type": "display_data"
    },
    {
     "data": {
      "application/vnd.jupyter.widget-view+json": {
       "model_id": "8bf1e0fd7e3a4c1f9e2e527c44eef8ad",
       "version_major": 2,
       "version_minor": 0
      },
      "text/plain": [
       "HBox(children=(IntProgress(value=0, max=3003), HTML(value='')))"
      ]
     },
     "metadata": {},
     "output_type": "display_data"
    },
    {
     "name": "stdout",
     "output_type": "stream",
     "text": [
      "Index(['Diff_tweetdate_createddate', 'has_link', 'is_verified', 'has_quote',\n",
      "       'has_:', 'Favorites'],\n",
      "      dtype='object')\n",
      "              precision    recall  f1-score   support\n",
      "\n",
      "         0.0       0.98      0.99      0.99       925\n",
      "         1.0       0.99      0.98      0.98       690\n",
      "\n",
      "    accuracy                           0.99      1615\n",
      "   macro avg       0.99      0.99      0.99      1615\n",
      "weighted avg       0.99      0.99      0.99      1615\n",
      "\n"
     ]
    },
    {
     "data": {
      "application/vnd.jupyter.widget-view+json": {
       "model_id": "ef284859290949af84014ac7974a5ec6",
       "version_major": 2,
       "version_minor": 0
      },
      "text/plain": [
       "HBox(children=(IntProgress(value=0, max=2002), HTML(value='')))"
      ]
     },
     "metadata": {},
     "output_type": "display_data"
    },
    {
     "data": {
      "application/vnd.jupyter.widget-view+json": {
       "model_id": "f781c1e2cb904fcead824bffb811a3db",
       "version_major": 2,
       "version_minor": 0
      },
      "text/plain": [
       "HBox(children=(IntProgress(value=0, max=1001), HTML(value='')))"
      ]
     },
     "metadata": {},
     "output_type": "display_data"
    },
    {
     "data": {
      "application/vnd.jupyter.widget-view+json": {
       "model_id": "e6d54e9eee0e4c389107fcbc1d7e075e",
       "version_major": 2,
       "version_minor": 0
      },
      "text/plain": [
       "HBox(children=(IntProgress(value=0, max=364), HTML(value='')))"
      ]
     },
     "metadata": {},
     "output_type": "display_data"
    },
    {
     "data": {
      "application/vnd.jupyter.widget-view+json": {
       "model_id": "1effa9d243a64755a826f6abc3b6e896",
       "version_major": 2,
       "version_minor": 0
      },
      "text/plain": [
       "HBox(children=(IntProgress(value=0, max=91), HTML(value='')))"
      ]
     },
     "metadata": {},
     "output_type": "display_data"
    },
    {
     "data": {
      "application/vnd.jupyter.widget-view+json": {
       "model_id": "1c2c05e6623f480494ecc818f2bdc8f1",
       "version_major": 2,
       "version_minor": 0
      },
      "text/plain": [
       "HBox(children=(IntProgress(value=0, max=14), HTML(value='')))"
      ]
     },
     "metadata": {},
     "output_type": "display_data"
    }
   ],
   "source": [
    "from itertools import combinations\n",
    "from tqdm import tqdm_notebook as tqdm\n",
    "count=0\n",
    "best_features=[]\n",
    "best_f1_score=0\n",
    "train_label = all_data_df.loc[0:len(train_data_df),\"Is_Bot ( 1 for Bot / 0 for Human)\"]\n",
    "test_label = all_data_df.loc[len(train_data_df):,\"Is_Bot ( 1 for Bot / 0 for Human)\"]\n",
    "\n",
    "for j in tqdm(range(0,len(all_data_features_after_corr.keys()))):\n",
    "    for i in tqdm(list(combinations(all_data_features_after_corr.keys(),j))):\n",
    "        #print(i)\n",
    "        selected_datafeatures= all_data_features_after_corr.drop(columns=list(i))\n",
    "\n",
    "        train_features=selected_datafeatures.loc[0:len(train_data_df),]\n",
    "        test_features=selected_datafeatures.loc[len(train_data_df):,]\n",
    "\n",
    "        model_gini=ensemble.RandomForestClassifier(n_estimators=1000,criterion='gini',max_features=None,n_jobs=8)\n",
    "        model_entropy=ensemble.RandomForestClassifier(n_estimators=1000,criterion='entropy',max_features=None,n_jobs=8)\n",
    "\n",
    "        model_gini.fit(train_features, train_label)\n",
    "        model_entropy.fit(train_features, train_label)\n",
    "\n",
    "        predictions_gini = model_gini.predict(test_features)\n",
    "        predictions_entropy = model_entropy.predict(test_features)\n",
    "\n",
    "        f1_gini = f1_score(test_label,predictions_gini)\n",
    "        f1_entropy = f1_score(test_label,predictions_entropy)\n",
    "        #raise TypeError\n",
    "        if f1_gini>best_f1_score:\n",
    "            best_f1_score=f1_gini\n",
    "            best_features=i\n",
    "            best_model=model_gini\n",
    "            print(selected_datafeatures.keys())\n",
    "            print(classification_report(test_label,predictions_gini))\n",
    "\n",
    "        if f1_entropy>best_f1_score:\n",
    "            best_f1_score=f1_entropy\n",
    "            best_features=i\n",
    "            best_model=model_entropy\n",
    "            print(selected_datafeatures.keys())\n",
    "            print(classification_report(test_label,predictions_entropy))\n",
    "    \n",
    "    \n",
    "\n"
   ]
  },
  {
   "cell_type": "code",
   "execution_count": 29,
   "metadata": {
    "colab": {
     "base_uri": "https://localhost:8080/",
     "height": 202
    },
    "colab_type": "code",
    "executionInfo": {
     "elapsed": 9888,
     "status": "ok",
     "timestamp": 1569920493835,
     "user": {
      "displayName": "wissam antoun",
      "photoUrl": "https://lh3.googleusercontent.com/a-/AAuE7mDSALPtIL3q2P36W-E2L313Aw1lXeeHSdDZNk-6-rg=s64",
      "userId": "06574368210388800322"
     },
     "user_tz": -180
    },
    "id": "DLkQ38mxb8et",
    "outputId": "2f0e074f-0aba-4705-c721-3485271177fd"
   },
   "outputs": [
    {
     "name": "stdout",
     "output_type": "stream",
     "text": [
      "Automatic pdb calling has been turned ON\n"
     ]
    }
   ],
   "source": [
    "%pdb"
   ]
  },
  {
   "cell_type": "code",
   "execution_count": 27,
   "metadata": {
    "colab": {
     "base_uri": "https://localhost:8080/",
     "height": 34
    },
    "colab_type": "code",
    "executionInfo": {
     "elapsed": 830,
     "status": "ok",
     "timestamp": 1569920533174,
     "user": {
      "displayName": "wissam antoun",
      "photoUrl": "https://lh3.googleusercontent.com/a-/AAuE7mDSALPtIL3q2P36W-E2L313Aw1lXeeHSdDZNk-6-rg=s64",
      "userId": "06574368210388800322"
     },
     "user_tz": -180
    },
    "id": "yNGiwYZQcvkD",
    "outputId": "cb09e815-2408-4f6f-b5d0-a1aa6dec7dcd"
   },
   "outputs": [
    {
     "ename": "TypeError",
     "evalue": "Expected sequence or array-like, got <class 'int'>",
     "output_type": "error",
     "traceback": [
      "\u001b[1;31m---------------------------------------------------------------------------\u001b[0m",
      "\u001b[1;31mTypeError\u001b[0m                                 Traceback (most recent call last)",
      "\u001b[1;32m<ipython-input-27-cd58f3c4c844>\u001b[0m in \u001b[0;36m<module>\u001b[1;34m\u001b[0m\n\u001b[1;32m----> 1\u001b[1;33m \u001b[0mf1_score\u001b[0m\u001b[1;33m(\u001b[0m\u001b[1;36m1\u001b[0m\u001b[1;33m,\u001b[0m\u001b[1;36m1\u001b[0m\u001b[1;33m)\u001b[0m\u001b[1;33m\u001b[0m\u001b[1;33m\u001b[0m\u001b[0m\n\u001b[0m",
      "\u001b[1;32m~\\AppData\\Local\\Continuum\\anaconda3\\envs\\tf_gpu\\lib\\site-packages\\sklearn\\metrics\\classification.py\u001b[0m in \u001b[0;36mf1_score\u001b[1;34m(y_true, y_pred, labels, pos_label, average, sample_weight)\u001b[0m\n\u001b[0;32m   1057\u001b[0m     return fbeta_score(y_true, y_pred, 1, labels=labels,\n\u001b[0;32m   1058\u001b[0m                        \u001b[0mpos_label\u001b[0m\u001b[1;33m=\u001b[0m\u001b[0mpos_label\u001b[0m\u001b[1;33m,\u001b[0m \u001b[0maverage\u001b[0m\u001b[1;33m=\u001b[0m\u001b[0maverage\u001b[0m\u001b[1;33m,\u001b[0m\u001b[1;33m\u001b[0m\u001b[1;33m\u001b[0m\u001b[0m\n\u001b[1;32m-> 1059\u001b[1;33m                        sample_weight=sample_weight)\n\u001b[0m\u001b[0;32m   1060\u001b[0m \u001b[1;33m\u001b[0m\u001b[0m\n\u001b[0;32m   1061\u001b[0m \u001b[1;33m\u001b[0m\u001b[0m\n",
      "\u001b[1;32m~\\AppData\\Local\\Continuum\\anaconda3\\envs\\tf_gpu\\lib\\site-packages\\sklearn\\metrics\\classification.py\u001b[0m in \u001b[0;36mfbeta_score\u001b[1;34m(y_true, y_pred, beta, labels, pos_label, average, sample_weight)\u001b[0m\n\u001b[0;32m   1180\u001b[0m                                                  \u001b[0maverage\u001b[0m\u001b[1;33m=\u001b[0m\u001b[0maverage\u001b[0m\u001b[1;33m,\u001b[0m\u001b[1;33m\u001b[0m\u001b[1;33m\u001b[0m\u001b[0m\n\u001b[0;32m   1181\u001b[0m                                                  \u001b[0mwarn_for\u001b[0m\u001b[1;33m=\u001b[0m\u001b[1;33m(\u001b[0m\u001b[1;34m'f-score'\u001b[0m\u001b[1;33m,\u001b[0m\u001b[1;33m)\u001b[0m\u001b[1;33m,\u001b[0m\u001b[1;33m\u001b[0m\u001b[1;33m\u001b[0m\u001b[0m\n\u001b[1;32m-> 1182\u001b[1;33m                                                  sample_weight=sample_weight)\n\u001b[0m\u001b[0;32m   1183\u001b[0m     \u001b[1;32mreturn\u001b[0m \u001b[0mf\u001b[0m\u001b[1;33m\u001b[0m\u001b[1;33m\u001b[0m\u001b[0m\n\u001b[0;32m   1184\u001b[0m \u001b[1;33m\u001b[0m\u001b[0m\n",
      "\u001b[1;32m~\\AppData\\Local\\Continuum\\anaconda3\\envs\\tf_gpu\\lib\\site-packages\\sklearn\\metrics\\classification.py\u001b[0m in \u001b[0;36mprecision_recall_fscore_support\u001b[1;34m(y_true, y_pred, beta, labels, pos_label, average, warn_for, sample_weight)\u001b[0m\n\u001b[0;32m   1413\u001b[0m         \u001b[1;32mraise\u001b[0m \u001b[0mValueError\u001b[0m\u001b[1;33m(\u001b[0m\u001b[1;34m\"beta should be >0 in the F-beta score\"\u001b[0m\u001b[1;33m)\u001b[0m\u001b[1;33m\u001b[0m\u001b[1;33m\u001b[0m\u001b[0m\n\u001b[0;32m   1414\u001b[0m     labels = _check_set_wise_labels(y_true, y_pred, average, labels,\n\u001b[1;32m-> 1415\u001b[1;33m                                     pos_label)\n\u001b[0m\u001b[0;32m   1416\u001b[0m \u001b[1;33m\u001b[0m\u001b[0m\n\u001b[0;32m   1417\u001b[0m     \u001b[1;31m# Calculate tp_sum, pred_sum, true_sum ###\u001b[0m\u001b[1;33m\u001b[0m\u001b[1;33m\u001b[0m\u001b[1;33m\u001b[0m\u001b[0m\n",
      "\u001b[1;32m~\\AppData\\Local\\Continuum\\anaconda3\\envs\\tf_gpu\\lib\\site-packages\\sklearn\\metrics\\classification.py\u001b[0m in \u001b[0;36m_check_set_wise_labels\u001b[1;34m(y_true, y_pred, average, labels, pos_label)\u001b[0m\n\u001b[0;32m   1237\u001b[0m                          str(average_options))\n\u001b[0;32m   1238\u001b[0m \u001b[1;33m\u001b[0m\u001b[0m\n\u001b[1;32m-> 1239\u001b[1;33m     \u001b[0my_type\u001b[0m\u001b[1;33m,\u001b[0m \u001b[0my_true\u001b[0m\u001b[1;33m,\u001b[0m \u001b[0my_pred\u001b[0m \u001b[1;33m=\u001b[0m \u001b[0m_check_targets\u001b[0m\u001b[1;33m(\u001b[0m\u001b[0my_true\u001b[0m\u001b[1;33m,\u001b[0m \u001b[0my_pred\u001b[0m\u001b[1;33m)\u001b[0m\u001b[1;33m\u001b[0m\u001b[1;33m\u001b[0m\u001b[0m\n\u001b[0m\u001b[0;32m   1240\u001b[0m     \u001b[0mpresent_labels\u001b[0m \u001b[1;33m=\u001b[0m \u001b[0munique_labels\u001b[0m\u001b[1;33m(\u001b[0m\u001b[0my_true\u001b[0m\u001b[1;33m,\u001b[0m \u001b[0my_pred\u001b[0m\u001b[1;33m)\u001b[0m\u001b[1;33m\u001b[0m\u001b[1;33m\u001b[0m\u001b[0m\n\u001b[0;32m   1241\u001b[0m     \u001b[1;32mif\u001b[0m \u001b[0maverage\u001b[0m \u001b[1;33m==\u001b[0m \u001b[1;34m'binary'\u001b[0m\u001b[1;33m:\u001b[0m\u001b[1;33m\u001b[0m\u001b[1;33m\u001b[0m\u001b[0m\n",
      "\u001b[1;32m~\\AppData\\Local\\Continuum\\anaconda3\\envs\\tf_gpu\\lib\\site-packages\\sklearn\\metrics\\classification.py\u001b[0m in \u001b[0;36m_check_targets\u001b[1;34m(y_true, y_pred)\u001b[0m\n\u001b[0;32m     69\u001b[0m     \u001b[0my_pred\u001b[0m \u001b[1;33m:\u001b[0m \u001b[0marray\u001b[0m \u001b[1;32mor\u001b[0m \u001b[0mindicator\u001b[0m \u001b[0mmatrix\u001b[0m\u001b[1;33m\u001b[0m\u001b[1;33m\u001b[0m\u001b[0m\n\u001b[0;32m     70\u001b[0m     \"\"\"\n\u001b[1;32m---> 71\u001b[1;33m     \u001b[0mcheck_consistent_length\u001b[0m\u001b[1;33m(\u001b[0m\u001b[0my_true\u001b[0m\u001b[1;33m,\u001b[0m \u001b[0my_pred\u001b[0m\u001b[1;33m)\u001b[0m\u001b[1;33m\u001b[0m\u001b[1;33m\u001b[0m\u001b[0m\n\u001b[0m\u001b[0;32m     72\u001b[0m     \u001b[0mtype_true\u001b[0m \u001b[1;33m=\u001b[0m \u001b[0mtype_of_target\u001b[0m\u001b[1;33m(\u001b[0m\u001b[0my_true\u001b[0m\u001b[1;33m)\u001b[0m\u001b[1;33m\u001b[0m\u001b[1;33m\u001b[0m\u001b[0m\n\u001b[0;32m     73\u001b[0m     \u001b[0mtype_pred\u001b[0m \u001b[1;33m=\u001b[0m \u001b[0mtype_of_target\u001b[0m\u001b[1;33m(\u001b[0m\u001b[0my_pred\u001b[0m\u001b[1;33m)\u001b[0m\u001b[1;33m\u001b[0m\u001b[1;33m\u001b[0m\u001b[0m\n",
      "\u001b[1;32m~\\AppData\\Local\\Continuum\\anaconda3\\envs\\tf_gpu\\lib\\site-packages\\sklearn\\utils\\validation.py\u001b[0m in \u001b[0;36mcheck_consistent_length\u001b[1;34m(*arrays)\u001b[0m\n\u001b[0;32m    199\u001b[0m     \"\"\"\n\u001b[0;32m    200\u001b[0m \u001b[1;33m\u001b[0m\u001b[0m\n\u001b[1;32m--> 201\u001b[1;33m     \u001b[0mlengths\u001b[0m \u001b[1;33m=\u001b[0m \u001b[1;33m[\u001b[0m\u001b[0m_num_samples\u001b[0m\u001b[1;33m(\u001b[0m\u001b[0mX\u001b[0m\u001b[1;33m)\u001b[0m \u001b[1;32mfor\u001b[0m \u001b[0mX\u001b[0m \u001b[1;32min\u001b[0m \u001b[0marrays\u001b[0m \u001b[1;32mif\u001b[0m \u001b[0mX\u001b[0m \u001b[1;32mis\u001b[0m \u001b[1;32mnot\u001b[0m \u001b[1;32mNone\u001b[0m\u001b[1;33m]\u001b[0m\u001b[1;33m\u001b[0m\u001b[1;33m\u001b[0m\u001b[0m\n\u001b[0m\u001b[0;32m    202\u001b[0m     \u001b[0muniques\u001b[0m \u001b[1;33m=\u001b[0m \u001b[0mnp\u001b[0m\u001b[1;33m.\u001b[0m\u001b[0munique\u001b[0m\u001b[1;33m(\u001b[0m\u001b[0mlengths\u001b[0m\u001b[1;33m)\u001b[0m\u001b[1;33m\u001b[0m\u001b[1;33m\u001b[0m\u001b[0m\n\u001b[0;32m    203\u001b[0m     \u001b[1;32mif\u001b[0m \u001b[0mlen\u001b[0m\u001b[1;33m(\u001b[0m\u001b[0muniques\u001b[0m\u001b[1;33m)\u001b[0m \u001b[1;33m>\u001b[0m \u001b[1;36m1\u001b[0m\u001b[1;33m:\u001b[0m\u001b[1;33m\u001b[0m\u001b[1;33m\u001b[0m\u001b[0m\n",
      "\u001b[1;32m~\\AppData\\Local\\Continuum\\anaconda3\\envs\\tf_gpu\\lib\\site-packages\\sklearn\\utils\\validation.py\u001b[0m in \u001b[0;36m<listcomp>\u001b[1;34m(.0)\u001b[0m\n\u001b[0;32m    199\u001b[0m     \"\"\"\n\u001b[0;32m    200\u001b[0m \u001b[1;33m\u001b[0m\u001b[0m\n\u001b[1;32m--> 201\u001b[1;33m     \u001b[0mlengths\u001b[0m \u001b[1;33m=\u001b[0m \u001b[1;33m[\u001b[0m\u001b[0m_num_samples\u001b[0m\u001b[1;33m(\u001b[0m\u001b[0mX\u001b[0m\u001b[1;33m)\u001b[0m \u001b[1;32mfor\u001b[0m \u001b[0mX\u001b[0m \u001b[1;32min\u001b[0m \u001b[0marrays\u001b[0m \u001b[1;32mif\u001b[0m \u001b[0mX\u001b[0m \u001b[1;32mis\u001b[0m \u001b[1;32mnot\u001b[0m \u001b[1;32mNone\u001b[0m\u001b[1;33m]\u001b[0m\u001b[1;33m\u001b[0m\u001b[1;33m\u001b[0m\u001b[0m\n\u001b[0m\u001b[0;32m    202\u001b[0m     \u001b[0muniques\u001b[0m \u001b[1;33m=\u001b[0m \u001b[0mnp\u001b[0m\u001b[1;33m.\u001b[0m\u001b[0munique\u001b[0m\u001b[1;33m(\u001b[0m\u001b[0mlengths\u001b[0m\u001b[1;33m)\u001b[0m\u001b[1;33m\u001b[0m\u001b[1;33m\u001b[0m\u001b[0m\n\u001b[0;32m    203\u001b[0m     \u001b[1;32mif\u001b[0m \u001b[0mlen\u001b[0m\u001b[1;33m(\u001b[0m\u001b[0muniques\u001b[0m\u001b[1;33m)\u001b[0m \u001b[1;33m>\u001b[0m \u001b[1;36m1\u001b[0m\u001b[1;33m:\u001b[0m\u001b[1;33m\u001b[0m\u001b[1;33m\u001b[0m\u001b[0m\n",
      "\u001b[1;32m~\\AppData\\Local\\Continuum\\anaconda3\\envs\\tf_gpu\\lib\\site-packages\\sklearn\\utils\\validation.py\u001b[0m in \u001b[0;36m_num_samples\u001b[1;34m(x)\u001b[0m\n\u001b[0;32m    140\u001b[0m         \u001b[1;32melse\u001b[0m\u001b[1;33m:\u001b[0m\u001b[1;33m\u001b[0m\u001b[1;33m\u001b[0m\u001b[0m\n\u001b[0;32m    141\u001b[0m             raise TypeError(\"Expected sequence or array-like, got %s\" %\n\u001b[1;32m--> 142\u001b[1;33m                             type(x))\n\u001b[0m\u001b[0;32m    143\u001b[0m     \u001b[1;32mif\u001b[0m \u001b[0mhasattr\u001b[0m\u001b[1;33m(\u001b[0m\u001b[0mx\u001b[0m\u001b[1;33m,\u001b[0m \u001b[1;34m'shape'\u001b[0m\u001b[1;33m)\u001b[0m\u001b[1;33m:\u001b[0m\u001b[1;33m\u001b[0m\u001b[1;33m\u001b[0m\u001b[0m\n\u001b[0;32m    144\u001b[0m         \u001b[1;32mif\u001b[0m \u001b[0mlen\u001b[0m\u001b[1;33m(\u001b[0m\u001b[0mx\u001b[0m\u001b[1;33m.\u001b[0m\u001b[0mshape\u001b[0m\u001b[1;33m)\u001b[0m \u001b[1;33m==\u001b[0m \u001b[1;36m0\u001b[0m\u001b[1;33m:\u001b[0m\u001b[1;33m\u001b[0m\u001b[1;33m\u001b[0m\u001b[0m\n",
      "\u001b[1;31mTypeError\u001b[0m: Expected sequence or array-like, got <class 'int'>"
     ]
    }
   ],
   "source": [
    "f1_score(1,1)"
   ]
  },
  {
   "cell_type": "code",
   "execution_count": 0,
   "metadata": {
    "colab": {},
    "colab_type": "code",
    "id": "Se3LpuxmeRKX"
   },
   "outputs": [],
   "source": []
  }
 ],
 "metadata": {
  "colab": {
   "name": "Twitter_bot.ipynb",
   "provenance": [],
   "toc_visible": true
  },
  "kernelspec": {
   "display_name": "Python 3",
   "language": "python",
   "name": "python3"
  },
  "language_info": {
   "codemirror_mode": {
    "name": "ipython",
    "version": 3
   },
   "file_extension": ".py",
   "mimetype": "text/x-python",
   "name": "python",
   "nbconvert_exporter": "python",
   "pygments_lexer": "ipython3",
   "version": "3.6.8"
  }
 },
 "nbformat": 4,
 "nbformat_minor": 1
}
